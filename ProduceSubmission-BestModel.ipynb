{
 "cells": [
  {
   "cell_type": "code",
   "execution_count": 342,
   "metadata": {},
   "outputs": [],
   "source": [
    "import numpy as np\n",
    "import pandas as pd"
   ]
  },
  {
   "cell_type": "code",
   "execution_count": 343,
   "metadata": {},
   "outputs": [],
   "source": [
    "def Strategy3(sub_pCTR, sub_basebid):\n",
    "    avgCTR = 0.5\n",
    "    sub_pCTR_ = sub_pCTR.copy()\n",
    "    #sub_pCTR_[\"pCTR\"]=(((sub_pCTR_[\"pCTR\"]+0.5)**2)-0.5)\n",
    "    #sub_pCTR_[\"pCTR\"] = sub_pCTR_[\"pCTR\"].map(lambda x: 0 if x <0.43 else np.exp(x))\n",
    "    #sub_pCTR_[\"pCTR\"] = sub_pCTR_[\"pCTR\"].map(lambda x: 0 if x <0.43 else 1)\n",
    "    #bidprice = (sub_pCTR_[\"pCTR\"] * sub_basebid[\"predicted_payprice\"]) / avgCTR\n",
    "    bidprice=sub_pCTR_[\"pCTR\"] * 1\n",
    "    return bidprice"
   ]
  },
  {
   "cell_type": "code",
   "execution_count": 344,
   "metadata": {},
   "outputs": [],
   "source": [
    "path = 'C:/Users/Akis-/OneDrive/Masters/Web Economics/Data/WebEcon Team Drive/Test Set Predictions/'\n",
    "ridge_preds = pd.read_csv(path+\"ridge_basebid_test.csv\") #, index_col  = \"Unnamed: 0\"\n",
    "dwane_preds = pd.read_csv(path+\"test_dummy.click_predictions_narrow.2018-03-13.csv\")\n",
    "achilleas_preds = pd.read_csv(path+\"xgb_pCTR_test.csv\")\n",
    "#achilleas_preds2 = pd.read_csv(path+\"lr_pCTR_test.csv\")\n",
    "#achilleas_preds3 = pd.read_csv(path+\"rf_pCTR_test.csv\")"
   ]
  },
  {
   "cell_type": "code",
   "execution_count": 345,
   "metadata": {},
   "outputs": [
    {
     "name": "stdout",
     "output_type": "stream",
     "text": [
      "140\n"
     ]
    }
   ],
   "source": [
    "#Our best ensemble model by multiplication\n",
    "combined_preds1 = pd.DataFrame(columns=['bidid','pCTR'])\n",
    "combined_preds1['pCTR'] = achilleas_preds['pCTR']*dwane_preds['pCTR']\n",
    "combined_preds1[\"pCTR\"] = combined_preds1[\"pCTR\"].map(lambda x: 0 if x <0.98 else x)\n",
    "#print(combined_preds1['pCTR'].astype(bool).sum(axis=0))\n",
    "print(combined_preds1['pCTR'][combined_preds1['pCTR'] > 0].count())\n",
    "\n"
   ]
  },
  {
   "cell_type": "markdown",
   "metadata": {},
   "source": [
    "combined_preds2 = pd.DataFrame(columns=['bidid','pCTR'])\n",
    "#print(achilleas_preds.shape[0]/100)\n",
    "percentile = 99\n",
    "#dwane_preds[\"pCTR\"] = dwane_preds[\"pCTR\"].map(lambda x: 0 if x < 1 else np.exp(x))\n",
    "#print(dwane_preds['pCTR'].astype(bool).sum(axis=0))\n",
    "#achilleas_preds[\"pCTR\"] = achilleas_preds[\"pCTR\"].map(lambda x: 0 if x <0.44 else x) #0.93\n",
    "#print(achilleas_preds['pCTR'][achilleas_preds['pCTR'] > 0].count())\n",
    "limit = np.percentile(achilleas_preds2[\"pCTR\"],percentile)\n",
    "achilleas_preds2[\"pCTR\"] = achilleas_preds2[\"pCTR\"].map(lambda x: 0 if x < limit else x) #0.9998\n",
    "print(achilleas_preds2['pCTR'][achilleas_preds2['pCTR'] > 0].count())\n",
    "limit = np.percentile(achilleas_preds3[\"pCTR\"],percentile)\n",
    "achilleas_preds3[\"pCTR\"] = achilleas_preds3[\"pCTR\"].map(lambda x: 0 if x <limit else x) #0.87\n",
    "print(achilleas_preds3['pCTR'][achilleas_preds3['pCTR'] > 0].count())\n",
    "combined_preds2['pCTR'] = achilleas_preds3['pCTR']*achilleas_preds2['pCTR']#*achilleas_preds['pCTR']\n",
    "print(combined_preds2['pCTR'][combined_preds2['pCTR'] > 0].count())"
   ]
  },
  {
   "cell_type": "markdown",
   "metadata": {},
   "source": [
    "combined_preds = pd.DataFrame(columns=['bidid','pCTR'])\n",
    "print(combined_preds1['pCTR'][combined_preds1['pCTR'] > 0].count())\n",
    "print(combined_preds2['pCTR'][combined_preds2['pCTR'] > 0].count())\n",
    "combined_preds['pCTR'] = combined_preds1['pCTR']+combined_preds2['pCTR']\n",
    "print(combined_preds['pCTR'][combined_preds['pCTR'] > 0].count())\n",
    "print(\"Additional Bids:\",combined_preds['pCTR'].astype(bool).sum(axis=0)-combined_preds1['pCTR'].astype(bool).sum(axis=0))"
   ]
  },
  {
   "cell_type": "code",
   "execution_count": 346,
   "metadata": {},
   "outputs": [],
   "source": [
    "#combined_preds = pd.DataFrame(columns=['bidid','pCTR'])\n",
    "#combined_preds['pCTR'] = achilleas_preds['pCTR']*dwane_preds['pCTR']\n",
    "#combined_preds['bidid'] = dwane_preds['bidid']"
   ]
  },
  {
   "cell_type": "code",
   "execution_count": 347,
   "metadata": {},
   "outputs": [],
   "source": [
    "combined_preds = combined_preds1.copy(True)"
   ]
  },
  {
   "cell_type": "code",
   "execution_count": 348,
   "metadata": {},
   "outputs": [
    {
     "name": "stdout",
     "output_type": "stream",
     "text": [
      "140\n",
      "140\n",
      "\n"
     ]
    }
   ],
   "source": [
    "bids = pd.DataFrame(columns=['bidid','bidprice'])\n",
    "#bids['bidprice'] = Strategy3(combined_preds,ridge_preds)\n",
    "bids['bidprice'] = combined_preds['pCTR']*2621 *130 *1000\n",
    "print(combined_preds['pCTR'][combined_preds['pCTR'] > 0].count())\n",
    "bids['bidid']=ridge_preds['bidid']\n",
    "#bids['bidprice'] = bids['bidprice'] * 2621 *5 *10 *10000\n",
    "#bids['bidprice'] = bids['bidprice'].round(0)\n",
    "#bids['bidprice'] = bids['bidprice'].astype(int)\n",
    "print(bids['bidprice'][bids['bidprice'] > 0].count())\n",
    "#bids.tail(1)['bidprice']=6250000-6247377\n",
    "#bids['bidprice'][-1]=6250000-6247377\n",
    "print()"
   ]
  },
  {
   "cell_type": "code",
   "execution_count": 349,
   "metadata": {},
   "outputs": [
    {
     "name": "stdout",
     "output_type": "stream",
     "text": [
      "140\n",
      "140\n"
     ]
    }
   ],
   "source": [
    "pd.options.display.max_rows=290\n",
    "bids.tail(100)\n",
    "print(bids['bidprice'].astype(bool).sum(axis=0))\n",
    "print(bids['bidprice'][bids['bidprice'] > 0].count())"
   ]
  },
  {
   "cell_type": "code",
   "execution_count": 350,
   "metadata": {},
   "outputs": [
    {
     "name": "stdout",
     "output_type": "stream",
     "text": [
      "Previous: 154240.75\n",
      "ourAverage 337721331.82081157\n",
      "totalBid 47280986454.91362\n",
      "totalBidsPlaced 140\n",
      "Multiples of budget bid: 7564.957832786179\n"
     ]
    }
   ],
   "source": [
    "#print(bids.shape)\n",
    "#ourAverage = bids['bidprice'].mean()\n",
    "print(\"Previous:\",154240.75)\n",
    "totalBid = bids['bidprice'].sum()\n",
    "totalBidsPlaced = bids['bidprice'][bids['bidprice'] > 0].count()\n",
    "ourAverage = bids['bidprice'].sum()/totalBidsPlaced\n",
    "print(\"ourAverage\",ourAverage)\n",
    "print(\"totalBid\",totalBid)\n",
    "print(\"totalBidsPlaced\",totalBidsPlaced)\n",
    "print(\"Multiples of budget bid:\",totalBid/6250000)"
   ]
  },
  {
   "cell_type": "code",
   "execution_count": 351,
   "metadata": {},
   "outputs": [],
   "source": [
    "bids.to_csv('Group_21_SingleAgentBids.csv',index=False)"
   ]
  },
  {
   "cell_type": "code",
   "execution_count": 12,
   "metadata": {},
   "outputs": [],
   "source": [
    "averageNeeded = 659 #659 is sum(budgets of all teams)/number of impressions available; assumes 32 teams (there should be 31 but 32 plays it safe)"
   ]
  },
  {
   "cell_type": "code",
   "execution_count": 13,
   "metadata": {},
   "outputs": [
    {
     "name": "stdout",
     "output_type": "stream",
     "text": [
      "                                      bidid  bidprice\n",
      "0  366c563de7d90feb9d4dab53e795a93fb3157387         0\n",
      "1  29167d4caa719788b5a342dbaa25151d53121f80         0\n",
      "2  ff8bc3f4d44a3ea60c5f3a3a8fbe7cd98fb2966e         0\n",
      "3  844c2da00d45315f20b748ec131c26ee99a7cbc7         0\n",
      "4  c6017f0ad0c44d7d0c9b62583ea863f28941c0ca         0\n"
     ]
    }
   ],
   "source": [
    "bids['bidprice'] = bids['bidprice']*(averageNeeded/ourAverage)\n",
    "bids['bidprice'] = bids['bidprice'].round(0)\n",
    "bids['bidprice'] = bids['bidprice'].astype(int)\n",
    "print(bids.head(5))"
   ]
  },
  {
   "cell_type": "code",
   "execution_count": 14,
   "metadata": {},
   "outputs": [
    {
     "name": "stdout",
     "output_type": "stream",
     "text": [
      "ourAverage 659.0000824062629\n",
      "totalBid 199924150\n",
      "Multiples of budget bid: 31.987864\n"
     ]
    }
   ],
   "source": [
    "ourAverage = bids['bidprice'].mean()\n",
    "totalBid = bids['bidprice'].sum()\n",
    "print(\"ourAverage\",ourAverage)\n",
    "print(\"totalBid\",totalBid)\n",
    "print(\"Multiples of budget bid:\",totalBid/6250000)"
   ]
  },
  {
   "cell_type": "code",
   "execution_count": 15,
   "metadata": {},
   "outputs": [],
   "source": [
    "bids.to_csv('Group_21_MultiAgentBids.csv',index=False)"
   ]
  }
 ],
 "metadata": {
  "kernelspec": {
   "display_name": "Python 3",
   "language": "python",
   "name": "python3"
  },
  "language_info": {
   "codemirror_mode": {
    "name": "ipython",
    "version": 3
   },
   "file_extension": ".py",
   "mimetype": "text/x-python",
   "name": "python",
   "nbconvert_exporter": "python",
   "pygments_lexer": "ipython3",
   "version": "3.6.4"
  }
 },
 "nbformat": 4,
 "nbformat_minor": 2
}
