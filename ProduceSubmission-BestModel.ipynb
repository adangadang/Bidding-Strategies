{
 "cells": [
  {
   "cell_type": "code",
   "execution_count": 54,
   "metadata": {
    "collapsed": true
   },
   "outputs": [],
   "source": [
    "import numpy as np\n",
    "import pandas as pd"
   ]
  },
  {
   "cell_type": "code",
   "execution_count": 55,
   "metadata": {
    "collapsed": true
   },
   "outputs": [],
   "source": [
    "def Strategy3(sub_pCTR, sub_basebid):\n",
    "    avgCTR = 0.5\n",
    "    sub_pCTR_ = sub_pCTR.copy()\n",
    "    #sub_pCTR_[\"pCTR\"]=(((sub_pCTR_[\"pCTR\"]+0.5)**2)-0.5)\n",
    "    #sub_pCTR_[\"pCTR\"] = sub_pCTR_[\"pCTR\"].map(lambda x: 0 if x <0.43 else np.exp(x))\n",
    "    #sub_pCTR_[\"pCTR\"] = sub_pCTR_[\"pCTR\"].map(lambda x: 0 if x <0.43 else 1)\n",
    "    #bidprice = (sub_pCTR_[\"pCTR\"] * sub_basebid[\"predicted_payprice\"]) / avgCTR\n",
    "    bidprice=sub_pCTR_[\"pCTR\"] * 1\n",
    "    return bidprice"
   ]
  },
  {
   "cell_type": "code",
   "execution_count": 56,
   "metadata": {
    "collapsed": false
   },
   "outputs": [],
   "source": [
    "path = 'C:/Users/Akis/OneDrive/Masters/Web Economics/Data/WebEcon Team Drive/Test Set Predictions/'\n",
    "ridge_preds = pd.read_csv(path+\"ridge_basebid_test.csv\") #, index_col  = \"Unnamed: 0\"\n",
    "dwane_preds = pd.read_csv(path+\"test_dummy.click_predictions_narrow.2018-03-13.csv\")\n",
    "achilleas_preds = pd.read_csv(path+\"xgb_pCTR_test.csv\")\n",
    "#achilleas_preds2 = pd.read_csv(path+\"lr_pCTR_test.csv\")\n",
    "#achilleas_preds3 = pd.read_csv(path+\"rf_pCTR_test.csv\")"
   ]
  },
  {
   "cell_type": "code",
   "execution_count": 57,
   "metadata": {
    "collapsed": false
   },
   "outputs": [
    {
     "name": "stdout",
     "output_type": "stream",
     "text": [
      "259154\n"
     ]
    }
   ],
   "source": [
    "#Our best ensemble model by multiplication\n",
    "combined_preds1 = pd.DataFrame(columns=['bidid','pCTR'])\n",
    "combined_preds1['pCTR'] = achilleas_preds['pCTR']*dwane_preds['pCTR']\n",
    "#combined_preds1[\"pCTR\"] = combined_preds1[\"pCTR\"].map(lambda x: 0 if x <0.5 else x)\n",
    "combined_preds1[\"pCTR\"] = combined_preds1[\"pCTR\"].map(lambda x: 1 if ((0.0   <=x) & (x <0.025)) else 0)\n",
    "#print(combined_preds1['pCTR'].astype(bool).sum(axis=0))\n",
    "print(combined_preds1['pCTR'][combined_preds1['pCTR'] > 0].count())\n",
    "\n"
   ]
  },
  {
   "cell_type": "markdown",
   "metadata": {},
   "source": [
    "combined_preds2 = pd.DataFrame(columns=['bidid','pCTR'])\n",
    "#print(achilleas_preds.shape[0]/100)\n",
    "percentile = 99\n",
    "#dwane_preds[\"pCTR\"] = dwane_preds[\"pCTR\"].map(lambda x: 0 if x < 1 else np.exp(x))\n",
    "#print(dwane_preds['pCTR'].astype(bool).sum(axis=0))\n",
    "#achilleas_preds[\"pCTR\"] = achilleas_preds[\"pCTR\"].map(lambda x: 0 if x <0.44 else x) #0.93\n",
    "#print(achilleas_preds['pCTR'][achilleas_preds['pCTR'] > 0].count())\n",
    "limit = np.percentile(achilleas_preds2[\"pCTR\"],percentile)\n",
    "achilleas_preds2[\"pCTR\"] = achilleas_preds2[\"pCTR\"].map(lambda x: 0 if x < limit else x) #0.9998\n",
    "print(achilleas_preds2['pCTR'][achilleas_preds2['pCTR'] > 0].count())\n",
    "limit = np.percentile(achilleas_preds3[\"pCTR\"],percentile)\n",
    "achilleas_preds3[\"pCTR\"] = achilleas_preds3[\"pCTR\"].map(lambda x: 0 if x <limit else x) #0.87\n",
    "print(achilleas_preds3['pCTR'][achilleas_preds3['pCTR'] > 0].count())\n",
    "combined_preds2['pCTR'] = achilleas_preds3['pCTR']*achilleas_preds2['pCTR']#*achilleas_preds['pCTR']\n",
    "print(combined_preds2['pCTR'][combined_preds2['pCTR'] > 0].count())"
   ]
  },
  {
   "cell_type": "markdown",
   "metadata": {},
   "source": [
    "combined_preds = pd.DataFrame(columns=['bidid','pCTR'])\n",
    "print(combined_preds1['pCTR'][combined_preds1['pCTR'] > 0].count())\n",
    "print(combined_preds2['pCTR'][combined_preds2['pCTR'] > 0].count())\n",
    "combined_preds['pCTR'] = combined_preds1['pCTR']+combined_preds2['pCTR']\n",
    "print(combined_preds['pCTR'][combined_preds['pCTR'] > 0].count())\n",
    "print(\"Additional Bids:\",combined_preds['pCTR'].astype(bool).sum(axis=0)-combined_preds1['pCTR'].astype(bool).sum(axis=0))"
   ]
  },
  {
   "cell_type": "code",
   "execution_count": 58,
   "metadata": {
    "collapsed": true
   },
   "outputs": [],
   "source": [
    "#combined_preds = pd.DataFrame(columns=['bidid','pCTR'])\n",
    "#combined_preds['pCTR'] = achilleas_preds['pCTR']*dwane_preds['pCTR']\n",
    "#combined_preds['bidid'] = dwane_preds['bidid']"
   ]
  },
  {
   "cell_type": "code",
   "execution_count": 59,
   "metadata": {
    "collapsed": true
   },
   "outputs": [],
   "source": [
    "combined_preds = combined_preds1.copy(True)"
   ]
  },
  {
   "cell_type": "code",
   "execution_count": 60,
   "metadata": {
    "collapsed": false
   },
   "outputs": [
    {
     "name": "stdout",
     "output_type": "stream",
     "text": [
      "259154\n",
      "259154\n",
      "\n"
     ]
    }
   ],
   "source": [
    "bids = pd.DataFrame(columns=['bidid','bidprice'])\n",
    "#bids['bidprice'] = Strategy3(combined_preds,ridge_preds)\n",
    "bids['bidprice'] = combined_preds['pCTR'] * 100000 #*2621 *130 *10\n",
    "print(combined_preds['pCTR'][combined_preds['pCTR'] > 0].count())\n",
    "bids['bidid']=ridge_preds['bidid']\n",
    "#bids['bidprice'] = bids['bidprice'] * 2621 *5 *10 *10000\n",
    "#bids['bidprice'] = bids['bidprice'].round(0)\n",
    "#bids['bidprice'] = bids['bidprice'].astype(int)\n",
    "print(bids['bidprice'][bids['bidprice'] > 0].count())\n",
    "#bids.tail(1)['bidprice']=6250000-6247377\n",
    "#bids['bidprice'][-1]=6250000-6247377\n",
    "print()"
   ]
  },
  {
   "cell_type": "code",
   "execution_count": 50,
   "metadata": {
    "collapsed": false
   },
   "outputs": [
    {
     "data": {
      "text/plain": [
       "1224800000"
      ]
     },
     "execution_count": 50,
     "metadata": {},
     "output_type": "execute_result"
    }
   ],
   "source": [
    "bids['bidprice'].sum()"
   ]
  },
  {
   "cell_type": "code",
   "execution_count": 51,
   "metadata": {
    "collapsed": false
   },
   "outputs": [],
   "source": [
    "# pd.options.display.max_rows=290\n",
    "# bids.tail(100)\n",
    "# print(bids['bidprice'].astype(bool).sum(axis=0))\n",
    "# print(bids['bidprice'][bids['bidprice'] > 0].count())"
   ]
  },
  {
   "cell_type": "code",
   "execution_count": 52,
   "metadata": {
    "collapsed": false
   },
   "outputs": [
    {
     "name": "stdout",
     "output_type": "stream",
     "text": [
      "totalBid 1224800000\n",
      "ourAverage 100000.0\n",
      "totalBid 1224800000\n",
      "totalBidsPlaced 12248\n",
      "Multiples of budget bid: 195.968\n"
     ]
    }
   ],
   "source": [
    "#print(bids.shape)\n",
    "#ourAverage = bids['bidprice'].mean()\n",
    "#print(\"Previous:\",154240.75)\n",
    "totalBid = bids['bidprice'].sum()\n",
    "print(\"totalBid\",totalBid)\n",
    "totalBidsPlaced = bids['bidprice'][bids['bidprice'] > 0].count()\n",
    "ourAverage = bids['bidprice'].sum()/totalBidsPlaced\n",
    "print(\"ourAverage\",ourAverage)\n",
    "print(\"totalBid\",totalBid)\n",
    "print(\"totalBidsPlaced\",totalBidsPlaced)\n",
    "print(\"Multiples of budget bid:\",totalBid/6250000)"
   ]
  },
  {
   "cell_type": "code",
   "execution_count": 53,
   "metadata": {
    "collapsed": true
   },
   "outputs": [],
   "source": [
    "bids.to_csv('Group_21_SingleAgentBids.csv',index=False)"
   ]
  },
  {
   "cell_type": "code",
   "execution_count": null,
   "metadata": {
    "collapsed": true
   },
   "outputs": [],
   "source": [
    "averageNeeded = 659 #659 is sum(budgets of all teams)/number of impressions available; assumes 32 teams (there should be 31 but 32 plays it safe)"
   ]
  },
  {
   "cell_type": "code",
   "execution_count": null,
   "metadata": {
    "collapsed": false
   },
   "outputs": [],
   "source": [
    "bids['bidprice'] = bids['bidprice']*(averageNeeded/ourAverage)\n",
    "bids['bidprice'] = bids['bidprice'].round(0)\n",
    "bids['bidprice'] = bids['bidprice'].astype(int)\n",
    "print(bids.head(5))"
   ]
  },
  {
   "cell_type": "code",
   "execution_count": null,
   "metadata": {
    "collapsed": false
   },
   "outputs": [],
   "source": [
    "ourAverage = bids['bidprice'].mean()\n",
    "totalBid = bids['bidprice'].sum()\n",
    "print(\"ourAverage\",ourAverage)\n",
    "print(\"totalBid\",totalBid)\n",
    "print(\"Multiples of budget bid:\",totalBid/6250000)"
   ]
  },
  {
   "cell_type": "code",
   "execution_count": null,
   "metadata": {
    "collapsed": true
   },
   "outputs": [],
   "source": [
    "bids.to_csv('Group_21_MultiAgentBids.csv',index=False)"
   ]
  }
 ],
 "metadata": {
  "kernelspec": {
   "display_name": "Python 3",
   "language": "python",
   "name": "python3"
  },
  "language_info": {
   "codemirror_mode": {
    "name": "ipython",
    "version": 3
   },
   "file_extension": ".py",
   "mimetype": "text/x-python",
   "name": "python",
   "nbconvert_exporter": "python",
   "pygments_lexer": "ipython3",
   "version": "3.6.0"
  }
 },
 "nbformat": 4,
 "nbformat_minor": 2
}
