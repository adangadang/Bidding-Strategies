{
 "cells": [
  {
   "cell_type": "markdown",
   "metadata": {},
   "source": [
    "# Evaluate On Evaluation Set"
   ]
  },
  {
   "cell_type": "markdown",
   "metadata": {},
   "source": [
    "## Summary"
   ]
  },
  {
   "cell_type": "markdown",
   "metadata": {},
   "source": [
    "This notebook will do following steps:\n",
    " -  Pull validation data\n",
    " -  Load CTR predictions from CSV\n",
    " -  Load BaseBid Predictions for CSV\n",
    " -  Combine above using a formula\n",
    " -  Summarise Results"
   ]
  },
  {
   "cell_type": "markdown",
   "metadata": {},
   "source": [
    "# Preparation"
   ]
  },
  {
   "cell_type": "code",
   "execution_count": 1,
   "metadata": {
    "collapsed": true
   },
   "outputs": [],
   "source": [
    "import pandas as pd\n",
    "import numpy as np\n",
    "import matplotlib.pyplot as plt\n",
    "from random import randint    \n",
    "import seaborn as sns\n",
    "from score_models import Scorer\n",
    "import timeit\n",
    "\n",
    "%matplotlib inline"
   ]
  },
  {
   "cell_type": "markdown",
   "metadata": {},
   "source": [
    "# Pull Validation Data"
   ]
  },
  {
   "cell_type": "code",
   "execution_count": 2,
   "metadata": {
    "collapsed": true
   },
   "outputs": [],
   "source": [
    "path = \"C:/Users/Akis/OneDrive/Masters/Web Economics/Data/\"\n",
    "validation_df = pd.read_csv(path+'validation.csv')"
   ]
  },
  {
   "cell_type": "code",
   "execution_count": 3,
   "metadata": {
    "collapsed": false
   },
   "outputs": [
    {
     "name": "stdout",
     "output_type": "stream",
     "text": [
      "0.0006646376573167722\n"
     ]
    }
   ],
   "source": [
    "avgCTR =validation_df.loc[validation_df[\"click\"] == 1].shape[0]/(validation_df.shape[0])\n",
    "print(avgCTR)"
   ]
  },
  {
   "cell_type": "markdown",
   "metadata": {},
   "source": [
    "# Load CTR Predictions"
   ]
  },
  {
   "cell_type": "markdown",
   "metadata": {},
   "source": [
    "Need a function that will combine multiple dataframes into one"
   ]
  },
  {
   "cell_type": "code",
   "execution_count": 4,
   "metadata": {
    "collapsed": false
   },
   "outputs": [],
   "source": [
    "path='C:/Users/Akis/OneDrive/Masters/Web Economics/Data/WebEcon Team Drive/predictions/'\n",
    "teamACTRData = pd.read_csv(path+'lr_pCTR.csv')\n",
    "teamACTR=teamACTRData[['click_proba']]\n",
    "teamACTR = teamACTR.rename(index=str, columns={\"click_proba\": \"pCTR\"})"
   ]
  },
  {
   "cell_type": "markdown",
   "metadata": {},
   "source": [
    "# Load Basebid Predictions"
   ]
  },
  {
   "cell_type": "markdown",
   "metadata": {},
   "source": [
    "Need a function that will combine multiple dataframes into one"
   ]
  },
  {
   "cell_type": "code",
   "execution_count": 6,
   "metadata": {
    "collapsed": false
   },
   "outputs": [
    {
     "name": "stdout",
     "output_type": "stream",
     "text": [
      "    base_bid\n",
      "0  80.350004\n",
      "1  95.867239\n"
     ]
    }
   ],
   "source": [
    "teamABaseBidData = pd.read_csv(path+'ridge_basebid.csv')\n",
    "teamABaseBid=teamABaseBidData[['base_bid']]\n",
    "print(teamABaseBid.head(2))\n"
   ]
  },
  {
   "cell_type": "markdown",
   "metadata": {},
   "source": [
    "# Build Bid Prices for all models"
   ]
  },
  {
   "cell_type": "markdown",
   "metadata": {},
   "source": [
    "Need a function that will build a new dataframe conatining bids of all teams by combining the previous two dataframes."
   ]
  },
  {
   "cell_type": "code",
   "execution_count": 7,
   "metadata": {
    "collapsed": true
   },
   "outputs": [],
   "source": [
    "def Function1(resBaseBid,resCTR):\n",
    "    avCTR = 0.5\n",
    "    Bids=resBaseBid.values * (resCTR/avCTR)\n",
    "    #print(\"Bids:\",Bids)\n",
    "    return Bids"
   ]
  },
  {
   "cell_type": "code",
   "execution_count": 8,
   "metadata": {
    "collapsed": true
   },
   "outputs": [],
   "source": [
    "def Function2(reBaseBid,reCTR):\n",
    "    avCTR = 0.5\n",
    "    reCTR=reCTR.copy(True)\n",
    "    reCTR=(((reCTR+0.5)**2)-0.5)\n",
    "    reCTR[reCTR < 0] = 0\n",
    "    Bids=reBaseBid.values * (reCTR/avCTR)\n",
    "    return Bids"
   ]
  },
  {
   "cell_type": "code",
   "execution_count": 9,
   "metadata": {
    "collapsed": true
   },
   "outputs": [],
   "source": [
    "def Function3(rBaseBid,rCTR):\n",
    "    avCTR = 0.5\n",
    "    rCTR=rCTR.copy(True)\n",
    "    rCTR[rCTR < 0.5] = 0\n",
    "    #rCTR=(((rCTR+0.5)**4)-0.5)\n",
    "    Bids=rBaseBid.values*1.2 * (rCTR/avCTR)\n",
    "    return Bids"
   ]
  },
  {
   "cell_type": "code",
   "execution_count": 10,
   "metadata": {
    "collapsed": false
   },
   "outputs": [
    {
     "name": "stdout",
     "output_type": "stream",
     "text": [
      "   click  payprice  TeamAFormula1\n",
      "0      0        23      75.681350\n",
      "1      0        75      75.357042\n"
     ]
    }
   ],
   "source": [
    "resultsBids=pd.DataFrame(index=range(validation_df.shape[0]))\n",
    "resultsBids['click']=validation_df['click']\n",
    "resultsBids['payprice']=validation_df['payprice']\n",
    "\n",
    "resultsBids['TeamAFormula1'] = Function1(teamABaseBid,teamACTR).values\n",
    "\n",
    "print(resultsBids.head(2))"
   ]
  },
  {
   "cell_type": "code",
   "execution_count": 11,
   "metadata": {
    "collapsed": false
   },
   "outputs": [
    {
     "name": "stdout",
     "output_type": "stream",
     "text": [
      "    click  payprice  TeamAFormula1\n",
      "0       0        23      75.681350\n",
      "1       0        75      75.357042\n",
      "2       0        65      79.423925\n",
      "3       0         6      36.382727\n",
      "4       0         5      46.016489\n",
      "5       0        22      37.358419\n",
      "6       0        31      56.270605\n",
      "7       0        20      83.579240\n",
      "8       0        58      39.174854\n",
      "9       0        55      47.593749\n",
      "10      0        88      80.067262\n",
      "11      0        55      42.885943\n",
      "12      0        49      78.761406\n",
      "13      0       110      49.670200\n",
      "14      0       160     184.623743\n",
      "15      0        16      60.494599\n",
      "16      0        50      51.030263\n",
      "17      0        76      99.243468\n",
      "18      0        89     101.878999\n",
      "19      0       136      58.977454\n"
     ]
    }
   ],
   "source": [
    "print(resultsBids.head(20))"
   ]
  },
  {
   "cell_type": "markdown",
   "metadata": {},
   "source": [
    "# Hold Auction for each"
   ]
  },
  {
   "cell_type": "markdown",
   "metadata": {},
   "source": [
    "Need a function that will step through the impressions one by one checking who won the impression, whilst keeping track of each player's budget."
   ]
  },
  {
   "cell_type": "code",
   "execution_count": 12,
   "metadata": {
    "collapsed": false
   },
   "outputs": [
    {
     "name": "stdout",
     "output_type": "stream",
     "text": [
      "   click  payprice  TeamAFormula1\n",
      "0      0        23      75.681350\n",
      "1      0        75      75.357042\n",
      "2      0        65      79.423925\n",
      "3      0         6      36.382727\n",
      "4      0         5      46.016489\n"
     ]
    }
   ],
   "source": [
    "print(resultsBids.head())\n",
    "#Scorer()"
   ]
  },
  {
   "cell_type": "code",
   "execution_count": 24,
   "metadata": {
    "collapsed": true
   },
   "outputs": [],
   "source": [
    "start = timeit.timeit()\n",
    "s = Scorer()\n",
    "df_summary,df = s.set_df(resultsBids, ['payprice','TeamAFormula1'],6250000,20)\n",
    "end = timeit.timeit()\n",
    "print(end - start,\"seconds\")"
   ]
  },
  {
   "cell_type": "markdown",
   "metadata": {},
   "source": [
    "# Scores"
   ]
  },
  {
   "cell_type": "markdown",
   "metadata": {},
   "source": [
    "Summarise the main metrics for each team."
   ]
  },
  {
   "cell_type": "code",
   "execution_count": 25,
   "metadata": {
    "collapsed": false
   },
   "outputs": [
    {
     "name": "stdout",
     "output_type": "stream",
     "text": [
      "      budget  click      team_name     win\n",
      "0  14.000000    148  TeamAFormula1  215626\n",
      "1  -0.736412     54       payprice   88163\n"
     ]
    }
   ],
   "source": [
    "print(df_summary)"
   ]
  },
  {
   "cell_type": "code",
   "execution_count": 26,
   "metadata": {
    "collapsed": false
   },
   "outputs": [
    {
     "name": "stdout",
     "output_type": "stream",
     "text": [
      "        click  payprice  TeamAFormula1  winner       price\n",
      "0           0        23      75.681350       1   23.000000\n",
      "1           0        75      75.357042       1   75.000000\n",
      "2           0        65      79.423925       1   65.000000\n",
      "3           0         6      36.382727       1   20.000000\n",
      "4           0         5      46.016489       1   20.000000\n",
      "5           0        22      37.358419       1   22.000000\n",
      "6           0        31      56.270605       1   31.000000\n",
      "7           0        20      83.579240       1   20.000000\n",
      "8           0        58      39.174854       0   39.174854\n",
      "9           0        55      47.593749       0   47.593749\n",
      "10          0        88      80.067262       0   80.067262\n",
      "11          0        55      42.885943       0   42.885943\n",
      "12          0        49      78.761406       1   49.000000\n",
      "13          0       110      49.670200       0   49.670200\n",
      "14          0       160     184.623743       1  160.000000\n",
      "15          0        16      60.494599       1   20.000000\n",
      "16          0        50      51.030263       1   50.000000\n",
      "17          0        76      99.243468       1   76.000000\n",
      "18          0        89     101.878999       1   89.000000\n",
      "19          0       136      58.977454       0   58.977454\n",
      "20          0        55      53.617106       0   53.617106\n",
      "21          0        50      51.954376       1   50.000000\n",
      "22          0        64      56.153398       0   56.153398\n",
      "23          0       129      76.719780       0   76.719780\n",
      "24          0        20      49.005244       1   20.000000\n",
      "25          0       166      30.660949       0   30.660949\n",
      "26          0        88      66.263074       0   66.263074\n",
      "27          0       221      49.299640       0   49.299640\n",
      "28          0        69      75.078770       1   69.000000\n",
      "29          0        70      56.837470       0   56.837470\n",
      "...       ...       ...            ...     ...         ...\n",
      "303895      0       185     166.205623      -1    0.000000\n",
      "303896      0        22      51.994429      -1    0.000000\n",
      "303897      0        86      48.947835      -1    0.000000\n",
      "303898      0       230     116.431318      -1    0.000000\n",
      "303899      0        76      72.903190      -1    0.000000\n",
      "303900      0        20      46.855126      -1    0.000000\n",
      "303901      0        27      84.837058      -1    0.000000\n",
      "303902      0       160      88.936607      -1    0.000000\n",
      "303903      0        77      64.887669      -1    0.000000\n",
      "303904      0       160      63.772423      -1    0.000000\n",
      "303905      0        20      36.072577      -1    0.000000\n",
      "303906      0        80     133.100656      -1    0.000000\n",
      "303907      0       265      69.005544      -1    0.000000\n",
      "303908      0        70      55.989087      -1    0.000000\n",
      "303909      0        50      35.095326      -1    0.000000\n",
      "303910      0        70      71.963479      -1    0.000000\n",
      "303911      0        93      66.592478      -1    0.000000\n",
      "303912      0        77      73.938457      -1    0.000000\n",
      "303913      0       100      75.520083      -1    0.000000\n",
      "303914      0        22      45.158883      -1    0.000000\n",
      "303915      0         5      39.739874      -1    0.000000\n",
      "303916      0        20      33.769327      -1    0.000000\n",
      "303917      0        17      64.190094      -1    0.000000\n",
      "303918      0        50      37.928222      -1    0.000000\n",
      "303919      0        64      24.944317      -1    0.000000\n",
      "303920      0        50      42.338247      -1    0.000000\n",
      "303921      0        41      22.990021      -1    0.000000\n",
      "303922      0       108     113.252096      -1    0.000000\n",
      "303923      0        50      49.070833      -1    0.000000\n",
      "303924      0        40      45.203327      -1    0.000000\n",
      "\n",
      "[303925 rows x 5 columns]\n"
     ]
    }
   ],
   "source": [
    "print(df)"
   ]
  },
  {
   "cell_type": "code",
   "execution_count": null,
   "metadata": {
    "collapsed": true
   },
   "outputs": [],
   "source": []
  }
 ],
 "metadata": {
  "kernelspec": {
   "display_name": "Python 3",
   "language": "python",
   "name": "python3"
  },
  "language_info": {
   "codemirror_mode": {
    "name": "ipython",
    "version": 3
   },
   "file_extension": ".py",
   "mimetype": "text/x-python",
   "name": "python",
   "nbconvert_exporter": "python",
   "pygments_lexer": "ipython3",
   "version": "3.6.0"
  }
 },
 "nbformat": 4,
 "nbformat_minor": 2
}
