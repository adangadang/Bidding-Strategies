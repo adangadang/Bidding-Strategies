{
 "cells": [
  {
   "cell_type": "code",
   "execution_count": 49,
   "metadata": {
    "collapsed": true
   },
   "outputs": [],
   "source": [
    "import pandas as pd\n",
    "import numpy as np\n",
    "import matplotlib.pyplot as plt\n",
    "from random import randint\n",
    "import seaborn as sns\n",
    "import timeit\n",
    "\n",
    "%matplotlib inline"
   ]
  },
  {
   "cell_type": "markdown",
   "metadata": {},
   "source": [
    "# Pull Data"
   ]
  },
  {
   "cell_type": "code",
   "execution_count": 50,
   "metadata": {
    "collapsed": false
   },
   "outputs": [],
   "source": [
    "path = \"C:/Users/Akis/OneDrive/Masters/Web Economics/Data/\"\n",
    "#path=\"\"\n",
    "#test_df = pd.read_csv(path+'test.csv')\n",
    "train_df = pd.read_csv(path+'train.csv')\n",
    "validation_df = pd.read_csv(path+'validation.csv')"
   ]
  },
  {
   "cell_type": "code",
   "execution_count": 51,
   "metadata": {
    "collapsed": false,
    "scrolled": true
   },
   "outputs": [
    {
     "name": "stdout",
     "output_type": "stream",
     "text": [
      "Our Budget is: 6250000 Fen\n",
      "To use over 303925 bid opportunities.\n",
      "Budget / Bid Opportunity: 20.564283951632802\n"
     ]
    }
   ],
   "source": [
    "budget=6250*1000\n",
    "print(\"Our Budget is:\",budget, \"Fen\")\n",
    "print(\"To use over\",validation_df.shape[0],\"bid opportunities.\")\n",
    "BudPerBid=budget/validation_df.shape[0]\n",
    "print(\"Budget / Bid Opportunity:\",BudPerBid)\n",
    "\n",
    "minBid=1 #np.min(train_df[\"payprice\"].values)-10\n",
    "maxBid=int(np.max(train_df[\"payprice\"].values)*1.1)\n",
    "custRange = np.arange(minBid+1, maxBid+2,10) # determines the range that bids should be in\n",
    "#print(custRange.shape[0])\n",
    "\n",
    "#minBid=30 #used for zoom to find exact best value\n",
    "#maxBid=50\n",
    "#custRange = np.arange(minBid, maxBid,1)"
   ]
  },
  {
   "cell_type": "code",
   "execution_count": 52,
   "metadata": {
    "collapsed": false
   },
   "outputs": [
    {
     "data": {
      "text/plain": [
       "'\\nImpressions = test_df.shape[0]\\nImpressionsPerTeam = Impressions/30\\nAverageSpendPerImpression = 6250000/ImpressionsPerTeam\\nprint(\"Total number of auctions:\", Impressions)\\nprint(\"Average Number Of Impressions per team:\",ImpressionsPerTeam)\\nprint(\"Average budget per impression\",AverageSpendPerImpression)\\n'"
      ]
     },
     "execution_count": 52,
     "metadata": {},
     "output_type": "execute_result"
    }
   ],
   "source": [
    "'''\n",
    "Impressions = test_df.shape[0]\n",
    "ImpressionsPerTeam = Impressions/30\n",
    "AverageSpendPerImpression = 6250000/ImpressionsPerTeam\n",
    "print(\"Total number of auctions:\", Impressions)\n",
    "print(\"Average Number Of Impressions per team:\",ImpressionsPerTeam)\n",
    "print(\"Average budget per impression\",AverageSpendPerImpression)\n",
    "'''"
   ]
  },
  {
   "cell_type": "code",
   "execution_count": 53,
   "metadata": {
    "collapsed": false
   },
   "outputs": [
    {
     "data": {
      "text/plain": [
       "'meanPayPrice = train_df[\"bidprice\"].mean()/1000\\nImpressions = test_df.shape[0]\\ntotalSpend = Impressions * meanPayPrice\\nspendPerTeam = totalSpend/30 #30 is number of teams\\npercOfBudget = int(spendPerTeam*100/6250)\\nsuggestedBudget = int(spendPerTeam*0.80/100)*100 #75 percent of their probable spend, to make sure everyone can reach their budget limit\\nprint(\"Assuming that by training our models on the train set provided, our payprices will be similar to those of the train set:\")\\nprint(\"Pay price average in train set:\",meanPayPrice)\\nprint(\"Total number of auctions to be held in the competition:\", Impressions)\\nprint(\"These 2 figures tell us that a rough total of\",int(totalSpend),\" will be paid by all teams combined.\")\\nprint(\"Average spend of each team:\", int(spendPerTeam),\"which equals\",percOfBudget,\"% of their budget.\")\\nprint(\"Thus a budget of roughly 80% of their likely spend is suggested:\",suggestedBudget,\"CNY Fen\")\\n'"
      ]
     },
     "execution_count": 53,
     "metadata": {},
     "output_type": "execute_result"
    }
   ],
   "source": [
    "'''meanPayPrice = train_df[\"bidprice\"].mean()/1000\n",
    "Impressions = test_df.shape[0]\n",
    "totalSpend = Impressions * meanPayPrice\n",
    "spendPerTeam = totalSpend/30 #30 is number of teams\n",
    "percOfBudget = int(spendPerTeam*100/6250)\n",
    "suggestedBudget = int(spendPerTeam*0.80/100)*100 #75 percent of their probable spend, to make sure everyone can reach their budget limit\n",
    "print(\"Assuming that by training our models on the train set provided, our payprices will be similar to those of the train set:\")\n",
    "print(\"Pay price average in train set:\",meanPayPrice)\n",
    "print(\"Total number of auctions to be held in the competition:\", Impressions)\n",
    "print(\"These 2 figures tell us that a rough total of\",int(totalSpend),\" will be paid by all teams combined.\")\n",
    "print(\"Average spend of each team:\", int(spendPerTeam),\"which equals\",percOfBudget,\"% of their budget.\")\n",
    "print(\"Thus a budget of roughly 80% of their likely spend is suggested:\",suggestedBudget,\"CNY Fen\")\n",
    "'''"
   ]
  },
  {
   "cell_type": "code",
   "execution_count": 54,
   "metadata": {
    "collapsed": true
   },
   "outputs": [],
   "source": [
    "pd.set_option('display.max_columns', None)"
   ]
  },
  {
   "cell_type": "markdown",
   "metadata": {
    "collapsed": true
   },
   "source": [
    "# Functions"
   ]
  },
  {
   "cell_type": "markdown",
   "metadata": {},
   "source": [
    "### Plot Metrics by Constant Bidding Rate"
   ]
  },
  {
   "cell_type": "code",
   "execution_count": 55,
   "metadata": {
    "collapsed": true
   },
   "outputs": [],
   "source": [
    "def plotResults(resultsDataFrame,customrange):\n",
    "    \n",
    "    metrics = [resultsDataFrame['ConstValue'],resultsDataFrame['CTR'], resultsDataFrame['Clicks'], resultsDataFrame['Spend'], resultsDataFrame['CPM'], resultsDataFrame['CPC'], resultsDataFrame['Impressions']]\n",
    "    metricNames = ['ConstValue','CTR','Clicks','Spend','CostPerMille','CostPerClick','Impressions']\n",
    "\n",
    "    f, axarr = plt.subplots(len(metrics), sharex=True, figsize=(8, 14))\n",
    "    i=0\n",
    "    for metric in metrics:\n",
    "        axarr[i].plot(customrange, metric)\n",
    "        axarr[i].set_title(metricNames[i])\n",
    "        #axarr[i].axvline(x=228,color='red')\n",
    "        #axarr[i].axvline(x=278,color='red')\n",
    "        i+=1\n",
    "\n",
    "    axarr[i-1].set(xlabel=\"Constant Bid Value\")\n",
    "\n",
    "    # Bring subplots close to each other.\n",
    "    f.subplots_adjust(wspace=0.3)\n",
    "    \n",
    "    \n",
    "    useless = 0\n",
    "    return useless"
   ]
  },
  {
   "cell_type": "markdown",
   "metadata": {},
   "source": [
    "### Function to find best constant bidding value for a dataset"
   ]
  },
  {
   "cell_type": "code",
   "execution_count": 56,
   "metadata": {
    "collapsed": true
   },
   "outputs": [],
   "source": [
    "# dataframe pandas:                  data to find best value for\n",
    "# metric string:                     metric that needs minimsing or maximising\n",
    "# MaxMin \"maximise\"/\"minimise\":      Minimse or Maximise the metric\n",
    "# minSpendPercentage [0,1]:          Minimum % of Budget we want to use\n",
    "# plot boolean:                      plot results?\n",
    "\n",
    "def FindConstant(dataframe,metric,MaxMin,searchrange,plot):\n",
    "    \n",
    "    #minSpend=minSpendPercentage*dataframe.shape[0]*BudPerBid*3\n",
    "    \n",
    "    resultsDF = pd.DataFrame(columns=['ConstValue','CTR', 'Clicks', 'Spend', 'CPM', 'CPC', 'Impressions'])\n",
    "\n",
    "    cRange=searchrange.copy(True)\n",
    "    i=1\n",
    "    for ConstantBid in cRange: \n",
    "        print(\"Processing\",i,\"/\",cRange.shape[0],\"...\")\n",
    "        resultsDF.loc[len(resultsDF)] = EvalConstBid(dataframe,ConstantBid,6250000,validation_df.shape[0])\n",
    "        i+=1\n",
    "    #print(resultsDF)\n",
    "    if plot:\n",
    "        plotResults(resultsDF,cRange)\n",
    "    \n",
    "    if MaxMin == \"maximise\":\n",
    "        #print(\"Maximisiiiiiing \\n\")\n",
    "        mIndex = resultsDF[metric].idxmax(axis=1, skipna=True).copy(True)\n",
    "        #print(\"mIndex:\",mIndex)\n",
    "    elif MaxMin == \"minimise\":\n",
    "        mIndex = resultsDF[metric].idxmin(axis=1, skipna=True).copy(True)\n",
    "    else:\n",
    "        print(\"Maximise or minimise?\")\n",
    "    \n",
    "    constant = int(resultsDF['ConstValue'][mIndex])\n",
    "    #print(\"constant:\",constant)\n",
    "    #print(resultsDF)\n",
    "    \n",
    "    return constant"
   ]
  },
  {
   "cell_type": "markdown",
   "metadata": {},
   "source": [
    "### Evaluate a constant bid value on a new set"
   ]
  },
  {
   "cell_type": "code",
   "execution_count": 57,
   "metadata": {
    "collapsed": true
   },
   "outputs": [],
   "source": [
    "def EvalConstBid(dataframe,constant,budget,size):\n",
    "    \n",
    "    AdjustedBudget=(budget/size)*dataframe.shape[0]\n",
    "    #print(\"AdjustedBudget is:\",AdjustedBudget)\n",
    "    tempData=dataframe.copy(True)\n",
    "    tempData['ConstBid']=constant\n",
    "\n",
    "    tempData['trueValues'] = np.where(tempData[\"payprice\"]<tempData['ConstBid'],1,0)\n",
    "    tempData['ModelPays'] = tempData['trueValues']*tempData['payprice']\n",
    "    tempData['cumsum'] = tempData['ModelPays'].cumsum()\n",
    "    lastRowToInclude = np.argmax(tempData['cumsum'].as_matrix()>AdjustedBudget)\n",
    "    if lastRowToInclude==0:\n",
    "        lastRowToInclude=tempData.shape[0]\n",
    "    #print(\"lastRowToInclude\",lastRowToInclude)\n",
    "    \n",
    "    shortData = tempData.head(lastRowToInclude).copy(True)\n",
    "    trueValues = (0<shortData['ModelPays'])\n",
    "    impressions = shortData[trueValues].shape[0]\n",
    "    clicks = np.sum(shortData[trueValues][\"click\"].values)\n",
    "    spend = np.sum(shortData[trueValues][\"payprice\"].values)\n",
    "    CostPerClick = spend/clicks\n",
    "    CostPerMille = spend*1000/(impressions)\n",
    "    ClickThroughRate=(clicks*100)/impressions\n",
    "    return [constant, ClickThroughRate, clicks, spend, CostPerMille, CostPerClick, impressions]\n",
    "\n",
    "\n",
    "    #impressions = shortData.loc[shortData['ModelPays'] > 0].sum()\n",
    "    #clicks = shortData.loc[shortData['ModelPays'] > 0 , 'click'].sum()\n",
    "    #print(\"clicks:\",clicks)"
   ]
  },
  {
   "cell_type": "code",
   "execution_count": 58,
   "metadata": {
    "collapsed": false
   },
   "outputs": [],
   "source": [
    "#dataa = EvalConstBid(train_df,275,6250000,validation_df.shape[0])\n",
    "#print(dataa)"
   ]
  },
  {
   "cell_type": "markdown",
   "metadata": {},
   "source": [
    "### Bootstrap to combine above two functions"
   ]
  },
  {
   "cell_type": "code",
   "execution_count": 59,
   "metadata": {
    "collapsed": true
   },
   "outputs": [],
   "source": [
    "def Bootstrap(trainDF,searchrange,repeats):\n",
    "    BestBids=[]\n",
    "    for n in range(1,repeats+1,1):\n",
    "        print(n,\"/\",repeats,\"...\")\n",
    "        #randomly assign 75% of data to dataSubset\n",
    "        dataSubset = trainDF.sample(frac=0.75, replace=False).copy(True)\n",
    "\n",
    "        constant = FindConstant(dataSubset,'Clicks','maximise',searchrange,plot=False)\n",
    "\n",
    "        #CTR = EvalConstBid(dataSubset,constant)[1]\n",
    "        #print(\"Constant value\" ,constant, \"gives CTR of:\",CTR)\n",
    "        BestBids.append(constant)\n",
    "    \n",
    "    return BestBids"
   ]
  },
  {
   "cell_type": "markdown",
   "metadata": {},
   "source": [
    "### Evalute on a new data set (validation set)"
   ]
  },
  {
   "cell_type": "markdown",
   "metadata": {},
   "source": [
    "# Main Code"
   ]
  },
  {
   "cell_type": "code",
   "execution_count": 60,
   "metadata": {
    "collapsed": true
   },
   "outputs": [],
   "source": [
    "dataSubset = train_df.sample(frac=0.70, replace=False).copy(True)"
   ]
  },
  {
   "cell_type": "code",
   "execution_count": 61,
   "metadata": {
    "collapsed": false
   },
   "outputs": [
    {
     "name": "stderr",
     "output_type": "stream",
     "text": [
      "C:\\Users\\Akis\\Anaconda3\\lib\\site-packages\\ipykernel\\__main__.py:13: DeprecationWarning: Non-string object detected for the array ordering. Please pass in 'C', 'F', 'A', or 'K' instead\n"
     ]
    },
    {
     "name": "stdout",
     "output_type": "stream",
     "text": [
      "Processing 1 / 33 ...\n"
     ]
    },
    {
     "name": "stderr",
     "output_type": "stream",
     "text": [
      "C:\\Users\\Akis\\Anaconda3\\lib\\site-packages\\ipykernel\\__main__.py:21: RuntimeWarning: divide by zero encountered in longlong_scalars\n"
     ]
    },
    {
     "name": "stdout",
     "output_type": "stream",
     "text": [
      "Processing 2 / 33 ...\n",
      "Processing 3 / 33 ...\n",
      "Processing 4 / 33 ...\n",
      "Processing 5 / 33 ...\n",
      "Processing 6 / 33 ...\n",
      "Processing 7 / 33 ...\n",
      "Processing 8 / 33 ...\n",
      "Processing 9 / 33 ...\n",
      "Processing 10 / 33 ...\n",
      "Processing 11 / 33 ...\n",
      "Processing 12 / 33 ...\n",
      "Processing 13 / 33 ...\n",
      "Processing 14 / 33 ...\n",
      "Processing 15 / 33 ...\n",
      "Processing 16 / 33 ...\n",
      "Processing 17 / 33 ...\n",
      "Processing 18 / 33 ...\n",
      "Processing 19 / 33 ...\n",
      "Processing 20 / 33 ...\n",
      "Processing 21 / 33 ...\n",
      "Processing 22 / 33 ...\n",
      "Processing 23 / 33 ...\n",
      "Processing 24 / 33 ...\n",
      "Processing 25 / 33 ...\n",
      "Processing 26 / 33 ...\n",
      "Processing 27 / 33 ...\n",
      "Processing 28 / 33 ...\n",
      "Processing 29 / 33 ...\n",
      "Processing 30 / 33 ...\n",
      "Processing 31 / 33 ...\n",
      "Processing 32 / 33 ...\n",
      "Processing 33 / 33 ...\n"
     ]
    },
    {
     "name": "stderr",
     "output_type": "stream",
     "text": [
      "C:\\Users\\Akis\\Anaconda3\\lib\\site-packages\\ipykernel\\__main__.py:25: DeprecationWarning: Non-string object detected for the array ordering. Please pass in 'C', 'F', 'A', or 'K' instead\n"
     ]
    },
    {
     "data": {
      "text/plain": [
       "82"
      ]
     },
     "execution_count": 61,
     "metadata": {},
     "output_type": "execute_result"
    },
    {
     "data": {
      "image/png": "[encoded data removed]",
      "text/plain": [
       "<matplotlib.figure.Figure at 0x168b5d080b8>"
      ]
     },
     "metadata": {},
     "output_type": "display_data"
    }
   ],
   "source": [
    "FindConstant(dataSubset,'Clicks','maximise',custRange,plot=True)"
   ]
  },
  {
   "cell_type": "code",
   "execution_count": 62,
   "metadata": {
    "collapsed": true
   },
   "outputs": [],
   "source": [
    "minBidZoom=70 #used for zoom to find exact best value\n",
    "maxBidZoom=85\n",
    "custRangeZoom = np.arange(minBidZoom, maxBidZoom,1)"
   ]
  },
  {
   "cell_type": "code",
   "execution_count": 63,
   "metadata": {
    "collapsed": true
   },
   "outputs": [],
   "source": [
    "dataSubset = train_df.sample(frac=0.70, replace=False).copy(True)"
   ]
  },
  {
   "cell_type": "code",
   "execution_count": 64,
   "metadata": {
    "collapsed": false
   },
   "outputs": [
    {
     "name": "stderr",
     "output_type": "stream",
     "text": [
      "C:\\Users\\Akis\\Anaconda3\\lib\\site-packages\\ipykernel\\__main__.py:13: DeprecationWarning: Non-string object detected for the array ordering. Please pass in 'C', 'F', 'A', or 'K' instead\n"
     ]
    },
    {
     "name": "stdout",
     "output_type": "stream",
     "text": [
      "Processing 1 / 15 ...\n",
      "Processing 2 / 15 ...\n",
      "Processing 3 / 15 ...\n",
      "Processing 4 / 15 ...\n",
      "Processing 5 / 15 ...\n",
      "Processing 6 / 15 ...\n",
      "Processing 7 / 15 ...\n",
      "Processing 8 / 15 ...\n",
      "Processing 9 / 15 ...\n",
      "Processing 10 / 15 ...\n",
      "Processing 11 / 15 ...\n",
      "Processing 12 / 15 ...\n",
      "Processing 13 / 15 ...\n",
      "Processing 14 / 15 ...\n",
      "Processing 15 / 15 ...\n"
     ]
    },
    {
     "name": "stderr",
     "output_type": "stream",
     "text": [
      "C:\\Users\\Akis\\Anaconda3\\lib\\site-packages\\ipykernel\\__main__.py:25: DeprecationWarning: Non-string object detected for the array ordering. Please pass in 'C', 'F', 'A', or 'K' instead\n"
     ]
    },
    {
     "data": {
      "text/plain": [
       "74"
      ]
     },
     "execution_count": 64,
     "metadata": {},
     "output_type": "execute_result"
    },
    {
     "data": {
      "image/png": "[encoded data removed]",
      "text/plain": [
       "<matplotlib.figure.Figure at 0x168b59c1dd8>"
      ]
     },
     "metadata": {},
     "output_type": "display_data"
    }
   ],
   "source": [
    "FindConstant(dataSubset,'Clicks','maximise',custRangeZoom,plot=True)"
   ]
  },
  {
   "cell_type": "code",
   "execution_count": 65,
   "metadata": {
    "collapsed": true
   },
   "outputs": [],
   "source": [
    "#dataSubset = train_df.sample(frac=0.70, replace=False)"
   ]
  },
  {
   "cell_type": "code",
   "execution_count": 66,
   "metadata": {
    "collapsed": false
   },
   "outputs": [],
   "source": [
    "#FindConstant(dataSubset,'Clicks','maximise',custRangeZoom,plot=True)"
   ]
  },
  {
   "cell_type": "markdown",
   "metadata": {},
   "source": [
    "This looks right when comparing to the graph below. We can see that the green graph is higher than the red for higher bid values. Thus the CTR will continue to increase the higher the bid constant."
   ]
  },
  {
   "cell_type": "code",
   "execution_count": 67,
   "metadata": {
    "collapsed": false
   },
   "outputs": [
    {
     "name": "stderr",
     "output_type": "stream",
     "text": [
      "C:\\Users\\Akis\\Anaconda3\\lib\\site-packages\\matplotlib\\cbook\\deprecation.py:106: MatplotlibDeprecationWarning: Adding an axes using the same arguments as a previous axes currently reuses the earlier instance.  In a future version, a new instance will always be created and returned.  Meanwhile, this warning can be suppressed, and the future behavior ensured, by passing a unique label to each axes instance.\n",
      "  warnings.warn(message, mplDeprecation, stacklevel=1)\n"
     ]
    },
    {
     "data": {
      "image/png": "[encoded data removed]",
      "text/plain": [
       "<matplotlib.figure.Figure at 0x168b569a7b8>"
      ]
     },
     "metadata": {},
     "output_type": "display_data"
    }
   ],
   "source": [
    "plt.figure(figsize = (12,6))\n",
    "\n",
    "\n",
    "ax = plt.subplot(3,1,2)\n",
    "sns.distplot(train_df.loc[train_df[\"click\"] == 1, \"payprice\"], bins = 40, kde = False, norm_hist = True, color = \"green\")\n",
    "ax = plt.subplot(3,1,2)\n",
    "sns.distplot(train_df.loc[train_df[\"click\"] == 0, \"payprice\"], bins = 40, kde = False, norm_hist = True, color = \"red\")\n",
    "\n",
    "#ax = plt.subplot(3,1,3)\n",
    "#sns.distplot(train.loc[train[\"click\"] == 1, \"BidPayDifference\"], bins = 40, kde = False, norm_hist = True, color = \"green\")\n",
    "#ax = plt.subplot(3,1,3)\n",
    "#sns.distplot(train.loc[train[\"click\"] == 0, \"BidPayDifference\"], bins = 40, kde = False, norm_hist = True, color = \"red\")\n",
    "\n",
    "plt.tight_layout()"
   ]
  },
  {
   "cell_type": "markdown",
   "metadata": {},
   "source": [
    "### Bootstrap to find best constant bidding value on train set"
   ]
  },
  {
   "cell_type": "code",
   "execution_count": 68,
   "metadata": {
    "collapsed": false
   },
   "outputs": [
    {
     "name": "stdout",
     "output_type": "stream",
     "text": [
      "1 / 20 ...\n"
     ]
    },
    {
     "name": "stderr",
     "output_type": "stream",
     "text": [
      "C:\\Users\\Akis\\Anaconda3\\lib\\site-packages\\ipykernel\\__main__.py:13: DeprecationWarning: Non-string object detected for the array ordering. Please pass in 'C', 'F', 'A', or 'K' instead\n"
     ]
    },
    {
     "name": "stdout",
     "output_type": "stream",
     "text": [
      "Processing 1 / 15 ...\n",
      "Processing 2 / 15 ...\n",
      "Processing 3 / 15 ...\n",
      "Processing 4 / 15 ...\n",
      "Processing 5 / 15 ...\n",
      "Processing 6 / 15 ...\n",
      "Processing 7 / 15 ...\n",
      "Processing 8 / 15 ...\n",
      "Processing 9 / 15 ...\n",
      "Processing 10 / 15 ...\n",
      "Processing 11 / 15 ...\n",
      "Processing 12 / 15 ...\n",
      "Processing 13 / 15 ...\n",
      "Processing 14 / 15 ...\n",
      "Processing 15 / 15 ...\n"
     ]
    },
    {
     "name": "stderr",
     "output_type": "stream",
     "text": [
      "C:\\Users\\Akis\\Anaconda3\\lib\\site-packages\\ipykernel\\__main__.py:25: DeprecationWarning: Non-string object detected for the array ordering. Please pass in 'C', 'F', 'A', or 'K' instead\n"
     ]
    },
    {
     "name": "stdout",
     "output_type": "stream",
     "text": [
      "2 / 20 ...\n",
      "Processing 1 / 15 ...\n",
      "Processing 2 / 15 ...\n",
      "Processing 3 / 15 ...\n",
      "Processing 4 / 15 ...\n",
      "Processing 5 / 15 ...\n",
      "Processing 6 / 15 ...\n",
      "Processing 7 / 15 ...\n",
      "Processing 8 / 15 ...\n",
      "Processing 9 / 15 ...\n",
      "Processing 10 / 15 ...\n",
      "Processing 11 / 15 ...\n",
      "Processing 12 / 15 ...\n",
      "Processing 13 / 15 ...\n",
      "Processing 14 / 15 ...\n",
      "Processing 15 / 15 ...\n",
      "3 / 20 ...\n",
      "Processing 1 / 15 ...\n",
      "Processing 2 / 15 ...\n",
      "Processing 3 / 15 ...\n",
      "Processing 4 / 15 ...\n",
      "Processing 5 / 15 ...\n",
      "Processing 6 / 15 ...\n",
      "Processing 7 / 15 ...\n",
      "Processing 8 / 15 ...\n",
      "Processing 9 / 15 ...\n",
      "Processing 10 / 15 ...\n",
      "Processing 11 / 15 ...\n",
      "Processing 12 / 15 ...\n",
      "Processing 13 / 15 ...\n",
      "Processing 14 / 15 ...\n",
      "Processing 15 / 15 ...\n",
      "4 / 20 ...\n",
      "Processing 1 / 15 ...\n",
      "Processing 2 / 15 ...\n",
      "Processing 3 / 15 ...\n",
      "Processing 4 / 15 ...\n",
      "Processing 5 / 15 ...\n",
      "Processing 6 / 15 ...\n",
      "Processing 7 / 15 ...\n",
      "Processing 8 / 15 ...\n",
      "Processing 9 / 15 ...\n",
      "Processing 10 / 15 ...\n",
      "Processing 11 / 15 ...\n",
      "Processing 12 / 15 ...\n",
      "Processing 13 / 15 ...\n",
      "Processing 14 / 15 ...\n",
      "Processing 15 / 15 ...\n",
      "5 / 20 ...\n",
      "Processing 1 / 15 ...\n",
      "Processing 2 / 15 ...\n",
      "Processing 3 / 15 ...\n",
      "Processing 4 / 15 ...\n",
      "Processing 5 / 15 ...\n",
      "Processing 6 / 15 ...\n",
      "Processing 7 / 15 ...\n",
      "Processing 8 / 15 ...\n",
      "Processing 9 / 15 ...\n",
      "Processing 10 / 15 ...\n",
      "Processing 11 / 15 ...\n",
      "Processing 12 / 15 ...\n",
      "Processing 13 / 15 ...\n",
      "Processing 14 / 15 ...\n",
      "Processing 15 / 15 ...\n",
      "6 / 20 ...\n",
      "Processing 1 / 15 ...\n",
      "Processing 2 / 15 ...\n",
      "Processing 3 / 15 ...\n",
      "Processing 4 / 15 ...\n",
      "Processing 5 / 15 ...\n",
      "Processing 6 / 15 ...\n",
      "Processing 7 / 15 ...\n",
      "Processing 8 / 15 ...\n",
      "Processing 9 / 15 ...\n",
      "Processing 10 / 15 ...\n",
      "Processing 11 / 15 ...\n",
      "Processing 12 / 15 ...\n",
      "Processing 13 / 15 ...\n",
      "Processing 14 / 15 ...\n",
      "Processing 15 / 15 ...\n",
      "7 / 20 ...\n",
      "Processing 1 / 15 ...\n",
      "Processing 2 / 15 ...\n",
      "Processing 3 / 15 ...\n",
      "Processing 4 / 15 ...\n",
      "Processing 5 / 15 ...\n",
      "Processing 6 / 15 ...\n",
      "Processing 7 / 15 ...\n",
      "Processing 8 / 15 ...\n",
      "Processing 9 / 15 ...\n",
      "Processing 10 / 15 ...\n",
      "Processing 11 / 15 ...\n",
      "Processing 12 / 15 ...\n",
      "Processing 13 / 15 ...\n",
      "Processing 14 / 15 ...\n",
      "Processing 15 / 15 ...\n",
      "8 / 20 ...\n",
      "Processing 1 / 15 ...\n",
      "Processing 2 / 15 ...\n",
      "Processing 3 / 15 ...\n",
      "Processing 4 / 15 ...\n",
      "Processing 5 / 15 ...\n",
      "Processing 6 / 15 ...\n",
      "Processing 7 / 15 ...\n",
      "Processing 8 / 15 ...\n",
      "Processing 9 / 15 ...\n",
      "Processing 10 / 15 ...\n",
      "Processing 11 / 15 ...\n",
      "Processing 12 / 15 ...\n",
      "Processing 13 / 15 ...\n",
      "Processing 14 / 15 ...\n",
      "Processing 15 / 15 ...\n",
      "9 / 20 ...\n",
      "Processing 1 / 15 ...\n",
      "Processing 2 / 15 ...\n",
      "Processing 3 / 15 ...\n",
      "Processing 4 / 15 ...\n",
      "Processing 5 / 15 ...\n",
      "Processing 6 / 15 ...\n",
      "Processing 7 / 15 ...\n",
      "Processing 8 / 15 ...\n",
      "Processing 9 / 15 ...\n",
      "Processing 10 / 15 ...\n",
      "Processing 11 / 15 ...\n",
      "Processing 12 / 15 ...\n",
      "Processing 13 / 15 ...\n",
      "Processing 14 / 15 ...\n",
      "Processing 15 / 15 ...\n",
      "10 / 20 ...\n",
      "Processing 1 / 15 ...\n",
      "Processing 2 / 15 ...\n",
      "Processing 3 / 15 ...\n",
      "Processing 4 / 15 ...\n",
      "Processing 5 / 15 ...\n",
      "Processing 6 / 15 ...\n",
      "Processing 7 / 15 ...\n",
      "Processing 8 / 15 ...\n",
      "Processing 9 / 15 ...\n",
      "Processing 10 / 15 ...\n",
      "Processing 11 / 15 ...\n",
      "Processing 12 / 15 ...\n",
      "Processing 13 / 15 ...\n",
      "Processing 14 / 15 ...\n",
      "Processing 15 / 15 ...\n",
      "11 / 20 ...\n",
      "Processing 1 / 15 ...\n",
      "Processing 2 / 15 ...\n",
      "Processing 3 / 15 ...\n",
      "Processing 4 / 15 ...\n",
      "Processing 5 / 15 ...\n",
      "Processing 6 / 15 ...\n",
      "Processing 7 / 15 ...\n",
      "Processing 8 / 15 ...\n",
      "Processing 9 / 15 ...\n",
      "Processing 10 / 15 ...\n",
      "Processing 11 / 15 ...\n",
      "Processing 12 / 15 ...\n",
      "Processing 13 / 15 ...\n",
      "Processing 14 / 15 ...\n",
      "Processing 15 / 15 ...\n",
      "12 / 20 ...\n",
      "Processing 1 / 15 ...\n",
      "Processing 2 / 15 ...\n",
      "Processing 3 / 15 ...\n",
      "Processing 4 / 15 ...\n",
      "Processing 5 / 15 ...\n",
      "Processing 6 / 15 ...\n",
      "Processing 7 / 15 ...\n",
      "Processing 8 / 15 ...\n",
      "Processing 9 / 15 ...\n",
      "Processing 10 / 15 ...\n",
      "Processing 11 / 15 ...\n",
      "Processing 12 / 15 ...\n",
      "Processing 13 / 15 ...\n",
      "Processing 14 / 15 ...\n",
      "Processing 15 / 15 ...\n",
      "13 / 20 ...\n",
      "Processing 1 / 15 ...\n",
      "Processing 2 / 15 ...\n",
      "Processing 3 / 15 ...\n",
      "Processing 4 / 15 ...\n",
      "Processing 5 / 15 ...\n",
      "Processing 6 / 15 ...\n",
      "Processing 7 / 15 ...\n",
      "Processing 8 / 15 ...\n",
      "Processing 9 / 15 ...\n",
      "Processing 10 / 15 ...\n",
      "Processing 11 / 15 ...\n",
      "Processing 12 / 15 ...\n",
      "Processing 13 / 15 ...\n",
      "Processing 14 / 15 ...\n",
      "Processing 15 / 15 ...\n",
      "14 / 20 ...\n",
      "Processing 1 / 15 ...\n",
      "Processing 2 / 15 ...\n",
      "Processing 3 / 15 ...\n",
      "Processing 4 / 15 ...\n",
      "Processing 5 / 15 ...\n",
      "Processing 6 / 15 ...\n",
      "Processing 7 / 15 ...\n",
      "Processing 8 / 15 ...\n",
      "Processing 9 / 15 ...\n",
      "Processing 10 / 15 ...\n",
      "Processing 11 / 15 ...\n",
      "Processing 12 / 15 ...\n",
      "Processing 13 / 15 ...\n",
      "Processing 14 / 15 ...\n",
      "Processing 15 / 15 ...\n",
      "15 / 20 ...\n",
      "Processing 1 / 15 ...\n",
      "Processing 2 / 15 ...\n",
      "Processing 3 / 15 ...\n",
      "Processing 4 / 15 ...\n",
      "Processing 5 / 15 ...\n",
      "Processing 6 / 15 ...\n",
      "Processing 7 / 15 ...\n",
      "Processing 8 / 15 ...\n",
      "Processing 9 / 15 ...\n",
      "Processing 10 / 15 ...\n",
      "Processing 11 / 15 ...\n",
      "Processing 12 / 15 ...\n",
      "Processing 13 / 15 ...\n",
      "Processing 14 / 15 ...\n",
      "Processing 15 / 15 ...\n",
      "16 / 20 ...\n",
      "Processing 1 / 15 ...\n",
      "Processing 2 / 15 ...\n",
      "Processing 3 / 15 ...\n",
      "Processing 4 / 15 ...\n",
      "Processing 5 / 15 ...\n",
      "Processing 6 / 15 ...\n",
      "Processing 7 / 15 ...\n",
      "Processing 8 / 15 ...\n",
      "Processing 9 / 15 ...\n",
      "Processing 10 / 15 ...\n",
      "Processing 11 / 15 ...\n",
      "Processing 12 / 15 ...\n",
      "Processing 13 / 15 ...\n",
      "Processing 14 / 15 ...\n",
      "Processing 15 / 15 ...\n",
      "17 / 20 ...\n",
      "Processing 1 / 15 ...\n",
      "Processing 2 / 15 ...\n",
      "Processing 3 / 15 ...\n",
      "Processing 4 / 15 ...\n",
      "Processing 5 / 15 ...\n",
      "Processing 6 / 15 ...\n",
      "Processing 7 / 15 ...\n",
      "Processing 8 / 15 ...\n",
      "Processing 9 / 15 ...\n",
      "Processing 10 / 15 ...\n",
      "Processing 11 / 15 ...\n",
      "Processing 12 / 15 ...\n",
      "Processing 13 / 15 ...\n",
      "Processing 14 / 15 ...\n",
      "Processing 15 / 15 ...\n",
      "18 / 20 ...\n",
      "Processing 1 / 15 ...\n",
      "Processing 2 / 15 ...\n",
      "Processing 3 / 15 ...\n",
      "Processing 4 / 15 ...\n",
      "Processing 5 / 15 ...\n",
      "Processing 6 / 15 ...\n",
      "Processing 7 / 15 ...\n",
      "Processing 8 / 15 ...\n",
      "Processing 9 / 15 ...\n",
      "Processing 10 / 15 ...\n",
      "Processing 11 / 15 ...\n",
      "Processing 12 / 15 ...\n",
      "Processing 13 / 15 ...\n",
      "Processing 14 / 15 ...\n",
      "Processing 15 / 15 ...\n",
      "19 / 20 ...\n",
      "Processing 1 / 15 ...\n",
      "Processing 2 / 15 ...\n",
      "Processing 3 / 15 ...\n",
      "Processing 4 / 15 ...\n",
      "Processing 5 / 15 ...\n",
      "Processing 6 / 15 ...\n",
      "Processing 7 / 15 ...\n",
      "Processing 8 / 15 ...\n",
      "Processing 9 / 15 ...\n",
      "Processing 10 / 15 ...\n",
      "Processing 11 / 15 ...\n",
      "Processing 12 / 15 ...\n",
      "Processing 13 / 15 ...\n",
      "Processing 14 / 15 ...\n",
      "Processing 15 / 15 ...\n",
      "20 / 20 ...\n",
      "Processing 1 / 15 ...\n",
      "Processing 2 / 15 ...\n",
      "Processing 3 / 15 ...\n",
      "Processing 4 / 15 ...\n",
      "Processing 5 / 15 ...\n",
      "Processing 6 / 15 ...\n",
      "Processing 7 / 15 ...\n",
      "Processing 8 / 15 ...\n",
      "Processing 9 / 15 ...\n",
      "Processing 10 / 15 ...\n",
      "Processing 11 / 15 ...\n",
      "Processing 12 / 15 ...\n",
      "Processing 13 / 15 ...\n",
      "Processing 14 / 15 ...\n",
      "Processing 15 / 15 ...\n",
      "Time elapsed: -0.0005260122314708262\n"
     ]
    }
   ],
   "source": [
    "\n",
    "start = timeit.timeit()\n",
    "\n",
    "\n",
    "BestBidValues = Bootstrap(train_df,custRangeZoom,repeats=20)\n",
    "counts = np.bincount(BestBidValues)\n",
    "BestBidValue = np.argmax(counts)\n",
    "\n",
    "end = timeit.timeit()\n",
    "print(\"Time elapsed:\",end - start)"
   ]
  },
  {
   "cell_type": "code",
   "execution_count": 73,
   "metadata": {
    "collapsed": false
   },
   "outputs": [
    {
     "name": "stdout",
     "output_type": "stream",
     "text": [
      "BestBids: [79, 79, 79, 78, 71, 79, 79, 83, 78, 78, 79, 78, 74, 83, 78, 79, 75, 78, 77, 74]\n",
      "Optimal: 77\n",
      "counts: [0 0 0 0 0 0 0 0 0 0 0 0 0 0 0 0 0 0 0 0 0 0 0 0 0 0 0 0 0 0 0 0 0 0 0 0 0\n",
      " 0 0 0 0 0 0 0 0 0 0 0 0 0 0 0 0 0 0 0 0 0 0 0 0 0 0 0 0 0 0 0 0 0 0 1 0 0\n",
      " 2 1 0 1 6 7 0 0 0 2]\n",
      "BestBid 79\n"
     ]
    }
   ],
   "source": [
    "print(\"BestBids:\",BestBidValues)\n",
    "opt = int(sum(BestBidValues)/len(BestBidValues))\n",
    "print(\"Optimal:\",opt)\n",
    "print(\"counts:\",counts)\n",
    "print(\"BestBid\",BestBidValue)"
   ]
  },
  {
   "cell_type": "markdown",
   "metadata": {},
   "source": [
    "### Evaluate Strategy on Validation Set"
   ]
  },
  {
   "cell_type": "code",
   "execution_count": 70,
   "metadata": {
    "collapsed": false
   },
   "outputs": [
    {
     "ename": "NameError",
     "evalue": "name 'BestBid' is not defined",
     "output_type": "error",
     "traceback": [
      "\u001b[0;31m---------------------------------------------------------------------------\u001b[0m",
      "\u001b[0;31mNameError\u001b[0m                                 Traceback (most recent call last)",
      "\u001b[0;32m<ipython-input-70-0675c61a72c8>\u001b[0m in \u001b[0;36m<module>\u001b[0;34m()\u001b[0m\n\u001b[1;32m      1\u001b[0m \u001b[1;31m#BestBid = 278 #use this to save run time\u001b[0m\u001b[1;33m\u001b[0m\u001b[1;33m\u001b[0m\u001b[0m\n\u001b[0;32m----> 2\u001b[0;31m \u001b[0mCTR\u001b[0m \u001b[1;33m=\u001b[0m \u001b[0mEvalConstBid\u001b[0m\u001b[1;33m(\u001b[0m\u001b[0mvalidation_df\u001b[0m\u001b[1;33m,\u001b[0m\u001b[0mBestBid\u001b[0m\u001b[1;33m)\u001b[0m\u001b[1;33m[\u001b[0m\u001b[1;36m1\u001b[0m\u001b[1;33m]\u001b[0m\u001b[1;33m\u001b[0m\u001b[0m\n\u001b[0m",
      "\u001b[0;31mNameError\u001b[0m: name 'BestBid' is not defined"
     ]
    }
   ],
   "source": [
    "#BestBid = 278 #use this to save run time\n",
    "CTR = EvalConstBid(validation_df,BestBid)[1]"
   ]
  },
  {
   "cell_type": "code",
   "execution_count": null,
   "metadata": {
    "collapsed": true
   },
   "outputs": [],
   "source": [
    "print(\"Constant Bidding Value: \",BestBid)\n",
    "print(\"CTR: \",CTR)"
   ]
  },
  {
   "cell_type": "markdown",
   "metadata": {},
   "source": [
    "Compare this result to \"Q2TargetResults.ipynb\" to see that the model obtained is indeed the best constant bidding strategy."
   ]
  },
  {
   "cell_type": "code",
   "execution_count": null,
   "metadata": {
    "collapsed": true
   },
   "outputs": [],
   "source": []
  }
 ],
 "metadata": {
  "kernelspec": {
   "display_name": "Python 3",
   "language": "python",
   "name": "python3"
  },
  "language_info": {
   "codemirror_mode": {
    "name": "ipython",
    "version": 3
   },
   "file_extension": ".py",
   "mimetype": "text/x-python",
   "name": "python",
   "nbconvert_exporter": "python",
   "pygments_lexer": "ipython3",
   "version": "3.6.0"
  }
 },
 "nbformat": 4,
 "nbformat_minor": 2
}
