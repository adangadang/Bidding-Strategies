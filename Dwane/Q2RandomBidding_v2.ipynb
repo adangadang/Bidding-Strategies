{
 "cells": [
  {
   "cell_type": "code",
   "execution_count": 1,
   "metadata": {},
   "outputs": [],
   "source": [
    "import pandas as pd\n",
    "import numpy as np\n",
    "import matplotlib.pyplot as plt\n",
    "from random import randint    \n",
    "import seaborn as sns\n",
    "import datetime \n",
    "%matplotlib inline"
   ]
  },
  {
   "cell_type": "markdown",
   "metadata": {},
   "source": [
    "# Pull Data"
   ]
  },
  {
   "cell_type": "code",
   "execution_count": 2,
   "metadata": {},
   "outputs": [],
   "source": [
    "#path = \"C:/Users/Akis-/OneDrive/Masters/Web Economics/Data/\"\n",
    "path = \"C:/temp/kaggle/webeconomics/\"\n",
    "#test_df = pd.read_csv(path+'test.csv')\n",
    "train_df = pd.read_csv(path+'train.csv')\n",
    "validation_df = pd.read_csv(path+'validation.csv')\n",
    "#train_df = pd.read_csv(path+'validation.csv')"
   ]
  },
  {
   "cell_type": "code",
   "execution_count": 3,
   "metadata": {},
   "outputs": [],
   "source": [
    "#TotalImpressions = test_df.shape[0]\n",
    "#print(\"TotalImpressions:\",TotalImpressions)"
   ]
  },
  {
   "cell_type": "code",
   "execution_count": 65,
   "metadata": {},
   "outputs": [],
   "source": [
    "#budget=6250*1000\n",
    "#print(\"Our Budget is:\",budget, \"Fen\")\n",
    "#print(\"To use over\",test_df.shape[0],\"bid opportunities.\")\n",
    "#BudPerBid=budget/test_df.shape[0]\n",
    "#print(\"Budget / Bid Opportunity:\",BudPerBid)\n",
    "\n",
    "minBid=np.min(train_df[\"payprice\"].values)\n",
    "maxBid=np.max(train_df[\"payprice\"].values)\n",
    "\n",
    "step_size = 1\n",
    "custRange = np.arange(minBid+1, maxBid+5,step_size) # determines the range that bids should be in\n",
    "#custRange = np.arange(60, 65,1)\n",
    "\n",
    "minCustRange = np.arange(21, 91, step_size) # determines the range that bids should be in\n",
    "maxCustRange = np.arange(71, 161, step_size) # determines the range that bids should be in"
   ]
  },
  {
   "cell_type": "code",
   "execution_count": 66,
   "metadata": {},
   "outputs": [],
   "source": [
    "pd.set_option('display.max_columns', None)"
   ]
  },
  {
   "cell_type": "markdown",
   "metadata": {
    "collapsed": true
   },
   "source": [
    "# Functions"
   ]
  },
  {
   "cell_type": "markdown",
   "metadata": {},
   "source": [
    "### Plot Metrics for bound combination for random bidding strategy"
   ]
  },
  {
   "cell_type": "code",
   "execution_count": 116,
   "metadata": {},
   "outputs": [],
   "source": [
    "def plotResults(Matrix):\n",
    "\n",
    "    ax = sns.heatmap(Matrix, linewidth=0, xticklabels=minCustRange, yticklabels=maxCustRange[::-1], cmap=\"Greens\") #, annot=True\n",
    "    ax.set(xlabel='lower bound for random bid', ylabel='upper bound for random bid', title=\"Clicks by bounded random bids\")\n",
    "    for label in ax.xaxis.get_ticklabels()[::1]:\n",
    "        label.set_visible(False)\n",
    "    for label in ax.xaxis.get_ticklabels()[::5]:\n",
    "        label.set_visible(True)\n",
    "    for label in ax.yaxis.get_ticklabels()[::1]:\n",
    "        label.set_visible(False)\n",
    "    for label in ax.yaxis.get_ticklabels()[::5]:\n",
    "        label.set_visible(True)\n",
    "        \n",
    "#     for label in ax.xaxis.get_ticklabels()[::2]:\n",
    "#         label.set_visible(False)    \n",
    "#     for label in ax.yaxis.get_ticklabels()[::2]:\n",
    "#         label.set_visible(False)    \n",
    "        \n",
    "        \n",
    "    plt.savefig('RandomBidResults.png')\n",
    "    plt.show()\n",
    "    \n",
    "    useless = 0\n",
    "    return useless"
   ]
  },
  {
   "cell_type": "markdown",
   "metadata": {},
   "source": [
    "### Build Matrix containing CTR for various bound combinations"
   ]
  },
  {
   "cell_type": "code",
   "execution_count": 68,
   "metadata": {},
   "outputs": [],
   "source": [
    "def BuildCTRMatrix(dataframe,plot,repeats):\n",
    "    #lastInRange = custRange[len(custRange)-1:][0]+1\n",
    "    for n in range(0,repeats,1):\n",
    "        dataSubset = dataframe.sample(frac=0.5, replace=False)\n",
    "        print(n+1,\"/\",repeats,\"...\")\n",
    "        \n",
    "        for minimumBid in minCustRange:\n",
    "            print('counting clicks',minimumBid,datetime.datetime.now().time())        \n",
    "            for maximumBid in maxCustRange: #maxBid>minBid?????\n",
    "                if maximumBid>minimumBid:\n",
    "                    Clicks = EvalRandBidClicksOnly(dataSubset,minimumBid, maximumBid,6250000,validation_df.shape[0])\n",
    "                    CTRMatrix[minimumBid][maximumBid]=(CTRMatrix[minimumBid][maximumBid]*n+Clicks)/(n+1)\n",
    "        CTRMatrix.to_csv(\"RandomBidResults.csv\")\n",
    "    return CTRMatrix"
   ]
  },
  {
   "cell_type": "markdown",
   "metadata": {},
   "source": [
    "### Extract best Bounds from Results Matrix"
   ]
  },
  {
   "cell_type": "code",
   "execution_count": 69,
   "metadata": {},
   "outputs": [],
   "source": [
    "def FindBestBounds(ResultsMatrix):\n",
    "    print(\"Best CTR is:\",ResultsMatrix.values.max())\n",
    "    for x in minCustRange:\n",
    "        for y in maxCustRange:\n",
    "            if ResultsMatrix[x][y]==ResultsMatrix.values.max():\n",
    "                print(\"X:\",x,\"Y:\",y)\n",
    "                lowerBound=x\n",
    "                upperBound=y\n",
    "    return lowerBound, upperBound"
   ]
  },
  {
   "cell_type": "markdown",
   "metadata": {},
   "source": [
    "### Evaluate a random bid value on a new set"
   ]
  },
  {
   "cell_type": "code",
   "execution_count": 70,
   "metadata": {},
   "outputs": [],
   "source": [
    "#def EvalRandBid(dataframe,lowerBound, upperBound):\n",
    "#    \n",
    "#    dataframe['ConstBid'] = np.random.randint(lowerBound, upperBound+1, dataframe.shape[0])\n",
    "#\n",
    "#    trueValues = (dataframe[\"payprice\"]<dataframe['ConstBid'])\n",
    "#    impressions = dataframe[trueValues].shape[0]\n",
    "#    clicks = np.sum(dataframe[trueValues][\"click\"].values)\n",
    "#    ClickThroughRate=(clicks*100)/impressions\n",
    "#        \n",
    "#    return ClickThroughRate"
   ]
  },
  {
   "cell_type": "code",
   "execution_count": 71,
   "metadata": {},
   "outputs": [],
   "source": [
    "def EvalRandBidClicksOnly(dataframe,lowerBound, upperBound,budget,size):\n",
    "    \n",
    "    AdjustedBudget=(budget/size)*dataframe.shape[0]\n",
    "    #print(\"AdjustedBudget is:\",AdjustedBudget)\n",
    "    tempData=dataframe\n",
    "    #tempData['ConstBid']=constant\n",
    "    tempData['ConstBid'] = np.random.randint(lowerBound, upperBound+1, dataframe.shape[0])\n",
    "\n",
    "    tempData['trueValues'] = np.where(tempData[\"payprice\"]<tempData['ConstBid'],1,0)\n",
    "    tempData['ModelPays'] = tempData['trueValues']*tempData['payprice']\n",
    "    tempData['cumsum'] = tempData['ModelPays'].cumsum()\n",
    "    lastRowToInclude = np.argmax(tempData['cumsum'].as_matrix()>AdjustedBudget)\n",
    "    if lastRowToInclude==0:\n",
    "        lastRowToInclude=tempData.shape[0]\n",
    "    #print(\"lastRowToInclude\",lastRowToInclude)\n",
    "    \n",
    "    shortData = tempData.head(lastRowToInclude)\n",
    "    trueValues = (0<shortData['ModelPays'])\n",
    "    ##impressions = shortData[trueValues].shape[0]\n",
    "    clicks = np.sum(shortData[trueValues][\"click\"].values)\n",
    "    ##spend = np.sum(shortData[trueValues][\"payprice\"].values)\n",
    "    ##CostPerClick = spend/clicks\n",
    "    ##CostPerMille = spend*1000/(impressions)\n",
    "    ##ClickThroughRate=(clicks*100)/impressions\n",
    "    #print(constant, ClickThroughRate, clicks, spend, CostPerMille, CostPerClick, impressions)\n",
    "    #return [ClickThroughRate, clicks, spend, CostPerMille, CostPerClick, impressions]\n",
    "    return clicks\n",
    "\n",
    "\n",
    "    #impressions = shortData.loc[shortData['ModelPays'] > 0].sum()\n",
    "    #clicks = shortData.loc[shortData['ModelPays'] > 0 , 'click'].sum()\n",
    "    #print(\"clicks:\",clicks)"
   ]
  },
  {
   "cell_type": "code",
   "execution_count": 72,
   "metadata": {},
   "outputs": [],
   "source": [
    "def EvalRandBid(dataframe,lowerBound, upperBound,budget,size):\n",
    "    \n",
    "    AdjustedBudget=(budget/size)*dataframe.shape[0]\n",
    "    #print(\"AdjustedBudget is:\",AdjustedBudget)\n",
    "    tempData=dataframe\n",
    "    #tempData['ConstBid']=constant\n",
    "    tempData['ConstBid'] = np.random.randint(lowerBound, upperBound+1, dataframe.shape[0])\n",
    "\n",
    "    tempData['trueValues'] = np.where(tempData[\"payprice\"]<tempData['ConstBid'],1,0)\n",
    "    tempData['ModelPays'] = tempData['trueValues']*tempData['payprice']\n",
    "    tempData['cumsum'] = tempData['ModelPays'].cumsum()\n",
    "    lastRowToInclude = np.argmax(tempData['cumsum'].as_matrix()>AdjustedBudget)\n",
    "    if lastRowToInclude==0:\n",
    "        lastRowToInclude=tempData.shape[0]\n",
    "    #print(\"lastRowToInclude\",lastRowToInclude)\n",
    "    \n",
    "    shortData = tempData.head(lastRowToInclude).copy(True)\n",
    "    trueValues = (0<shortData['ModelPays'])\n",
    "    impressions = shortData[trueValues].shape[0]\n",
    "    clicks = np.sum(shortData[trueValues][\"click\"].values)\n",
    "    spend = np.sum(shortData[trueValues][\"payprice\"].values)\n",
    "    CostPerClick = spend/clicks\n",
    "    CostPerMille = spend*1000/(impressions)\n",
    "    ClickThroughRate=(clicks*100)/impressions\n",
    "    #print(constant, ClickThroughRate, clicks, spend, CostPerMille, CostPerClick, impressions)\n",
    "    return [ClickThroughRate, clicks, spend, CostPerMille, CostPerClick, impressions]\n",
    "    #return clicks\n",
    "\n",
    "\n",
    "    #impressions = shortData.loc[shortData['ModelPays'] > 0].sum()\n",
    "    #clicks = shortData.loc[shortData['ModelPays'] > 0 , 'click'].sum()\n",
    "    #print(\"clicks:\",clicks)"
   ]
  },
  {
   "cell_type": "markdown",
   "metadata": {},
   "source": [
    "# Main Code"
   ]
  },
  {
   "cell_type": "markdown",
   "metadata": {},
   "source": [
    "### Determine Best Bounds Combination from Train Set"
   ]
  },
  {
   "cell_type": "code",
   "execution_count": 73,
   "metadata": {},
   "outputs": [],
   "source": [
    "zero_data = np.zeros(shape=(len(custRange),len(custRange)))\n",
    "zero_data[zero_data < 1] = 0.0\n",
    "CTRMatrix=pd.DataFrame(zero_data,index=reversed(custRange), columns=custRange)"
   ]
  },
  {
   "cell_type": "code",
   "execution_count": 74,
   "metadata": {
    "scrolled": true
   },
   "outputs": [
    {
     "name": "stdout",
     "output_type": "stream",
     "text": [
      "1 / 5 ...\n",
      "counting clicks 21 21:09:31.473298\n",
      "counting clicks 22 21:10:29.633624\n",
      "counting clicks 23 21:11:29.517049\n",
      "counting clicks 24 21:12:28.604429\n",
      "counting clicks 25 21:13:28.335845\n",
      "counting clicks 26 21:14:27.811247\n",
      "counting clicks 27 21:15:27.011633\n",
      "counting clicks 28 21:16:23.846884\n",
      "counting clicks 29 21:17:22.875260\n",
      "counting clicks 30 21:18:22.521672\n",
      "counting clicks 31 21:19:21.188027\n",
      "counting clicks 32 21:20:21.096454\n",
      "counting clicks 33 21:21:20.430848\n",
      "counting clicks 34 21:22:21.279328\n",
      "counting clicks 35 21:23:20.764730\n",
      "counting clicks 36 21:24:19.738104\n",
      "counting clicks 37 21:25:19.113500\n",
      "counting clicks 38 21:26:18.363889\n",
      "counting clicks 39 21:27:17.180253\n",
      "counting clicks 40 21:28:16.158626\n",
      "counting clicks 41 21:29:14.912987\n",
      "counting clicks 42 21:30:15.275439\n",
      "counting clicks 43 21:31:13.135749\n",
      "counting clicks 44 21:32:11.311076\n",
      "counting clicks 45 21:33:10.788478\n",
      "counting clicks 46 21:34:08.597784\n",
      "counting clicks 47 21:35:07.443150\n",
      "counting clicks 48 21:36:06.750542\n",
      "counting clicks 49 21:37:05.449900\n",
      "counting clicks 50 21:38:03.097197\n",
      "counting clicks 51 21:39:01.592543\n",
      "counting clicks 52 21:40:00.418907\n",
      "counting clicks 53 21:40:58.915253\n",
      "counting clicks 54 21:41:57.591609\n",
      "counting clicks 55 21:42:54.451861\n",
      "counting clicks 56 21:43:52.769197\n",
      "counting clicks 57 21:44:50.190481\n",
      "counting clicks 58 21:45:45.974672\n",
      "counting clicks 59 21:46:42.389899\n",
      "counting clicks 60 21:47:38.592113\n",
      "counting clicks 61 21:48:36.324415\n",
      "counting clicks 62 21:49:32.888651\n",
      "counting clicks 63 21:50:28.947857\n",
      "counting clicks 64 21:51:25.708104\n",
      "counting clicks 65 21:52:22.737366\n",
      "counting clicks 66 21:53:18.151535\n",
      "counting clicks 67 21:54:14.339749\n",
      "counting clicks 68 21:55:09.973931\n",
      "counting clicks 69 21:56:05.186089\n",
      "counting clicks 70 21:56:58.583143\n",
      "counting clicks 71 21:57:53.385278\n",
      "counting clicks 72 21:58:45.993287\n",
      "counting clicks 73 21:59:37.867254\n",
      "counting clicks 74 22:00:29.679217\n",
      "counting clicks 75 22:01:21.192163\n",
      "counting clicks 76 22:02:10.228968\n",
      "counting clicks 77 22:02:58.139708\n",
      "counting clicks 78 22:03:44.967387\n",
      "counting clicks 79 22:04:29.566938\n",
      "counting clicks 80 22:05:13.717463\n",
      "counting clicks 81 22:05:57.984995\n",
      "counting clicks 82 22:06:42.047515\n",
      "counting clicks 83 22:07:25.458998\n",
      "counting clicks 84 22:08:07.967430\n",
      "counting clicks 85 22:08:49.946831\n",
      "counting clicks 86 22:09:31.534209\n",
      "counting clicks 87 22:10:12.336543\n",
      "counting clicks 88 22:10:52.323830\n",
      "counting clicks 89 22:11:30.839033\n",
      "counting clicks 90 22:12:09.290233\n",
      "2 / 5 ...\n",
      "counting clicks 21 22:12:50.086566\n",
      "counting clicks 22 22:13:49.154944\n",
      "counting clicks 23 22:14:48.926363\n",
      "counting clicks 24 22:15:47.106691\n",
      "counting clicks 25 22:16:47.278133\n",
      "counting clicks 26 22:17:46.388513\n",
      "counting clicks 27 22:18:46.811969\n",
      "counting clicks 28 22:19:46.651392\n",
      "counting clicks 29 22:20:46.772831\n",
      "counting clicks 30 22:21:46.910270\n",
      "counting clicks 31 22:22:46.253665\n",
      "counting clicks 32 22:23:46.055085\n",
      "counting clicks 33 22:24:45.383479\n",
      "counting clicks 34 22:25:44.423855\n",
      "counting clicks 35 22:26:44.183274\n",
      "counting clicks 36 22:27:44.767739\n",
      "counting clicks 37 22:28:44.974182\n",
      "counting clicks 38 22:29:44.383580\n",
      "counting clicks 39 22:30:44.572023\n",
      "counting clicks 40 22:31:43.989421\n",
      "counting clicks 41 22:32:43.423821\n",
      "counting clicks 42 22:33:43.620264\n",
      "counting clicks 43 22:34:41.626582\n",
      "counting clicks 44 22:35:41.210990\n",
      "counting clicks 45 22:36:40.472379\n",
      "counting clicks 46 22:37:39.132734\n",
      "counting clicks 47 22:38:36.829035\n",
      "counting clicks 48 22:39:36.480446\n",
      "counting clicks 49 22:40:34.808783\n",
      "counting clicks 50 22:41:33.159120\n",
      "counting clicks 51 22:42:30.224384\n",
      "counting clicks 52 22:43:28.596723\n",
      "counting clicks 53 22:44:26.033008\n",
      "counting clicks 54 22:45:22.422233\n",
      "counting clicks 55 22:46:19.954524\n",
      "counting clicks 56 22:47:18.302861\n",
      "counting clicks 57 22:48:15.458130\n",
      "counting clicks 58 22:49:13.714462\n",
      "counting clicks 59 22:50:09.543656\n",
      "counting clicks 60 22:51:06.292901\n",
      "counting clicks 61 22:52:02.730129\n",
      "counting clicks 62 22:52:59.818395\n",
      "counting clicks 63 22:53:54.362514\n",
      "counting clicks 64 22:54:50.519726\n",
      "counting clicks 65 22:55:44.992842\n",
      "counting clicks 66 22:56:40.718029\n",
      "counting clicks 67 22:57:36.875241\n",
      "counting clicks 68 22:58:32.303412\n",
      "counting clicks 69 22:59:26.750526\n",
      "counting clicks 70 23:00:20.865621\n",
      "counting clicks 71 23:01:15.756761\n",
      "counting clicks 72 23:02:09.509835\n",
      "counting clicks 73 23:03:00.714764\n",
      "counting clicks 74 23:03:53.377776\n",
      "counting clicks 75 23:04:43.827662\n",
      "counting clicks 76 23:05:33.458500\n",
      "counting clicks 77 23:06:21.643256\n",
      "counting clicks 78 23:07:09.638002\n",
      "counting clicks 79 23:07:56.576686\n",
      "counting clicks 80 23:08:43.035344\n",
      "counting clicks 81 23:09:28.955970\n",
      "counting clicks 82 23:10:13.234503\n",
      "counting clicks 83 23:10:57.630042\n",
      "counting clicks 84 23:11:38.865401\n",
      "counting clicks 85 23:12:20.929806\n",
      "counting clicks 86 23:13:03.088218\n",
      "counting clicks 87 23:13:42.897495\n",
      "counting clicks 88 23:14:22.826779\n",
      "counting clicks 89 23:15:02.802065\n",
      "counting clicks 90 23:15:41.940304\n",
      "3 / 5 ...\n",
      "counting clicks 21 23:16:23.037654\n",
      "counting clicks 22 23:17:22.154036\n",
      "counting clicks 23 23:18:22.444484\n",
      "counting clicks 24 23:19:21.639870\n",
      "counting clicks 25 23:20:21.404288\n",
      "counting clicks 26 23:21:21.682736\n",
      "counting clicks 27 23:22:21.473156\n",
      "counting clicks 28 23:23:21.656598\n",
      "counting clicks 29 23:24:22.048052\n",
      "counting clicks 30 23:25:20.198378\n",
      "counting clicks 31 23:26:18.573717\n",
      "counting clicks 32 23:27:17.285075\n",
      "counting clicks 33 23:28:17.297508\n",
      "counting clicks 34 23:29:16.685904\n",
      "counting clicks 35 23:30:16.300314\n",
      "counting clicks 36 23:31:15.574704\n",
      "counting clicks 37 23:32:15.042106\n",
      "counting clicks 38 23:33:14.467505\n",
      "counting clicks 39 23:34:14.259925\n",
      "counting clicks 40 23:35:12.968283\n",
      "counting clicks 41 23:36:11.610637\n",
      "counting clicks 42 23:37:10.515006\n",
      "counting clicks 43 23:38:09.547382\n",
      "counting clicks 44 23:39:08.310743\n",
      "counting clicks 45 23:40:07.036102\n",
      "counting clicks 46 23:41:06.344495\n",
      "counting clicks 47 23:42:05.290866\n",
      "counting clicks 48 23:43:03.660205\n",
      "counting clicks 49 23:44:03.266614\n",
      "counting clicks 50 23:45:01.301933\n",
      "counting clicks 51 23:45:58.790221\n",
      "counting clicks 52 23:46:57.007551\n",
      "counting clicks 53 23:47:55.810915\n",
      "counting clicks 54 23:48:54.182253\n",
      "counting clicks 55 23:49:53.163627\n",
      "counting clicks 56 23:50:50.614913\n",
      "counting clicks 57 23:51:48.808241\n",
      "counting clicks 58 23:52:47.097575\n",
      "counting clicks 59 23:53:44.824877\n",
      "counting clicks 60 23:54:42.303165\n",
      "counting clicks 61 23:55:39.466434\n",
      "counting clicks 62 23:56:36.465694\n",
      "counting clicks 63 23:57:33.501957\n",
      "counting clicks 64 23:58:29.096137\n",
      "counting clicks 65 23:59:26.076396\n",
      "counting clicks 66 00:00:21.873587\n",
      "counting clicks 67 00:01:17.888791\n",
      "counting clicks 68 00:02:13.382965\n",
      "counting clicks 69 00:03:08.759132\n",
      "counting clicks 70 00:04:03.175245\n",
      "counting clicks 71 00:04:57.410347\n",
      "counting clicks 72 00:05:50.280371\n",
      "counting clicks 73 00:06:41.988328\n",
      "counting clicks 74 00:07:33.757289\n",
      "counting clicks 75 00:08:24.484191\n",
      "counting clicks 76 00:09:12.669947\n",
      "counting clicks 77 00:09:58.981596\n",
      "counting clicks 78 00:10:46.776329\n",
      "counting clicks 79 00:11:33.309991\n",
      "counting clicks 80 00:12:19.101610\n",
      "counting clicks 81 00:13:04.188189\n",
      "counting clicks 82 00:13:47.881688\n",
      "counting clicks 83 00:14:30.552129\n",
      "counting clicks 84 00:15:12.011500\n",
      "counting clicks 85 00:15:53.470871\n",
      "counting clicks 86 00:16:35.380268\n",
      "counting clicks 87 00:17:16.003592\n",
      "counting clicks 88 00:17:55.959877\n",
      "counting clicks 89 00:18:35.261125\n",
      "counting clicks 90 00:19:13.148292\n",
      "4 / 5 ...\n",
      "counting clicks 21 00:19:53.760615\n",
      "counting clicks 22 00:20:52.777991\n",
      "counting clicks 23 00:21:52.098384\n",
      "counting clicks 24 00:22:51.015754\n",
      "counting clicks 25 00:23:49.696110\n",
      "counting clicks 26 00:24:48.161454\n",
      "counting clicks 27 00:25:46.567795\n",
      "counting clicks 28 00:26:46.092199\n",
      "counting clicks 29 00:27:45.050571\n",
      "counting clicks 30 00:28:44.392966\n",
      "counting clicks 31 00:29:43.581351\n",
      "counting clicks 32 00:30:40.585611\n",
      "counting clicks 33 00:31:38.338915\n",
      "counting clicks 34 00:32:37.771314\n",
      "counting clicks 35 00:33:36.767688\n",
      "counting clicks 36 00:34:35.765063\n",
      "counting clicks 37 00:35:34.020395\n",
      "counting clicks 38 00:36:32.640748\n",
      "counting clicks 39 00:37:31.121093\n",
      "counting clicks 40 00:38:30.266476\n",
      "counting clicks 41 00:39:30.279908\n",
      "counting clicks 42 00:40:29.820314\n",
      "counting clicks 43 00:41:27.136592\n"
     ]
    },
    {
     "name": "stdout",
     "output_type": "stream",
     "text": [
      "counting clicks 44 00:42:26.621994\n",
      "counting clicks 45 00:43:25.042336\n",
      "counting clicks 46 00:44:23.319669\n",
      "counting clicks 47 00:45:21.458994\n",
      "counting clicks 48 00:46:19.650323\n",
      "counting clicks 49 00:47:17.357624\n",
      "counting clicks 50 00:48:16.337997\n",
      "counting clicks 51 00:49:14.399318\n",
      "counting clicks 52 00:50:13.274685\n",
      "counting clicks 53 00:51:10.989987\n",
      "counting clicks 54 00:52:08.464274\n",
      "counting clicks 55 00:53:06.915617\n",
      "counting clicks 56 00:54:04.214894\n",
      "counting clicks 57 00:55:01.405166\n",
      "counting clicks 58 00:55:57.827393\n",
      "counting clicks 59 00:56:54.968661\n",
      "counting clicks 60 00:57:51.355886\n",
      "counting clicks 61 00:58:48.235139\n",
      "counting clicks 62 00:59:45.724428\n",
      "counting clicks 63 01:00:42.636683\n",
      "counting clicks 64 01:01:39.124914\n",
      "counting clicks 65 01:02:34.630088\n",
      "counting clicks 66 01:03:30.263271\n",
      "counting clicks 67 01:04:25.747444\n",
      "counting clicks 68 01:05:20.851596\n",
      "counting clicks 69 01:06:13.950633\n",
      "counting clicks 70 01:07:08.548756\n",
      "counting clicks 71 01:08:02.744856\n",
      "counting clicks 72 01:08:56.630938\n",
      "counting clicks 73 01:09:48.471903\n",
      "counting clicks 74 01:10:40.332869\n",
      "counting clicks 75 01:11:31.076771\n",
      "counting clicks 76 01:12:20.685609\n",
      "counting clicks 77 01:13:08.471342\n",
      "counting clicks 78 01:13:55.002004\n",
      "counting clicks 79 01:14:41.861684\n",
      "counting clicks 80 01:15:27.789311\n",
      "counting clicks 81 01:16:13.144905\n",
      "counting clicks 82 01:16:57.200425\n",
      "counting clicks 83 01:17:41.581963\n",
      "counting clicks 84 01:18:24.690429\n",
      "counting clicks 85 01:19:05.729776\n",
      "counting clicks 86 01:19:47.164146\n",
      "counting clicks 87 01:20:28.163491\n",
      "counting clicks 88 01:21:06.286672\n",
      "counting clicks 89 01:21:45.629922\n",
      "counting clicks 90 01:22:23.614094\n",
      "5 / 5 ...\n",
      "counting clicks 21 01:23:04.737447\n",
      "counting clicks 22 01:24:03.846827\n",
      "counting clicks 23 01:25:02.982210\n",
      "counting clicks 24 01:26:02.920638\n",
      "counting clicks 25 01:27:00.931956\n",
      "counting clicks 26 01:27:59.767321\n",
      "counting clicks 27 01:28:59.617745\n",
      "counting clicks 28 01:29:58.086089\n",
      "counting clicks 29 01:30:58.410539\n",
      "counting clicks 30 01:31:57.879941\n",
      "counting clicks 31 01:32:57.278338\n",
      "counting clicks 32 01:33:56.261712\n",
      "counting clicks 33 01:34:56.485156\n",
      "counting clicks 34 01:35:56.833608\n",
      "counting clicks 35 01:36:55.024936\n",
      "counting clicks 36 01:37:55.081371\n",
      "counting clicks 37 01:38:55.444824\n",
      "counting clicks 38 01:39:55.596264\n",
      "counting clicks 39 01:40:55.147671\n",
      "counting clicks 40 01:41:53.815026\n",
      "counting clicks 41 01:42:53.384433\n",
      "counting clicks 42 01:43:53.033845\n",
      "counting clicks 43 01:44:52.443243\n",
      "counting clicks 44 01:45:51.900644\n",
      "counting clicks 45 01:46:50.643004\n",
      "counting clicks 46 01:47:49.985398\n",
      "counting clicks 47 01:48:48.915769\n",
      "counting clicks 48 01:49:48.505177\n",
      "counting clicks 49 01:50:47.624558\n",
      "counting clicks 50 01:51:45.757883\n",
      "counting clicks 51 01:52:44.887265\n",
      "counting clicks 52 01:53:43.112596\n",
      "counting clicks 53 01:54:41.546938\n",
      "counting clicks 54 01:55:38.663205\n",
      "counting clicks 55 01:56:37.102547\n",
      "counting clicks 56 01:57:35.175869\n",
      "counting clicks 57 01:58:33.662214\n",
      "counting clicks 58 01:59:30.004437\n",
      "counting clicks 59 02:00:27.871747\n",
      "counting clicks 60 02:01:24.059960\n",
      "counting clicks 61 02:02:21.347237\n",
      "counting clicks 62 02:03:17.786465\n",
      "counting clicks 63 02:04:14.623716\n",
      "counting clicks 64 02:05:11.128948\n",
      "counting clicks 65 02:06:07.043146\n",
      "counting clicks 66 02:07:01.632268\n",
      "counting clicks 67 02:07:57.159444\n",
      "counting clicks 68 02:08:52.301598\n",
      "counting clicks 69 02:09:47.785772\n",
      "counting clicks 70 02:10:42.828920\n",
      "counting clicks 71 02:11:37.528049\n",
      "counting clicks 72 02:12:30.940104\n",
      "counting clicks 73 02:13:22.103030\n",
      "counting clicks 74 02:14:13.997998\n",
      "counting clicks 75 02:15:05.132923\n",
      "counting clicks 76 02:15:54.322737\n",
      "counting clicks 77 02:16:42.759507\n",
      "counting clicks 78 02:17:30.577242\n",
      "counting clicks 79 02:18:17.628933\n",
      "counting clicks 80 02:19:03.450554\n",
      "counting clicks 81 02:19:48.151111\n",
      "counting clicks 82 02:20:32.254633\n",
      "counting clicks 83 02:21:15.881129\n",
      "counting clicks 84 02:21:58.398560\n",
      "counting clicks 85 02:22:40.174950\n",
      "counting clicks 86 02:23:21.513314\n",
      "counting clicks 87 02:24:02.148639\n",
      "counting clicks 88 02:24:42.135926\n",
      "counting clicks 89 02:25:21.740191\n",
      "counting clicks 90 02:25:59.298339\n"
     ]
    }
   ],
   "source": [
    "CTRMatrix =  BuildCTRMatrix(train_df,plot=False,repeats=5)\n",
    "#CTRMatrix.to_pickle(\"CTRMatrix.pkl\")"
   ]
  },
  {
   "cell_type": "code",
   "execution_count": 75,
   "metadata": {},
   "outputs": [],
   "source": [
    "CTRMatrix.to_csv(\"RandomBidResults.csv\")"
   ]
  },
  {
   "cell_type": "code",
   "execution_count": 52,
   "metadata": {},
   "outputs": [],
   "source": [
    "#CTRMatrix = pd.read_pickle(\"CTRMatrix.pkl\")"
   ]
  },
  {
   "cell_type": "code",
   "execution_count": 76,
   "metadata": {},
   "outputs": [
    {
     "data": {
      "image/png": "[encoded data removed]",
      "text/plain": [
       "<matplotlib.figure.Figure at 0x6c119898>"
      ]
     },
     "metadata": {},
     "output_type": "display_data"
    },
    {
     "data": {
      "text/plain": [
       "0"
      ]
     },
     "execution_count": 76,
     "metadata": {},
     "output_type": "execute_result"
    }
   ],
   "source": [
    "plotResults(CTRMatrix)"
   ]
  },
  {
   "cell_type": "code",
   "execution_count": 117,
   "metadata": {},
   "outputs": [
    {
     "name": "stdout",
     "output_type": "stream",
     "text": [
      "[21 22 23 24 25 26 27 28 29 30 31 32 33 34 35 36 37 38 39 40 41 42 43 44 45\n",
      " 46 47 48 49 50 51 52 53 54 55 56 57 58 59 60 61 62 63 64 65 66 67 68 69 70\n",
      " 71 72 73 74 75 76 77 78 79 80 81 82 83 84 85 86 87 88 89 90]\n",
      "[ 71  72  73  74  75  76  77  78  79  80  81  82  83  84  85  86  87  88\n",
      "  89  90  91  92  93  94  95  96  97  98  99 100 101 102 103 104 105 106\n",
      " 107 108 109 110 111 112 113 114 115 116 117 118 119 120 121 122 123 124\n",
      " 125 126 127 128 129 130 131 132 133 134 135 136 137 138 139 140 141 142\n",
      " 143 144 145 146 147 148 149 150 151 152 153 154 155 156 157 158 159 160]\n"
     ]
    },
    {
     "data": {
      "image/png": "[encoded data removed]",
      "text/plain": [
       "<matplotlib.figure.Figure at 0xdfe4d30>"
      ]
     },
     "metadata": {},
     "output_type": "display_data"
    },
    {
     "data": {
      "text/plain": [
       "0"
      ]
     },
     "execution_count": 117,
     "metadata": {},
     "output_type": "execute_result"
    }
   ],
   "source": [
    "#CTRMatrix\n",
    "\n",
    "print(minCustRange)\n",
    "\n",
    "print(maxCustRange)\n",
    "\n",
    "t = CTRMatrix.iloc[(304-160):(304-70),20:90]\n",
    "\n",
    "plotResults(t)"
   ]
  },
  {
   "cell_type": "code",
   "execution_count": null,
   "metadata": {},
   "outputs": [],
   "source": [
    ""
   ]
  },
  {
   "cell_type": "code",
   "execution_count": 118,
   "metadata": {},
   "outputs": [
    {
     "name": "stdout",
     "output_type": "stream",
     "text": [
      "Best CTR is: 322.0\n",
      "X: 30 Y: 115\n"
     ]
    }
   ],
   "source": [
    "lowBound, upBound = FindBestBounds(t)"
   ]
  },
  {
   "cell_type": "markdown",
   "metadata": {},
   "source": [
    "### Evalute on a new data set (validation set)"
   ]
  },
  {
   "cell_type": "code",
   "execution_count": 87,
   "metadata": {},
   "outputs": [],
   "source": [
    "result = EvalRandBid(validation_df,lowBound, upBound,6250000,validation_df.shape[0])"
   ]
  },
  {
   "cell_type": "code",
   "execution_count": 89,
   "metadata": {},
   "outputs": [
    {
     "name": "stdout",
     "output_type": "stream",
     "text": [
      "ClickThroughRate 0.05011735814699421\n",
      "clicks 60\n",
      "spend 6249903\n",
      "CostPerMille 52204.771172495595\n",
      "CostPerClick 104165.05\n",
      "impressions 119719\n"
     ]
    }
   ],
   "source": [
    "#constant = result[0]\n",
    "ClickThroughRate = result[0]\n",
    "clicks = result[1]\n",
    "spend = result[2]\n",
    "CostPerMille = result[3]\n",
    "CostPerClick = result[4]\n",
    "impressions = result[5]\n",
    "\n",
    "#print(\"constant\",constant)\n",
    "print(\"ClickThroughRate\",ClickThroughRate)\n",
    "print(\"clicks\",clicks)\n",
    "print(\"spend\",spend)\n",
    "print(\"CostPerMille\",CostPerMille)\n",
    "print(\"CostPerClick\",CostPerClick)\n",
    "print(\"impressions\",impressions)"
   ]
  },
  {
   "cell_type": "code",
   "execution_count": null,
   "metadata": {},
   "outputs": [],
   "source": [
    ""
   ]
  }
 ],
 "metadata": {
  "kernelspec": {
   "display_name": "Python 3",
   "language": "python",
   "name": "python3"
  },
  "language_info": {
   "codemirror_mode": {
    "name": "ipython",
    "version": 3.0
   },
   "file_extension": ".py",
   "mimetype": "text/x-python",
   "name": "python",
   "nbconvert_exporter": "python",
   "pygments_lexer": "ipython3",
   "version": "3.6.2"
  }
 },
 "nbformat": 4,
 "nbformat_minor": 0
}