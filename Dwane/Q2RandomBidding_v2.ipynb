{
 "cells": [
  {
   "cell_type": "code",
   "execution_count": 1,
   "metadata": {},
   "outputs": [],
   "source": [
    "import pandas as pd\n",
    "import numpy as np\n",
    "import matplotlib.pyplot as plt\n",
    "from random import randint    \n",
    "import seaborn as sns\n",
    "import datetime \n",
    "%matplotlib inline"
   ]
  },
  {
   "cell_type": "markdown",
   "metadata": {},
   "source": [
    "# Pull Data"
   ]
  },
  {
   "cell_type": "code",
   "execution_count": 2,
   "metadata": {},
   "outputs": [],
   "source": [
    "path = \"C:/Users/Akis-/OneDrive/Masters/Web Economics/Data/\"\n",
    "#path = \"C:/temp/kaggle/webeconomics/\"\n",
    "#test_df = pd.read_csv(path+'test.csv')\n",
    "#train_df = pd.read_csv(path+'train.csv')\n",
    "validation_df = pd.read_csv(path+'validation.csv')\n",
    "#train_df = pd.read_csv(path+'validation.csv')"
   ]
  },
  {
   "cell_type": "code",
   "execution_count": 3,
   "metadata": {},
   "outputs": [],
   "source": [
    "#TotalImpressions = test_df.shape[0]\n",
    "#print(\"TotalImpressions:\",TotalImpressions)"
   ]
  },
  {
   "cell_type": "code",
   "execution_count": 4,
   "metadata": {},
   "outputs": [
    {
     "ename": "NameError",
     "evalue": "name 'train_df' is not defined",
     "output_type": "error",
     "traceback": [
      "\u001b[1;31m---------------------------------------------------------------------------\u001b[0m",
      "\u001b[1;31mNameError\u001b[0m                                 Traceback (most recent call last)",
      "\u001b[1;32m<ipython-input-4-25ab1b7d4e02>\u001b[0m in \u001b[0;36m<module>\u001b[1;34m()\u001b[0m\n\u001b[0;32m      5\u001b[0m \u001b[1;31m#print(\"Budget / Bid Opportunity:\",BudPerBid)\u001b[0m\u001b[1;33m\u001b[0m\u001b[1;33m\u001b[0m\u001b[0m\n\u001b[0;32m      6\u001b[0m \u001b[1;33m\u001b[0m\u001b[0m\n\u001b[1;32m----> 7\u001b[1;33m \u001b[0mminBid\u001b[0m\u001b[1;33m=\u001b[0m\u001b[0mnp\u001b[0m\u001b[1;33m.\u001b[0m\u001b[0mmin\u001b[0m\u001b[1;33m(\u001b[0m\u001b[0mtrain_df\u001b[0m\u001b[1;33m[\u001b[0m\u001b[1;34m\"payprice\"\u001b[0m\u001b[1;33m]\u001b[0m\u001b[1;33m.\u001b[0m\u001b[0mvalues\u001b[0m\u001b[1;33m)\u001b[0m\u001b[1;33m\u001b[0m\u001b[0m\n\u001b[0m\u001b[0;32m      8\u001b[0m \u001b[0mmaxBid\u001b[0m\u001b[1;33m=\u001b[0m\u001b[0mnp\u001b[0m\u001b[1;33m.\u001b[0m\u001b[0mmax\u001b[0m\u001b[1;33m(\u001b[0m\u001b[0mtrain_df\u001b[0m\u001b[1;33m[\u001b[0m\u001b[1;34m\"payprice\"\u001b[0m\u001b[1;33m]\u001b[0m\u001b[1;33m.\u001b[0m\u001b[0mvalues\u001b[0m\u001b[1;33m)\u001b[0m\u001b[1;33m\u001b[0m\u001b[0m\n\u001b[0;32m      9\u001b[0m \u001b[1;33m\u001b[0m\u001b[0m\n",
      "\u001b[1;31mNameError\u001b[0m: name 'train_df' is not defined"
     ]
    }
   ],
   "source": [
    "#budget=6250*1000\n",
    "#print(\"Our Budget is:\",budget, \"Fen\")\n",
    "#print(\"To use over\",test_df.shape[0],\"bid opportunities.\")\n",
    "#BudPerBid=budget/test_df.shape[0]\n",
    "#print(\"Budget / Bid Opportunity:\",BudPerBid)\n",
    "\n",
    "minBid=np.min(train_df[\"payprice\"].values)\n",
    "maxBid=np.max(train_df[\"payprice\"].values)\n",
    "\n",
    "step_size = 1\n",
    "custRange = np.arange(minBid+1, maxBid+5,step_size) # determines the range that bids should be in\n",
    "#custRange = np.arange(60, 65,1)\n",
    "\n",
    "minCustRange = np.arange(21, 91, step_size) # determines the range that bids should be in\n",
    "maxCustRange = np.arange(71, 161, step_size) # determines the range that bids should be in"
   ]
  },
  {
   "cell_type": "code",
   "execution_count": 5,
   "metadata": {},
   "outputs": [],
   "source": [
    "pd.set_option('display.max_columns', None)"
   ]
  },
  {
   "cell_type": "markdown",
   "metadata": {
    "collapsed": true
   },
   "source": [
    "# Functions"
   ]
  },
  {
   "cell_type": "markdown",
   "metadata": {},
   "source": [
    "### Plot Metrics for bound combination for random bidding strategy"
   ]
  },
  {
   "cell_type": "code",
   "execution_count": 6,
   "metadata": {},
   "outputs": [],
   "source": [
    "def plotResults(Matrix):\n",
    "\n",
    "    ax = sns.heatmap(Matrix, linewidth=0, xticklabels=minCustRange, yticklabels=maxCustRange[::-1], cmap=\"Greens\") #, annot=True\n",
    "    ax.set(xlabel='lower bound for random bid', ylabel='upper bound for random bid', title=\"Clicks by bounded random bids\")\n",
    "    for label in ax.xaxis.get_ticklabels()[::1]:\n",
    "        label.set_visible(False)\n",
    "    for label in ax.xaxis.get_ticklabels()[::5]:\n",
    "        label.set_visible(True)\n",
    "    for label in ax.yaxis.get_ticklabels()[::1]:\n",
    "        label.set_visible(False)\n",
    "    for label in ax.yaxis.get_ticklabels()[::5]:\n",
    "        label.set_visible(True)\n",
    "        \n",
    "#     for label in ax.xaxis.get_ticklabels()[::2]:\n",
    "#         label.set_visible(False)    \n",
    "#     for label in ax.yaxis.get_ticklabels()[::2]:\n",
    "#         label.set_visible(False)    \n",
    "        \n",
    "        \n",
    "    plt.savefig('RandomBidResults.png')\n",
    "    plt.show()\n",
    "    \n",
    "    useless = 0\n",
    "    return useless"
   ]
  },
  {
   "cell_type": "markdown",
   "metadata": {},
   "source": [
    "### Build Matrix containing CTR for various bound combinations"
   ]
  },
  {
   "cell_type": "code",
   "execution_count": 7,
   "metadata": {},
   "outputs": [],
   "source": [
    "def BuildCTRMatrix(dataframe,plot,repeats):\n",
    "    #lastInRange = custRange[len(custRange)-1:][0]+1\n",
    "    for n in range(0,repeats,1):\n",
    "        dataSubset = dataframe.sample(frac=0.5, replace=False)\n",
    "        print(n+1,\"/\",repeats,\"...\")\n",
    "        \n",
    "        for minimumBid in minCustRange:\n",
    "            print('counting clicks',minimumBid,datetime.datetime.now().time())        \n",
    "            for maximumBid in maxCustRange: #maxBid>minBid?????\n",
    "                if maximumBid>minimumBid:\n",
    "                    Clicks = EvalRandBidClicksOnly(dataSubset,minimumBid, maximumBid,6250000,validation_df.shape[0])\n",
    "                    CTRMatrix[minimumBid][maximumBid]=(CTRMatrix[minimumBid][maximumBid]*n+Clicks)/(n+1)\n",
    "        CTRMatrix.to_csv(\"RandomBidResults.csv\")\n",
    "    return CTRMatrix"
   ]
  },
  {
   "cell_type": "markdown",
   "metadata": {},
   "source": [
    "### Extract best Bounds from Results Matrix"
   ]
  },
  {
   "cell_type": "code",
   "execution_count": 8,
   "metadata": {},
   "outputs": [],
   "source": [
    "def FindBestBounds(ResultsMatrix):\n",
    "    print(\"Best CTR is:\",ResultsMatrix.values.max())\n",
    "    for x in minCustRange:\n",
    "        for y in maxCustRange:\n",
    "            if ResultsMatrix[x][y]==ResultsMatrix.values.max():\n",
    "                print(\"X:\",x,\"Y:\",y)\n",
    "                lowerBound=x\n",
    "                upperBound=y\n",
    "    return lowerBound, upperBound"
   ]
  },
  {
   "cell_type": "markdown",
   "metadata": {},
   "source": [
    "### Evaluate a random bid value on a new set"
   ]
  },
  {
   "cell_type": "code",
   "execution_count": 9,
   "metadata": {},
   "outputs": [],
   "source": [
    "#def EvalRandBid(dataframe,lowerBound, upperBound):\n",
    "#    \n",
    "#    dataframe['ConstBid'] = np.random.randint(lowerBound, upperBound+1, dataframe.shape[0])\n",
    "#\n",
    "#    trueValues = (dataframe[\"payprice\"]<dataframe['ConstBid'])\n",
    "#    impressions = dataframe[trueValues].shape[0]\n",
    "#    clicks = np.sum(dataframe[trueValues][\"click\"].values)\n",
    "#    ClickThroughRate=(clicks*100)/impressions\n",
    "#        \n",
    "#    return ClickThroughRate"
   ]
  },
  {
   "cell_type": "code",
   "execution_count": 10,
   "metadata": {},
   "outputs": [],
   "source": [
    "def EvalRandBidClicksOnly(dataframe,lowerBound, upperBound,budget,size):\n",
    "    \n",
    "    AdjustedBudget=(budget/size)*dataframe.shape[0]\n",
    "    #print(\"AdjustedBudget is:\",AdjustedBudget)\n",
    "    tempData=dataframe\n",
    "    #tempData['ConstBid']=constant\n",
    "    tempData['ConstBid'] = np.random.randint(lowerBound, upperBound+1, dataframe.shape[0])\n",
    "\n",
    "    tempData['trueValues'] = np.where(tempData[\"payprice\"]<tempData['ConstBid'],1,0)\n",
    "    tempData['ModelPays'] = tempData['trueValues']*tempData['payprice']\n",
    "    tempData['cumsum'] = tempData['ModelPays'].cumsum()\n",
    "    lastRowToInclude = np.argmax(tempData['cumsum'].as_matrix()>AdjustedBudget)\n",
    "    if lastRowToInclude==0:\n",
    "        lastRowToInclude=tempData.shape[0]\n",
    "    #print(\"lastRowToInclude\",lastRowToInclude)\n",
    "    \n",
    "    shortData = tempData.head(lastRowToInclude)\n",
    "    trueValues = (0<shortData['ModelPays'])\n",
    "    ##impressions = shortData[trueValues].shape[0]\n",
    "    clicks = np.sum(shortData[trueValues][\"click\"].values)\n",
    "    ##spend = np.sum(shortData[trueValues][\"payprice\"].values)\n",
    "    ##CostPerClick = spend/clicks\n",
    "    ##CostPerMille = spend*1000/(impressions)\n",
    "    ##ClickThroughRate=(clicks*100)/impressions\n",
    "    #print(constant, ClickThroughRate, clicks, spend, CostPerMille, CostPerClick, impressions)\n",
    "    #return [ClickThroughRate, clicks, spend, CostPerMille, CostPerClick, impressions]\n",
    "    return clicks\n",
    "\n",
    "\n",
    "    #impressions = shortData.loc[shortData['ModelPays'] > 0].sum()\n",
    "    #clicks = shortData.loc[shortData['ModelPays'] > 0 , 'click'].sum()\n",
    "    #print(\"clicks:\",clicks)"
   ]
  },
  {
   "cell_type": "code",
   "execution_count": 11,
   "metadata": {},
   "outputs": [],
   "source": [
    "def EvalRandBid(dataframe,lowerBound, upperBound,budget,size):\n",
    "    \n",
    "    AdjustedBudget=(budget/size)*dataframe.shape[0]\n",
    "    #print(\"AdjustedBudget is:\",AdjustedBudget)\n",
    "    tempData=dataframe\n",
    "    #tempData['ConstBid']=constant\n",
    "    tempData['ConstBid'] = np.random.randint(lowerBound, upperBound+1, dataframe.shape[0])\n",
    "\n",
    "    tempData['trueValues'] = np.where(tempData[\"payprice\"]<tempData['ConstBid'],1,0)\n",
    "    tempData['ModelPays'] = tempData['trueValues']*tempData['payprice']\n",
    "    tempData['cumsum'] = tempData['ModelPays'].cumsum()\n",
    "    lastRowToInclude = np.argmax(tempData['cumsum'].as_matrix()>AdjustedBudget)\n",
    "    if lastRowToInclude==0:\n",
    "        lastRowToInclude=tempData.shape[0]\n",
    "    #print(\"lastRowToInclude\",lastRowToInclude)\n",
    "    \n",
    "    shortData = tempData.head(lastRowToInclude).copy(True)\n",
    "    trueValues = (0<shortData['ModelPays'])\n",
    "    impressions = shortData[trueValues].shape[0]\n",
    "    clicks = np.sum(shortData[trueValues][\"click\"].values)\n",
    "    spend = np.sum(shortData[trueValues][\"payprice\"].values)\n",
    "    CostPerClick = spend/clicks\n",
    "    CostPerMille = spend*1000/(impressions)\n",
    "    ClickThroughRate=(clicks*100)/impressions\n",
    "    #print(constant, ClickThroughRate, clicks, spend, CostPerMille, CostPerClick, impressions)\n",
    "    return [ClickThroughRate, clicks, spend, CostPerMille, CostPerClick, impressions]\n",
    "    #return clicks\n",
    "\n",
    "\n",
    "    #impressions = shortData.loc[shortData['ModelPays'] > 0].sum()\n",
    "    #clicks = shortData.loc[shortData['ModelPays'] > 0 , 'click'].sum()\n",
    "    #print(\"clicks:\",clicks)"
   ]
  },
  {
   "cell_type": "markdown",
   "metadata": {},
   "source": [
    "# Main Code"
   ]
  },
  {
   "cell_type": "markdown",
   "metadata": {},
   "source": [
    "### Determine Best Bounds Combination from Train Set"
   ]
  },
  {
   "cell_type": "code",
   "execution_count": null,
   "metadata": {},
   "outputs": [],
   "source": [
    "zero_data = np.zeros(shape=(len(custRange),len(custRange)))\n",
    "zero_data[zero_data < 1] = 0.0\n",
    "CTRMatrix=pd.DataFrame(zero_data,index=reversed(custRange), columns=custRange)"
   ]
  },
  {
   "cell_type": "code",
   "execution_count": null,
   "metadata": {
    "scrolled": true
   },
   "outputs": [],
   "source": [
    "CTRMatrix =  BuildCTRMatrix(train_df,plot=False,repeats=5)\n",
    "#CTRMatrix.to_pickle(\"CTRMatrix.pkl\")"
   ]
  },
  {
   "cell_type": "code",
   "execution_count": null,
   "metadata": {},
   "outputs": [],
   "source": [
    "CTRMatrix.to_csv(\"RandomBidResults.csv\")"
   ]
  },
  {
   "cell_type": "code",
   "execution_count": null,
   "metadata": {},
   "outputs": [],
   "source": [
    "#CTRMatrix = pd.read_pickle(\"CTRMatrix.pkl\")"
   ]
  },
  {
   "cell_type": "code",
   "execution_count": null,
   "metadata": {},
   "outputs": [],
   "source": [
    "plotResults(CTRMatrix)"
   ]
  },
  {
   "cell_type": "code",
   "execution_count": null,
   "metadata": {},
   "outputs": [],
   "source": [
    "#CTRMatrix\n",
    "\n",
    "print(minCustRange)\n",
    "\n",
    "print(maxCustRange)\n",
    "\n",
    "t = CTRMatrix.iloc[(304-160):(304-70),20:90]\n",
    "\n",
    "plotResults(t)"
   ]
  },
  {
   "cell_type": "code",
   "execution_count": null,
   "metadata": {},
   "outputs": [],
   "source": []
  },
  {
   "cell_type": "code",
   "execution_count": null,
   "metadata": {},
   "outputs": [],
   "source": [
    "lowBound, upBound = FindBestBounds(t)"
   ]
  },
  {
   "cell_type": "markdown",
   "metadata": {},
   "source": [
    "### Evalute on a new data set (validation set)"
   ]
  },
  {
   "cell_type": "code",
   "execution_count": 12,
   "metadata": {},
   "outputs": [],
   "source": [
    "result = EvalRandBid(validation_df,69, 89,6250000,validation_df.shape[0])"
   ]
  },
  {
   "cell_type": "code",
   "execution_count": 13,
   "metadata": {},
   "outputs": [
    {
     "name": "stdout",
     "output_type": "stream",
     "text": [
      "ClickThroughRate 0.043532676715459545\n",
      "clicks 64\n",
      "spend 6249934\n",
      "CostPerMille 42511.93067421233\n",
      "CostPerClick 97655.21875\n",
      "impressions 147016\n"
     ]
    }
   ],
   "source": [
    "#constant = result[0]\n",
    "ClickThroughRate = result[0]\n",
    "clicks = result[1]\n",
    "spend = result[2]\n",
    "CostPerMille = result[3]\n",
    "CostPerClick = result[4]\n",
    "impressions = result[5]\n",
    "\n",
    "#print(\"constant\",constant)\n",
    "print(\"ClickThroughRate\",ClickThroughRate)\n",
    "print(\"clicks\",clicks)\n",
    "print(\"spend\",spend)\n",
    "print(\"CostPerMille\",CostPerMille)\n",
    "print(\"CostPerClick\",CostPerClick)\n",
    "print(\"impressions\",impressions)"
   ]
  },
  {
   "cell_type": "code",
   "execution_count": null,
   "metadata": {},
   "outputs": [],
   "source": []
  }
 ],
 "metadata": {
  "kernelspec": {
   "display_name": "Python 3",
   "language": "python",
   "name": "python3"
  },
  "language_info": {
   "codemirror_mode": {
    "name": "ipython",
    "version": 3
   },
   "file_extension": ".py",
   "mimetype": "text/x-python",
   "name": "python",
   "nbconvert_exporter": "python",
   "pygments_lexer": "ipython3",
   "version": "3.6.4"
  }
 },
 "nbformat": 4,
 "nbformat_minor": 1
}
