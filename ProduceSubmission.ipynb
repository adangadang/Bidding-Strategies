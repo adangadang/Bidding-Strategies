{
 "cells": [
  {
   "cell_type": "code",
   "execution_count": 1,
   "metadata": {
    "collapsed": true
   },
   "outputs": [],
   "source": [
    "import numpy as np\n",
    "import pandas as pd"
   ]
  },
  {
   "cell_type": "code",
   "execution_count": 2,
   "metadata": {
    "collapsed": true
   },
   "outputs": [],
   "source": [
    "def Strategy3(sub_pCTR, sub_basebid):\n",
    "    \n",
    "    avgCTR = 0.5\n",
    "    sub_pCTR_ = sub_pCTR.copy()\n",
    "    sub_pCTR_[\"pCTR\"] = sub_pCTR_[\"pCTR\"].map(lambda x: 0 if x <0.3 else np.exp(x))\n",
    "    bidprice = (sub_pCTR_[\"pCTR\"] * sub_basebid[\"predicted_payprice\"]) / avgCTR\n",
    "    return bidprice"
   ]
  },
  {
   "cell_type": "code",
   "execution_count": 3,
   "metadata": {
    "collapsed": false
   },
   "outputs": [],
   "source": [
    "path = 'C:/Users/Akis/OneDrive/Masters/Web Economics/Data/WebEcon Team Drive/Test Set Predictions/'\n",
    "ridge_preds = pd.read_csv(path+\"ridge_basebid_test.csv\") #, index_col  = \"Unnamed: 0\"\n",
    "dwane_preds = pd.read_csv(path+\"test_dummy.click_predictions_narrow.2018-03-13.csv\")"
   ]
  },
  {
   "cell_type": "code",
   "execution_count": 6,
   "metadata": {
    "collapsed": false
   },
   "outputs": [
    {
     "name": "stdout",
     "output_type": "stream",
     "text": [
      "                                      bidid  bidprice\n",
      "0  366c563de7d90feb9d4dab53e795a93fb3157387       209\n",
      "1  29167d4caa719788b5a342dbaa25151d53121f80       296\n",
      "2  ff8bc3f4d44a3ea60c5f3a3a8fbe7cd98fb2966e         0\n",
      "3  844c2da00d45315f20b748ec131c26ee99a7cbc7         0\n",
      "4  c6017f0ad0c44d7d0c9b62583ea863f28941c0ca         0\n"
     ]
    }
   ],
   "source": [
    "bids = pd.DataFrame(columns=['bidid','bidprice'])\n",
    "bids['bidprice'] = Strategy3(dwane_preds,ridge_preds)\n",
    "bids['bidid']=ridge_preds['bidid']\n",
    "bids['bidprice'] = bids['bidprice'] * 1.1\n",
    "bids['bidprice'] = bids['bidprice'].round(0)\n",
    "bids['bidprice'] = bids['bidprice'].astype(int)\n",
    "print(bids.head(5))"
   ]
  },
  {
   "cell_type": "code",
   "execution_count": 7,
   "metadata": {
    "collapsed": false
   },
   "outputs": [
    {
     "name": "stdout",
     "output_type": "stream",
     "text": [
      "ourAverage 79.33673506386485\n",
      "totalBid 24068782\n",
      "Multiples of budget bid: 3.85100512\n"
     ]
    }
   ],
   "source": [
    "#print(bids.shape)\n",
    "ourAverage = bids['bidprice'].mean()\n",
    "totalBid = bids['bidprice'].sum()\n",
    "print(\"ourAverage\",ourAverage)\n",
    "print(\"totalBid\",totalBid)\n",
    "print(\"Multiples of budget bid:\",totalBid/6250000)"
   ]
  },
  {
   "cell_type": "code",
   "execution_count": 8,
   "metadata": {
    "collapsed": true
   },
   "outputs": [],
   "source": [
    "bids.to_csv('Group_21_SingleAgentBids.csv',index=False)"
   ]
  },
  {
   "cell_type": "code",
   "execution_count": 9,
   "metadata": {
    "collapsed": true
   },
   "outputs": [],
   "source": [
    "averageNeeded = 659 #659 is sum(budgets of all teams)/number of impressions available; assumes 32 teams (there should be 31 but 32 plays it safe)"
   ]
  },
  {
   "cell_type": "code",
   "execution_count": 10,
   "metadata": {
    "collapsed": false
   },
   "outputs": [
    {
     "name": "stdout",
     "output_type": "stream",
     "text": [
      "                                      bidid  bidprice\n",
      "0  366c563de7d90feb9d4dab53e795a93fb3157387      1736\n",
      "1  29167d4caa719788b5a342dbaa25151d53121f80      2459\n",
      "2  ff8bc3f4d44a3ea60c5f3a3a8fbe7cd98fb2966e         0\n",
      "3  844c2da00d45315f20b748ec131c26ee99a7cbc7         0\n",
      "4  c6017f0ad0c44d7d0c9b62583ea863f28941c0ca         0\n"
     ]
    }
   ],
   "source": [
    "bids['bidprice'] = bids['bidprice']*(averageNeeded/ourAverage)\n",
    "bids['bidprice'] = bids['bidprice'].round(0)\n",
    "bids['bidprice'] = bids['bidprice'].astype(int)\n",
    "print(bids.head(5))"
   ]
  },
  {
   "cell_type": "code",
   "execution_count": 11,
   "metadata": {
    "collapsed": false
   },
   "outputs": [
    {
     "name": "stdout",
     "output_type": "stream",
     "text": [
      "ourAverage 659.0002999587969\n",
      "totalBid 199924216\n",
      "Multiples of budget bid: 31.98787456\n"
     ]
    }
   ],
   "source": [
    "ourAverage = bids['bidprice'].mean()\n",
    "totalBid = bids['bidprice'].sum()\n",
    "print(\"ourAverage\",ourAverage)\n",
    "print(\"totalBid\",totalBid)\n",
    "print(\"Multiples of budget bid:\",totalBid/6250000)"
   ]
  },
  {
   "cell_type": "code",
   "execution_count": 12,
   "metadata": {
    "collapsed": false
   },
   "outputs": [],
   "source": [
    "bids.to_csv('Group_21_MultiAgentBids.csv',index=False)"
   ]
  }
 ],
 "metadata": {
  "kernelspec": {
   "display_name": "Python 3",
   "language": "python",
   "name": "python3"
  },
  "language_info": {
   "codemirror_mode": {
    "name": "ipython",
    "version": 3
   },
   "file_extension": ".py",
   "mimetype": "text/x-python",
   "name": "python",
   "nbconvert_exporter": "python",
   "pygments_lexer": "ipython3",
   "version": "3.6.0"
  }
 },
 "nbformat": 4,
 "nbformat_minor": 2
}
