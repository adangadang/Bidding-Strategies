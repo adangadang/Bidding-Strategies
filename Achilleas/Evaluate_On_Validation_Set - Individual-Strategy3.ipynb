{
 "cells": [
  {
   "cell_type": "code",
   "execution_count": 13,
   "metadata": {},
   "outputs": [],
   "source": [
    "import pandas as pd\n",
    "import numpy as np\n",
    "from functools import reduce\n",
    "import matplotlib.pyplot as plt\n",
    "import seaborn as sns\n",
    "import time\n",
    "\n",
    "%matplotlib inline\n",
    "pd.set_option('display.max_columns', None)\n",
    "pd.options.mode.chained_assignment = None  # To ignore SettingWithCopyWarning warning"
   ]
  },
  {
   "cell_type": "markdown",
   "metadata": {},
   "source": [
    "# Import data"
   ]
  },
  {
   "cell_type": "code",
   "execution_count": 14,
   "metadata": {},
   "outputs": [],
   "source": [
    "path = \"./\"\n",
    "path = \"C:/temp/kaggle/webeconomics/\"\n",
    "\n",
    "\n",
    "train = pd.read_csv(path+\"train.csv\")\n",
    "validation = pd.read_csv(path+\"validation.csv\")"
   ]
  },
  {
   "cell_type": "code",
   "execution_count": 15,
   "metadata": {},
   "outputs": [
    {
     "name": "stdout",
     "output_type": "stream",
     "text": [
      "(2430981, 25) (303925, 25)\n"
     ]
    }
   ],
   "source": [
    "print(train.shape, validation.shape)"
   ]
  },
  {
   "cell_type": "markdown",
   "metadata": {},
   "source": [
    "# Import Predictions"
   ]
  },
  {
   "cell_type": "code",
   "execution_count": 17,
   "metadata": {},
   "outputs": [],
   "source": [
    "# lr_preds = pd.read_csv(\"Prediction_csv/lr_pCTR.csv\", index_col  = \"Unnamed: 0\")\n",
    "# rf_preds = pd.read_csv(\"Prediction_csv/rf_pCTR.csv\", index_col  = \"Unnamed: 0\")\n",
    "#xgb_preds = pd.read_csv(path+\"Prediction_csv/xgb_pCTR.csv\", index_col  = \"Unnamed: 0\")\n",
    "dwane_preds = pd.read_csv(path+\"Prediction_csv/click_predictions_narrow.csv\")\n",
    "lasso_preds = pd.read_csv(path+\"Prediction_csv/lasso_basebid.csv\", index_col  = \"Unnamed: 0\")\n",
    "# ridge_preds = pd.read_csv(\"Prediction_csv/ridge_basebid.csv\", index_col  = \"Unnamed: 0\")\n",
    "# elasticnet_preds = pd.read_csv(\"Prediction_csv/elasticnet_basebid.csv\", index_col  = \"Unnamed: 0\")\n",
    "# rfg_preds = pd.read_csv(\"Prediction_csv/rfg_basebid.csv\", index_col  = \"Unnamed: 0\")\n",
    "#xgbr_preds = pd.read_csv(\"Prediction_csv/xgb_basebid.csv\", index_col  = \"Unnamed: 0\")"
   ]
  },
  {
   "cell_type": "code",
   "execution_count": 25,
   "metadata": {},
   "outputs": [],
   "source": [
    "dwane_preds.head(16)\n",
    "\n",
    "\n",
    "dwane_preds[\"click_proba\"] = dwane_preds[\"pCTR\"]\n",
    "\n",
    "\n"
   ]
  },
  {
   "cell_type": "markdown",
   "metadata": {},
   "source": [
    "# Strategy"
   ]
  },
  {
   "cell_type": "code",
   "execution_count": 42,
   "metadata": {},
   "outputs": [],
   "source": [
    "def Strategy3(sub_pCTR, sub_basebid, thresh):\n",
    "    avgCTR = sub_pCTR[\"click_proba\"].mean()\n",
    "    sub_pCTR_ = sub_pCTR.copy()\n",
    "    sub_pCTR_[\"click_proba\"] = sub_pCTR_[\"click_proba\"].map(lambda x: 0 if x > thresh else np.exp(x))\n",
    "    bidprice = (sub_pCTR_[\"click_proba\"] * sub_basebid[\"predicted_payprice\"]) / avgCTR\n",
    "    return bidprice\n",
    "\n",
    "def Strategy4(sub_pCTR, sub_basebid, thresh1  ):\n",
    "    thresh2 = thresh1 + 0.1\n",
    "    avgCTR = sub_pCTR[\"click_proba\"].mean()\n",
    "    sub_pCTR_ = sub_pCTR.copy()\n",
    "    sub_pCTR_[\"click_proba\"] = sub_pCTR_[\"click_proba\"].map(lambda x: 0 if (x >= thresh1) and (x < thresh2) else np.exp(x))\n",
    "    bidprice = (sub_pCTR_[\"click_proba\"] * sub_basebid[\"predicted_payprice\"]) / avgCTR\n",
    "    return bidprice"
   ]
  },
  {
   "cell_type": "code",
   "execution_count": 43,
   "metadata": {},
   "outputs": [
    {
     "data": {
      "text/plain": [
       "array([ 0. ,  0.1,  0.2,  0.3,  0.4,  0.5,  0.6,  0.7,  0.8,  0.9,  1. ])"
      ]
     },
     "execution_count": 43,
     "metadata": {},
     "output_type": "execute_result"
    }
   ],
   "source": [
    "thresh_pCTR = np.linspace(0.0, 1.0, 11)\n",
    "thresh_pCTR"
   ]
  },
  {
   "cell_type": "markdown",
   "metadata": {},
   "source": [
    "# Evaluate Results"
   ]
  },
  {
   "cell_type": "code",
   "execution_count": 44,
   "metadata": {},
   "outputs": [],
   "source": [
    "budget = 6250*1000\n",
    "\n",
    "def ValidationDataFrame(submission_pCTR, submission_basebid, thresh):\n",
    "    \n",
    "    validation_check = validation[[\"bidid\", \"click\", \"bidprice\", \"payprice\"]]\n",
    "    validation_check[\"click_proba\"] = submission_pCTR[\"click_proba\"]\n",
    "    validation_check[\"basebid_predicted\"] = submission_basebid[\"predicted_payprice\"]\n",
    "    validation_check[\"bidprice_predicted\"] = Strategy4(submission_pCTR, submission_basebid, thresh)\n",
    "    \n",
    "    return validation_check\n",
    "\n",
    "def ValidateStrategy(df):\n",
    "    \n",
    "    impressions = 0\n",
    "    clicks = 0\n",
    "    cost = 0\n",
    "    auctions_participated = 0\n",
    "    balance = budget\n",
    "    \n",
    "    for row in df.iterrows():\n",
    "        \n",
    "        if cost < budget:\n",
    "            \n",
    "            auctions_participated+=1\n",
    "            \n",
    "            if (row[1][\"bidprice_predicted\"] >= row[1][\"payprice\"]):\n",
    "                \n",
    "                \n",
    "                impressions+=1\n",
    "                clicks+=row[1][\"click\"]\n",
    "                cost+=row[1][\"payprice\"]\n",
    "                balance-=row[1][\"payprice\"]\n",
    "                \n",
    "#                 if (balance > row[1][\"bidprice_predicted\"]):\n",
    "                    \n",
    "#                     impressions+=1\n",
    "#                     clicks+=row[1][\"click\"]\n",
    "#                     cost+=row[1][\"payprice\"]\n",
    "#                     balance-=row[1][\"payprice\"]\n",
    "#                 else:\n",
    "#                     pass\n",
    "    \n",
    "        else:\n",
    "            break\n",
    "    \n",
    "    # Metrics\n",
    "    ctr = clicks*100/impressions\n",
    "    cpm = cost/impressions\n",
    "    cpc = cost/clicks/1000\n",
    "    \n",
    "    print(\"Strategy statistics:\")\n",
    "    print(\"Auctions participated: {} | Impressions: {} | Clicks: {} | Cost: {} | CTR: {} | CPM: {} | CPC: {}\".format(auctions_participated, \\\n",
    "                                                                                                                     impressions, clicks, \\\n",
    "                                                                                                                     cost,\\\n",
    "                                                                                                                     np.round(ctr,5), \\\n",
    "                                                                                                                np.round(cpm,5), \\\n",
    "                                                                                                                     np.round(cpc,2)))\n",
    "    print(\"\\n\")\n",
    "            \n",
    "    return impressions, clicks, cost, auctions_participated, ctr, cpm, cpc"
   ]
  },
  {
   "cell_type": "code",
   "execution_count": 45,
   "metadata": {},
   "outputs": [
    {
     "name": "stdout",
     "output_type": "stream",
     "text": [
      "\u001b[1m pCTR model: XGBoost \u001b[0m, \u001b[1m Basebid model: Lasso \u001b[0m, \u001b[1m thresh: 0.0 \u001b[0m\n",
      "Strategy statistics:\n",
      "Auctions participated: 242853 | Impressions: 71364 | Clicks: 132 | Cost: 6250082 | CTR: 0.18497 | CPM: 87.58032 | CPC: 47.35\n",
      "\n",
      "\n",
      "\u001b[1m pCTR model: XGBoost \u001b[0m, \u001b[1m Basebid model: Lasso \u001b[0m, \u001b[1m thresh: 0.1 \u001b[0m\n",
      "Strategy statistics:\n",
      "Auctions participated: 85383 | Impressions: 80085 | Clicks: 54 | Cost: 6250003 | CTR: 0.06743 | CPM: 78.04212 | CPC: 115.74\n",
      "\n",
      "\n",
      "\u001b[1m pCTR model: XGBoost \u001b[0m, \u001b[1m Basebid model: Lasso \u001b[0m, \u001b[1m thresh: 0.2 \u001b[0m\n",
      "Strategy statistics:\n",
      "Auctions participated: 85346 | Impressions: 80336 | Clicks: 52 | Cost: 6250015 | CTR: 0.06473 | CPM: 77.79843 | CPC: 120.19\n",
      "\n",
      "\n",
      "\u001b[1m pCTR model: XGBoost \u001b[0m, \u001b[1m Basebid model: Lasso \u001b[0m, \u001b[1m thresh: 0.30000000000000004 \u001b[0m\n",
      "Strategy statistics:\n",
      "Auctions participated: 79727 | Impressions: 79720 | Clicks: 51 | Cost: 6250001 | CTR: 0.06397 | CPM: 78.39941 | CPC: 122.55\n",
      "\n",
      "\n",
      "\u001b[1m pCTR model: XGBoost \u001b[0m, \u001b[1m Basebid model: Lasso \u001b[0m, \u001b[1m thresh: 0.4 \u001b[0m\n",
      "Strategy statistics:\n",
      "Auctions participated: 81780 | Impressions: 80046 | Clicks: 49 | Cost: 6250009 | CTR: 0.06121 | CPM: 78.08022 | CPC: 127.55\n",
      "\n",
      "\n",
      "\u001b[1m pCTR model: XGBoost \u001b[0m, \u001b[1m Basebid model: Lasso \u001b[0m, \u001b[1m thresh: 0.5 \u001b[0m\n",
      "Strategy statistics:\n",
      "Auctions participated: 81486 | Impressions: 80001 | Clicks: 49 | Cost: 6250020 | CTR: 0.06125 | CPM: 78.12427 | CPC: 127.55\n",
      "\n",
      "\n",
      "\u001b[1m pCTR model: XGBoost \u001b[0m, \u001b[1m Basebid model: Lasso \u001b[0m, \u001b[1m thresh: 0.6000000000000001 \u001b[0m\n",
      "Strategy statistics:\n",
      "Auctions participated: 81281 | Impressions: 79907 | Clicks: 51 | Cost: 6250087 | CTR: 0.06382 | CPM: 78.21701 | CPC: 122.55\n",
      "\n",
      "\n",
      "\u001b[1m pCTR model: XGBoost \u001b[0m, \u001b[1m Basebid model: Lasso \u001b[0m, \u001b[1m thresh: 0.7000000000000001 \u001b[0m\n",
      "Strategy statistics:\n",
      "Auctions participated: 79727 | Impressions: 79720 | Clicks: 51 | Cost: 6250001 | CTR: 0.06397 | CPM: 78.39941 | CPC: 122.55\n",
      "\n",
      "\n",
      "\u001b[1m pCTR model: XGBoost \u001b[0m, \u001b[1m Basebid model: Lasso \u001b[0m, \u001b[1m thresh: 0.8 \u001b[0m\n",
      "Strategy statistics:\n",
      "Auctions participated: 81494 | Impressions: 80009 | Clicks: 52 | Cost: 6250033 | CTR: 0.06499 | CPM: 78.11662 | CPC: 120.19\n",
      "\n",
      "\n",
      "\u001b[1m pCTR model: XGBoost \u001b[0m, \u001b[1m Basebid model: Lasso \u001b[0m, \u001b[1m thresh: 0.9 \u001b[0m\n",
      "Strategy statistics:\n",
      "Auctions participated: 81988 | Impressions: 79981 | Clicks: 51 | Cost: 6250045 | CTR: 0.06377 | CPM: 78.14412 | CPC: 122.55\n",
      "\n",
      "\n",
      "\u001b[1m pCTR model: XGBoost \u001b[0m, \u001b[1m Basebid model: Lasso \u001b[0m, \u001b[1m thresh: 1.0 \u001b[0m\n",
      "Strategy statistics:\n",
      "Auctions participated: 85001 | Impressions: 80074 | Clicks: 17 | Cost: 6250040 | CTR: 0.02123 | CPM: 78.0533 | CPC: 367.65\n",
      "\n",
      "\n",
      "Total time: 2.371318968137105 mins\n"
     ]
    }
   ],
   "source": [
    "pCTR_model_name = \"Dwanev1\"\n",
    "results = pd.DataFrame(columns = [\"pCTR thresh\", \"Impressions\", \"Clicks\", \"Cost\", \"CTR\", \"CPM\", \"CPC\"])\n",
    "i=0\n",
    "\n",
    "start = time.time()\n",
    "\n",
    "for thresh in thresh_pCTR:\n",
    "    \n",
    "    validation_check = ValidationDataFrame(dwane_preds, lasso_preds, thresh)\n",
    "    print(\"\\033[1m pCTR model: {} \\033[0m, \\033[1m Basebid model: {} \\033[0m, \\033[1m thresh: {} \\033[0m\".format(\"XGBoost\", \"Lasso\", thresh))\n",
    "    impressions, clicks, cost, auctions_participated, ctr, cpm, cpc = ValidateStrategy(validation_check)\n",
    "    results.loc[i] = [thresh, impressions, clicks, cost, ctr, cpm, cpc]\n",
    "    i+=1\n",
    "    \n",
    "end = time.time()\n",
    "print(\"Total time: {} mins\".format((end-start)/60))"
   ]
  },
  {
   "cell_type": "code",
   "execution_count": 46,
   "metadata": {},
   "outputs": [],
   "source": [
    "results.to_csv(\"ValidationSet_Evaluation_Results_Individual_\"+pCTR_model_name+\"_lasso_pCTRthresh.csv\")"
   ]
  },
  {
   "cell_type": "code",
   "execution_count": 47,
   "metadata": {
    "scrolled": true
   },
   "outputs": [
    {
     "data": {
      "text/html": [
       "<div>\n",
       "<style>\n",
       "    .dataframe thead tr:only-child th {\n",
       "        text-align: right;\n",
       "    }\n",
       "\n",
       "    .dataframe thead th {\n",
       "        text-align: left;\n",
       "    }\n",
       "\n",
       "    .dataframe tbody tr th {\n",
       "        vertical-align: top;\n",
       "    }\n",
       "</style>\n",
       "<table border=\"1\" class=\"dataframe\">\n",
       "  <thead>\n",
       "    <tr style=\"text-align: right;\">\n",
       "      <th></th>\n",
       "      <th>pCTR thresh</th>\n",
       "      <th>Impressions</th>\n",
       "      <th>Clicks</th>\n",
       "      <th>Cost</th>\n",
       "      <th>CTR</th>\n",
       "      <th>CPM</th>\n",
       "      <th>CPC</th>\n",
       "    </tr>\n",
       "  </thead>\n",
       "  <tbody>\n",
       "    <tr>\n",
       "      <th>0</th>\n",
       "      <td>0.0</td>\n",
       "      <td>71364.0</td>\n",
       "      <td>132.0</td>\n",
       "      <td>6250082.0</td>\n",
       "      <td>0.184967</td>\n",
       "      <td>87.580321</td>\n",
       "      <td>47.349106</td>\n",
       "    </tr>\n",
       "    <tr>\n",
       "      <th>1</th>\n",
       "      <td>0.1</td>\n",
       "      <td>80085.0</td>\n",
       "      <td>54.0</td>\n",
       "      <td>6250003.0</td>\n",
       "      <td>0.067428</td>\n",
       "      <td>78.042118</td>\n",
       "      <td>115.740796</td>\n",
       "    </tr>\n",
       "    <tr>\n",
       "      <th>8</th>\n",
       "      <td>0.8</td>\n",
       "      <td>80009.0</td>\n",
       "      <td>52.0</td>\n",
       "      <td>6250033.0</td>\n",
       "      <td>0.064993</td>\n",
       "      <td>78.116624</td>\n",
       "      <td>120.192942</td>\n",
       "    </tr>\n",
       "    <tr>\n",
       "      <th>2</th>\n",
       "      <td>0.2</td>\n",
       "      <td>80336.0</td>\n",
       "      <td>52.0</td>\n",
       "      <td>6250015.0</td>\n",
       "      <td>0.064728</td>\n",
       "      <td>77.798434</td>\n",
       "      <td>120.192596</td>\n",
       "    </tr>\n",
       "    <tr>\n",
       "      <th>3</th>\n",
       "      <td>0.3</td>\n",
       "      <td>79720.0</td>\n",
       "      <td>51.0</td>\n",
       "      <td>6250001.0</td>\n",
       "      <td>0.063974</td>\n",
       "      <td>78.399410</td>\n",
       "      <td>122.549039</td>\n",
       "    </tr>\n",
       "    <tr>\n",
       "      <th>7</th>\n",
       "      <td>0.7</td>\n",
       "      <td>79720.0</td>\n",
       "      <td>51.0</td>\n",
       "      <td>6250001.0</td>\n",
       "      <td>0.063974</td>\n",
       "      <td>78.399410</td>\n",
       "      <td>122.549039</td>\n",
       "    </tr>\n",
       "    <tr>\n",
       "      <th>6</th>\n",
       "      <td>0.6</td>\n",
       "      <td>79907.0</td>\n",
       "      <td>51.0</td>\n",
       "      <td>6250087.0</td>\n",
       "      <td>0.063824</td>\n",
       "      <td>78.217015</td>\n",
       "      <td>122.550725</td>\n",
       "    </tr>\n",
       "    <tr>\n",
       "      <th>9</th>\n",
       "      <td>0.9</td>\n",
       "      <td>79981.0</td>\n",
       "      <td>51.0</td>\n",
       "      <td>6250045.0</td>\n",
       "      <td>0.063765</td>\n",
       "      <td>78.144122</td>\n",
       "      <td>122.549902</td>\n",
       "    </tr>\n",
       "    <tr>\n",
       "      <th>5</th>\n",
       "      <td>0.5</td>\n",
       "      <td>80001.0</td>\n",
       "      <td>49.0</td>\n",
       "      <td>6250020.0</td>\n",
       "      <td>0.061249</td>\n",
       "      <td>78.124273</td>\n",
       "      <td>127.551429</td>\n",
       "    </tr>\n",
       "    <tr>\n",
       "      <th>4</th>\n",
       "      <td>0.4</td>\n",
       "      <td>80046.0</td>\n",
       "      <td>49.0</td>\n",
       "      <td>6250009.0</td>\n",
       "      <td>0.061215</td>\n",
       "      <td>78.080216</td>\n",
       "      <td>127.551204</td>\n",
       "    </tr>\n",
       "    <tr>\n",
       "      <th>10</th>\n",
       "      <td>1.0</td>\n",
       "      <td>80074.0</td>\n",
       "      <td>17.0</td>\n",
       "      <td>6250040.0</td>\n",
       "      <td>0.021230</td>\n",
       "      <td>78.053301</td>\n",
       "      <td>367.649412</td>\n",
       "    </tr>\n",
       "  </tbody>\n",
       "</table>\n",
       "</div>"
      ],
      "text/plain": [
       "    pCTR thresh  Impressions  Clicks       Cost       CTR        CPM  \\\n",
       "0           0.0      71364.0   132.0  6250082.0  0.184967  87.580321   \n",
       "1           0.1      80085.0    54.0  6250003.0  0.067428  78.042118   \n",
       "8           0.8      80009.0    52.0  6250033.0  0.064993  78.116624   \n",
       "2           0.2      80336.0    52.0  6250015.0  0.064728  77.798434   \n",
       "3           0.3      79720.0    51.0  6250001.0  0.063974  78.399410   \n",
       "7           0.7      79720.0    51.0  6250001.0  0.063974  78.399410   \n",
       "6           0.6      79907.0    51.0  6250087.0  0.063824  78.217015   \n",
       "9           0.9      79981.0    51.0  6250045.0  0.063765  78.144122   \n",
       "5           0.5      80001.0    49.0  6250020.0  0.061249  78.124273   \n",
       "4           0.4      80046.0    49.0  6250009.0  0.061215  78.080216   \n",
       "10          1.0      80074.0    17.0  6250040.0  0.021230  78.053301   \n",
       "\n",
       "           CPC  \n",
       "0    47.349106  \n",
       "1   115.740796  \n",
       "8   120.192942  \n",
       "2   120.192596  \n",
       "3   122.549039  \n",
       "7   122.549039  \n",
       "6   122.550725  \n",
       "9   122.549902  \n",
       "5   127.551429  \n",
       "4   127.551204  \n",
       "10  367.649412  "
      ]
     },
     "execution_count": 47,
     "metadata": {},
     "output_type": "execute_result"
    }
   ],
   "source": [
    "results.sort_values(by = [\"CTR\"], ascending = False)"
   ]
  },
  {
   "cell_type": "code",
   "execution_count": 48,
   "metadata": {},
   "outputs": [],
   "source": [
    "results.to_latex('./results.txt')"
   ]
  },
  {
   "cell_type": "code",
   "execution_count": 34,
   "metadata": {},
   "outputs": [
    {
     "data": {
      "image/png": "[encoded data removed]",
      "text/plain": [
       "<matplotlib.figure.Figure at 0x6a5e66d8>"
      ]
     },
     "metadata": {},
     "output_type": "display_data"
    }
   ],
   "source": [
    "plt.figure(figsize = (10,8))\n",
    "\n",
    "plt.subplot(3,1,1)\n",
    "plt.plot(thresh_pCTR, results[\"Clicks\"])\n",
    "plt.ylabel(\"Clicks\")\n",
    "\n",
    "plt.subplot(3,1,2)\n",
    "plt.plot(thresh_pCTR, results[\"CTR\"])\n",
    "plt.ylabel(\"CTR\")\n",
    "\n",
    "plt.subplot(3,1,3)\n",
    "plt.plot(thresh_pCTR, results[\"Cost\"])\n",
    "plt.ylabel(\"Cost\")\n",
    "plt.xlabel(\"thresh_pCTR\")\n",
    "\n",
    "plt.tight_layout()\n",
    "plt.savefig('./varying_pCTR.png')"
   ]
  },
  {
   "cell_type": "code",
   "execution_count": 35,
   "metadata": {},
   "outputs": [],
   "source": [
    "run_1_thresh_pCTR = thresh_pCTR\n",
    "run_1_clicks = results[\"Clicks\"]\n",
    "run_1_ctr = results[\"CTR\"]\n",
    "run_1_cost = results[\"Cost\"]\n",
    "\n",
    "\n",
    "\n"
   ]
  },
  {
   "cell_type": "code",
   "execution_count": null,
   "metadata": {},
   "outputs": [],
   "source": []
  }
 ],
 "metadata": {
  "kernelspec": {
   "display_name": "Python 3",
   "language": "python",
   "name": "python3"
  },
  "language_info": {
   "codemirror_mode": {
    "name": "ipython",
    "version": 3
   },
   "file_extension": ".py",
   "mimetype": "text/x-python",
   "name": "python",
   "nbconvert_exporter": "python",
   "pygments_lexer": "ipython3",
   "version": "3.6.2"
  }
 },
 "nbformat": 4,
 "nbformat_minor": 1
}
