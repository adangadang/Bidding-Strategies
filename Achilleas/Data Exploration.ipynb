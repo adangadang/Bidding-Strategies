{
 "cells": [
  {
   "cell_type": "markdown",
   "metadata": {},
   "source": [
    "# Abstract"
   ]
  },
  {
   "cell_type": "markdown",
   "metadata": {},
   "source": [
    "For the time being I have mainly used CTR to explore data. I will try to use other evalution metrics too later"
   ]
  },
  {
   "cell_type": "markdown",
   "metadata": {},
   "source": [
    "# Data Exploration"
   ]
  },
  {
   "cell_type": "code",
   "execution_count": 1,
   "metadata": {
    "collapsed": true
   },
   "outputs": [],
   "source": [
    "import pandas as pd\n",
    "import numpy as np\n",
    "import matplotlib.pyplot as plt\n",
    "import seaborn as sns\n",
    "\n",
    "%matplotlib inline\n",
    "pd.set_option('display.max_columns', None)"
   ]
  },
  {
   "cell_type": "code",
   "execution_count": 2,
   "metadata": {
    "collapsed": true
   },
   "outputs": [],
   "source": [
    "train = pd.read_csv(\"train.csv\")\n",
    "test = pd.read_csv(\"test.csv\")"
   ]
  },
  {
   "cell_type": "code",
   "execution_count": 3,
   "metadata": {},
   "outputs": [
    {
     "data": {
      "text/plain": [
       "(2430981, 25)"
      ]
     },
     "execution_count": 3,
     "metadata": {},
     "output_type": "execute_result"
    }
   ],
   "source": [
    "train.shape"
   ]
  },
  {
   "cell_type": "code",
   "execution_count": 4,
   "metadata": {},
   "outputs": [
    {
     "data": {
      "text/plain": [
       "Index(['click', 'weekday', 'hour', 'bidid', 'userid', 'useragent', 'IP',\n",
       "       'region', 'city', 'adexchange', 'domain', 'url', 'urlid', 'slotid',\n",
       "       'slotwidth', 'slotheight', 'slotvisibility', 'slotformat', 'slotprice',\n",
       "       'creative', 'bidprice', 'payprice', 'keypage', 'advertiser', 'usertag'],\n",
       "      dtype='object')"
      ]
     },
     "execution_count": 4,
     "metadata": {},
     "output_type": "execute_result"
    }
   ],
   "source": [
    "train.columns"
   ]
  },
  {
   "cell_type": "code",
   "execution_count": 5,
   "metadata": {
    "scrolled": true
   },
   "outputs": [
    {
     "name": "stdout",
     "output_type": "stream",
     "text": [
      "<class 'pandas.core.frame.DataFrame'>\n",
      "RangeIndex: 2430981 entries, 0 to 2430980\n",
      "Data columns (total 25 columns):\n",
      "click             int64\n",
      "weekday           int64\n",
      "hour              int64\n",
      "bidid             object\n",
      "userid            object\n",
      "useragent         object\n",
      "IP                object\n",
      "region            int64\n",
      "city              int64\n",
      "adexchange        object\n",
      "domain            object\n",
      "url               object\n",
      "urlid             object\n",
      "slotid            object\n",
      "slotwidth         int64\n",
      "slotheight        int64\n",
      "slotvisibility    object\n",
      "slotformat        object\n",
      "slotprice         int64\n",
      "creative          object\n",
      "bidprice          int64\n",
      "payprice          int64\n",
      "keypage           object\n",
      "advertiser        int64\n",
      "usertag           object\n",
      "dtypes: int64(11), object(14)\n",
      "memory usage: 463.7+ MB\n"
     ]
    }
   ],
   "source": [
    "train.info()"
   ]
  },
  {
   "cell_type": "code",
   "execution_count": 6,
   "metadata": {},
   "outputs": [
    {
     "data": {
      "text/html": [
       "<div>\n",
       "<style>\n",
       "    .dataframe thead tr:only-child th {\n",
       "        text-align: right;\n",
       "    }\n",
       "\n",
       "    .dataframe thead th {\n",
       "        text-align: left;\n",
       "    }\n",
       "\n",
       "    .dataframe tbody tr th {\n",
       "        vertical-align: top;\n",
       "    }\n",
       "</style>\n",
       "<table border=\"1\" class=\"dataframe\">\n",
       "  <thead>\n",
       "    <tr style=\"text-align: right;\">\n",
       "      <th></th>\n",
       "      <th>click</th>\n",
       "      <th>weekday</th>\n",
       "      <th>hour</th>\n",
       "      <th>bidid</th>\n",
       "      <th>userid</th>\n",
       "      <th>useragent</th>\n",
       "      <th>IP</th>\n",
       "      <th>region</th>\n",
       "      <th>city</th>\n",
       "      <th>adexchange</th>\n",
       "      <th>domain</th>\n",
       "      <th>url</th>\n",
       "      <th>urlid</th>\n",
       "      <th>slotid</th>\n",
       "      <th>slotwidth</th>\n",
       "      <th>slotheight</th>\n",
       "      <th>slotvisibility</th>\n",
       "      <th>slotformat</th>\n",
       "      <th>slotprice</th>\n",
       "      <th>creative</th>\n",
       "      <th>bidprice</th>\n",
       "      <th>payprice</th>\n",
       "      <th>keypage</th>\n",
       "      <th>advertiser</th>\n",
       "      <th>usertag</th>\n",
       "    </tr>\n",
       "  </thead>\n",
       "  <tbody>\n",
       "    <tr>\n",
       "      <th>0</th>\n",
       "      <td>0</td>\n",
       "      <td>5</td>\n",
       "      <td>22</td>\n",
       "      <td>b7bea80521fdecd95d2d761a38c91c3f09618066</td>\n",
       "      <td>2e880fb7d690cf7377b2e42e701728e3f3c0e4c1</td>\n",
       "      <td>windows_ie</td>\n",
       "      <td>125.37.175.*</td>\n",
       "      <td>2</td>\n",
       "      <td>2</td>\n",
       "      <td>2</td>\n",
       "      <td>trqRTvKaXTKfgg24JKTI</td>\n",
       "      <td>6447a7dfa30fe6eb410c91860e7c9b45</td>\n",
       "      <td>null</td>\n",
       "      <td>2015392487</td>\n",
       "      <td>200</td>\n",
       "      <td>200</td>\n",
       "      <td>2</td>\n",
       "      <td>0</td>\n",
       "      <td>5</td>\n",
       "      <td>a4f763f78ef3eedfe614263b94a8924e</td>\n",
       "      <td>238</td>\n",
       "      <td>5</td>\n",
       "      <td>0f951a030abdaedd733ee8d114ce2944</td>\n",
       "      <td>3427</td>\n",
       "      <td>null</td>\n",
       "    </tr>\n",
       "    <tr>\n",
       "      <th>1</th>\n",
       "      <td>0</td>\n",
       "      <td>1</td>\n",
       "      <td>20</td>\n",
       "      <td>4f51205475678f5a124bc76b2c54163bf8eaa7eb</td>\n",
       "      <td>3a1fe01360ff8100e7d006b83b77a3e4c01d928c</td>\n",
       "      <td>windows_chrome</td>\n",
       "      <td>171.36.92.*</td>\n",
       "      <td>238</td>\n",
       "      <td>239</td>\n",
       "      <td>1</td>\n",
       "      <td>20fc675468712705dbf5d3eda94126da</td>\n",
       "      <td>3ddf173a94bd23c326683b6373c75dd4</td>\n",
       "      <td>null</td>\n",
       "      <td>mm_10982364_973726_8930541</td>\n",
       "      <td>300</td>\n",
       "      <td>250</td>\n",
       "      <td>FourthView</td>\n",
       "      <td>Na</td>\n",
       "      <td>0</td>\n",
       "      <td>10722</td>\n",
       "      <td>294</td>\n",
       "      <td>23</td>\n",
       "      <td>null</td>\n",
       "      <td>2821</td>\n",
       "      <td>null</td>\n",
       "    </tr>\n",
       "    <tr>\n",
       "      <th>2</th>\n",
       "      <td>0</td>\n",
       "      <td>3</td>\n",
       "      <td>13</td>\n",
       "      <td>b604e3fd054a658ab7ced4285ebf2ef54d2bd890</td>\n",
       "      <td>801d18a056b6fe6b06a794aef17fb0d6daff2414</td>\n",
       "      <td>windows_ie</td>\n",
       "      <td>59.46.106.*</td>\n",
       "      <td>40</td>\n",
       "      <td>41</td>\n",
       "      <td>2</td>\n",
       "      <td>trqRTJn7O95I1mKYUV</td>\n",
       "      <td>625d1b5916ea925332c7b326c0574cfa</td>\n",
       "      <td>null</td>\n",
       "      <td>1720123646</td>\n",
       "      <td>250</td>\n",
       "      <td>250</td>\n",
       "      <td>2</td>\n",
       "      <td>0</td>\n",
       "      <td>5</td>\n",
       "      <td>798b2d49952d77f1eace9f23c210d0b5</td>\n",
       "      <td>238</td>\n",
       "      <td>24</td>\n",
       "      <td>0f951a030abdaedd733ee8d114ce2944</td>\n",
       "      <td>3427</td>\n",
       "      <td>10052,10006,13866,10110</td>\n",
       "    </tr>\n",
       "    <tr>\n",
       "      <th>3</th>\n",
       "      <td>0</td>\n",
       "      <td>6</td>\n",
       "      <td>23</td>\n",
       "      <td>0348beeae93e561584c3b50fc9e7746a33048ad7</td>\n",
       "      <td>0d6eaf2259699990e38a1fc5116f112070b9ecdc</td>\n",
       "      <td>windows_ie</td>\n",
       "      <td>114.250.226.*</td>\n",
       "      <td>1</td>\n",
       "      <td>1</td>\n",
       "      <td>1</td>\n",
       "      <td>5F97t5E0BTK7XhNrUMpENpn</td>\n",
       "      <td>dedc488b98ca20707bc9a723957e7d1f</td>\n",
       "      <td>null</td>\n",
       "      <td>mm_10027070_118039_10308280</td>\n",
       "      <td>160</td>\n",
       "      <td>600</td>\n",
       "      <td>2</td>\n",
       "      <td>1</td>\n",
       "      <td>0</td>\n",
       "      <td>cb7c76e7784031272e37af8e7e9b062c</td>\n",
       "      <td>300</td>\n",
       "      <td>25</td>\n",
       "      <td>bebefa5efe83beee17a3d245e7c5085b</td>\n",
       "      <td>1458</td>\n",
       "      <td>13866,10063,10111</td>\n",
       "    </tr>\n",
       "    <tr>\n",
       "      <th>4</th>\n",
       "      <td>0</td>\n",
       "      <td>5</td>\n",
       "      <td>6</td>\n",
       "      <td>268149c1789bce2bc9798ffd97ec431219bafeb3</td>\n",
       "      <td>a239d9bb642460d974ba67f85e63b8d3e214da0e</td>\n",
       "      <td>windows_ie</td>\n",
       "      <td>183.63.192.*</td>\n",
       "      <td>216</td>\n",
       "      <td>233</td>\n",
       "      <td>2</td>\n",
       "      <td>13625cb070ffb306b425cd803c4b7ab4</td>\n",
       "      <td>4199d1227c511fc776b76594dabff9f8</td>\n",
       "      <td>null</td>\n",
       "      <td>1120200150</td>\n",
       "      <td>728</td>\n",
       "      <td>90</td>\n",
       "      <td>OtherView</td>\n",
       "      <td>Na</td>\n",
       "      <td>133</td>\n",
       "      <td>7330</td>\n",
       "      <td>277</td>\n",
       "      <td>133</td>\n",
       "      <td>null</td>\n",
       "      <td>2259</td>\n",
       "      <td>null</td>\n",
       "    </tr>\n",
       "    <tr>\n",
       "      <th>5</th>\n",
       "      <td>0</td>\n",
       "      <td>4</td>\n",
       "      <td>17</td>\n",
       "      <td>1be2cf4a47a2a6aee4b0fa64d1b786d3897be4f0</td>\n",
       "      <td>8810fd690f88ddfb797867e3e08e7816f274bd46</td>\n",
       "      <td>windows_ie</td>\n",
       "      <td>119.45.182.*</td>\n",
       "      <td>276</td>\n",
       "      <td>277</td>\n",
       "      <td>1</td>\n",
       "      <td>trqRTuxoGQdcFNKbuKz</td>\n",
       "      <td>bdbc836b2f86c0391bd2f1e1e50739b3</td>\n",
       "      <td>null</td>\n",
       "      <td>mm_10024662_3445902_11178345</td>\n",
       "      <td>336</td>\n",
       "      <td>280</td>\n",
       "      <td>2</td>\n",
       "      <td>1</td>\n",
       "      <td>0</td>\n",
       "      <td>77819d3e0b3467fe5c7b16d68ad923a1</td>\n",
       "      <td>300</td>\n",
       "      <td>123</td>\n",
       "      <td>bebefa5efe83beee17a3d245e7c5085b</td>\n",
       "      <td>1458</td>\n",
       "      <td>10006,10077,10063,10057,10110</td>\n",
       "    </tr>\n",
       "    <tr>\n",
       "      <th>6</th>\n",
       "      <td>0</td>\n",
       "      <td>3</td>\n",
       "      <td>12</td>\n",
       "      <td>6b4f23dd215a5f11136c2f29214236cfee1f0122</td>\n",
       "      <td>fbd1bcaf2b33108d2c7f88ac41f0b0194b508a9b</td>\n",
       "      <td>windows_ie</td>\n",
       "      <td>112.82.93.*</td>\n",
       "      <td>80</td>\n",
       "      <td>89</td>\n",
       "      <td>3</td>\n",
       "      <td>3FKElpuEMusyJqKbuKz</td>\n",
       "      <td>6957deb8d83340086ef3cb2abd9c7198</td>\n",
       "      <td>null</td>\n",
       "      <td>Fashion_F_Width1</td>\n",
       "      <td>1000</td>\n",
       "      <td>90</td>\n",
       "      <td>0</td>\n",
       "      <td>0</td>\n",
       "      <td>20</td>\n",
       "      <td>86c2543527c86a893d4d4f68810a0416</td>\n",
       "      <td>300</td>\n",
       "      <td>20</td>\n",
       "      <td>43f4a37f42a7c5e6219e2601b26c6976</td>\n",
       "      <td>3386</td>\n",
       "      <td>10083,10024,10063,13496,10093,10006,10057,10110</td>\n",
       "    </tr>\n",
       "    <tr>\n",
       "      <th>7</th>\n",
       "      <td>0</td>\n",
       "      <td>3</td>\n",
       "      <td>16</td>\n",
       "      <td>f7c1d8ea177211249456c79e194617ce107bc077</td>\n",
       "      <td>9b539ba886146562a3991fd9f94bb9f9bad1f647</td>\n",
       "      <td>windows_ie</td>\n",
       "      <td>118.75.92.*</td>\n",
       "      <td>15</td>\n",
       "      <td>19</td>\n",
       "      <td>1</td>\n",
       "      <td>trqRTvp8gIc7gspy</td>\n",
       "      <td>4c70d1fc007d5349286f58da6d08fa9</td>\n",
       "      <td>null</td>\n",
       "      <td>mm_33208362_3404787_11119183</td>\n",
       "      <td>160</td>\n",
       "      <td>600</td>\n",
       "      <td>2</td>\n",
       "      <td>1</td>\n",
       "      <td>0</td>\n",
       "      <td>cb7c76e7784031272e37af8e7e9b062c</td>\n",
       "      <td>300</td>\n",
       "      <td>134</td>\n",
       "      <td>bebefa5efe83beee17a3d245e7c5085b</td>\n",
       "      <td>1458</td>\n",
       "      <td>10063,10024,13800,13866,10006,10111</td>\n",
       "    </tr>\n",
       "    <tr>\n",
       "      <th>8</th>\n",
       "      <td>0</td>\n",
       "      <td>5</td>\n",
       "      <td>14</td>\n",
       "      <td>9e97694096fe8692851048a893231a7f7ff87922</td>\n",
       "      <td>ddc9c85b6a5726aafaa4c42239e90fb7a44a88d7</td>\n",
       "      <td>windows_ie</td>\n",
       "      <td>61.185.128.*</td>\n",
       "      <td>333</td>\n",
       "      <td>342</td>\n",
       "      <td>3</td>\n",
       "      <td>ersbQv1RdoTy1m58uG</td>\n",
       "      <td>cbec43b96a01da4a0e06cc78d483a24f</td>\n",
       "      <td>null</td>\n",
       "      <td>ALLINONE_F_Width1</td>\n",
       "      <td>1000</td>\n",
       "      <td>90</td>\n",
       "      <td>0</td>\n",
       "      <td>0</td>\n",
       "      <td>70</td>\n",
       "      <td>832b91d59d0cb5731431653204a76c0e</td>\n",
       "      <td>300</td>\n",
       "      <td>70</td>\n",
       "      <td>bebefa5efe83beee17a3d245e7c5085b</td>\n",
       "      <td>1458</td>\n",
       "      <td>10063,10006,10083,10110</td>\n",
       "    </tr>\n",
       "    <tr>\n",
       "      <th>9</th>\n",
       "      <td>0</td>\n",
       "      <td>5</td>\n",
       "      <td>0</td>\n",
       "      <td>d1b7c7fdb88ce3aa78a540bb29848dd77329a574</td>\n",
       "      <td>63b4f9a3638f81af361ab3c4190fd3e1b5e70fea</td>\n",
       "      <td>windows_chrome</td>\n",
       "      <td>117.9.211.*</td>\n",
       "      <td>2</td>\n",
       "      <td>2</td>\n",
       "      <td>3</td>\n",
       "      <td>ersbQv1RdoTy1m58uG</td>\n",
       "      <td>1b2f87d6f3b8b473afe7e9fbe597afca</td>\n",
       "      <td>null</td>\n",
       "      <td>ALLINONE_F_Width1</td>\n",
       "      <td>1000</td>\n",
       "      <td>90</td>\n",
       "      <td>0</td>\n",
       "      <td>0</td>\n",
       "      <td>70</td>\n",
       "      <td>a10c31a8ff5f42930b4c34035e523886</td>\n",
       "      <td>241</td>\n",
       "      <td>77</td>\n",
       "      <td>d29e59bf0f7f8243858b8183f14d4412</td>\n",
       "      <td>3358</td>\n",
       "      <td>13403,10031,10063,10083,10006,10077,10075,10110</td>\n",
       "    </tr>\n",
       "    <tr>\n",
       "      <th>10</th>\n",
       "      <td>0</td>\n",
       "      <td>6</td>\n",
       "      <td>16</td>\n",
       "      <td>14be67cc32f1a108f7a2737205146708d41a9edf</td>\n",
       "      <td>1f435cdb29528908a87749ba6552226bf7a5f0ad</td>\n",
       "      <td>windows_chrome</td>\n",
       "      <td>222.56.16.*</td>\n",
       "      <td>308</td>\n",
       "      <td>309</td>\n",
       "      <td>1</td>\n",
       "      <td>trqRTvNNXQmmwqKbJW</td>\n",
       "      <td>220a9ff58ce299810d298d96e52bd768</td>\n",
       "      <td>null</td>\n",
       "      <td>mm_12461596_2409002_11048653</td>\n",
       "      <td>300</td>\n",
       "      <td>250</td>\n",
       "      <td>1</td>\n",
       "      <td>1</td>\n",
       "      <td>0</td>\n",
       "      <td>00fccc64a1ee2809348509b7ac2a97a5</td>\n",
       "      <td>227</td>\n",
       "      <td>148</td>\n",
       "      <td>b2e35064f3549d447edbbdfb1f707c8c</td>\n",
       "      <td>3427</td>\n",
       "      <td>10063</td>\n",
       "    </tr>\n",
       "    <tr>\n",
       "      <th>11</th>\n",
       "      <td>0</td>\n",
       "      <td>1</td>\n",
       "      <td>18</td>\n",
       "      <td>699d636b4456c7ec1dceca3943b0fec735a88336</td>\n",
       "      <td>c4fa4884b00412dfee81e60c23fa1763711d2846</td>\n",
       "      <td>windows_ie</td>\n",
       "      <td>113.104.164.*</td>\n",
       "      <td>216</td>\n",
       "      <td>219</td>\n",
       "      <td>3</td>\n",
       "      <td>dd4270481b753dde29898e27c7c03920</td>\n",
       "      <td>8d6473e4bf909b39422bbaa2bfcc802e</td>\n",
       "      <td>null</td>\n",
       "      <td>ALLINONE_F_Width1</td>\n",
       "      <td>1000</td>\n",
       "      <td>90</td>\n",
       "      <td>Na</td>\n",
       "      <td>Na</td>\n",
       "      <td>70</td>\n",
       "      <td>7336</td>\n",
       "      <td>294</td>\n",
       "      <td>284</td>\n",
       "      <td>null</td>\n",
       "      <td>2259</td>\n",
       "      <td>10057,10059,10075,10083,10006,10031,10111,10063</td>\n",
       "    </tr>\n",
       "    <tr>\n",
       "      <th>12</th>\n",
       "      <td>0</td>\n",
       "      <td>2</td>\n",
       "      <td>21</td>\n",
       "      <td>83be02e32b55209c39ae3f0b76f0149f73585910</td>\n",
       "      <td>f39780ed2b506f3683ada7995ce789b95e2bf85b</td>\n",
       "      <td>windows_ie</td>\n",
       "      <td>114.139.26.*</td>\n",
       "      <td>298</td>\n",
       "      <td>301</td>\n",
       "      <td>1</td>\n",
       "      <td>trqRTv19X6ch1m58uG</td>\n",
       "      <td>f352098315de6ff77119d247f3aaada8</td>\n",
       "      <td>null</td>\n",
       "      <td>mm_10046784_143508_11405773</td>\n",
       "      <td>336</td>\n",
       "      <td>280</td>\n",
       "      <td>0</td>\n",
       "      <td>1</td>\n",
       "      <td>0</td>\n",
       "      <td>77819d3e0b3467fe5c7b16d68ad923a1</td>\n",
       "      <td>300</td>\n",
       "      <td>76</td>\n",
       "      <td>bebefa5efe83beee17a3d245e7c5085b</td>\n",
       "      <td>1458</td>\n",
       "      <td>null</td>\n",
       "    </tr>\n",
       "    <tr>\n",
       "      <th>13</th>\n",
       "      <td>0</td>\n",
       "      <td>0</td>\n",
       "      <td>21</td>\n",
       "      <td>619e54af34510d6c5c81694bb11350db56b7f230</td>\n",
       "      <td>01c95bd6c0507be7dd692968bf86bdd1b60992a9</td>\n",
       "      <td>windows_ie</td>\n",
       "      <td>139.208.59.*</td>\n",
       "      <td>55</td>\n",
       "      <td>64</td>\n",
       "      <td>4</td>\n",
       "      <td>cf1351503090e7f2f030470209f788a0</td>\n",
       "      <td>f799dcf694211b88b971df0943260e06</td>\n",
       "      <td>null</td>\n",
       "      <td>9223372032560549134</td>\n",
       "      <td>960</td>\n",
       "      <td>90</td>\n",
       "      <td>FirstView</td>\n",
       "      <td>Na</td>\n",
       "      <td>0</td>\n",
       "      <td>10717</td>\n",
       "      <td>294</td>\n",
       "      <td>21</td>\n",
       "      <td>null</td>\n",
       "      <td>2821</td>\n",
       "      <td>10057,11278,11724,16661,11379,10684,11576,1163...</td>\n",
       "    </tr>\n",
       "    <tr>\n",
       "      <th>14</th>\n",
       "      <td>0</td>\n",
       "      <td>4</td>\n",
       "      <td>6</td>\n",
       "      <td>e69615026cfac3d92829c754ac8131f3b772012a</td>\n",
       "      <td>bf707d585dbfadb090061e2649a67c8a59c3d9f1</td>\n",
       "      <td>windows_chrome</td>\n",
       "      <td>124.78.213.*</td>\n",
       "      <td>79</td>\n",
       "      <td>79</td>\n",
       "      <td>2</td>\n",
       "      <td>trqRTu1JjeBW1m58uG</td>\n",
       "      <td>9500da407577029748d52754138d133b</td>\n",
       "      <td>null</td>\n",
       "      <td>3179994907</td>\n",
       "      <td>250</td>\n",
       "      <td>250</td>\n",
       "      <td>1</td>\n",
       "      <td>0</td>\n",
       "      <td>5</td>\n",
       "      <td>798b2d49952d77f1eace9f23c210d0b5</td>\n",
       "      <td>238</td>\n",
       "      <td>91</td>\n",
       "      <td>0f951a030abdaedd733ee8d114ce2944</td>\n",
       "      <td>3427</td>\n",
       "      <td>13866</td>\n",
       "    </tr>\n",
       "    <tr>\n",
       "      <th>15</th>\n",
       "      <td>0</td>\n",
       "      <td>0</td>\n",
       "      <td>2</td>\n",
       "      <td>f6960768ba29f2d6c23427d018020d6964680904</td>\n",
       "      <td>9fc09005c687b9b22e55a054daf5ad2e60c1f3f3</td>\n",
       "      <td>windows_ie</td>\n",
       "      <td>122.198.132.*</td>\n",
       "      <td>1</td>\n",
       "      <td>1</td>\n",
       "      <td>3</td>\n",
       "      <td>3SCYZrn0Qo18XMB4JKTI</td>\n",
       "      <td>613346daf7f86e4e7db34affe4d8753e</td>\n",
       "      <td>null</td>\n",
       "      <td>discuz_18316225_004</td>\n",
       "      <td>728</td>\n",
       "      <td>90</td>\n",
       "      <td>0</td>\n",
       "      <td>0</td>\n",
       "      <td>20</td>\n",
       "      <td>b90c12ed2bd7950c6027bf9c6937c48a</td>\n",
       "      <td>300</td>\n",
       "      <td>20</td>\n",
       "      <td>43f4a37f42a7c5e6219e2601b26c6976</td>\n",
       "      <td>3386</td>\n",
       "      <td>null</td>\n",
       "    </tr>\n",
       "    <tr>\n",
       "      <th>16</th>\n",
       "      <td>0</td>\n",
       "      <td>1</td>\n",
       "      <td>0</td>\n",
       "      <td>0e308fed172cb6ed6f1c664dd4093df70965de73</td>\n",
       "      <td>fc00cd7ca2324cc41f82c31c037fcb25a4bdf6af</td>\n",
       "      <td>windows_chrome</td>\n",
       "      <td>124.119.84.*</td>\n",
       "      <td>374</td>\n",
       "      <td>387</td>\n",
       "      <td>1</td>\n",
       "      <td>cdc06a6ba07571f4b842a14390f861a</td>\n",
       "      <td>6730ab7aae04dd493140c22fae67d7f5</td>\n",
       "      <td>null</td>\n",
       "      <td>mm_10029307_121417_10971618</td>\n",
       "      <td>336</td>\n",
       "      <td>280</td>\n",
       "      <td>OtherView</td>\n",
       "      <td>Na</td>\n",
       "      <td>0</td>\n",
       "      <td>10720</td>\n",
       "      <td>294</td>\n",
       "      <td>161</td>\n",
       "      <td>null</td>\n",
       "      <td>2821</td>\n",
       "      <td>null</td>\n",
       "    </tr>\n",
       "    <tr>\n",
       "      <th>17</th>\n",
       "      <td>0</td>\n",
       "      <td>0</td>\n",
       "      <td>0</td>\n",
       "      <td>eab2aff284c8022eedc30b5ac6b82a635100658b</td>\n",
       "      <td>d8f1e92f29792fc3708ba58483ec36c35b4f3c8b</td>\n",
       "      <td>windows_ie</td>\n",
       "      <td>119.5.84.*</td>\n",
       "      <td>276</td>\n",
       "      <td>278</td>\n",
       "      <td>2</td>\n",
       "      <td>null</td>\n",
       "      <td>8071efbeb6c2fb167ef2eceace84e6c6</td>\n",
       "      <td>null</td>\n",
       "      <td>1648796975</td>\n",
       "      <td>336</td>\n",
       "      <td>280</td>\n",
       "      <td>2</td>\n",
       "      <td>0</td>\n",
       "      <td>4</td>\n",
       "      <td>77819d3e0b3467fe5c7b16d68ad923a1</td>\n",
       "      <td>300</td>\n",
       "      <td>5</td>\n",
       "      <td>bebefa5efe83beee17a3d245e7c5085b</td>\n",
       "      <td>1458</td>\n",
       "      <td>10006,10059,10063,10110</td>\n",
       "    </tr>\n",
       "    <tr>\n",
       "      <th>18</th>\n",
       "      <td>0</td>\n",
       "      <td>3</td>\n",
       "      <td>14</td>\n",
       "      <td>371b4f525895fdaf35eb820850b3da624ccffb2e</td>\n",
       "      <td>9b399552025f490fe9e90955219a40dfc7f790de</td>\n",
       "      <td>windows_ie</td>\n",
       "      <td>58.18.197.*</td>\n",
       "      <td>27</td>\n",
       "      <td>32</td>\n",
       "      <td>3</td>\n",
       "      <td>5F1RQS9rg5scFsf</td>\n",
       "      <td>5ecc1b7086333f5b0b034c32c8e6867c</td>\n",
       "      <td>null</td>\n",
       "      <td>News_F_Width1</td>\n",
       "      <td>1000</td>\n",
       "      <td>90</td>\n",
       "      <td>0</td>\n",
       "      <td>0</td>\n",
       "      <td>80</td>\n",
       "      <td>c46090c887c257b61ab1fa11baee91d8</td>\n",
       "      <td>241</td>\n",
       "      <td>88</td>\n",
       "      <td>0f951a030abdaedd733ee8d114ce2944</td>\n",
       "      <td>3427</td>\n",
       "      <td>10024,10006,10075,13800,10063,10111</td>\n",
       "    </tr>\n",
       "    <tr>\n",
       "      <th>19</th>\n",
       "      <td>0</td>\n",
       "      <td>4</td>\n",
       "      <td>20</td>\n",
       "      <td>2463f4c6b733b78a57ba238b0ff01906041208ff</td>\n",
       "      <td>e8202670ea64861279f99933d694ed716e1660af</td>\n",
       "      <td>windows_chrome</td>\n",
       "      <td>125.66.211.*</td>\n",
       "      <td>276</td>\n",
       "      <td>279</td>\n",
       "      <td>3</td>\n",
       "      <td>ersbQv1RdoTy1m58uG</td>\n",
       "      <td>5ca4edd8c9b82f26f5619daaa52982a2</td>\n",
       "      <td>null</td>\n",
       "      <td>ALLINONE_F_Width1</td>\n",
       "      <td>1000</td>\n",
       "      <td>90</td>\n",
       "      <td>0</td>\n",
       "      <td>0</td>\n",
       "      <td>70</td>\n",
       "      <td>86c2543527c86a893d4d4f68810a0416</td>\n",
       "      <td>300</td>\n",
       "      <td>70</td>\n",
       "      <td>43f4a37f42a7c5e6219e2601b26c6976</td>\n",
       "      <td>3386</td>\n",
       "      <td>10083,14273,13403,10063,10006,10110</td>\n",
       "    </tr>\n",
       "  </tbody>\n",
       "</table>\n",
       "</div>"
      ],
      "text/plain": [
       "    click  weekday  hour                                     bidid  \\\n",
       "0       0        5    22  b7bea80521fdecd95d2d761a38c91c3f09618066   \n",
       "1       0        1    20  4f51205475678f5a124bc76b2c54163bf8eaa7eb   \n",
       "2       0        3    13  b604e3fd054a658ab7ced4285ebf2ef54d2bd890   \n",
       "3       0        6    23  0348beeae93e561584c3b50fc9e7746a33048ad7   \n",
       "4       0        5     6  268149c1789bce2bc9798ffd97ec431219bafeb3   \n",
       "5       0        4    17  1be2cf4a47a2a6aee4b0fa64d1b786d3897be4f0   \n",
       "6       0        3    12  6b4f23dd215a5f11136c2f29214236cfee1f0122   \n",
       "7       0        3    16  f7c1d8ea177211249456c79e194617ce107bc077   \n",
       "8       0        5    14  9e97694096fe8692851048a893231a7f7ff87922   \n",
       "9       0        5     0  d1b7c7fdb88ce3aa78a540bb29848dd77329a574   \n",
       "10      0        6    16  14be67cc32f1a108f7a2737205146708d41a9edf   \n",
       "11      0        1    18  699d636b4456c7ec1dceca3943b0fec735a88336   \n",
       "12      0        2    21  83be02e32b55209c39ae3f0b76f0149f73585910   \n",
       "13      0        0    21  619e54af34510d6c5c81694bb11350db56b7f230   \n",
       "14      0        4     6  e69615026cfac3d92829c754ac8131f3b772012a   \n",
       "15      0        0     2  f6960768ba29f2d6c23427d018020d6964680904   \n",
       "16      0        1     0  0e308fed172cb6ed6f1c664dd4093df70965de73   \n",
       "17      0        0     0  eab2aff284c8022eedc30b5ac6b82a635100658b   \n",
       "18      0        3    14  371b4f525895fdaf35eb820850b3da624ccffb2e   \n",
       "19      0        4    20  2463f4c6b733b78a57ba238b0ff01906041208ff   \n",
       "\n",
       "                                      userid       useragent             IP  \\\n",
       "0   2e880fb7d690cf7377b2e42e701728e3f3c0e4c1      windows_ie   125.37.175.*   \n",
       "1   3a1fe01360ff8100e7d006b83b77a3e4c01d928c  windows_chrome    171.36.92.*   \n",
       "2   801d18a056b6fe6b06a794aef17fb0d6daff2414      windows_ie    59.46.106.*   \n",
       "3   0d6eaf2259699990e38a1fc5116f112070b9ecdc      windows_ie  114.250.226.*   \n",
       "4   a239d9bb642460d974ba67f85e63b8d3e214da0e      windows_ie   183.63.192.*   \n",
       "5   8810fd690f88ddfb797867e3e08e7816f274bd46      windows_ie   119.45.182.*   \n",
       "6   fbd1bcaf2b33108d2c7f88ac41f0b0194b508a9b      windows_ie    112.82.93.*   \n",
       "7   9b539ba886146562a3991fd9f94bb9f9bad1f647      windows_ie    118.75.92.*   \n",
       "8   ddc9c85b6a5726aafaa4c42239e90fb7a44a88d7      windows_ie   61.185.128.*   \n",
       "9   63b4f9a3638f81af361ab3c4190fd3e1b5e70fea  windows_chrome    117.9.211.*   \n",
       "10  1f435cdb29528908a87749ba6552226bf7a5f0ad  windows_chrome    222.56.16.*   \n",
       "11  c4fa4884b00412dfee81e60c23fa1763711d2846      windows_ie  113.104.164.*   \n",
       "12  f39780ed2b506f3683ada7995ce789b95e2bf85b      windows_ie   114.139.26.*   \n",
       "13  01c95bd6c0507be7dd692968bf86bdd1b60992a9      windows_ie   139.208.59.*   \n",
       "14  bf707d585dbfadb090061e2649a67c8a59c3d9f1  windows_chrome   124.78.213.*   \n",
       "15  9fc09005c687b9b22e55a054daf5ad2e60c1f3f3      windows_ie  122.198.132.*   \n",
       "16  fc00cd7ca2324cc41f82c31c037fcb25a4bdf6af  windows_chrome   124.119.84.*   \n",
       "17  d8f1e92f29792fc3708ba58483ec36c35b4f3c8b      windows_ie     119.5.84.*   \n",
       "18  9b399552025f490fe9e90955219a40dfc7f790de      windows_ie    58.18.197.*   \n",
       "19  e8202670ea64861279f99933d694ed716e1660af  windows_chrome   125.66.211.*   \n",
       "\n",
       "    region  city adexchange                            domain  \\\n",
       "0        2     2          2              trqRTvKaXTKfgg24JKTI   \n",
       "1      238   239          1  20fc675468712705dbf5d3eda94126da   \n",
       "2       40    41          2                trqRTJn7O95I1mKYUV   \n",
       "3        1     1          1           5F97t5E0BTK7XhNrUMpENpn   \n",
       "4      216   233          2  13625cb070ffb306b425cd803c4b7ab4   \n",
       "5      276   277          1               trqRTuxoGQdcFNKbuKz   \n",
       "6       80    89          3               3FKElpuEMusyJqKbuKz   \n",
       "7       15    19          1                  trqRTvp8gIc7gspy   \n",
       "8      333   342          3                ersbQv1RdoTy1m58uG   \n",
       "9        2     2          3                ersbQv1RdoTy1m58uG   \n",
       "10     308   309          1                trqRTvNNXQmmwqKbJW   \n",
       "11     216   219          3  dd4270481b753dde29898e27c7c03920   \n",
       "12     298   301          1                trqRTv19X6ch1m58uG   \n",
       "13      55    64          4  cf1351503090e7f2f030470209f788a0   \n",
       "14      79    79          2                trqRTu1JjeBW1m58uG   \n",
       "15       1     1          3              3SCYZrn0Qo18XMB4JKTI   \n",
       "16     374   387          1   cdc06a6ba07571f4b842a14390f861a   \n",
       "17     276   278          2                              null   \n",
       "18      27    32          3                   5F1RQS9rg5scFsf   \n",
       "19     276   279          3                ersbQv1RdoTy1m58uG   \n",
       "\n",
       "                                 url urlid                        slotid  \\\n",
       "0   6447a7dfa30fe6eb410c91860e7c9b45  null                    2015392487   \n",
       "1   3ddf173a94bd23c326683b6373c75dd4  null    mm_10982364_973726_8930541   \n",
       "2   625d1b5916ea925332c7b326c0574cfa  null                    1720123646   \n",
       "3   dedc488b98ca20707bc9a723957e7d1f  null   mm_10027070_118039_10308280   \n",
       "4   4199d1227c511fc776b76594dabff9f8  null                    1120200150   \n",
       "5   bdbc836b2f86c0391bd2f1e1e50739b3  null  mm_10024662_3445902_11178345   \n",
       "6   6957deb8d83340086ef3cb2abd9c7198  null              Fashion_F_Width1   \n",
       "7    4c70d1fc007d5349286f58da6d08fa9  null  mm_33208362_3404787_11119183   \n",
       "8   cbec43b96a01da4a0e06cc78d483a24f  null             ALLINONE_F_Width1   \n",
       "9   1b2f87d6f3b8b473afe7e9fbe597afca  null             ALLINONE_F_Width1   \n",
       "10  220a9ff58ce299810d298d96e52bd768  null  mm_12461596_2409002_11048653   \n",
       "11  8d6473e4bf909b39422bbaa2bfcc802e  null             ALLINONE_F_Width1   \n",
       "12  f352098315de6ff77119d247f3aaada8  null   mm_10046784_143508_11405773   \n",
       "13  f799dcf694211b88b971df0943260e06  null           9223372032560549134   \n",
       "14  9500da407577029748d52754138d133b  null                    3179994907   \n",
       "15  613346daf7f86e4e7db34affe4d8753e  null           discuz_18316225_004   \n",
       "16  6730ab7aae04dd493140c22fae67d7f5  null   mm_10029307_121417_10971618   \n",
       "17  8071efbeb6c2fb167ef2eceace84e6c6  null                    1648796975   \n",
       "18  5ecc1b7086333f5b0b034c32c8e6867c  null                 News_F_Width1   \n",
       "19  5ca4edd8c9b82f26f5619daaa52982a2  null             ALLINONE_F_Width1   \n",
       "\n",
       "    slotwidth  slotheight slotvisibility slotformat  slotprice  \\\n",
       "0         200         200              2          0          5   \n",
       "1         300         250     FourthView         Na          0   \n",
       "2         250         250              2          0          5   \n",
       "3         160         600              2          1          0   \n",
       "4         728          90      OtherView         Na        133   \n",
       "5         336         280              2          1          0   \n",
       "6        1000          90              0          0         20   \n",
       "7         160         600              2          1          0   \n",
       "8        1000          90              0          0         70   \n",
       "9        1000          90              0          0         70   \n",
       "10        300         250              1          1          0   \n",
       "11       1000          90             Na         Na         70   \n",
       "12        336         280              0          1          0   \n",
       "13        960          90      FirstView         Na          0   \n",
       "14        250         250              1          0          5   \n",
       "15        728          90              0          0         20   \n",
       "16        336         280      OtherView         Na          0   \n",
       "17        336         280              2          0          4   \n",
       "18       1000          90              0          0         80   \n",
       "19       1000          90              0          0         70   \n",
       "\n",
       "                            creative  bidprice  payprice  \\\n",
       "0   a4f763f78ef3eedfe614263b94a8924e       238         5   \n",
       "1                              10722       294        23   \n",
       "2   798b2d49952d77f1eace9f23c210d0b5       238        24   \n",
       "3   cb7c76e7784031272e37af8e7e9b062c       300        25   \n",
       "4                               7330       277       133   \n",
       "5   77819d3e0b3467fe5c7b16d68ad923a1       300       123   \n",
       "6   86c2543527c86a893d4d4f68810a0416       300        20   \n",
       "7   cb7c76e7784031272e37af8e7e9b062c       300       134   \n",
       "8   832b91d59d0cb5731431653204a76c0e       300        70   \n",
       "9   a10c31a8ff5f42930b4c34035e523886       241        77   \n",
       "10  00fccc64a1ee2809348509b7ac2a97a5       227       148   \n",
       "11                              7336       294       284   \n",
       "12  77819d3e0b3467fe5c7b16d68ad923a1       300        76   \n",
       "13                             10717       294        21   \n",
       "14  798b2d49952d77f1eace9f23c210d0b5       238        91   \n",
       "15  b90c12ed2bd7950c6027bf9c6937c48a       300        20   \n",
       "16                             10720       294       161   \n",
       "17  77819d3e0b3467fe5c7b16d68ad923a1       300         5   \n",
       "18  c46090c887c257b61ab1fa11baee91d8       241        88   \n",
       "19  86c2543527c86a893d4d4f68810a0416       300        70   \n",
       "\n",
       "                             keypage  advertiser  \\\n",
       "0   0f951a030abdaedd733ee8d114ce2944        3427   \n",
       "1                               null        2821   \n",
       "2   0f951a030abdaedd733ee8d114ce2944        3427   \n",
       "3   bebefa5efe83beee17a3d245e7c5085b        1458   \n",
       "4                               null        2259   \n",
       "5   bebefa5efe83beee17a3d245e7c5085b        1458   \n",
       "6   43f4a37f42a7c5e6219e2601b26c6976        3386   \n",
       "7   bebefa5efe83beee17a3d245e7c5085b        1458   \n",
       "8   bebefa5efe83beee17a3d245e7c5085b        1458   \n",
       "9   d29e59bf0f7f8243858b8183f14d4412        3358   \n",
       "10  b2e35064f3549d447edbbdfb1f707c8c        3427   \n",
       "11                              null        2259   \n",
       "12  bebefa5efe83beee17a3d245e7c5085b        1458   \n",
       "13                              null        2821   \n",
       "14  0f951a030abdaedd733ee8d114ce2944        3427   \n",
       "15  43f4a37f42a7c5e6219e2601b26c6976        3386   \n",
       "16                              null        2821   \n",
       "17  bebefa5efe83beee17a3d245e7c5085b        1458   \n",
       "18  0f951a030abdaedd733ee8d114ce2944        3427   \n",
       "19  43f4a37f42a7c5e6219e2601b26c6976        3386   \n",
       "\n",
       "                                              usertag  \n",
       "0                                                null  \n",
       "1                                                null  \n",
       "2                             10052,10006,13866,10110  \n",
       "3                                   13866,10063,10111  \n",
       "4                                                null  \n",
       "5                       10006,10077,10063,10057,10110  \n",
       "6     10083,10024,10063,13496,10093,10006,10057,10110  \n",
       "7                 10063,10024,13800,13866,10006,10111  \n",
       "8                             10063,10006,10083,10110  \n",
       "9     13403,10031,10063,10083,10006,10077,10075,10110  \n",
       "10                                              10063  \n",
       "11    10057,10059,10075,10083,10006,10031,10111,10063  \n",
       "12                                               null  \n",
       "13  10057,11278,11724,16661,11379,10684,11576,1163...  \n",
       "14                                              13866  \n",
       "15                                               null  \n",
       "16                                               null  \n",
       "17                            10006,10059,10063,10110  \n",
       "18                10024,10006,10075,13800,10063,10111  \n",
       "19                10083,14273,13403,10063,10006,10110  "
      ]
     },
     "execution_count": 6,
     "metadata": {},
     "output_type": "execute_result"
    }
   ],
   "source": [
    "train.head(20)"
   ]
  },
  {
   "cell_type": "markdown",
   "metadata": {},
   "source": [
    "### Null values"
   ]
  },
  {
   "cell_type": "code",
   "execution_count": 7,
   "metadata": {},
   "outputs": [
    {
     "data": {
      "text/html": [
       "<div>\n",
       "<style>\n",
       "    .dataframe thead tr:only-child th {\n",
       "        text-align: right;\n",
       "    }\n",
       "\n",
       "    .dataframe thead th {\n",
       "        text-align: left;\n",
       "    }\n",
       "\n",
       "    .dataframe tbody tr th {\n",
       "        vertical-align: top;\n",
       "    }\n",
       "</style>\n",
       "<table border=\"1\" class=\"dataframe\">\n",
       "  <thead>\n",
       "    <tr style=\"text-align: right;\">\n",
       "      <th></th>\n",
       "      <th>0</th>\n",
       "    </tr>\n",
       "  </thead>\n",
       "  <tbody>\n",
       "    <tr>\n",
       "      <th>bidid</th>\n",
       "      <td>0.000000</td>\n",
       "    </tr>\n",
       "    <tr>\n",
       "      <th>userid</th>\n",
       "      <td>0.000000</td>\n",
       "    </tr>\n",
       "    <tr>\n",
       "      <th>useragent</th>\n",
       "      <td>0.000000</td>\n",
       "    </tr>\n",
       "    <tr>\n",
       "      <th>IP</th>\n",
       "      <td>0.000000</td>\n",
       "    </tr>\n",
       "    <tr>\n",
       "      <th>adexchange</th>\n",
       "      <td>0.020497</td>\n",
       "    </tr>\n",
       "    <tr>\n",
       "      <th>domain</th>\n",
       "      <td>0.056411</td>\n",
       "    </tr>\n",
       "    <tr>\n",
       "      <th>url</th>\n",
       "      <td>0.035711</td>\n",
       "    </tr>\n",
       "    <tr>\n",
       "      <th>urlid</th>\n",
       "      <td>1.000000</td>\n",
       "    </tr>\n",
       "    <tr>\n",
       "      <th>slotid</th>\n",
       "      <td>0.000000</td>\n",
       "    </tr>\n",
       "    <tr>\n",
       "      <th>slotvisibility</th>\n",
       "      <td>0.000000</td>\n",
       "    </tr>\n",
       "    <tr>\n",
       "      <th>slotformat</th>\n",
       "      <td>0.000000</td>\n",
       "    </tr>\n",
       "    <tr>\n",
       "      <th>creative</th>\n",
       "      <td>0.000000</td>\n",
       "    </tr>\n",
       "    <tr>\n",
       "      <th>keypage</th>\n",
       "      <td>0.207731</td>\n",
       "    </tr>\n",
       "    <tr>\n",
       "      <th>usertag</th>\n",
       "      <td>0.204641</td>\n",
       "    </tr>\n",
       "  </tbody>\n",
       "</table>\n",
       "</div>"
      ],
      "text/plain": [
       "                       0\n",
       "bidid           0.000000\n",
       "userid          0.000000\n",
       "useragent       0.000000\n",
       "IP              0.000000\n",
       "adexchange      0.020497\n",
       "domain          0.056411\n",
       "url             0.035711\n",
       "urlid           1.000000\n",
       "slotid          0.000000\n",
       "slotvisibility  0.000000\n",
       "slotformat      0.000000\n",
       "creative        0.000000\n",
       "keypage         0.207731\n",
       "usertag         0.204641"
      ]
     },
     "execution_count": 7,
     "metadata": {},
     "output_type": "execute_result"
    }
   ],
   "source": [
    "obj_cols = list(train.select_dtypes(include=['object']).columns)\n",
    "nulls_list = [train[col].str.match(\"null\").sum()/train.shape[0] for col in obj_cols]\n",
    "nulls_df = pd.DataFrame(index = obj_cols, data = nulls_list)\n",
    "nulls_df"
   ]
  },
  {
   "cell_type": "markdown",
   "metadata": {},
   "source": [
    "## New features"
   ]
  },
  {
   "cell_type": "code",
   "execution_count": 8,
   "metadata": {
    "collapsed": true
   },
   "outputs": [],
   "source": [
    "train[\"os\"] = train[\"useragent\"].map(lambda x: x.split(\"_\")[0])\n",
    "train[\"browser\"] = train[\"useragent\"].map(lambda x: x.split(\"_\")[1])\n",
    "train[\"slotarea\"] = train[\"slotwidth\"]*train[\"slotheight\"].astype(\"category\")"
   ]
  },
  {
   "cell_type": "markdown",
   "metadata": {},
   "source": [
    "# Aggregated Statistics"
   ]
  },
  {
   "cell_type": "markdown",
   "metadata": {},
   "source": [
    "I am not sure if it is meaningful to explore aggregated statistics, since different advertisers seem to present quite different behaviors. However, we will take a look in case we find some interesting patterns."
   ]
  },
  {
   "cell_type": "code",
   "execution_count": 9,
   "metadata": {
    "collapsed": true
   },
   "outputs": [],
   "source": [
    "def Aggregated_CTR(df, by = \"weekday\"):\n",
    "    \n",
    "    feat = df[by].unique()\n",
    "    res = pd.DataFrame(columns = [by, \"CTR\"])\n",
    "    i = 0\n",
    "    \n",
    "    for f in feat:\n",
    "        \n",
    "        df_ = df.loc[df[by] == f]\n",
    "        \n",
    "        # Number of impressions\n",
    "        impr = df_.shape[0]\n",
    "\n",
    "        # Number of clicks\n",
    "        clicks = df_[\"click\"].sum()\n",
    "\n",
    "        # CTR\n",
    "        ctr = clicks*100/impr\n",
    "        \n",
    "        # Store results to dataframe\n",
    "        res.loc[i] = [f, ctr]\n",
    "        i+=1\n",
    "        \n",
    "    return res"
   ]
  },
  {
   "cell_type": "markdown",
   "metadata": {},
   "source": [
    "### Weekday"
   ]
  },
  {
   "cell_type": "code",
   "execution_count": 10,
   "metadata": {},
   "outputs": [
    {
     "data": {
      "text/plain": [
       "<matplotlib.axes._subplots.AxesSubplot at 0x1e877596390>"
      ]
     },
     "execution_count": 10,
     "metadata": {},
     "output_type": "execute_result"
    },
    {
     "data": {
      "image/png": "[encoded data removed]",
      "text/plain": [
       "<matplotlib.figure.Figure at 0x1e864e5e4a8>"
      ]
     },
     "metadata": {},
     "output_type": "display_data"
    }
   ],
   "source": [
    "plt.figure(figsize = (12,6))\n",
    "sns.barplot(x = \"weekday\", y = \"CTR\", data = Aggregated_CTR(train, \"weekday\"), color = \"lightgreen\")"
   ]
  },
  {
   "cell_type": "markdown",
   "metadata": {},
   "source": [
    "### Hour"
   ]
  },
  {
   "cell_type": "code",
   "execution_count": 11,
   "metadata": {},
   "outputs": [
    {
     "data": {
      "text/plain": [
       "<matplotlib.axes._subplots.AxesSubplot at 0x1e8889bacc0>"
      ]
     },
     "execution_count": 11,
     "metadata": {},
     "output_type": "execute_result"
    },
    {
     "data": {
      "image/png": "[encoded data removed]",
      "text/plain": [
       "<matplotlib.figure.Figure at 0x1e864c9d828>"
      ]
     },
     "metadata": {},
     "output_type": "display_data"
    }
   ],
   "source": [
    "plt.figure(figsize = (12,6))\n",
    "sns.barplot(x = \"hour\", y = \"CTR\", data = Aggregated_CTR(train, \"hour\"), color = \"lightgreen\")"
   ]
  },
  {
   "cell_type": "markdown",
   "metadata": {},
   "source": [
    "### OS"
   ]
  },
  {
   "cell_type": "code",
   "execution_count": 12,
   "metadata": {},
   "outputs": [
    {
     "data": {
      "text/plain": [
       "<matplotlib.axes._subplots.AxesSubplot at 0x1e864da4eb8>"
      ]
     },
     "execution_count": 12,
     "metadata": {},
     "output_type": "execute_result"
    },
    {
     "data": {
      "image/png": "[encoded data removed]",
      "text/plain": [
       "<matplotlib.figure.Figure at 0x1e864ceffd0>"
      ]
     },
     "metadata": {},
     "output_type": "display_data"
    }
   ],
   "source": [
    "plt.figure(figsize = (12,6))\n",
    "sns.barplot(x = \"os\", y = \"CTR\", data = Aggregated_CTR(train, \"os\"), color = \"lightgreen\")"
   ]
  },
  {
   "cell_type": "markdown",
   "metadata": {},
   "source": [
    "### Browser"
   ]
  },
  {
   "cell_type": "code",
   "execution_count": 13,
   "metadata": {},
   "outputs": [
    {
     "data": {
      "text/plain": [
       "<matplotlib.axes._subplots.AxesSubplot at 0x1e8651b2208>"
      ]
     },
     "execution_count": 13,
     "metadata": {},
     "output_type": "execute_result"
    },
    {
     "data": {
      "image/png": "[encoded data removed]",
      "text/plain": [
       "<matplotlib.figure.Figure at 0x1e8651d9898>"
      ]
     },
     "metadata": {},
     "output_type": "display_data"
    }
   ],
   "source": [
    "plt.figure(figsize = (12,6))\n",
    "sns.barplot(x = \"browser\", y = \"CTR\", data = Aggregated_CTR(train, \"browser\"), color = \"lightgreen\")"
   ]
  },
  {
   "cell_type": "markdown",
   "metadata": {},
   "source": [
    "### Slotarea"
   ]
  },
  {
   "cell_type": "code",
   "execution_count": 14,
   "metadata": {},
   "outputs": [
    {
     "data": {
      "text/plain": [
       "(array([ 0,  1,  2,  3,  4,  5,  6,  7,  8,  9, 10, 11, 12, 13, 14, 15, 16,\n",
       "        17, 18, 19, 20, 21, 22, 23, 24, 25]),\n",
       " <a list of 26 Text xticklabel objects>)"
      ]
     },
     "execution_count": 14,
     "metadata": {},
     "output_type": "execute_result"
    },
    {
     "data": {
      "image/png": "[encoded data removed]",
      "text/plain": [
       "<matplotlib.figure.Figure at 0x1e8651a2c88>"
      ]
     },
     "metadata": {},
     "output_type": "display_data"
    }
   ],
   "source": [
    "plt.figure(figsize = (12,6))\n",
    "sns.barplot(x = \"slotarea\", y = \"CTR\", data = Aggregated_CTR(train, \"slotarea\"), color = \"lightgreen\")\n",
    "plt.xticks(rotation = 90)"
   ]
  },
  {
   "cell_type": "markdown",
   "metadata": {},
   "source": [
    "### Slotvisibility"
   ]
  },
  {
   "cell_type": "code",
   "execution_count": 15,
   "metadata": {},
   "outputs": [
    {
     "data": {
      "text/plain": [
       "<matplotlib.axes._subplots.AxesSubplot at 0x1e8655d7f28>"
      ]
     },
     "execution_count": 15,
     "metadata": {},
     "output_type": "execute_result"
    },
    {
     "data": {
      "image/png": "[encoded data removed]",
      "text/plain": [
       "<matplotlib.figure.Figure at 0x1e8651d9860>"
      ]
     },
     "metadata": {},
     "output_type": "display_data"
    }
   ],
   "source": [
    "plt.figure(figsize = (12,6))\n",
    "sns.barplot(x = \"slotvisibility\", y = \"CTR\", data = Aggregated_CTR(train, \"slotvisibility\"), color = \"lightgreen\")"
   ]
  },
  {
   "cell_type": "markdown",
   "metadata": {},
   "source": [
    "### Bidprice VS Payprice"
   ]
  },
  {
   "cell_type": "code",
   "execution_count": 16,
   "metadata": {},
   "outputs": [
    {
     "data": {
      "image/png": "[encoded data removed]",
      "text/plain": [
       "<matplotlib.figure.Figure at 0x1e86543bd68>"
      ]
     },
     "metadata": {},
     "output_type": "display_data"
    }
   ],
   "source": [
    "plt.figure(figsize = (12,6))\n",
    "\n",
    "ax = plt.subplot(2,1,1)\n",
    "sns.distplot(train[\"bidprice\"], kde = False, norm_hist = True, color = \"green\")\n",
    "ax.set_xlim([0,300])\n",
    "\n",
    "ax = plt.subplot(2,1,2)\n",
    "sns.distplot(train[\"payprice\"], bins = 30, kde = False, norm_hist = True, color = \"green\")\n",
    "\n",
    "plt.tight_layout()"
   ]
  },
  {
   "cell_type": "markdown",
   "metadata": {},
   "source": [
    "# Statistics per Advertiser"
   ]
  },
  {
   "cell_type": "code",
   "execution_count": 17,
   "metadata": {},
   "outputs": [
    {
     "data": {
      "text/plain": [
       "1458    492353\n",
       "3386    455041\n",
       "3427    402806\n",
       "3476    310835\n",
       "3358    264956\n",
       "2821    211366\n",
       "2259    133673\n",
       "2261    110122\n",
       "2997     49829\n",
       "Name: advertiser, dtype: int64"
      ]
     },
     "execution_count": 17,
     "metadata": {},
     "output_type": "execute_result"
    }
   ],
   "source": [
    "train[\"advertiser\"].value_counts()"
   ]
  },
  {
   "cell_type": "code",
   "execution_count": 18,
   "metadata": {},
   "outputs": [
    {
     "data": {
      "text/plain": [
       "array([3427, 2821, 1458, 2259, 3386, 3358, 3476, 2261, 2997], dtype=int64)"
      ]
     },
     "execution_count": 18,
     "metadata": {},
     "output_type": "execute_result"
    }
   ],
   "source": [
    "advert = train[\"advertiser\"].unique()\n",
    "advert"
   ]
  },
  {
   "cell_type": "markdown",
   "metadata": {},
   "source": [
    "## Summary Statistics"
   ]
  },
  {
   "cell_type": "code",
   "execution_count": 19,
   "metadata": {
    "collapsed": true
   },
   "outputs": [],
   "source": [
    "df = pd.DataFrame(columns = [\"Advertiser\", \"Impressions\", \"Clicks\", \"Bids\", \"Cost\", \"CTR\", \"eCPC\", \"CPM\"])"
   ]
  },
  {
   "cell_type": "code",
   "execution_count": 20,
   "metadata": {
    "collapsed": true
   },
   "outputs": [],
   "source": [
    "cny_currency = 0.15765\n",
    "i=0\n",
    "\n",
    "for adv in advert:\n",
    "    \n",
    "    # Impressions\n",
    "    imp = train.loc[ train[\"advertiser\"] == adv ].shape[0]\n",
    "    \n",
    "    # Clicks\n",
    "    clicks = train.loc[ train[\"advertiser\"] == adv ][\"click\"].sum()\n",
    "    \n",
    "    # Bids\n",
    "    bids = train.loc[ train[\"advertiser\"] == adv ][\"bidprice\"].sum()\n",
    "    \n",
    "    # Paid\n",
    "    cost = train.loc[ train[\"advertiser\"] == adv ][\"payprice\"].sum()\n",
    "    \n",
    "    # CTR\n",
    "    ctr = clicks*100/imp\n",
    "    \n",
    "    # eCPC\n",
    "    e_cpc = cost/clicks\n",
    "    \n",
    "    # CPM\n",
    "    cpm = cost*1000/imp\n",
    "    \n",
    "    # Store results\n",
    "    df.loc[i] = [adv, imp, clicks, bids, cost, ctr, e_cpc, cpm]\n",
    "    i+=1"
   ]
  },
  {
   "cell_type": "code",
   "execution_count": 21,
   "metadata": {},
   "outputs": [
    {
     "data": {
      "text/html": [
       "<div>\n",
       "<style>\n",
       "    .dataframe thead tr:only-child th {\n",
       "        text-align: right;\n",
       "    }\n",
       "\n",
       "    .dataframe thead th {\n",
       "        text-align: left;\n",
       "    }\n",
       "\n",
       "    .dataframe tbody tr th {\n",
       "        vertical-align: top;\n",
       "    }\n",
       "</style>\n",
       "<table border=\"1\" class=\"dataframe\">\n",
       "  <thead>\n",
       "    <tr style=\"text-align: right;\">\n",
       "      <th></th>\n",
       "      <th>Advertiser</th>\n",
       "      <th>Impressions</th>\n",
       "      <th>Clicks</th>\n",
       "      <th>Bids</th>\n",
       "      <th>Cost</th>\n",
       "      <th>CTR</th>\n",
       "      <th>eCPC</th>\n",
       "      <th>CPM</th>\n",
       "    </tr>\n",
       "  </thead>\n",
       "  <tbody>\n",
       "    <tr>\n",
       "      <th>0</th>\n",
       "      <td>3427.0</td>\n",
       "      <td>402806.0</td>\n",
       "      <td>272.0</td>\n",
       "      <td>95218860.0</td>\n",
       "      <td>30458711.0</td>\n",
       "      <td>0.067526</td>\n",
       "      <td>111980.555147</td>\n",
       "      <td>75616.328952</td>\n",
       "    </tr>\n",
       "    <tr>\n",
       "      <th>1</th>\n",
       "      <td>2821.0</td>\n",
       "      <td>211366.0</td>\n",
       "      <td>131.0</td>\n",
       "      <td>61343675.0</td>\n",
       "      <td>18828044.0</td>\n",
       "      <td>0.061978</td>\n",
       "      <td>143725.526718</td>\n",
       "      <td>89077.921709</td>\n",
       "    </tr>\n",
       "    <tr>\n",
       "      <th>2</th>\n",
       "      <td>1458.0</td>\n",
       "      <td>492353.0</td>\n",
       "      <td>385.0</td>\n",
       "      <td>147705900.0</td>\n",
       "      <td>33968736.0</td>\n",
       "      <td>0.078196</td>\n",
       "      <td>88230.483117</td>\n",
       "      <td>68992.645521</td>\n",
       "    </tr>\n",
       "    <tr>\n",
       "      <th>3</th>\n",
       "      <td>2259.0</td>\n",
       "      <td>133673.0</td>\n",
       "      <td>43.0</td>\n",
       "      <td>38508376.0</td>\n",
       "      <td>12428238.0</td>\n",
       "      <td>0.032168</td>\n",
       "      <td>289028.790698</td>\n",
       "      <td>92974.931362</td>\n",
       "    </tr>\n",
       "    <tr>\n",
       "      <th>4</th>\n",
       "      <td>3386.0</td>\n",
       "      <td>455041.0</td>\n",
       "      <td>320.0</td>\n",
       "      <td>136512300.0</td>\n",
       "      <td>34931823.0</td>\n",
       "      <td>0.070323</td>\n",
       "      <td>109161.946875</td>\n",
       "      <td>76766.319958</td>\n",
       "    </tr>\n",
       "    <tr>\n",
       "      <th>5</th>\n",
       "      <td>3358.0</td>\n",
       "      <td>264956.0</td>\n",
       "      <td>202.0</td>\n",
       "      <td>61729738.0</td>\n",
       "      <td>22447231.0</td>\n",
       "      <td>0.076239</td>\n",
       "      <td>111124.905941</td>\n",
       "      <td>84720.598892</td>\n",
       "    </tr>\n",
       "    <tr>\n",
       "      <th>6</th>\n",
       "      <td>3476.0</td>\n",
       "      <td>310835.0</td>\n",
       "      <td>187.0</td>\n",
       "      <td>77042367.0</td>\n",
       "      <td>23918779.0</td>\n",
       "      <td>0.060161</td>\n",
       "      <td>127907.909091</td>\n",
       "      <td>76950.082841</td>\n",
       "    </tr>\n",
       "    <tr>\n",
       "      <th>7</th>\n",
       "      <td>2261.0</td>\n",
       "      <td>110122.0</td>\n",
       "      <td>36.0</td>\n",
       "      <td>31701699.0</td>\n",
       "      <td>9873779.0</td>\n",
       "      <td>0.032691</td>\n",
       "      <td>274271.638889</td>\n",
       "      <td>89662.183760</td>\n",
       "    </tr>\n",
       "    <tr>\n",
       "      <th>8</th>\n",
       "      <td>2997.0</td>\n",
       "      <td>49829.0</td>\n",
       "      <td>217.0</td>\n",
       "      <td>13802633.0</td>\n",
       "      <td>3129267.0</td>\n",
       "      <td>0.435489</td>\n",
       "      <td>14420.585253</td>\n",
       "      <td>62800.116398</td>\n",
       "    </tr>\n",
       "  </tbody>\n",
       "</table>\n",
       "</div>"
      ],
      "text/plain": [
       "   Advertiser  Impressions  Clicks         Bids        Cost       CTR  \\\n",
       "0      3427.0     402806.0   272.0   95218860.0  30458711.0  0.067526   \n",
       "1      2821.0     211366.0   131.0   61343675.0  18828044.0  0.061978   \n",
       "2      1458.0     492353.0   385.0  147705900.0  33968736.0  0.078196   \n",
       "3      2259.0     133673.0    43.0   38508376.0  12428238.0  0.032168   \n",
       "4      3386.0     455041.0   320.0  136512300.0  34931823.0  0.070323   \n",
       "5      3358.0     264956.0   202.0   61729738.0  22447231.0  0.076239   \n",
       "6      3476.0     310835.0   187.0   77042367.0  23918779.0  0.060161   \n",
       "7      2261.0     110122.0    36.0   31701699.0   9873779.0  0.032691   \n",
       "8      2997.0      49829.0   217.0   13802633.0   3129267.0  0.435489   \n",
       "\n",
       "            eCPC           CPM  \n",
       "0  111980.555147  75616.328952  \n",
       "1  143725.526718  89077.921709  \n",
       "2   88230.483117  68992.645521  \n",
       "3  289028.790698  92974.931362  \n",
       "4  109161.946875  76766.319958  \n",
       "5  111124.905941  84720.598892  \n",
       "6  127907.909091  76950.082841  \n",
       "7  274271.638889  89662.183760  \n",
       "8   14420.585253  62800.116398  "
      ]
     },
     "execution_count": 21,
     "metadata": {},
     "output_type": "execute_result"
    }
   ],
   "source": [
    "df"
   ]
  },
  {
   "cell_type": "code",
   "execution_count": 22,
   "metadata": {},
   "outputs": [
    {
     "data": {
      "image/png": "[encoded data removed]",
      "text/plain": [
       "<matplotlib.figure.Figure at 0x1e8657bd7f0>"
      ]
     },
     "metadata": {},
     "output_type": "display_data"
    }
   ],
   "source": [
    "plt.figure(figsize = (14,14))\n",
    "\n",
    "plt.subplot(3,1,1)\n",
    "sns.barplot(x = \"Advertiser\", y = \"CTR\", data = df, color = \"lightgreen\")\n",
    "plt.title(\"CTR per advertiser\", fontsize = 14)\n",
    "\n",
    "plt.subplot(3,1,2)\n",
    "sns.barplot(x = \"Advertiser\", y = \"eCPC\", data = df, color = \"lightgreen\")\n",
    "plt.title(\"eCPC per advertiser\", fontsize = 14)\n",
    "\n",
    "plt.subplot(3,1,3)\n",
    "sns.barplot(x = \"Advertiser\", y = \"CPM\", data = df, color = \"lightgreen\")\n",
    "plt.title(\"CPM per advertiser\", fontsize = 14)\n",
    "\n",
    "plt.tight_layout()"
   ]
  },
  {
   "cell_type": "code",
   "execution_count": 23,
   "metadata": {
    "collapsed": true
   },
   "outputs": [],
   "source": [
    "def CTR(df, advert = [3427], by = \"weekday\"):\n",
    "    \n",
    "    # Advertisers\n",
    "    #advert = df[\"advertiser\"].unique()\n",
    "    \n",
    "    # Unique features\n",
    "    feat = df[by].unique()\n",
    "    \n",
    "    # Create dataframe\n",
    "    res = pd.DataFrame(columns = [\"Advertiser\", by, \"CTR\"])\n",
    "    i = 0\n",
    "    \n",
    "    for adv in advert:\n",
    "        \n",
    "        for f in feat:\n",
    "            \n",
    "            df_ = df.loc[ (df[\"advertiser\"] == adv) & (df[by] == f)]\n",
    "        \n",
    "            # Number of impressions\n",
    "            impr = df_.shape[0]\n",
    "    \n",
    "            # Number of clicks\n",
    "            clicks = df_[\"click\"].sum()\n",
    "    \n",
    "            # CTR\n",
    "            try:\n",
    "                ctr = clicks*100/impr\n",
    "            except ZeroDivisionError:\n",
    "                ctr = 0\n",
    "            \n",
    "            res.loc[i] = [adv, f, ctr]\n",
    "            i+=1\n",
    "        \n",
    "    \n",
    "    return res"
   ]
  },
  {
   "cell_type": "markdown",
   "metadata": {},
   "source": [
    "### Weekday"
   ]
  },
  {
   "cell_type": "code",
   "execution_count": 24,
   "metadata": {},
   "outputs": [
    {
     "data": {
      "text/plain": [
       "<seaborn.axisgrid.FacetGrid at 0x1e8659f7630>"
      ]
     },
     "execution_count": 24,
     "metadata": {},
     "output_type": "execute_result"
    },
    {
     "data": {
      "text/plain": [
       "<matplotlib.figure.Figure at 0x1e865cc2828>"
      ]
     },
     "metadata": {},
     "output_type": "display_data"
    },
    {
     "data": {
      "image/png": "[encoded data removed]",
      "text/plain": [
       "<matplotlib.figure.Figure at 0x1e8657e6978>"
      ]
     },
     "metadata": {},
     "output_type": "display_data"
    }
   ],
   "source": [
    "plt.figure(figsize = (24,6))\n",
    "sns.factorplot(x = \"weekday\", y = \"CTR\", hue = \"Advertiser\", \n",
    "               data = CTR(train, advert[:3], by = \"weekday\"), \n",
    "               size = 6, \n",
    "               palette=\"BuGn\")"
   ]
  },
  {
   "cell_type": "markdown",
   "metadata": {},
   "source": [
    "### Hour"
   ]
  },
  {
   "cell_type": "code",
   "execution_count": 25,
   "metadata": {},
   "outputs": [
    {
     "data": {
      "text/plain": [
       "(array([ 0,  1,  2,  3,  4,  5,  6,  7,  8,  9, 10, 11, 12, 13, 14, 15, 16,\n",
       "        17, 18, 19, 20, 21, 22, 23]), <a list of 24 Text xticklabel objects>)"
      ]
     },
     "execution_count": 25,
     "metadata": {},
     "output_type": "execute_result"
    },
    {
     "data": {
      "text/plain": [
       "<matplotlib.figure.Figure at 0x1e88035b240>"
      ]
     },
     "metadata": {},
     "output_type": "display_data"
    },
    {
     "data": {
      "image/png": "[encoded data removed]",
      "text/plain": [
       "<matplotlib.figure.Figure at 0x1e8802e07f0>"
      ]
     },
     "metadata": {},
     "output_type": "display_data"
    }
   ],
   "source": [
    "plt.figure(figsize = (24,6))\n",
    "sns.factorplot(x = \"hour\", y = \"CTR\", hue = \"Advertiser\", \n",
    "               data = CTR(train, advert[:3], by = \"hour\"), \n",
    "               size = 6,\n",
    "               palette=\"BuGn\")\n",
    "plt.xticks(rotation = 90)"
   ]
  },
  {
   "cell_type": "markdown",
   "metadata": {},
   "source": [
    "### OS"
   ]
  },
  {
   "cell_type": "code",
   "execution_count": 26,
   "metadata": {},
   "outputs": [
    {
     "data": {
      "text/plain": [
       "<matplotlib.axes._subplots.AxesSubplot at 0x1e8657bdba8>"
      ]
     },
     "execution_count": 26,
     "metadata": {},
     "output_type": "execute_result"
    },
    {
     "data": {
      "image/png": "[encoded data removed]",
      "text/plain": [
       "<matplotlib.figure.Figure at 0x1e880614588>"
      ]
     },
     "metadata": {},
     "output_type": "display_data"
    }
   ],
   "source": [
    "plt.figure(figsize = (12,6))\n",
    "sns.barplot(x = \"os\", y=\"CTR\", hue = \"Advertiser\", \n",
    "            data = CTR(train, advert[:4], by = \"os\"),\n",
    "            palette=\"BuGn\")"
   ]
  },
  {
   "cell_type": "markdown",
   "metadata": {},
   "source": [
    "### Browser"
   ]
  },
  {
   "cell_type": "code",
   "execution_count": 27,
   "metadata": {},
   "outputs": [
    {
     "data": {
      "text/plain": [
       "<matplotlib.axes._subplots.AxesSubplot at 0x1e880614358>"
      ]
     },
     "execution_count": 27,
     "metadata": {},
     "output_type": "execute_result"
    },
    {
     "data": {
      "image/png": "[encoded data removed]",
      "text/plain": [
       "<matplotlib.figure.Figure at 0x1e880614240>"
      ]
     },
     "metadata": {},
     "output_type": "display_data"
    }
   ],
   "source": [
    "plt.figure(figsize = (12,6))\n",
    "sns.barplot(x = \"browser\", y=\"CTR\", hue = \"Advertiser\", \n",
    "            data = CTR(train, advert[:4], by = \"browser\"), \n",
    "            palette=\"BuGn\")"
   ]
  },
  {
   "cell_type": "markdown",
   "metadata": {},
   "source": [
    "### Region"
   ]
  },
  {
   "cell_type": "code",
   "execution_count": 28,
   "metadata": {},
   "outputs": [
    {
     "data": {
      "text/plain": [
       "<matplotlib.axes._subplots.AxesSubplot at 0x1e865830908>"
      ]
     },
     "execution_count": 28,
     "metadata": {},
     "output_type": "execute_result"
    },
    {
     "data": {
      "image/png": "[encoded data removed]",
      "text/plain": [
       "<matplotlib.figure.Figure at 0x1e8806140f0>"
      ]
     },
     "metadata": {},
     "output_type": "display_data"
    }
   ],
   "source": [
    "plt.figure(figsize = (18,6))\n",
    "sns.barplot(x = \"region\", y=\"CTR\", hue = \"Advertiser\", \n",
    "            data = CTR(train, advert[:4], by = \"region\"),\n",
    "            palette=\"BuGn\")"
   ]
  },
  {
   "cell_type": "markdown",
   "metadata": {},
   "source": [
    "### Slot Area"
   ]
  },
  {
   "cell_type": "code",
   "execution_count": 29,
   "metadata": {},
   "outputs": [
    {
     "data": {
      "text/plain": [
       "(array([ 0,  1,  2,  3,  4,  5,  6,  7,  8,  9, 10, 11, 12, 13, 14, 15, 16,\n",
       "        17, 18, 19, 20, 21, 22, 23, 24, 25]),\n",
       " <a list of 26 Text xticklabel objects>)"
      ]
     },
     "execution_count": 29,
     "metadata": {},
     "output_type": "execute_result"
    },
    {
     "data": {
      "image/png": "[encoded data removed]",
      "text/plain": [
       "<matplotlib.figure.Figure at 0x1e880d24160>"
      ]
     },
     "metadata": {},
     "output_type": "display_data"
    }
   ],
   "source": [
    "plt.figure(figsize = (18,6))\n",
    "sns.barplot(x = \"slotarea\", y=\"CTR\", hue = \"Advertiser\", \n",
    "            data = CTR(train, advert[:4], by = \"slotarea\"),\n",
    "            palette=\"BuGn\")\n",
    "plt.xticks(rotation = 90)"
   ]
  },
  {
   "cell_type": "markdown",
   "metadata": {},
   "source": [
    "### Slot Visibility"
   ]
  },
  {
   "cell_type": "code",
   "execution_count": 30,
   "metadata": {},
   "outputs": [
    {
     "data": {
      "text/plain": [
       "(array([ 0,  1,  2,  3,  4,  5,  6,  7,  8,  9, 10]),\n",
       " <a list of 11 Text xticklabel objects>)"
      ]
     },
     "execution_count": 30,
     "metadata": {},
     "output_type": "execute_result"
    },
    {
     "data": {
      "image/png": "[encoded data removed]",
      "text/plain": [
       "<matplotlib.figure.Figure at 0x1e880627860>"
      ]
     },
     "metadata": {},
     "output_type": "display_data"
    }
   ],
   "source": [
    "plt.figure(figsize = (18,6))\n",
    "sns.barplot(x = \"slotvisibility\", y=\"CTR\", hue = \"Advertiser\",\n",
    "            data = CTR(train, advert[:4], by = \"slotvisibility\"),\n",
    "            palette=\"BuGn\")\n",
    "plt.xticks(rotation = 90)"
   ]
  },
  {
   "cell_type": "markdown",
   "metadata": {},
   "source": [
    "### Ad-exchange"
   ]
  },
  {
   "cell_type": "code",
   "execution_count": 31,
   "metadata": {},
   "outputs": [
    {
     "data": {
      "text/plain": [
       "(array([0, 1, 2, 3, 4]), <a list of 5 Text xticklabel objects>)"
      ]
     },
     "execution_count": 31,
     "metadata": {},
     "output_type": "execute_result"
    },
    {
     "data": {
      "image/png": "[encoded data removed]",
      "text/plain": [
       "<matplotlib.figure.Figure at 0x1e888e98ac8>"
      ]
     },
     "metadata": {},
     "output_type": "display_data"
    }
   ],
   "source": [
    "plt.figure(figsize = (18,6))\n",
    "sns.barplot(x = \"adexchange\", y=\"CTR\", hue = \"Advertiser\", \n",
    "            data = CTR(train, advert[:4], by = \"adexchange\"),\n",
    "            palette=\"BuGn\")\n",
    "plt.xticks(rotation = 90)"
   ]
  },
  {
   "cell_type": "code",
   "execution_count": null,
   "metadata": {
    "collapsed": true
   },
   "outputs": [],
   "source": []
  },
  {
   "cell_type": "code",
   "execution_count": null,
   "metadata": {
    "collapsed": true
   },
   "outputs": [],
   "source": []
  },
  {
   "cell_type": "code",
   "execution_count": 32,
   "metadata": {},
   "outputs": [
    {
     "data": {
      "text/plain": [
       "Index(['click', 'weekday', 'hour', 'bidid', 'userid', 'useragent', 'IP',\n",
       "       'region', 'city', 'adexchange', 'domain', 'url', 'urlid', 'slotid',\n",
       "       'slotwidth', 'slotheight', 'slotvisibility', 'slotformat', 'slotprice',\n",
       "       'creative', 'bidprice', 'payprice', 'keypage', 'advertiser', 'usertag',\n",
       "       'os', 'browser', 'slotarea'],\n",
       "      dtype='object')"
      ]
     },
     "execution_count": 32,
     "metadata": {},
     "output_type": "execute_result"
    }
   ],
   "source": [
    "train.columns"
   ]
  },
  {
   "cell_type": "markdown",
   "metadata": {},
   "source": [
    "mean price per weekday, payprice, bidprice histograms, tags!!!!!!!!"
   ]
  },
  {
   "cell_type": "code",
   "execution_count": 33,
   "metadata": {
    "collapsed": true
   },
   "outputs": [],
   "source": [
    "# def CreateDataframe(df, by):\n",
    "    \n",
    "#     adv = df[\"advertiser\"].unique()\n",
    "#     feat = sorted(df[by].unique())\n",
    "    \n",
    "#     cols = [\"Advertiser\", by, \"CTR\"]\n",
    "#     adv_list = []\n",
    "    \n",
    "#     for i in range(len(adv)):\n",
    "#         adv_list.append(np.repeat(adv[i], len(feat)))\n",
    "        \n",
    "#     adv_list = np.concatenate(adv_list)\n",
    "    \n",
    "#     feat_list = np.repeat(feat, len(adv))\n",
    "    \n",
    "#     ctr = pd.DataFrame(columns = cols)\n",
    "#     ctr[\"Advertiser\"] = adv_list\n",
    "#     ctr[by] = feat_list\n",
    "        \n",
    "#     return ctr"
   ]
  },
  {
   "cell_type": "code",
   "execution_count": 34,
   "metadata": {},
   "outputs": [
    {
     "data": {
      "text/plain": [
       "277.6928571428571"
      ]
     },
     "execution_count": 34,
     "metadata": {},
     "output_type": "execute_result"
    }
   ],
   "source": [
    "77754/280"
   ]
  },
  {
   "cell_type": "code",
   "execution_count": null,
   "metadata": {
    "collapsed": true
   },
   "outputs": [],
   "source": []
  }
 ],
 "metadata": {
  "kernelspec": {
   "display_name": "Python 3",
   "language": "python",
   "name": "python3"
  },
  "language_info": {
   "codemirror_mode": {
    "name": "ipython",
    "version": 3
   },
   "file_extension": ".py",
   "mimetype": "text/x-python",
   "name": "python",
   "nbconvert_exporter": "python",
   "pygments_lexer": "ipython3",
   "version": "3.6.1"
  }
 },
 "nbformat": 4,
 "nbformat_minor": 2
}
