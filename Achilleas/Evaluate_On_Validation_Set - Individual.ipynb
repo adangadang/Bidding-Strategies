{
 "cells": [
  {
   "cell_type": "code",
   "execution_count": 1,
   "metadata": {
    "collapsed": true
   },
   "outputs": [],
   "source": [
    "import pandas as pd\n",
    "import numpy as np\n",
    "from functools import reduce\n",
    "import matplotlib.pyplot as plt\n",
    "import seaborn as sns\n",
    "import time\n",
    "\n",
    "%matplotlib inline\n",
    "pd.set_option('display.max_columns', None)\n",
    "pd.options.mode.chained_assignment = None  # To ignore SettingWithCopyWarning warning"
   ]
  },
  {
   "cell_type": "markdown",
   "metadata": {},
   "source": [
    "# Import data"
   ]
  },
  {
   "cell_type": "code",
   "execution_count": 2,
   "metadata": {
    "collapsed": false
   },
   "outputs": [],
   "source": [
    "path = 'C:/Users/Akis/OneDrive/Masters/Web Economics/Data/WebEcon Team Drive/Datasets Original/'\n",
    "train = pd.read_csv(path+\"train.csv\")\n",
    "validation = pd.read_csv(path+\"validation.csv\")"
   ]
  },
  {
   "cell_type": "code",
   "execution_count": 3,
   "metadata": {
    "collapsed": false
   },
   "outputs": [
    {
     "name": "stdout",
     "output_type": "stream",
     "text": [
      "(2430981, 25) (303925, 25)\n"
     ]
    }
   ],
   "source": [
    "print(train.shape, validation.shape)"
   ]
  },
  {
   "cell_type": "markdown",
   "metadata": {},
   "source": [
    "# Import Predictions"
   ]
  },
  {
   "cell_type": "code",
   "execution_count": 4,
   "metadata": {
    "collapsed": true
   },
   "outputs": [],
   "source": [
    "path='C:/Users/Akis/OneDrive/Masters/Web Economics/Data/WebEcon Team Drive/predictions/'\n",
    "# lr_preds = pd.read_csv(\"Prediction_csv/lr_pCTR.csv\", index_col  = \"Unnamed: 0\")\n",
    "# rf_preds = pd.read_csv(\"Prediction_csv/rf_pCTR.csv\", index_col  = \"Unnamed: 0\")\n",
    "####xgb_preds = pd.read_csv(\"Prediction_csv/xgb_pCTR.csv\", index_col  = \"Unnamed: 0\")\n",
    "# dwane_preds = pd.read_csv(\"Prediction_csv/click_predictions_narrow.csv\")\n",
    "# lasso_preds = pd.read_csv(\"Prediction_csv/lasso_basebid.csv\", index_col  = \"Unnamed: 0\")\n",
    "# ridge_preds = pd.read_csv(\"Prediction_csv/ridge_basebid.csv\", index_col  = \"Unnamed: 0\")\n",
    "# elasticnet_preds = pd.read_csv(\"Prediction_csv/elasticnet_basebid.csv\", index_col  = \"Unnamed: 0\")\n",
    "# rfg_preds = pd.read_csv(\"Prediction_csv/rfg_basebid.csv\", index_col  = \"Unnamed: 0\")\n",
    "####xgbr_preds = pd.read_csv(\"Prediction_csv/xgb_basebid.csv\", index_col  = \"Unnamed: 0\")\n",
    "\n",
    "xgb_preds = pd.read_csv(path+\"xgb_pCTR.csv\", index_col  = \"Unnamed: 0\")\n",
    "xgbr_preds = pd.read_csv(path+\"xgb_basebid.csv\", index_col  = \"Unnamed: 0\")"
   ]
  },
  {
   "cell_type": "code",
   "execution_count": 5,
   "metadata": {
    "collapsed": false
   },
   "outputs": [
    {
     "data": {
      "text/html": [
       "<div>\n",
       "<table border=\"1\" class=\"dataframe\">\n",
       "  <thead>\n",
       "    <tr style=\"text-align: right;\">\n",
       "      <th></th>\n",
       "      <th>bidid</th>\n",
       "      <th>predicted_payprice</th>\n",
       "    </tr>\n",
       "  </thead>\n",
       "  <tbody>\n",
       "    <tr>\n",
       "      <th>0</th>\n",
       "      <td>bbcb813b6166538503d8b33a5602d7d72f6019dc</td>\n",
       "      <td>50.281219</td>\n",
       "    </tr>\n",
       "    <tr>\n",
       "      <th>1</th>\n",
       "      <td>5a07316c49477cb5d9b4d5aa39c27d6c3be7f92d</td>\n",
       "      <td>78.790169</td>\n",
       "    </tr>\n",
       "    <tr>\n",
       "      <th>2</th>\n",
       "      <td>f6ece71dae81d6b16bfb24ad6dd5611472d4c673</td>\n",
       "      <td>92.860153</td>\n",
       "    </tr>\n",
       "    <tr>\n",
       "      <th>3</th>\n",
       "      <td>b4d5c57c9b38ff5a12954fa01e11931b4e6bfbbb</td>\n",
       "      <td>45.761795</td>\n",
       "    </tr>\n",
       "    <tr>\n",
       "      <th>4</th>\n",
       "      <td>0899bf144249458ea9c89188473694bf44c7ca15</td>\n",
       "      <td>64.029907</td>\n",
       "    </tr>\n",
       "  </tbody>\n",
       "</table>\n",
       "</div>"
      ],
      "text/plain": [
       "                                      bidid  predicted_payprice\n",
       "0  bbcb813b6166538503d8b33a5602d7d72f6019dc           50.281219\n",
       "1  5a07316c49477cb5d9b4d5aa39c27d6c3be7f92d           78.790169\n",
       "2  f6ece71dae81d6b16bfb24ad6dd5611472d4c673           92.860153\n",
       "3  b4d5c57c9b38ff5a12954fa01e11931b4e6bfbbb           45.761795\n",
       "4  0899bf144249458ea9c89188473694bf44c7ca15           64.029907"
      ]
     },
     "execution_count": 5,
     "metadata": {},
     "output_type": "execute_result"
    }
   ],
   "source": [
    "xgbr_preds.head()"
   ]
  },
  {
   "cell_type": "code",
   "execution_count": 6,
   "metadata": {
    "collapsed": false
   },
   "outputs": [
    {
     "name": "stdout",
     "output_type": "stream",
     "text": [
      "Predicted Bid Price Min: -56.3769416809082\n",
      "Predicted Bid Price Max: 346.9530944824219\n",
      "Predicted Bid Price Mean: 78.97979187519267\n",
      "Predicted Bid Price Std: 36.59964614741393\n"
     ]
    }
   ],
   "source": [
    "print(\"Predicted Bid Price Min:\",xgbr_preds['predicted_payprice'].min())\n",
    "print(\"Predicted Bid Price Max:\",xgbr_preds['predicted_payprice'].max())\n",
    "print(\"Predicted Bid Price Mean:\",xgbr_preds['predicted_payprice'].mean())\n",
    "print(\"Predicted Bid Price Std:\",xgbr_preds['predicted_payprice'].std())"
   ]
  },
  {
   "cell_type": "markdown",
   "metadata": {},
   "source": [
    "# Linear Strategy"
   ]
  },
  {
   "cell_type": "code",
   "execution_count": 33,
   "metadata": {
    "collapsed": true
   },
   "outputs": [],
   "source": [
    "def Strategy(sub_pCTR, sub_basebid, C ,BBimportance):\n",
    "    \n",
    "    importance = BBimportance * 10 + 10\n",
    "    avgCTR = sub_pCTR[\"click_proba\"].mean()\n",
    "    \n",
    "    mean = sub_basebid[\"predicted_payprice\"].mean()\n",
    "    sub_basebid[\"predicted_payprice\"] = sub_basebid[\"predicted_payprice\"]-mean\n",
    "    sub_basebid[\"predicted_payprice\"] = (importance * sub_basebid[\"predicted_payprice\"]/sub_basebid[\"predicted_payprice\"].max())\n",
    "    sub_basebid[\"predicted_payprice\"] = sub_basebid[\"predicted_payprice\"] + mean\n",
    "    #importance is a constant to be played around with\n",
    "    \n",
    "    avgBB = sub_basebid[\"predicted_payprice\"].mean()\n",
    "    \n",
    "#     print(\"avBB/pBB Min:\",(avgBB/sub_basebid[\"predicted_payprice\"]).min())\n",
    "#     print(\"avBB/pBB Max:\",(avgBB/sub_basebid[\"predicted_payprice\"]).max())\n",
    "#     print(\"avBB/pBB Mean:\",(avgBB/sub_basebid[\"predicted_payprice\"]).mean())\n",
    "#     print(\"avBB/pBB Std:\",(avgBB/sub_basebid[\"predicted_payprice\"]).std())\n",
    "#     print()\n",
    "    \n",
    "#     print(\"pCTR/avCTR Min:\",(sub_pCTR[\"click_proba\"]/ avgCTR).min())\n",
    "#     print(\"pCTR/avCTR Max:\",(sub_pCTR[\"click_proba\"]/ avgCTR).max())\n",
    "#     print(\"pCTR/avCTR Mean:\",(sub_pCTR[\"click_proba\"]/ avgCTR).mean())\n",
    "#     print(\"pCTR/avCTR Std:\",(sub_pCTR[\"click_proba\"]/ avgCTR).std())\n",
    "    \n",
    "    bidprice = (avgBB/sub_basebid[\"predicted_payprice\"]) * (sub_pCTR[\"click_proba\"]/ avgCTR) * C\n",
    "    return bidprice"
   ]
  },
  {
   "cell_type": "code",
   "execution_count": 34,
   "metadata": {
    "collapsed": false
   },
   "outputs": [
    {
     "data": {
      "text/plain": [
       "0           15.417813\n",
       "1           19.871407\n",
       "2            1.921149\n",
       "3           10.822750\n",
       "4           11.933050\n",
       "5          222.320845\n",
       "6           53.629591\n",
       "7          103.140723\n",
       "8           13.357650\n",
       "9            5.340924\n",
       "10         139.699448\n",
       "11          27.820761\n",
       "12           6.971949\n",
       "13         136.470960\n",
       "14         176.403206\n",
       "15           9.898831\n",
       "16          11.673160\n",
       "17          19.447115\n",
       "18         549.816393\n",
       "19          58.989825\n",
       "20          61.240884\n",
       "21          60.241915\n",
       "22          37.893543\n",
       "23          23.736468\n",
       "24         156.570440\n",
       "25         337.714120\n",
       "26           4.141494\n",
       "27         120.420126\n",
       "28          25.271011\n",
       "29          93.967053\n",
       "             ...     \n",
       "303895    1312.089074\n",
       "303896       5.337643\n",
       "303897     595.556926\n",
       "303898     150.327952\n",
       "303899     152.553343\n",
       "303900      55.362043\n",
       "303901       3.268741\n",
       "303902      72.840576\n",
       "303903       8.873061\n",
       "303904      56.412230\n",
       "303905      34.589144\n",
       "303906     194.167417\n",
       "303907      19.705905\n",
       "303908      17.735084\n",
       "303909       9.357043\n",
       "303910     320.089895\n",
       "303911      25.540177\n",
       "303912      53.957395\n",
       "303913      98.591842\n",
       "303914      16.237716\n",
       "303915     265.967549\n",
       "303916      43.828979\n",
       "303917       4.091239\n",
       "303918      17.754253\n",
       "303919      15.940553\n",
       "303920      82.825635\n",
       "303921       5.240049\n",
       "303922     107.766501\n",
       "303923     113.538234\n",
       "303924      24.287567\n",
       "dtype: float64"
      ]
     },
     "execution_count": 34,
     "metadata": {},
     "output_type": "execute_result"
    }
   ],
   "source": [
    "Strategy(xgb_preds, xgbr_preds, 100, 0) # 1 to 15 is a good range"
   ]
  },
  {
   "cell_type": "code",
   "execution_count": 9,
   "metadata": {
    "collapsed": false
   },
   "outputs": [
    {
     "data": {
      "text/plain": [
       "105.46402677077523"
      ]
     },
     "execution_count": 9,
     "metadata": {},
     "output_type": "execute_result"
    }
   ],
   "source": [
    "base_bid = train.loc[ train[\"click\"] == 1, \"payprice\"].mean()\n",
    "base_bid"
   ]
  },
  {
   "cell_type": "code",
   "execution_count": 47,
   "metadata": {
    "collapsed": false
   },
   "outputs": [
    {
     "data": {
      "text/plain": [
       "array([87., 88., 89., 90., 91., 92., 93., 94., 95.])"
      ]
     },
     "execution_count": 47,
     "metadata": {},
     "output_type": "execute_result"
    }
   ],
   "source": [
    "base_bid = 89\n",
    "basebids = np.linspace(0.90*base_bid, 1.06*base_bid, 8)\n",
    "basebids = np.linspace(base_bid-2, base_bid+6, 9)\n",
    "basebids"
   ]
  },
  {
   "cell_type": "markdown",
   "metadata": {},
   "source": [
    "# Evaluate Results"
   ]
  },
  {
   "cell_type": "code",
   "execution_count": 48,
   "metadata": {
    "collapsed": true
   },
   "outputs": [],
   "source": [
    "budget = 6250*1000\n",
    "\n",
    "def ValidationDataFrame(submission_pCTR, submission_basebid, C, BBimportance):\n",
    "    \n",
    "    validation_check = validation[[\"bidid\", \"click\", \"bidprice\", \"payprice\"]]\n",
    "    validation_check[\"click_proba\"] = submission_pCTR[\"click_proba\"]\n",
    "    validation_check[\"bidprice_predicted\"] = Strategy(submission_pCTR, submission_basebid, C , BBimportance)\n",
    "    \n",
    "    return validation_check\n",
    "\n",
    "\n",
    "def ValidateStrategy(df):\n",
    "    \n",
    "    impressions = 0\n",
    "    clicks = 0\n",
    "    cost = 0\n",
    "    auctions_participated = 0\n",
    "    balance = budget\n",
    "    \n",
    "    for row in df.iterrows():\n",
    "        \n",
    "        if cost < budget:\n",
    "            \n",
    "            auctions_participated+=1\n",
    "            \n",
    "            if (row[1][\"bidprice_predicted\"] >= row[1][\"payprice\"]):\n",
    "                \n",
    "                if (balance > row[1][\"bidprice_predicted\"]):\n",
    "                    \n",
    "                    impressions+=1\n",
    "                    clicks+=row[1][\"click\"]\n",
    "                    cost+=row[1][\"payprice\"]\n",
    "                    balance-=row[1][\"payprice\"]\n",
    "                else:\n",
    "                    pass\n",
    "    \n",
    "        else:\n",
    "            break\n",
    "    \n",
    "    # Metrics\n",
    "    ctr = clicks*100/impressions\n",
    "    cpm = cost/impressions\n",
    "    cpc = cost/clicks/1000\n",
    "    \n",
    "    print(\"Strategy statistics:\")\n",
    "    print(\"Auctions participated: {} | Impressions: {} | Clicks: {} | Cost: {} | CTR: {} | CPM: {} | CPC: {}\".format(auctions_participated, \\\n",
    "                                                                                                                     impressions, clicks, \\\n",
    "                                                                                                                     cost,\\\n",
    "                                                                                                                     np.round(ctr,5), \\\n",
    "                                                                                                                     np.round(cpm,5), \\\n",
    "                                                                                                                     np.round(cpc,2)))\n",
    "    print(\"\\n\")\n",
    "            \n",
    "    return impressions, clicks, cost, auctions_participated, ctr, cpm, cpc"
   ]
  },
  {
   "cell_type": "code",
   "execution_count": 49,
   "metadata": {
    "collapsed": false
   },
   "outputs": [
    {
     "name": "stdout",
     "output_type": "stream",
     "text": [
      "\u001b[1m pCTR model: XGBoost \u001b[0m, \u001b[1m Constant: 87.0 \u001b[0m\n",
      "pBB Importance: 0\n",
      "Strategy statistics:\n",
      "Auctions participated: 303925 | Impressions: 112795 | Clicks: 160 | Cost: 5858352 | CTR: 0.14185 | CPM: 51.93805 | CPC: 36.61\n",
      "\n",
      "\n",
      "\u001b[1m pCTR model: XGBoost \u001b[0m, \u001b[1m Constant: 87.0 \u001b[0m\n",
      "pBB Importance: 1\n",
      "Strategy statistics:\n",
      "Auctions participated: 303925 | Impressions: 112795 | Clicks: 160 | Cost: 5858352 | CTR: 0.14185 | CPM: 51.93805 | CPC: 36.61\n",
      "\n",
      "\n",
      "\u001b[1m pCTR model: XGBoost \u001b[0m, \u001b[1m Constant: 88.0 \u001b[0m\n",
      "pBB Importance: 0\n",
      "Strategy statistics:\n",
      "Auctions participated: 303925 | Impressions: 113595 | Clicks: 160 | Cost: 5917151 | CTR: 0.14085 | CPM: 52.08989 | CPC: 36.98\n",
      "\n",
      "\n",
      "\u001b[1m pCTR model: XGBoost \u001b[0m, \u001b[1m Constant: 88.0 \u001b[0m\n",
      "pBB Importance: 1\n",
      "Strategy statistics:\n",
      "Auctions participated: 303925 | Impressions: 113595 | Clicks: 160 | Cost: 5917151 | CTR: 0.14085 | CPM: 52.08989 | CPC: 36.98\n",
      "\n",
      "\n",
      "\u001b[1m pCTR model: XGBoost \u001b[0m, \u001b[1m Constant: 89.0 \u001b[0m\n",
      "pBB Importance: 0\n",
      "Strategy statistics:\n",
      "Auctions participated: 303925 | Impressions: 114455 | Clicks: 160 | Cost: 5977235 | CTR: 0.13979 | CPM: 52.22345 | CPC: 37.36\n",
      "\n",
      "\n",
      "\u001b[1m pCTR model: XGBoost \u001b[0m, \u001b[1m Constant: 89.0 \u001b[0m\n",
      "pBB Importance: 1\n",
      "Strategy statistics:\n",
      "Auctions participated: 303925 | Impressions: 114455 | Clicks: 160 | Cost: 5977235 | CTR: 0.13979 | CPM: 52.22345 | CPC: 37.36\n",
      "\n",
      "\n",
      "\u001b[1m pCTR model: XGBoost \u001b[0m, \u001b[1m Constant: 90.0 \u001b[0m\n",
      "pBB Importance: 0\n",
      "Strategy statistics:\n",
      "Auctions participated: 303925 | Impressions: 115257 | Clicks: 160 | Cost: 6031889 | CTR: 0.13882 | CPM: 52.33425 | CPC: 37.7\n",
      "\n",
      "\n",
      "\u001b[1m pCTR model: XGBoost \u001b[0m, \u001b[1m Constant: 90.0 \u001b[0m\n",
      "pBB Importance: 1\n",
      "Strategy statistics:\n",
      "Auctions participated: 303925 | Impressions: 115257 | Clicks: 160 | Cost: 6031889 | CTR: 0.13882 | CPM: 52.33425 | CPC: 37.7\n",
      "\n",
      "\n",
      "\u001b[1m pCTR model: XGBoost \u001b[0m, \u001b[1m Constant: 91.0 \u001b[0m\n",
      "pBB Importance: 0\n",
      "Strategy statistics:\n",
      "Auctions participated: 303925 | Impressions: 116042 | Clicks: 160 | Cost: 6088514 | CTR: 0.13788 | CPM: 52.46819 | CPC: 38.05\n",
      "\n",
      "\n",
      "\u001b[1m pCTR model: XGBoost \u001b[0m, \u001b[1m Constant: 91.0 \u001b[0m\n",
      "pBB Importance: 1\n",
      "Strategy statistics:\n",
      "Auctions participated: 303925 | Impressions: 116042 | Clicks: 160 | Cost: 6088514 | CTR: 0.13788 | CPM: 52.46819 | CPC: 38.05\n",
      "\n",
      "\n",
      "\u001b[1m pCTR model: XGBoost \u001b[0m, \u001b[1m Constant: 92.0 \u001b[0m\n",
      "pBB Importance: 0\n",
      "Strategy statistics:\n",
      "Auctions participated: 303925 | Impressions: 116829 | Clicks: 160 | Cost: 6139844 | CTR: 0.13695 | CPM: 52.55411 | CPC: 38.37\n",
      "\n",
      "\n",
      "\u001b[1m pCTR model: XGBoost \u001b[0m, \u001b[1m Constant: 92.0 \u001b[0m\n",
      "pBB Importance: 1\n",
      "Strategy statistics:\n",
      "Auctions participated: 303925 | Impressions: 116829 | Clicks: 160 | Cost: 6139844 | CTR: 0.13695 | CPM: 52.55411 | CPC: 38.37\n",
      "\n",
      "\n",
      "\u001b[1m pCTR model: XGBoost \u001b[0m, \u001b[1m Constant: 93.0 \u001b[0m\n",
      "pBB Importance: 0\n",
      "Strategy statistics:\n",
      "Auctions participated: 303925 | Impressions: 117574 | Clicks: 160 | Cost: 6191992 | CTR: 0.13608 | CPM: 52.66464 | CPC: 38.7\n",
      "\n",
      "\n",
      "\u001b[1m pCTR model: XGBoost \u001b[0m, \u001b[1m Constant: 93.0 \u001b[0m\n",
      "pBB Importance: 1\n",
      "Strategy statistics:\n",
      "Auctions participated: 303925 | Impressions: 117574 | Clicks: 160 | Cost: 6191992 | CTR: 0.13608 | CPM: 52.66464 | CPC: 38.7\n",
      "\n",
      "\n",
      "\u001b[1m pCTR model: XGBoost \u001b[0m, \u001b[1m Constant: 94.0 \u001b[0m\n",
      "pBB Importance: 0\n",
      "Strategy statistics:\n",
      "Auctions participated: 303925 | Impressions: 118320 | Clicks: 160 | Cost: 6246097 | CTR: 0.13523 | CPM: 52.78987 | CPC: 39.04\n",
      "\n",
      "\n",
      "\u001b[1m pCTR model: XGBoost \u001b[0m, \u001b[1m Constant: 94.0 \u001b[0m\n",
      "pBB Importance: 1\n",
      "Strategy statistics:\n",
      "Auctions participated: 303925 | Impressions: 118320 | Clicks: 160 | Cost: 6246097 | CTR: 0.13523 | CPM: 52.78987 | CPC: 39.04\n",
      "\n",
      "\n",
      "\u001b[1m pCTR model: XGBoost \u001b[0m, \u001b[1m Constant: 95.0 \u001b[0m\n",
      "pBB Importance: 0\n",
      "Strategy statistics:\n",
      "Auctions participated: 303925 | Impressions: 118178 | Clicks: 158 | Cost: 6249996 | CTR: 0.1337 | CPM: 52.88629 | CPC: 39.56\n",
      "\n",
      "\n",
      "\u001b[1m pCTR model: XGBoost \u001b[0m, \u001b[1m Constant: 95.0 \u001b[0m\n",
      "pBB Importance: 1\n",
      "Strategy statistics:\n",
      "Auctions participated: 303925 | Impressions: 118178 | Clicks: 158 | Cost: 6249996 | CTR: 0.1337 | CPM: 52.88629 | CPC: 39.56\n",
      "\n",
      "\n",
      "Total time: 6.669359612464905 mins\n"
     ]
    }
   ],
   "source": [
    "pCTR_model_name = \"XGBoost\"\n",
    "results = pd.DataFrame(columns = [\"pCTR_model\", \"Coefficient\", \"Impressions\", \"Clicks\", \"Cost\", \"CTR\", \"CPM\", \"CPC\"])\n",
    "i=0\n",
    "\n",
    "start = time.time()\n",
    "\n",
    "for C in basebids:\n",
    "    for BBIMPORTANCE in range(0,2,1):\n",
    "    \n",
    "        validation_check = ValidationDataFrame(xgb_preds, xgbr_preds, C, BBIMPORTANCE)\n",
    "        print(\"\\033[1m pCTR model: {} \\033[0m, \\033[1m Constant: {} \\033[0m\".format(pCTR_model_name, C))\n",
    "        print(\"pBB Importance:\",BBIMPORTANCE)\n",
    "        impressions, clicks, cost, auctions_participated, ctr, cpm, cpc = ValidateStrategy(validation_check)\n",
    "        results.loc[i] = [pCTR_model_name, C, impressions, clicks, cost, ctr, cpm, cpc]\n",
    "        i+=1\n",
    "    \n",
    "end = time.time()\n",
    "print(\"Total time: {} mins\".format((end-start)/60))"
   ]
  },
  {
   "cell_type": "code",
   "execution_count": null,
   "metadata": {
    "collapsed": true
   },
   "outputs": [],
   "source": [
    "results.to_csv(\"ValidationSet_Evaluation_Results_Individual_xgb_xcgr.csv\")"
   ]
  },
  {
   "cell_type": "code",
   "execution_count": null,
   "metadata": {
    "collapsed": false,
    "scrolled": true
   },
   "outputs": [],
   "source": [
    "results.head()"
   ]
  },
  {
   "cell_type": "code",
   "execution_count": null,
   "metadata": {
    "collapsed": false
   },
   "outputs": [],
   "source": [
    "results.sort_values(by = [\"Clicks\",'CTR'], ascending = False)"
   ]
  },
  {
   "cell_type": "code",
   "execution_count": null,
   "metadata": {
    "collapsed": false
   },
   "outputs": [],
   "source": [
    "plt.figure(figsize = (10,8))\n",
    "\n",
    "plt.subplot(4,1,1)\n",
    "plt.plot(basebids, results[\"Clicks\"])\n",
    "plt.ylabel(\"Clicks\")\n",
    "\n",
    "plt.subplot(4,1,2)\n",
    "plt.plot(basebids, results[\"Impressions\"])\n",
    "plt.ylabel(\"Impressions\")\n",
    "\n",
    "plt.subplot(4,1,3)\n",
    "plt.plot(basebids, results[\"CTR\"])\n",
    "plt.ylabel(\"CTR\")\n",
    "\n",
    "plt.subplot(4,1,4)\n",
    "plt.plot(basebids, results[\"Cost\"])\n",
    "plt.ylabel(\"Cost\")\n",
    "plt.xlabel(\"Constant\")\n",
    "\n",
    "plt.tight_layout()"
   ]
  },
  {
   "cell_type": "code",
   "execution_count": null,
   "metadata": {
    "collapsed": true
   },
   "outputs": [],
   "source": []
  }
 ],
 "metadata": {
  "kernelspec": {
   "display_name": "Python 3",
   "language": "python",
   "name": "python3"
  },
  "language_info": {
   "codemirror_mode": {
    "name": "ipython",
    "version": 3
   },
   "file_extension": ".py",
   "mimetype": "text/x-python",
   "name": "python",
   "nbconvert_exporter": "python",
   "pygments_lexer": "ipython3",
   "version": "3.6.0"
  }
 },
 "nbformat": 4,
 "nbformat_minor": 2
}
