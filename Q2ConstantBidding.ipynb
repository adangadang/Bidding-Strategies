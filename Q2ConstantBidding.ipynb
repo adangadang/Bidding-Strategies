{
 "cells": [
  {
   "cell_type": "code",
   "execution_count": 1,
   "metadata": {
    "collapsed": true
   },
   "outputs": [],
   "source": [
    "import pandas as pd\n",
    "import numpy as np\n",
    "import matplotlib.pyplot as plt\n",
    "from random import randint\n",
    "import seaborn as sns\n",
    "\n",
    "%matplotlib inline"
   ]
  },
  {
   "cell_type": "markdown",
   "metadata": {},
   "source": [
    "# Pull Data"
   ]
  },
  {
   "cell_type": "code",
   "execution_count": 2,
   "metadata": {
    "collapsed": true
   },
   "outputs": [],
   "source": [
    "path = \"C:/Users/Akis/OneDrive/Masters/Web Economics/Data/\"\n",
    "test_df = pd.read_csv(path+'test.csv')\n",
    "train_df = pd.read_csv(path+'train.csv')\n",
    "validation_df = pd.read_csv(path+'validation.csv')"
   ]
  },
  {
   "cell_type": "code",
   "execution_count": 3,
   "metadata": {
    "collapsed": false,
    "scrolled": true
   },
   "outputs": [
    {
     "name": "stdout",
     "output_type": "stream",
     "text": [
      "Our Budget is: 6250000 Fen\n",
      "To use over 303375 bid opportunities.\n",
      "Budget / Bid Opportunity: 20.601565718994642\n"
     ]
    }
   ],
   "source": [
    "budget=6250*1000\n",
    "print(\"Our Budget is:\",budget, \"Fen\")\n",
    "print(\"To use over\",test_df.shape[0],\"bid opportunities.\")\n",
    "BudPerBid=budget/test_df.shape[0]\n",
    "print(\"Budget / Bid Opportunity:\",BudPerBid)\n",
    "\n",
    "minBid=np.min(train_df[\"payprice\"].values)\n",
    "maxBid=np.max(train_df[\"payprice\"].values)\n",
    "custRange = np.arange(minBid+1, maxBid+2,1) # determines the range that bids should be in"
   ]
  },
  {
   "cell_type": "code",
   "execution_count": 4,
   "metadata": {
    "collapsed": false
   },
   "outputs": [
    {
     "data": {
      "text/plain": [
       "'\\nImpressions = test_df.shape[0]\\nImpressionsPerTeam = Impressions/30\\nAverageSpendPerImpression = 6250000/ImpressionsPerTeam\\nprint(\"Total number of auctions:\", Impressions)\\nprint(\"Average Number Of Impressions per team:\",ImpressionsPerTeam)\\nprint(\"Average budget per impression\",AverageSpendPerImpression)\\n'"
      ]
     },
     "execution_count": 4,
     "metadata": {},
     "output_type": "execute_result"
    }
   ],
   "source": [
    "'''\n",
    "Impressions = test_df.shape[0]\n",
    "ImpressionsPerTeam = Impressions/30\n",
    "AverageSpendPerImpression = 6250000/ImpressionsPerTeam\n",
    "print(\"Total number of auctions:\", Impressions)\n",
    "print(\"Average Number Of Impressions per team:\",ImpressionsPerTeam)\n",
    "print(\"Average budget per impression\",AverageSpendPerImpression)\n",
    "'''"
   ]
  },
  {
   "cell_type": "code",
   "execution_count": 5,
   "metadata": {
    "collapsed": false
   },
   "outputs": [
    {
     "data": {
      "text/plain": [
       "'meanPayPrice = train_df[\"bidprice\"].mean()/1000\\nImpressions = test_df.shape[0]\\ntotalSpend = Impressions * meanPayPrice\\nspendPerTeam = totalSpend/30 #30 is number of teams\\npercOfBudget = int(spendPerTeam*100/6250)\\nsuggestedBudget = int(spendPerTeam*0.80/100)*100 #75 percent of their probable spend, to make sure everyone can reach their budget limit\\nprint(\"Assuming that by training our models on the train set provided, our payprices will be similar to those of the train set:\")\\nprint(\"Pay price average in train set:\",meanPayPrice)\\nprint(\"Total number of auctions to be held in the competition:\", Impressions)\\nprint(\"These 2 figures tell us that a rough total of\",int(totalSpend),\" will be paid by all teams combined.\")\\nprint(\"Average spend of each team:\", int(spendPerTeam),\"which equals\",percOfBudget,\"% of their budget.\")\\nprint(\"Thus a budget of roughly 80% of their likely spend is suggested:\",suggestedBudget,\"CNY Fen\")\\n'"
      ]
     },
     "execution_count": 5,
     "metadata": {},
     "output_type": "execute_result"
    }
   ],
   "source": [
    "'''meanPayPrice = train_df[\"bidprice\"].mean()/1000\n",
    "Impressions = test_df.shape[0]\n",
    "totalSpend = Impressions * meanPayPrice\n",
    "spendPerTeam = totalSpend/30 #30 is number of teams\n",
    "percOfBudget = int(spendPerTeam*100/6250)\n",
    "suggestedBudget = int(spendPerTeam*0.80/100)*100 #75 percent of their probable spend, to make sure everyone can reach their budget limit\n",
    "print(\"Assuming that by training our models on the train set provided, our payprices will be similar to those of the train set:\")\n",
    "print(\"Pay price average in train set:\",meanPayPrice)\n",
    "print(\"Total number of auctions to be held in the competition:\", Impressions)\n",
    "print(\"These 2 figures tell us that a rough total of\",int(totalSpend),\" will be paid by all teams combined.\")\n",
    "print(\"Average spend of each team:\", int(spendPerTeam),\"which equals\",percOfBudget,\"% of their budget.\")\n",
    "print(\"Thus a budget of roughly 80% of their likely spend is suggested:\",suggestedBudget,\"CNY Fen\")\n",
    "'''"
   ]
  },
  {
   "cell_type": "code",
   "execution_count": 6,
   "metadata": {
    "collapsed": true
   },
   "outputs": [],
   "source": [
    "pd.set_option('display.max_columns', None)"
   ]
  },
  {
   "cell_type": "markdown",
   "metadata": {
    "collapsed": true
   },
   "source": [
    "# Functions"
   ]
  },
  {
   "cell_type": "markdown",
   "metadata": {},
   "source": [
    "### Plot Metrics by Constant Bidding Rate"
   ]
  },
  {
   "cell_type": "code",
   "execution_count": 7,
   "metadata": {
    "collapsed": true
   },
   "outputs": [],
   "source": [
    "def plotResults(resultsDataFrame):\n",
    "    \n",
    "    metrics = [resultsDataFrame['ConstValue'],resultsDataFrame['CTR'], resultsDataFrame['Clicks'], resultsDataFrame['Spend'], resultsDataFrame['CPM'], resultsDataFrame['CPC'], resultsDataFrame['Impressions']]\n",
    "    metricNames = ['ConstValue','CTR','Clicks','Spend','CostPerMille','CostPerClick','Impressions']\n",
    "\n",
    "    f, axarr = plt.subplots(len(metrics), sharex=True, figsize=(8, 14))\n",
    "    i=0\n",
    "    for metric in metrics:\n",
    "        axarr[i].plot(custRange, metric)\n",
    "        axarr[i].set_title(metricNames[i])\n",
    "        #axarr[i].axvline(x=228,color='red')\n",
    "        #axarr[i].axvline(x=278,color='red')\n",
    "        i+=1\n",
    "\n",
    "    axarr[i-1].set(xlabel=\"Constant Bid Value\")\n",
    "\n",
    "    # Bring subplots close to each other.\n",
    "    f.subplots_adjust(wspace=0.3)\n",
    "    \n",
    "    \n",
    "    useless = 0\n",
    "    return useless"
   ]
  },
  {
   "cell_type": "markdown",
   "metadata": {},
   "source": [
    "### Function to find best constant bidding value for a dataset"
   ]
  },
  {
   "cell_type": "code",
   "execution_count": 8,
   "metadata": {
    "collapsed": true
   },
   "outputs": [],
   "source": [
    "# dataframe pandas:                  data to find best value for\n",
    "# metric string:                     metric that needs minimsing or maximising\n",
    "# MaxMin \"maximise\"/\"minimise\":      Minimse or Maximise the metric\n",
    "# minSpendPercentage [0,1]:          Minimum % of Budget we want to use\n",
    "# plot boolean:                      plot results?\n",
    "\n",
    "def FindConstant(dataframe,metric,MaxMin,minSpendPercentage,plot):\n",
    "    \n",
    "    minSpend=minSpendPercentage*dataframe.shape[0]*BudPerBid*3\n",
    "    \n",
    "    resultsDF = pd.DataFrame(columns=['ConstValue','CTR', 'Clicks', 'Spend', 'CPM', 'CPC', 'Impressions'])\n",
    "\n",
    "    \n",
    "    for ConstantBid in custRange:        \n",
    "        resultsDF.loc[len(resultsDF)] = EvalConstBid(dataframe,ConstantBid)\n",
    "    #print(resultsDF)\n",
    "    if plot:\n",
    "        plotResults(resultsDF)\n",
    "    \n",
    "    if MaxMin == \"maximise\":\n",
    "        mIndex = resultsDF[metric].where(resultsDF['Spend'] >= minSpend).idxmax(axis=1, skipna=True)\n",
    "    elif MaxMin == \"minimise\":\n",
    "        mIndex = resultsDF[metric].where(resultsDF['Spend'] >= minSpend).idxmin(axis=1, skipna=True)\n",
    "    else:\n",
    "        print(\"Maximise or minimise?\")\n",
    "    \n",
    "    #print(resultsDF)\n",
    "    constant = int(resultsDF['ConstValue'][mIndex])\n",
    "    \n",
    "    return constant"
   ]
  },
  {
   "cell_type": "markdown",
   "metadata": {},
   "source": [
    "### Evaluate a constant bid value on a new set"
   ]
  },
  {
   "cell_type": "code",
   "execution_count": 9,
   "metadata": {
    "collapsed": true
   },
   "outputs": [],
   "source": [
    "def EvalConstBid(dataframe,constant):\n",
    "    \n",
    "    dataframe['ConstBid']=constant\n",
    "\n",
    "    trueValues = (dataframe[\"payprice\"]<dataframe['ConstBid'])\n",
    "    impressions = dataframe[trueValues].shape[0]\n",
    "    clicks = np.sum(dataframe[trueValues][\"click\"].values)\n",
    "    spend = np.sum(dataframe[trueValues][\"payprice\"].values)\n",
    "    CostPerClick = spend/clicks\n",
    "    CostPerMille = spend*1000/(impressions)\n",
    "    ClickThroughRate=(clicks*100)/impressions\n",
    "        \n",
    "    \n",
    "    return [constant, ClickThroughRate, clicks, spend, CostPerMille, CostPerClick, impressions]"
   ]
  },
  {
   "cell_type": "markdown",
   "metadata": {},
   "source": [
    "### Bootstrap to combine above to functions"
   ]
  },
  {
   "cell_type": "code",
   "execution_count": 10,
   "metadata": {
    "collapsed": true
   },
   "outputs": [],
   "source": [
    "def Bootstrap(trainDF,repeats):\n",
    "    BestBids=[]\n",
    "    for n in range(1,repeats+1,1):\n",
    "        print(n,\"/\",repeats,\"...\")\n",
    "        #randomly assign 75% of data to dataSubset\n",
    "        dataSubset = trainDF.sample(frac=0.75, replace=False)\n",
    "\n",
    "        constant = FindConstant(dataSubset,'CTR','maximise',0.5,plot=False)\n",
    "\n",
    "        CTR = EvalConstBid(dataSubset,constant)[1]\n",
    "        #print(\"Constant value\" ,constant, \"gives CTR of:\",CTR)\n",
    "        BestBids.append(constant)\n",
    "        counts = np.bincount(BestBids)\n",
    "        BestBid = np.argmax(counts)\n",
    "    \n",
    "    return BestBid"
   ]
  },
  {
   "cell_type": "markdown",
   "metadata": {},
   "source": [
    "### Evalute on a new data set (validation set)"
   ]
  },
  {
   "cell_type": "markdown",
   "metadata": {},
   "source": [
    "# Main Code"
   ]
  },
  {
   "cell_type": "code",
   "execution_count": 11,
   "metadata": {
    "collapsed": true
   },
   "outputs": [],
   "source": [
    "dataSubset = train_df.sample(frac=0.70, replace=False)"
   ]
  },
  {
   "cell_type": "code",
   "execution_count": 12,
   "metadata": {
    "collapsed": false
   },
   "outputs": [
    {
     "name": "stderr",
     "output_type": "stream",
     "text": [
      "C:\\Users\\Akis\\Anaconda3\\lib\\site-packages\\ipykernel\\__main__.py:9: RuntimeWarning: invalid value encountered in longlong_scalars\n"
     ]
    },
    {
     "data": {
      "text/plain": [
       "301"
      ]
     },
     "execution_count": 12,
     "metadata": {},
     "output_type": "execute_result"
    },
    {
     "data": {
      "image/png": "[encoded data removed]",
      "text/plain": [
       "<matplotlib.figure.Figure at 0x23136c8c3c8>"
      ]
     },
     "metadata": {},
     "output_type": "display_data"
    }
   ],
   "source": [
    "FindConstant(dataSubset,'CTR','maximise',0.5,plot=True)"
   ]
  },
  {
   "cell_type": "markdown",
   "metadata": {},
   "source": [
    "This looks right when comparing to the graph below. We can see that the green graph is higher than the red for higher bid values. Thus the CTR will continue to increase the higher the bid constant."
   ]
  },
  {
   "cell_type": "code",
   "execution_count": 13,
   "metadata": {
    "collapsed": false
   },
   "outputs": [
    {
     "name": "stderr",
     "output_type": "stream",
     "text": [
      "C:\\Users\\Akis\\Anaconda3\\lib\\site-packages\\matplotlib\\cbook\\deprecation.py:106: MatplotlibDeprecationWarning: Adding an axes using the same arguments as a previous axes currently reuses the earlier instance.  In a future version, a new instance will always be created and returned.  Meanwhile, this warning can be suppressed, and the future behavior ensured, by passing a unique label to each axes instance.\n",
      "  warnings.warn(message, mplDeprecation, stacklevel=1)\n"
     ]
    },
    {
     "data": {
      "image/png": "[encoded data removed]",
      "text/plain": [
       "<matplotlib.figure.Figure at 0x2312e5ceb70>"
      ]
     },
     "metadata": {},
     "output_type": "display_data"
    }
   ],
   "source": [
    "plt.figure(figsize = (12,6))\n",
    "\n",
    "\n",
    "ax = plt.subplot(3,1,2)\n",
    "sns.distplot(train_df.loc[train_df[\"click\"] == 1, \"payprice\"], bins = 40, kde = False, norm_hist = True, color = \"green\")\n",
    "ax = plt.subplot(3,1,2)\n",
    "sns.distplot(train_df.loc[train_df[\"click\"] == 0, \"payprice\"], bins = 40, kde = False, norm_hist = True, color = \"red\")\n",
    "\n",
    "#ax = plt.subplot(3,1,3)\n",
    "#sns.distplot(train.loc[train[\"click\"] == 1, \"BidPayDifference\"], bins = 40, kde = False, norm_hist = True, color = \"green\")\n",
    "#ax = plt.subplot(3,1,3)\n",
    "#sns.distplot(train.loc[train[\"click\"] == 0, \"BidPayDifference\"], bins = 40, kde = False, norm_hist = True, color = \"red\")\n",
    "\n",
    "plt.tight_layout()"
   ]
  },
  {
   "cell_type": "markdown",
   "metadata": {},
   "source": [
    "### Bootstrap to find best constant bidding value on train set"
   ]
  },
  {
   "cell_type": "code",
   "execution_count": 14,
   "metadata": {
    "collapsed": false
   },
   "outputs": [
    {
     "name": "stdout",
     "output_type": "stream",
     "text": [
      "1 / 2 ...\n"
     ]
    },
    {
     "name": "stderr",
     "output_type": "stream",
     "text": [
      "C:\\Users\\Akis\\Anaconda3\\lib\\site-packages\\ipykernel\\__main__.py:9: RuntimeWarning: invalid value encountered in longlong_scalars\n"
     ]
    },
    {
     "name": "stdout",
     "output_type": "stream",
     "text": [
      "2 / 2 ...\n"
     ]
    }
   ],
   "source": [
    "BestBid = Bootstrap(train_df,repeats=5)"
   ]
  },
  {
   "cell_type": "markdown",
   "metadata": {},
   "source": [
    "### Evaluate Strategy on Validation Set"
   ]
  },
  {
   "cell_type": "code",
   "execution_count": 15,
   "metadata": {
    "collapsed": true
   },
   "outputs": [],
   "source": [
    "#BestBid = 278 #use this to save run time\n",
    "CTR = EvalConstBid(validation_df,BestBid)[1]"
   ]
  },
  {
   "cell_type": "code",
   "execution_count": 16,
   "metadata": {
    "collapsed": false
   },
   "outputs": [
    {
     "name": "stdout",
     "output_type": "stream",
     "text": [
      "Constant Bidding Value:  301\n",
      "CTR:  0.06646376573167723\n"
     ]
    }
   ],
   "source": [
    "print(\"Constant Bidding Value: \",BestBid)\n",
    "print(\"CTR: \",CTR)"
   ]
  },
  {
   "cell_type": "markdown",
   "metadata": {},
   "source": [
    "Compare this result to \"Q2TargetResults.ipynb\" to see that the model obtained is indeed the best constant bidding strategy."
   ]
  },
  {
   "cell_type": "code",
   "execution_count": null,
   "metadata": {
    "collapsed": true
   },
   "outputs": [],
   "source": []
  }
 ],
 "metadata": {
  "kernelspec": {
   "display_name": "Python 3",
   "language": "python",
   "name": "python3"
  },
  "language_info": {
   "codemirror_mode": {
    "name": "ipython",
    "version": 3
   },
   "file_extension": ".py",
   "mimetype": "text/x-python",
   "name": "python",
   "nbconvert_exporter": "python",
   "pygments_lexer": "ipython3",
   "version": "3.6.0"
  }
 },
 "nbformat": 4,
 "nbformat_minor": 2
}
