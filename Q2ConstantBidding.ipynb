{
 "cells": [
  {
   "cell_type": "code",
   "execution_count": 1,
   "metadata": {},
   "outputs": [],
   "source": [
    "import pandas as pd\n",
    "import numpy as np\n",
    "import matplotlib.pyplot as plt\n",
    "from random import randint\n",
    "import seaborn as sns\n",
    "\n",
    "%matplotlib inline"
   ]
  },
  {
   "cell_type": "markdown",
   "metadata": {},
   "source": [
    "# Pull Data"
   ]
  },
  {
   "cell_type": "code",
   "execution_count": 2,
   "metadata": {},
   "outputs": [],
   "source": [
    "#path = \"C:/Users/Akis-/OneDrive/Masters/Web Economics/Data/\"\n",
    "path=\"\"\n",
    "#test_df = pd.read_csv(path+'test.csv')\n",
    "train_df = pd.read_csv(path+'train.csv')\n",
    "validation_df = pd.read_csv(path+'validation.csv')"
   ]
  },
  {
   "cell_type": "code",
   "execution_count": 3,
   "metadata": {
    "scrolled": true
   },
   "outputs": [
    {
     "name": "stdout",
     "output_type": "stream",
     "text": [
      "Our Budget is: 6250000 Fen\n",
      "To use over 303925 bid opportunities.\n",
      "Budget / Bid Opportunity: 20.564283951632802\n"
     ]
    }
   ],
   "source": [
    "budget=6250*1000\n",
    "print(\"Our Budget is:\",budget, \"Fen\")\n",
    "print(\"To use over\",validation_df.shape[0],\"bid opportunities.\")\n",
    "BudPerBid=budget/validation_df.shape[0]\n",
    "print(\"Budget / Bid Opportunity:\",BudPerBid)\n",
    "\n",
    "minBid=np.min(train_df[\"payprice\"].values)-10\n",
    "maxBid=np.max(train_df[\"payprice\"].values)+100\n",
    "custRange = np.arange(minBid+1, maxBid+2,10) # determines the range that bids should be in"
   ]
  },
  {
   "cell_type": "code",
   "execution_count": 4,
   "metadata": {},
   "outputs": [
    {
     "data": {
      "text/plain": [
       "'\\nImpressions = test_df.shape[0]\\nImpressionsPerTeam = Impressions/30\\nAverageSpendPerImpression = 6250000/ImpressionsPerTeam\\nprint(\"Total number of auctions:\", Impressions)\\nprint(\"Average Number Of Impressions per team:\",ImpressionsPerTeam)\\nprint(\"Average budget per impression\",AverageSpendPerImpression)\\n'"
      ]
     },
     "execution_count": 4,
     "metadata": {},
     "output_type": "execute_result"
    }
   ],
   "source": [
    "'''\n",
    "Impressions = test_df.shape[0]\n",
    "ImpressionsPerTeam = Impressions/30\n",
    "AverageSpendPerImpression = 6250000/ImpressionsPerTeam\n",
    "print(\"Total number of auctions:\", Impressions)\n",
    "print(\"Average Number Of Impressions per team:\",ImpressionsPerTeam)\n",
    "print(\"Average budget per impression\",AverageSpendPerImpression)\n",
    "'''"
   ]
  },
  {
   "cell_type": "code",
   "execution_count": 5,
   "metadata": {},
   "outputs": [
    {
     "data": {
      "text/plain": [
       "'meanPayPrice = train_df[\"bidprice\"].mean()/1000\\nImpressions = test_df.shape[0]\\ntotalSpend = Impressions * meanPayPrice\\nspendPerTeam = totalSpend/30 #30 is number of teams\\npercOfBudget = int(spendPerTeam*100/6250)\\nsuggestedBudget = int(spendPerTeam*0.80/100)*100 #75 percent of their probable spend, to make sure everyone can reach their budget limit\\nprint(\"Assuming that by training our models on the train set provided, our payprices will be similar to those of the train set:\")\\nprint(\"Pay price average in train set:\",meanPayPrice)\\nprint(\"Total number of auctions to be held in the competition:\", Impressions)\\nprint(\"These 2 figures tell us that a rough total of\",int(totalSpend),\" will be paid by all teams combined.\")\\nprint(\"Average spend of each team:\", int(spendPerTeam),\"which equals\",percOfBudget,\"% of their budget.\")\\nprint(\"Thus a budget of roughly 80% of their likely spend is suggested:\",suggestedBudget,\"CNY Fen\")\\n'"
      ]
     },
     "execution_count": 5,
     "metadata": {},
     "output_type": "execute_result"
    }
   ],
   "source": [
    "'''meanPayPrice = train_df[\"bidprice\"].mean()/1000\n",
    "Impressions = test_df.shape[0]\n",
    "totalSpend = Impressions * meanPayPrice\n",
    "spendPerTeam = totalSpend/30 #30 is number of teams\n",
    "percOfBudget = int(spendPerTeam*100/6250)\n",
    "suggestedBudget = int(spendPerTeam*0.80/100)*100 #75 percent of their probable spend, to make sure everyone can reach their budget limit\n",
    "print(\"Assuming that by training our models on the train set provided, our payprices will be similar to those of the train set:\")\n",
    "print(\"Pay price average in train set:\",meanPayPrice)\n",
    "print(\"Total number of auctions to be held in the competition:\", Impressions)\n",
    "print(\"These 2 figures tell us that a rough total of\",int(totalSpend),\" will be paid by all teams combined.\")\n",
    "print(\"Average spend of each team:\", int(spendPerTeam),\"which equals\",percOfBudget,\"% of their budget.\")\n",
    "print(\"Thus a budget of roughly 80% of their likely spend is suggested:\",suggestedBudget,\"CNY Fen\")\n",
    "'''"
   ]
  },
  {
   "cell_type": "code",
   "execution_count": 6,
   "metadata": {},
   "outputs": [],
   "source": [
    "pd.set_option('display.max_columns', None)"
   ]
  },
  {
   "cell_type": "markdown",
   "metadata": {
    "collapsed": true
   },
   "source": [
    "# Functions"
   ]
  },
  {
   "cell_type": "markdown",
   "metadata": {},
   "source": [
    "### Plot Metrics by Constant Bidding Rate"
   ]
  },
  {
   "cell_type": "code",
   "execution_count": 7,
   "metadata": {},
   "outputs": [],
   "source": [
    "def plotResults(resultsDataFrame):\n",
    "    \n",
    "    metrics = [resultsDataFrame['ConstValue'],resultsDataFrame['CTR'], resultsDataFrame['Clicks'], resultsDataFrame['Spend'], resultsDataFrame['CPM'], resultsDataFrame['CPC'], resultsDataFrame['Impressions']]\n",
    "    metricNames = ['ConstValue','CTR','Clicks','Spend','CostPerMille','CostPerClick','Impressions']\n",
    "\n",
    "    f, axarr = plt.subplots(len(metrics), sharex=True, figsize=(8, 14))\n",
    "    i=0\n",
    "    for metric in metrics:\n",
    "        axarr[i].plot(custRange, metric)\n",
    "        axarr[i].set_title(metricNames[i])\n",
    "        axarr[i].axvline(x=228,color='red')\n",
    "        axarr[i].axvline(x=278,color='red')\n",
    "        i+=1\n",
    "\n",
    "    axarr[i-1].set(xlabel=\"Constant Bid Value\")\n",
    "\n",
    "    # Bring subplots close to each other.\n",
    "    f.subplots_adjust(wspace=0.3)\n",
    "    \n",
    "    \n",
    "    useless = 0\n",
    "    return useless"
   ]
  },
  {
   "cell_type": "markdown",
   "metadata": {},
   "source": [
    "### Function to find best constant bidding value for a dataset"
   ]
  },
  {
   "cell_type": "code",
   "execution_count": 8,
   "metadata": {},
   "outputs": [],
   "source": [
    "# dataframe pandas:                  data to find best value for\n",
    "# metric string:                     metric that needs minimsing or maximising\n",
    "# MaxMin \"maximise\"/\"minimise\":      Minimse or Maximise the metric\n",
    "# minSpendPercentage [0,1]:          Minimum % of Budget we want to use\n",
    "# plot boolean:                      plot results?\n",
    "\n",
    "def FindConstant(dataframe,metric,MaxMin,minSpendPercentage,plot):\n",
    "    \n",
    "    minSpend=minSpendPercentage*dataframe.shape[0]*BudPerBid*3\n",
    "    \n",
    "    resultsDF = pd.DataFrame(columns=['ConstValue','CTR', 'Clicks', 'Spend', 'CPM', 'CPC', 'Impressions'])\n",
    "\n",
    "    \n",
    "    for ConstantBid in custRange:        \n",
    "        resultsDF.loc[len(resultsDF)] = EvalConstBid(dataframe,ConstantBid,6250000,validation_df.shape[0])\n",
    "    #print(resultsDF)\n",
    "    if plot:\n",
    "        plotResults(resultsDF)\n",
    "    \n",
    "    if MaxMin == \"maximise\":\n",
    "        mIndex = resultsDF[metric].where(resultsDF['Spend'] >= minSpend).idxmax(axis=1, skipna=True)\n",
    "    elif MaxMin == \"minimise\":\n",
    "        mIndex = resultsDF[metric].where(resultsDF['Spend'] >= minSpend).idxmin(axis=1, skipna=True)\n",
    "    else:\n",
    "        print(\"Maximise or minimise?\")\n",
    "    \n",
    "    print(resultsDF)\n",
    "    constant = int(resultsDF['ConstValue'][mIndex])\n",
    "    \n",
    "    return constant"
   ]
  },
  {
   "cell_type": "markdown",
   "metadata": {},
   "source": [
    "### Evaluate a constant bid value on a new set"
   ]
  },
  {
   "cell_type": "code",
   "execution_count": 9,
   "metadata": {},
   "outputs": [],
   "source": [
    "def EvalConstBid(dataframe,constant,budget,size):\n",
    "    \n",
    "    AdjustedBudget=(budget/size)*dataframe.shape[0]\n",
    "    print(\"AdjustedBudget is:\",AdjustedBudget)\n",
    "    tempData=dataframe.copy(True)\n",
    "    tempData['ConstBid']=constant\n",
    "\n",
    "    tempData['trueValues'] = np.where(tempData[\"payprice\"]<tempData['ConstBid'],1,0)\n",
    "    tempData['ModelPays'] = tempData['trueValues']*tempData['payprice']\n",
    "    tempData['cumsum'] = tempData['ModelPays'].cumsum()\n",
    "    lastRowToInclude = np.argmax(tempData['cumsum'].as_matrix()>AdjustedBudget)\n",
    "    if lastRowToInclude==0:\n",
    "        lastRowToInclude=tempData.shape[0]\n",
    "    #print(\"lastRowToInclude\",lastRowToInclude)\n",
    "    \n",
    "    shortData = tempData.head(lastRowToInclude).copy(True)\n",
    "    trueValues = (0<shortData['ModelPays'])\n",
    "    impressions = shortData[trueValues].shape[0]\n",
    "    clicks = np.sum(shortData[trueValues][\"click\"].values)\n",
    "    spend = np.sum(shortData[trueValues][\"payprice\"].values)\n",
    "    CostPerClick = spend/clicks\n",
    "    CostPerMille = spend*1000/(impressions)\n",
    "    ClickThroughRate=(clicks*100)/impressions\n",
    "    return [constant, ClickThroughRate, clicks, spend, CostPerMille, CostPerClick, impressions]\n",
    "\n",
    "\n",
    "    #impressions = shortData.loc[shortData['ModelPays'] > 0].sum()\n",
    "    #clicks = shortData.loc[shortData['ModelPays'] > 0 , 'click'].sum()\n",
    "    #print(\"clicks:\",clicks)"
   ]
  },
  {
   "cell_type": "code",
   "execution_count": 10,
   "metadata": {},
   "outputs": [
    {
     "name": "stdout",
     "output_type": "stream",
     "text": [
      "AdjustedBudget is: 49991383.565024264\n",
      "[275, 0.06979007878932579, 456, 49991361, 76510.98734595676, 109630.17763157895, 653388]\n"
     ]
    }
   ],
   "source": [
    "dataa = EvalConstBid(train_df,275,6250000,validation_df.shape[0])\n",
    "print(dataa)"
   ]
  },
  {
   "cell_type": "markdown",
   "metadata": {},
   "source": [
    "### Bootstrap to combine above two functions"
   ]
  },
  {
   "cell_type": "code",
   "execution_count": 11,
   "metadata": {},
   "outputs": [],
   "source": [
    "def Bootstrap(trainDF,repeats):\n",
    "    BestBids=[]\n",
    "    for n in range(1,repeats+1,1):\n",
    "        print(n,\"/\",repeats,\"...\")\n",
    "        #randomly assign 75% of data to dataSubset\n",
    "        dataSubset = trainDF.sample(frac=0.75, replace=False)\n",
    "\n",
    "        constant = FindConstant(dataSubset,'CTR','maximise',0.5,plot=False)\n",
    "\n",
    "        CTR = EvalConstBid(dataSubset,constant)[1]\n",
    "        #print(\"Constant value\" ,constant, \"gives CTR of:\",CTR)\n",
    "        BestBids.append(constant)\n",
    "        counts = np.bincount(BestBids)\n",
    "        BestBid = np.argmax(counts)\n",
    "    \n",
    "    return BestBid"
   ]
  },
  {
   "cell_type": "markdown",
   "metadata": {},
   "source": [
    "### Evalute on a new data set (validation set)"
   ]
  },
  {
   "cell_type": "markdown",
   "metadata": {},
   "source": [
    "# Main Code"
   ]
  },
  {
   "cell_type": "code",
   "execution_count": 12,
   "metadata": {},
   "outputs": [],
   "source": [
    "dataSubset = train_df.sample(frac=0.70, replace=False)"
   ]
  },
  {
   "cell_type": "code",
   "execution_count": 13,
   "metadata": {},
   "outputs": [
    {
     "name": "stdout",
     "output_type": "stream",
     "text": [
      "AdjustedBudget is: 34993974.66480217\n"
     ]
    },
    {
     "name": "stderr",
     "output_type": "stream",
     "text": [
      "/opt/anaconda/envs/Python3/lib/python3.6/site-packages/ipykernel/__main__.py:21: RuntimeWarning: invalid value encountered in longlong_scalars\n",
      "/opt/anaconda/envs/Python3/lib/python3.6/site-packages/ipykernel/__main__.py:22: RuntimeWarning: invalid value encountered in longlong_scalars\n",
      "/opt/anaconda/envs/Python3/lib/python3.6/site-packages/ipykernel/__main__.py:23: RuntimeWarning: invalid value encountered in longlong_scalars\n"
     ]
    },
    {
     "name": "stdout",
     "output_type": "stream",
     "text": [
      "AdjustedBudget is: 34993974.66480217\n",
      "AdjustedBudget is: 34993974.66480217\n",
      "AdjustedBudget is: 34993974.66480217\n",
      "AdjustedBudget is: 34993974.66480217\n",
      "AdjustedBudget is: 34993974.66480217\n",
      "AdjustedBudget is: 34993974.66480217\n",
      "AdjustedBudget is: 34993974.66480217\n",
      "AdjustedBudget is: 34993974.66480217\n",
      "AdjustedBudget is: 34993974.66480217\n",
      "AdjustedBudget is: 34993974.66480217\n",
      "AdjustedBudget is: 34993974.66480217\n",
      "AdjustedBudget is: 34993974.66480217\n",
      "AdjustedBudget is: 34993974.66480217\n",
      "AdjustedBudget is: 34993974.66480217\n",
      "AdjustedBudget is: 34993974.66480217\n",
      "AdjustedBudget is: 34993974.66480217\n",
      "AdjustedBudget is: 34993974.66480217\n",
      "AdjustedBudget is: 34993974.66480217\n",
      "AdjustedBudget is: 34993974.66480217\n",
      "AdjustedBudget is: 34993974.66480217\n",
      "AdjustedBudget is: 34993974.66480217\n",
      "AdjustedBudget is: 34993974.66480217\n",
      "AdjustedBudget is: 34993974.66480217\n",
      "AdjustedBudget is: 34993974.66480217\n",
      "AdjustedBudget is: 34993974.66480217\n",
      "AdjustedBudget is: 34993974.66480217\n",
      "AdjustedBudget is: 34993974.66480217\n",
      "AdjustedBudget is: 34993974.66480217\n",
      "AdjustedBudget is: 34993974.66480217\n",
      "AdjustedBudget is: 34993974.66480217\n",
      "AdjustedBudget is: 34993974.66480217\n",
      "AdjustedBudget is: 34993974.66480217\n",
      "AdjustedBudget is: 34993974.66480217\n",
      "AdjustedBudget is: 34993974.66480217\n",
      "AdjustedBudget is: 34993974.66480217\n",
      "AdjustedBudget is: 34993974.66480217\n",
      "AdjustedBudget is: 34993974.66480217\n",
      "AdjustedBudget is: 34993974.66480217\n",
      "AdjustedBudget is: 34993974.66480217\n",
      "AdjustedBudget is: 34993974.66480217\n",
      "AdjustedBudget is: 34993974.66480217\n",
      "    ConstValue       CTR  Clicks       Spend           CPM           CPC  \\\n",
      "0         -9.0       NaN     0.0         0.0           NaN           NaN   \n",
      "1          1.0       NaN     0.0         0.0           NaN           NaN   \n",
      "2         11.0  0.035050    32.0    586382.0   6422.655232  18324.437500   \n",
      "3         21.0  0.031763    83.0   3522792.0  13481.068753  42443.277108   \n",
      "4         31.0  0.035780   136.0   6463340.0  17004.448864  47524.558824   \n",
      "5         41.0  0.039947   196.0  10290166.0  20972.646322  52500.846939   \n",
      "6         51.0  0.039320   254.0  17664806.0  27345.705214  69546.480315   \n",
      "7         61.0  0.040907   323.0  25560788.0  32371.859640  79135.566563   \n",
      "8         71.0  0.048929   443.0  34993940.0  38650.595543  78993.092551   \n",
      "9         81.0  0.057842   454.0  34993946.0  44584.238656  77079.176211   \n",
      "10        91.0  0.058842   429.0  34993973.0  47997.900073  81571.032634   \n",
      "11       101.0  0.060932   428.0  34993957.0  49819.206200  81761.581776   \n",
      "12       111.0  0.063210   428.0  34993960.0  51681.275301  81761.588785   \n",
      "13       121.0  0.066853   438.0  34993969.0  53412.533350  79894.906393   \n",
      "14       131.0  0.068017   431.0  34993972.0  55224.893989  81192.510441   \n",
      "15       141.0  0.068095   419.0  34993957.0  56871.059171  83517.797136   \n",
      "16       151.0  0.068046   403.0  34993957.0  59086.461798  86833.640199   \n",
      "17       161.0  0.070527   401.0  34993856.0  61546.704563  87266.473815   \n",
      "18       171.0  0.072066   398.0  34993966.0  63363.987477  87924.537688   \n",
      "19       181.0  0.073649   394.0  34993961.0  65412.940913  88817.159898   \n",
      "20       191.0  0.073686   387.0  34993910.0  66629.557065  90423.540052   \n",
      "21       201.0  0.074871   385.0  34993898.0  68052.650821  90893.241558   \n",
      "22       211.0  0.076274   381.0  34993817.0  70055.728168  91847.288714   \n",
      "23       221.0  0.077407   378.0  34993912.0  71660.230458  92576.486772   \n",
      "24       231.0  0.078938   377.0  34993917.0  73272.033066  92822.061008   \n",
      "25       241.0  0.078317   369.0  34993971.0  74271.632687  94834.609756   \n",
      "26       251.0  0.079020   369.0  34993925.0  74937.951312  94834.485095   \n",
      "27       261.0  0.079415   367.0  34993943.0  75723.649560  95351.343324   \n",
      "28       271.0  0.080679   370.0  34993952.0  76305.046162  94578.248649   \n",
      "29       281.0  0.081249   370.0  34993923.0  76843.348492  94578.170270   \n",
      "30       291.0  0.080795   364.0  34993916.0  77674.155757  96137.131868   \n",
      "31       301.0  0.080813   362.0  34993920.0  78120.147338  96668.287293   \n",
      "32       311.0  0.080813   362.0  34993920.0  78120.147338  96668.287293   \n",
      "33       321.0  0.080813   362.0  34993920.0  78120.147338  96668.287293   \n",
      "34       331.0  0.080813   362.0  34993920.0  78120.147338  96668.287293   \n",
      "35       341.0  0.080813   362.0  34993920.0  78120.147338  96668.287293   \n",
      "36       351.0  0.080813   362.0  34993920.0  78120.147338  96668.287293   \n",
      "37       361.0  0.080813   362.0  34993920.0  78120.147338  96668.287293   \n",
      "38       371.0  0.080813   362.0  34993920.0  78120.147338  96668.287293   \n",
      "39       381.0  0.080813   362.0  34993920.0  78120.147338  96668.287293   \n",
      "40       391.0  0.080813   362.0  34993920.0  78120.147338  96668.287293   \n",
      "41       401.0  0.080813   362.0  34993920.0  78120.147338  96668.287293   \n",
      "\n",
      "    Impressions  \n",
      "0           0.0  \n",
      "1           0.0  \n",
      "2       91299.0  \n",
      "3      261314.0  \n",
      "4      380097.0  \n",
      "5      490647.0  \n",
      "6      645981.0  \n",
      "7      789599.0  \n",
      "8      905392.0  \n",
      "9      784895.0  \n",
      "10     729073.0  \n",
      "11     702419.0  \n",
      "12     677111.0  \n",
      "13     655164.0  \n",
      "14     633663.0  \n",
      "15     615321.0  \n",
      "16     592250.0  \n",
      "17     568574.0  \n",
      "18     552269.0  \n",
      "19     534970.0  \n",
      "20     525201.0  \n",
      "21     514218.0  \n",
      "22     499514.0  \n",
      "23     488331.0  \n",
      "24     477589.0  \n",
      "25     471162.0  \n",
      "26     466972.0  \n",
      "27     462127.0  \n",
      "28     458606.0  \n",
      "29     455393.0  \n",
      "30     450522.0  \n",
      "31     447950.0  \n",
      "32     447950.0  \n",
      "33     447950.0  \n",
      "34     447950.0  \n",
      "35     447950.0  \n",
      "36     447950.0  \n",
      "37     447950.0  \n",
      "38     447950.0  \n",
      "39     447950.0  \n",
      "40     447950.0  \n",
      "41     447950.0  \n"
     ]
    },
    {
     "ename": "TypeError",
     "evalue": "cannot do label indexing on <class 'pandas.core.indexes.numeric.Int64Index'> with these indexers [nan] of <class 'float'>",
     "output_type": "error",
     "traceback": [
      "\u001b[0;31m---------------------------------------------------------------------------\u001b[0m",
      "\u001b[0;31mTypeError\u001b[0m                                 Traceback (most recent call last)",
      "\u001b[0;32m<ipython-input-13-6363c6a20bde>\u001b[0m in \u001b[0;36m<module>\u001b[0;34m()\u001b[0m\n\u001b[0;32m----> 1\u001b[0;31m \u001b[0mFindConstant\u001b[0m\u001b[0;34m(\u001b[0m\u001b[0mdataSubset\u001b[0m\u001b[0;34m,\u001b[0m\u001b[0;34m'CTR'\u001b[0m\u001b[0;34m,\u001b[0m\u001b[0;34m'maximise'\u001b[0m\u001b[0;34m,\u001b[0m\u001b[0;36m0.5\u001b[0m\u001b[0;34m,\u001b[0m\u001b[0mplot\u001b[0m\u001b[0;34m=\u001b[0m\u001b[0;32mTrue\u001b[0m\u001b[0;34m)\u001b[0m\u001b[0;34m\u001b[0m\u001b[0m\n\u001b[0m",
      "\u001b[0;32m<ipython-input-8-2d96a14f959f>\u001b[0m in \u001b[0;36mFindConstant\u001b[0;34m(dataframe, metric, MaxMin, minSpendPercentage, plot)\u001b[0m\n\u001b[1;32m     26\u001b[0m \u001b[0;34m\u001b[0m\u001b[0m\n\u001b[1;32m     27\u001b[0m     \u001b[0mprint\u001b[0m\u001b[0;34m(\u001b[0m\u001b[0mresultsDF\u001b[0m\u001b[0;34m)\u001b[0m\u001b[0;34m\u001b[0m\u001b[0m\n\u001b[0;32m---> 28\u001b[0;31m     \u001b[0mconstant\u001b[0m \u001b[0;34m=\u001b[0m \u001b[0mint\u001b[0m\u001b[0;34m(\u001b[0m\u001b[0mresultsDF\u001b[0m\u001b[0;34m[\u001b[0m\u001b[0;34m'ConstValue'\u001b[0m\u001b[0;34m]\u001b[0m\u001b[0;34m[\u001b[0m\u001b[0mmIndex\u001b[0m\u001b[0;34m]\u001b[0m\u001b[0;34m)\u001b[0m\u001b[0;34m\u001b[0m\u001b[0m\n\u001b[0m\u001b[1;32m     29\u001b[0m \u001b[0;34m\u001b[0m\u001b[0m\n\u001b[1;32m     30\u001b[0m     \u001b[0;32mreturn\u001b[0m \u001b[0mconstant\u001b[0m\u001b[0;34m\u001b[0m\u001b[0m\n",
      "\u001b[0;32m/opt/anaconda/envs/Python3/lib/python3.6/site-packages/pandas/core/series.py\u001b[0m in \u001b[0;36m__getitem__\u001b[0;34m(self, key)\u001b[0m\n\u001b[1;32m    621\u001b[0m         \u001b[0mkey\u001b[0m \u001b[0;34m=\u001b[0m \u001b[0mcom\u001b[0m\u001b[0;34m.\u001b[0m\u001b[0m_apply_if_callable\u001b[0m\u001b[0;34m(\u001b[0m\u001b[0mkey\u001b[0m\u001b[0;34m,\u001b[0m \u001b[0mself\u001b[0m\u001b[0;34m)\u001b[0m\u001b[0;34m\u001b[0m\u001b[0m\n\u001b[1;32m    622\u001b[0m         \u001b[0;32mtry\u001b[0m\u001b[0;34m:\u001b[0m\u001b[0;34m\u001b[0m\u001b[0m\n\u001b[0;32m--> 623\u001b[0;31m             \u001b[0mresult\u001b[0m \u001b[0;34m=\u001b[0m \u001b[0mself\u001b[0m\u001b[0;34m.\u001b[0m\u001b[0mindex\u001b[0m\u001b[0;34m.\u001b[0m\u001b[0mget_value\u001b[0m\u001b[0;34m(\u001b[0m\u001b[0mself\u001b[0m\u001b[0;34m,\u001b[0m \u001b[0mkey\u001b[0m\u001b[0;34m)\u001b[0m\u001b[0;34m\u001b[0m\u001b[0m\n\u001b[0m\u001b[1;32m    624\u001b[0m \u001b[0;34m\u001b[0m\u001b[0m\n\u001b[1;32m    625\u001b[0m             \u001b[0;32mif\u001b[0m \u001b[0;32mnot\u001b[0m \u001b[0mis_scalar\u001b[0m\u001b[0;34m(\u001b[0m\u001b[0mresult\u001b[0m\u001b[0;34m)\u001b[0m\u001b[0;34m:\u001b[0m\u001b[0;34m\u001b[0m\u001b[0m\n",
      "\u001b[0;32m/opt/anaconda/envs/Python3/lib/python3.6/site-packages/pandas/core/indexes/base.py\u001b[0m in \u001b[0;36mget_value\u001b[0;34m(self, series, key)\u001b[0m\n\u001b[1;32m   2555\u001b[0m         \u001b[0mk\u001b[0m \u001b[0;34m=\u001b[0m \u001b[0m_values_from_object\u001b[0m\u001b[0;34m(\u001b[0m\u001b[0mkey\u001b[0m\u001b[0;34m)\u001b[0m\u001b[0;34m\u001b[0m\u001b[0m\n\u001b[1;32m   2556\u001b[0m \u001b[0;34m\u001b[0m\u001b[0m\n\u001b[0;32m-> 2557\u001b[0;31m         \u001b[0mk\u001b[0m \u001b[0;34m=\u001b[0m \u001b[0mself\u001b[0m\u001b[0;34m.\u001b[0m\u001b[0m_convert_scalar_indexer\u001b[0m\u001b[0;34m(\u001b[0m\u001b[0mk\u001b[0m\u001b[0;34m,\u001b[0m \u001b[0mkind\u001b[0m\u001b[0;34m=\u001b[0m\u001b[0;34m'getitem'\u001b[0m\u001b[0;34m)\u001b[0m\u001b[0;34m\u001b[0m\u001b[0m\n\u001b[0m\u001b[1;32m   2558\u001b[0m         \u001b[0;32mtry\u001b[0m\u001b[0;34m:\u001b[0m\u001b[0;34m\u001b[0m\u001b[0m\n\u001b[1;32m   2559\u001b[0m             return self._engine.get_value(s, k,\n",
      "\u001b[0;32m/opt/anaconda/envs/Python3/lib/python3.6/site-packages/pandas/core/indexes/numeric.py\u001b[0m in \u001b[0;36m_convert_scalar_indexer\u001b[0;34m(self, key, kind)\u001b[0m\n\u001b[1;32m    166\u001b[0m             \u001b[0mkey\u001b[0m \u001b[0;34m=\u001b[0m \u001b[0mself\u001b[0m\u001b[0;34m.\u001b[0m\u001b[0m_maybe_cast_indexer\u001b[0m\u001b[0;34m(\u001b[0m\u001b[0mkey\u001b[0m\u001b[0;34m)\u001b[0m\u001b[0;34m\u001b[0m\u001b[0m\n\u001b[1;32m    167\u001b[0m         return (super(Int64Index, self)\n\u001b[0;32m--> 168\u001b[0;31m                 ._convert_scalar_indexer(key, kind=kind))\n\u001b[0m\u001b[1;32m    169\u001b[0m \u001b[0;34m\u001b[0m\u001b[0m\n\u001b[1;32m    170\u001b[0m     \u001b[0;32mdef\u001b[0m \u001b[0m_wrap_joined_index\u001b[0m\u001b[0;34m(\u001b[0m\u001b[0mself\u001b[0m\u001b[0;34m,\u001b[0m \u001b[0mjoined\u001b[0m\u001b[0;34m,\u001b[0m \u001b[0mother\u001b[0m\u001b[0;34m)\u001b[0m\u001b[0;34m:\u001b[0m\u001b[0;34m\u001b[0m\u001b[0m\n",
      "\u001b[0;32m/opt/anaconda/envs/Python3/lib/python3.6/site-packages/pandas/core/indexes/base.py\u001b[0m in \u001b[0;36m_convert_scalar_indexer\u001b[0;34m(self, key, kind)\u001b[0m\n\u001b[1;32m   1374\u001b[0m             \u001b[0;32mif\u001b[0m \u001b[0mkind\u001b[0m \u001b[0;32min\u001b[0m \u001b[0;34m[\u001b[0m\u001b[0;34m'getitem'\u001b[0m\u001b[0;34m,\u001b[0m \u001b[0;34m'ix'\u001b[0m\u001b[0;34m]\u001b[0m \u001b[0;32mand\u001b[0m \u001b[0mis_float\u001b[0m\u001b[0;34m(\u001b[0m\u001b[0mkey\u001b[0m\u001b[0;34m)\u001b[0m\u001b[0;34m:\u001b[0m\u001b[0;34m\u001b[0m\u001b[0m\n\u001b[1;32m   1375\u001b[0m                 \u001b[0;32mif\u001b[0m \u001b[0;32mnot\u001b[0m \u001b[0mself\u001b[0m\u001b[0;34m.\u001b[0m\u001b[0mis_floating\u001b[0m\u001b[0;34m(\u001b[0m\u001b[0;34m)\u001b[0m\u001b[0;34m:\u001b[0m\u001b[0;34m\u001b[0m\u001b[0m\n\u001b[0;32m-> 1376\u001b[0;31m                     \u001b[0;32mreturn\u001b[0m \u001b[0mself\u001b[0m\u001b[0;34m.\u001b[0m\u001b[0m_invalid_indexer\u001b[0m\u001b[0;34m(\u001b[0m\u001b[0;34m'label'\u001b[0m\u001b[0;34m,\u001b[0m \u001b[0mkey\u001b[0m\u001b[0;34m)\u001b[0m\u001b[0;34m\u001b[0m\u001b[0m\n\u001b[0m\u001b[1;32m   1377\u001b[0m \u001b[0;34m\u001b[0m\u001b[0m\n\u001b[1;32m   1378\u001b[0m             \u001b[0;32melif\u001b[0m \u001b[0mkind\u001b[0m \u001b[0;32min\u001b[0m \u001b[0;34m[\u001b[0m\u001b[0;34m'loc'\u001b[0m\u001b[0;34m]\u001b[0m \u001b[0;32mand\u001b[0m \u001b[0mis_float\u001b[0m\u001b[0;34m(\u001b[0m\u001b[0mkey\u001b[0m\u001b[0;34m)\u001b[0m\u001b[0;34m:\u001b[0m\u001b[0;34m\u001b[0m\u001b[0m\n",
      "\u001b[0;32m/opt/anaconda/envs/Python3/lib/python3.6/site-packages/pandas/core/indexes/base.py\u001b[0m in \u001b[0;36m_invalid_indexer\u001b[0;34m(self, form, key)\u001b[0m\n\u001b[1;32m   1574\u001b[0m                         \"indexers [{key}] of {kind}\".format(\n\u001b[1;32m   1575\u001b[0m                             \u001b[0mform\u001b[0m\u001b[0;34m=\u001b[0m\u001b[0mform\u001b[0m\u001b[0;34m,\u001b[0m \u001b[0mklass\u001b[0m\u001b[0;34m=\u001b[0m\u001b[0mtype\u001b[0m\u001b[0;34m(\u001b[0m\u001b[0mself\u001b[0m\u001b[0;34m)\u001b[0m\u001b[0;34m,\u001b[0m \u001b[0mkey\u001b[0m\u001b[0;34m=\u001b[0m\u001b[0mkey\u001b[0m\u001b[0;34m,\u001b[0m\u001b[0;34m\u001b[0m\u001b[0m\n\u001b[0;32m-> 1576\u001b[0;31m                             kind=type(key)))\n\u001b[0m\u001b[1;32m   1577\u001b[0m \u001b[0;34m\u001b[0m\u001b[0m\n\u001b[1;32m   1578\u001b[0m     \u001b[0;32mdef\u001b[0m \u001b[0mget_duplicates\u001b[0m\u001b[0;34m(\u001b[0m\u001b[0mself\u001b[0m\u001b[0;34m)\u001b[0m\u001b[0;34m:\u001b[0m\u001b[0;34m\u001b[0m\u001b[0m\n",
      "\u001b[0;31mTypeError\u001b[0m: cannot do label indexing on <class 'pandas.core.indexes.numeric.Int64Index'> with these indexers [nan] of <class 'float'>"
     ]
    },
    {
     "data": {
      "image/png": "[encoded data removed]",
      "text/plain": [
       "<matplotlib.figure.Figure at 0x7f095716be48>"
      ]
     },
     "metadata": {},
     "output_type": "display_data"
    }
   ],
   "source": [
    "FindConstant(dataSubset,'CTR','maximise',0.5,plot=True)"
   ]
  },
  {
   "cell_type": "markdown",
   "metadata": {},
   "source": [
    "This looks right when comparing to the graph below. We can see that the green graph is higher than the red for higher bid values. Thus the CTR will continue to increase the higher the bid constant."
   ]
  },
  {
   "cell_type": "code",
   "execution_count": 14,
   "metadata": {},
   "outputs": [
    {
     "name": "stderr",
     "output_type": "stream",
     "text": [
      "/opt/anaconda/envs/Python3/lib/python3.6/site-packages/matplotlib/cbook/deprecation.py:106: MatplotlibDeprecationWarning: Adding an axes using the same arguments as a previous axes currently reuses the earlier instance.  In a future version, a new instance will always be created and returned.  Meanwhile, this warning can be suppressed, and the future behavior ensured, by passing a unique label to each axes instance.\n",
      "  warnings.warn(message, mplDeprecation, stacklevel=1)\n"
     ]
    },
    {
     "data": {
      "image/png": "[encoded data removed]",
      "text/plain": [
       "<matplotlib.figure.Figure at 0x7f09536a6390>"
      ]
     },
     "metadata": {},
     "output_type": "display_data"
    }
   ],
   "source": [
    "plt.figure(figsize = (12,6))\n",
    "\n",
    "\n",
    "ax = plt.subplot(3,1,2)\n",
    "sns.distplot(train_df.loc[train_df[\"click\"] == 1, \"payprice\"], bins = 40, kde = False, norm_hist = True, color = \"green\")\n",
    "ax = plt.subplot(3,1,2)\n",
    "sns.distplot(train_df.loc[train_df[\"click\"] == 0, \"payprice\"], bins = 40, kde = False, norm_hist = True, color = \"red\")\n",
    "\n",
    "#ax = plt.subplot(3,1,3)\n",
    "#sns.distplot(train.loc[train[\"click\"] == 1, \"BidPayDifference\"], bins = 40, kde = False, norm_hist = True, color = \"green\")\n",
    "#ax = plt.subplot(3,1,3)\n",
    "#sns.distplot(train.loc[train[\"click\"] == 0, \"BidPayDifference\"], bins = 40, kde = False, norm_hist = True, color = \"red\")\n",
    "\n",
    "plt.tight_layout()"
   ]
  },
  {
   "cell_type": "markdown",
   "metadata": {},
   "source": [
    "### Bootstrap to find best constant bidding value on train set"
   ]
  },
  {
   "cell_type": "code",
   "execution_count": null,
   "metadata": {},
   "outputs": [],
   "source": [
    "BestBid = Bootstrap(train_df,repeats=5)"
   ]
  },
  {
   "cell_type": "markdown",
   "metadata": {},
   "source": [
    "### Evaluate Strategy on Validation Set"
   ]
  },
  {
   "cell_type": "code",
   "execution_count": null,
   "metadata": {},
   "outputs": [],
   "source": [
    "#BestBid = 278 #use this to save run time\n",
    "CTR = EvalConstBid(validation_df,BestBid)[1]"
   ]
  },
  {
   "cell_type": "code",
   "execution_count": null,
   "metadata": {},
   "outputs": [],
   "source": [
    "print(\"Constant Bidding Value: \",BestBid)\n",
    "print(\"CTR: \",CTR)"
   ]
  },
  {
   "cell_type": "markdown",
   "metadata": {},
   "source": [
    "Compare this result to \"Q2TargetResults.ipynb\" to see that the model obtained is indeed the best constant bidding strategy."
   ]
  },
  {
   "cell_type": "code",
   "execution_count": null,
   "metadata": {},
   "outputs": [],
   "source": []
  }
 ],
 "metadata": {
  "kernelspec": {
   "display_name": "Python [default]",
   "language": "python",
   "name": "python3"
  },
  "language_info": {
   "codemirror_mode": {
    "name": "ipython",
    "version": 3
   },
   "file_extension": ".py",
   "mimetype": "text/x-python",
   "name": "python",
   "nbconvert_exporter": "python",
   "pygments_lexer": "ipython3",
   "version": "3.6.4"
  }
 },
 "nbformat": 4,
 "nbformat_minor": 2
}
