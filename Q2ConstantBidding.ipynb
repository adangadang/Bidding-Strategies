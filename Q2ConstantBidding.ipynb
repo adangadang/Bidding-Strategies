{
 "cells": [
  {
   "cell_type": "code",
   "execution_count": 1,
   "metadata": {
    "collapsed": true
   },
   "outputs": [],
   "source": [
    "import pandas as pd\n",
    "import numpy as np\n",
    "import matplotlib.pyplot as plt\n",
    "from random import randint\n",
    "\n",
    "%matplotlib inline"
   ]
  },
  {
   "cell_type": "markdown",
   "metadata": {},
   "source": [
    "# Pull Data"
   ]
  },
  {
   "cell_type": "code",
   "execution_count": 2,
   "metadata": {
    "collapsed": false
   },
   "outputs": [],
   "source": [
    "path = \"C:/Users/Akis/OneDrive/Masters/Web Economics/Data/\"\n",
    "test_df = pd.read_csv(path+'test.csv')\n",
    "train_df = pd.read_csv(path+'train.csv')\n",
    "validation_df = pd.read_csv(path+'validation.csv')"
   ]
  },
  {
   "cell_type": "code",
   "execution_count": 3,
   "metadata": {
    "collapsed": false,
    "scrolled": true
   },
   "outputs": [
    {
     "name": "stdout",
     "output_type": "stream",
     "text": [
      "Our Budget is: 6250000 Fen\n",
      "To use over 303375 bid opportunities.\n",
      "Budget / Bid Opportunity: 20.601565718994642\n"
     ]
    }
   ],
   "source": [
    "budget=6250*1000\n",
    "print(\"Our Budget is:\",budget, \"Fen\")\n",
    "print(\"To use over\",test_df.shape[0],\"bid opportunities.\")\n",
    "BudPerBid=budget/test_df.shape[0]\n",
    "print(\"Budget / Bid Opportunity:\",BudPerBid)\n",
    "\n",
    "minBid=np.min(validation_df[\"bidprice\"].values)\n",
    "maxBid=np.max(validation_df[\"bidprice\"].values)\n",
    "custRange = np.arange(minBid+1, maxBid+2,5) # determines the range that bids should be in"
   ]
  },
  {
   "cell_type": "code",
   "execution_count": 4,
   "metadata": {
    "collapsed": false
   },
   "outputs": [],
   "source": [
    "pd.set_option('display.max_columns', None)"
   ]
  },
  {
   "cell_type": "markdown",
   "metadata": {
    "collapsed": true
   },
   "source": [
    "# Functions"
   ]
  },
  {
   "cell_type": "markdown",
   "metadata": {},
   "source": [
    "### Plot Metrics by Constant Bidding Rate"
   ]
  },
  {
   "cell_type": "code",
   "execution_count": 5,
   "metadata": {
    "collapsed": true
   },
   "outputs": [],
   "source": [
    "def plotResults(resultsDataFrame):\n",
    "    \n",
    "    metrics = [resultsDataFrame['ConstValue'],resultsDataFrame['CTR'], resultsDataFrame['Clicks'], resultsDataFrame['Spend'], resultsDataFrame['CPM'], resultsDataFrame['CPC'], resultsDataFrame['Impressions']]\n",
    "    metricNames = ['ConstValue','CTR','Clicks','Spend','CostPerMille','CostPerClick','Impressions']\n",
    "\n",
    "    f, axarr = plt.subplots(len(metrics), sharex=True, figsize=(8, 14))\n",
    "    i=0\n",
    "    for metric in metrics:\n",
    "        axarr[i].plot(custRange, metric)\n",
    "        axarr[i].set_title(metricNames[i])\n",
    "        axarr[i].axvline(x=228,color='red')\n",
    "        axarr[i].axvline(x=278,color='red')\n",
    "        i+=1\n",
    "\n",
    "    axarr[i-1].set(xlabel=\"Constant Bid Value\")\n",
    "\n",
    "    # Bring subplots close to each other.\n",
    "    f.subplots_adjust(wspace=0.3)\n",
    "    \n",
    "    \n",
    "    useless = 0\n",
    "    return useless"
   ]
  },
  {
   "cell_type": "markdown",
   "metadata": {},
   "source": [
    "### Function to find best constant bidding value for a dataset"
   ]
  },
  {
   "cell_type": "code",
   "execution_count": 6,
   "metadata": {
    "collapsed": false
   },
   "outputs": [],
   "source": [
    "# dataframe pandas:                  data to find best value for\n",
    "# metric string:                     metric that needs minimsing or maximising\n",
    "# MaxMin \"maximise\"/\"minimise\":      Minimse or Maximise the metric\n",
    "# minSpendPercentage [0,1]:          Minimum % of Budget we want to use\n",
    "# plot boolean:                      plot results?\n",
    "\n",
    "def FindConstant(dataframe,metric,MaxMin,minSpendPercentage,plot):\n",
    "    \n",
    "    minSpend=minSpendPercentage*dataframe.shape[0]*BudPerBid*3\n",
    "    \n",
    "    resultsDF = pd.DataFrame(columns=['ConstValue','CTR', 'Clicks', 'Spend', 'CPM', 'CPC', 'Impressions'])\n",
    "\n",
    "    \n",
    "    for ConstantBid in custRange:        \n",
    "        resultsDF.loc[len(resultsDF)] = EvalConstBid(dataframe,ConstantBid)\n",
    "    #print(resultsDF)\n",
    "    if plot:\n",
    "        plotResults(resultsDF)\n",
    "    \n",
    "    if MaxMin == \"maximise\":\n",
    "        mIndex = resultsDF[metric].where(resultsDF['Spend'] >= minSpend).idxmax(axis=1, skipna=True)\n",
    "    elif MaxMin == \"minimise\":\n",
    "        mIndex = resultsDF[metric].where(resultsDF['Spend'] >= minSpend).idxmin(axis=1, skipna=True)\n",
    "    else:\n",
    "        print(\"Maximise or minimise?\")\n",
    "    \n",
    "    #print(resultsDF)\n",
    "    constant = int(resultsDF['ConstValue'][mIndex])\n",
    "    \n",
    "    return constant"
   ]
  },
  {
   "cell_type": "markdown",
   "metadata": {},
   "source": [
    "### Evaluate a constant bid value on a new set"
   ]
  },
  {
   "cell_type": "code",
   "execution_count": 7,
   "metadata": {
    "collapsed": false
   },
   "outputs": [],
   "source": [
    "def EvalConstBid(dataframe,constant):\n",
    "    \n",
    "    dataframe['ConstBid']=constant\n",
    "\n",
    "    trueValues = (dataframe[\"bidprice\"]<dataframe['ConstBid'])\n",
    "    impressions = dataframe[trueValues].shape[0]\n",
    "    clicks = np.sum(dataframe[trueValues][\"click\"].values)\n",
    "    spend = np.sum(dataframe[trueValues][\"bidprice\"].values)\n",
    "    CostPerClick = spend/clicks\n",
    "    CostPerMille = spend*1000/(impressions)\n",
    "    ClickThroughRate=(clicks*100)/impressions\n",
    "        \n",
    "    \n",
    "    return [constant, ClickThroughRate, clicks, spend, CostPerMille, CostPerClick, impressions]"
   ]
  },
  {
   "cell_type": "markdown",
   "metadata": {},
   "source": [
    "### Bootstrap to combine above to functions"
   ]
  },
  {
   "cell_type": "code",
   "execution_count": 13,
   "metadata": {
    "collapsed": false
   },
   "outputs": [],
   "source": [
    "def Bootstrap(trainDF,repeats):\n",
    "    BestBids=[]\n",
    "    for n in range(1,repeats+1,1):\n",
    "        print(n,\"/\",repeats,\"...\")\n",
    "        #randomly assign 75% of data to dataSubset\n",
    "        dataSubset = trainDF.sample(frac=0.75, replace=False)\n",
    "\n",
    "        constant = FindConstant(dataSubset,'CTR','maximise',0.5,plot=False)\n",
    "\n",
    "        CTR = EvalConstBid(dataSubset,constant)[1]\n",
    "        #print(\"Constant value\" ,constant, \"gives CTR of:\",CTR)\n",
    "        BestBids.append(constant)\n",
    "        counts = np.bincount(BestBids)\n",
    "        BestBid = np.argmax(counts)\n",
    "    \n",
    "    return BestBid"
   ]
  },
  {
   "cell_type": "markdown",
   "metadata": {},
   "source": [
    "### Evalute on a new data set (validation set)"
   ]
  },
  {
   "cell_type": "markdown",
   "metadata": {},
   "source": [
    "# Main Code"
   ]
  },
  {
   "cell_type": "markdown",
   "metadata": {},
   "source": [
    "### Bootstrap to find best constant bidding value on train set"
   ]
  },
  {
   "cell_type": "code",
   "execution_count": 14,
   "metadata": {
    "collapsed": false
   },
   "outputs": [
    {
     "name": "stdout",
     "output_type": "stream",
     "text": [
      "1 / 10 ...\n",
      "2 / 10 ...\n",
      "3 / 10 ...\n",
      "4 / 10 ...\n",
      "5 / 10 ...\n",
      "6 / 10 ...\n",
      "7 / 10 ...\n",
      "8 / 10 ...\n",
      "9 / 10 ...\n",
      "10 / 10 ...\n"
     ]
    }
   ],
   "source": [
    "#BestBid = Bootstrap(train_df,repeats=10)"
   ]
  },
  {
   "cell_type": "markdown",
   "metadata": {},
   "source": [
    "### Evaluate Strategy on Validation Set"
   ]
  },
  {
   "cell_type": "code",
   "execution_count": 18,
   "metadata": {
    "collapsed": true
   },
   "outputs": [],
   "source": [
    "BestBid = 278 #use this to save run time\n",
    "CTR = EvalConstBid(validation_df,BestBid)[1]"
   ]
  },
  {
   "cell_type": "code",
   "execution_count": 19,
   "metadata": {
    "collapsed": false
   },
   "outputs": [
    {
     "name": "stdout",
     "output_type": "stream",
     "text": [
      "Constant Bidding Value:  278\n",
      "CTR:  0.07042739763861079\n"
     ]
    }
   ],
   "source": [
    "print(\"Constant Bidding Value: \",BestBid)\n",
    "print(\"CTR: \",CTR)"
   ]
  },
  {
   "cell_type": "markdown",
   "metadata": {},
   "source": [
    "Compare this result to \"Q2TargetResults.ipynb\" to see that the model obtained is indeed the best constant bidding strategy."
   ]
  },
  {
   "cell_type": "code",
   "execution_count": 20,
   "metadata": {
    "collapsed": false
   },
   "outputs": [
    {
     "data": {
      "text/plain": [
       "278"
      ]
     },
     "execution_count": 20,
     "metadata": {},
     "output_type": "execute_result"
    },
    {
     "data": {
      "image/png": "[encoded data removed]",
      "text/plain": [
       "<matplotlib.figure.Figure at 0x26a837af8d0>"
      ]
     },
     "metadata": {},
     "output_type": "display_data"
    }
   ],
   "source": [
    "FindConstant(validation_df,'CTR','maximise',0.5,plot=True)"
   ]
  },
  {
   "cell_type": "code",
   "execution_count": null,
   "metadata": {
    "collapsed": true
   },
   "outputs": [],
   "source": []
  }
 ],
 "metadata": {
  "kernelspec": {
   "display_name": "Python 3",
   "language": "python",
   "name": "python3"
  },
  "language_info": {
   "codemirror_mode": {
    "name": "ipython",
    "version": 3
   },
   "file_extension": ".py",
   "mimetype": "text/x-python",
   "name": "python",
   "nbconvert_exporter": "python",
   "pygments_lexer": "ipython3",
   "version": "3.6.0"
  }
 },
 "nbformat": 4,
 "nbformat_minor": 2
}
