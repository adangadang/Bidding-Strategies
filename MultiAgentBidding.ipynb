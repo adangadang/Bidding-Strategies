{
 "cells": [
  {
   "cell_type": "markdown",
   "metadata": {},
   "source": [
    "# Main Notebook"
   ]
  },
  {
   "cell_type": "markdown",
   "metadata": {},
   "source": [
    "## Summary"
   ]
  },
  {
   "cell_type": "markdown",
   "metadata": {},
   "source": [
    "This notebook will do following steps:\n",
    " -  Pull validation data\n",
    " -  Load CTR predictions from CSV for X different models\n",
    " -  Load BaseBid Predictions from pickels for X different models\n",
    " -  For X models combine (in Y different ways) the above two steps to build X*Y BidPrices for each impression\n",
    " -  Hold auction for each impression one by one\n",
    " -  Summary Scores for each of X*Y models "
   ]
  },
  {
   "cell_type": "markdown",
   "metadata": {},
   "source": [
    "# Preparation"
   ]
  },
  {
   "cell_type": "code",
   "execution_count": 1,
   "metadata": {},
   "outputs": [],
   "source": [
    "import pandas as pd\n",
    "import numpy as np\n",
    "import matplotlib.pyplot as plt\n",
    "from random import randint    \n",
    "import seaborn as sns\n",
    "from score_models import Scorer\n",
    "\n",
    "%matplotlib inline"
   ]
  },
  {
   "cell_type": "markdown",
   "metadata": {},
   "source": [
    "# Pull Validation Data"
   ]
  },
  {
   "cell_type": "code",
   "execution_count": 2,
   "metadata": {},
   "outputs": [],
   "source": [
    "path = \"C:/Users/Akis-/OneDrive/Masters/Web Economics/Data/\"\n",
    "#test_df = pd.read_csv(path+'test.csv')\n",
    "#train_df = pd.read_csv(path+'train.csv')\n",
    "validation_df = pd.read_csv(path+'validation.csv')"
   ]
  },
  {
   "cell_type": "code",
   "execution_count": 3,
   "metadata": {},
   "outputs": [],
   "source": [
    "#print(validation_df.head())\n",
    "#avgCTR =validation_df.loc[validation_df[\"click\"] == 1].shape[0]/(validation_df.shape[0])\n",
    "#print(avgCTR)"
   ]
  },
  {
   "cell_type": "markdown",
   "metadata": {},
   "source": [
    "# Load CTR Predictions"
   ]
  },
  {
   "cell_type": "markdown",
   "metadata": {},
   "source": [
    "Need a function that will combine multiple dataframes into one"
   ]
  },
  {
   "cell_type": "code",
   "execution_count": 4,
   "metadata": {},
   "outputs": [
    {
     "name": "stdout",
     "output_type": "stream",
     "text": [
      "       pCTR\n",
      "0  0.470948\n",
      "1  0.393028\n",
      "       pCTR\n",
      "0  0.470948\n",
      "1  0.393028\n",
      "   pCTR\n",
      "0   0.0\n",
      "1   0.0\n"
     ]
    }
   ],
   "source": [
    "#path='C:/Users/Akis-/OneDrive/Masters/Web Economics/Data/Predictions/click_predictions_achilleas/'\n",
    "path='C:/Users/Akis-/OneDrive/Masters/Web Economics/Data/WebEcon Team Drive/predictions/'\n",
    "\n",
    "lr_data = pd.read_csv(path+'lr_pCTR.csv')\n",
    "lr_pCTR=lr_data[['click_proba']]\n",
    "lr_pCTR = lr_pCTR.rename(index=str, columns={\"click_proba\": \"pCTR\"})\n",
    "print(lr_pCTR.head(2))\n",
    "\n",
    "xgb_data = pd.read_csv(path+'xgb_pCTR.csv')\n",
    "xgb_pCTR=xgb_data[['click_proba']]\n",
    "xgb_pCTR = lr_pCTR.rename(index=str, columns={\"click_proba\": \"pCTR\"})\n",
    "print(lr_pCTR.head(2))\n",
    "\n",
    "\n",
    "\n",
    "#path='C:/Users/Akis-/OneDrive/Masters/Web Economics/Data/Predictions/click_predictions_dwane/'\n",
    "\n",
    "mF_data = pd.read_csv(path+'click_predictions_narrow.csv')\n",
    "mF_pCTR=mF_data[['pCTR']]\n",
    "#mF_pCTR = mF_pCTR.rename(index=str, columns={\"click_proba\": \"pCTR\"})\n",
    "print(mF_pCTR.head(2))\n",
    "\n",
    "\n",
    "\n",
    "\n"
   ]
  },
  {
   "cell_type": "code",
   "execution_count": 5,
   "metadata": {},
   "outputs": [],
   "source": [
    "#resultCTR=teamAdf\n",
    "#resultCTR[\"teamB_CTR\"]=teamBdf[\"CTR\"]\n",
    "#result = pd.merge(teamAdf, teamBdf, how='inner', on=None, left_on=None, right_on=None, left_index=False, right_index=False, sort=False, suffixes=('_x', '_y'), copy=True, indicator=False, validate=None)\n",
    "#print(resultCTR.head())"
   ]
  },
  {
   "cell_type": "markdown",
   "metadata": {},
   "source": [
    "\n",
    "# Load Basebid Predictions"
   ]
  },
  {
   "cell_type": "markdown",
   "metadata": {},
   "source": [
    "Need a function that will combine multiple dataframes into one"
   ]
  },
  {
   "cell_type": "code",
   "execution_count": 6,
   "metadata": {},
   "outputs": [
    {
     "name": "stdout",
     "output_type": "stream",
     "text": [
      "   predicted_payprice\n",
      "0           81.330752\n",
      "1           95.890274\n",
      "   predicted_payprice\n",
      "0           78.236533\n",
      "1           85.978842\n",
      "   predicted_payprice\n",
      "0           83.225539\n",
      "1           85.902317\n",
      "   predicted_payprice\n",
      "0           49.996513\n",
      "1           63.256951\n"
     ]
    }
   ],
   "source": [
    "#path='C:/Users/Akis-/OneDrive/Masters/Web Economics/Data/Predictions/basebid_predictions_achilleas/'\n",
    "path='C:/Users/Akis-/OneDrive/Masters/Web Economics/Data/WebEcon Team Drive/predictions/'\n",
    "\n",
    "r_data = pd.read_csv(path+'ridge_basebid.csv')\n",
    "r_pBB = r_data[['predicted_payprice']]\n",
    "#teamABaseBid = teamABaseBid.rename(index=str, columns={\"click_proba\": \"pCTR\"})\n",
    "print(r_pBB.head(2))\n",
    "\n",
    "lasso_basebid = pd.read_csv(path+'lasso_basebid.csv')\n",
    "lasso_pBB = lasso_basebid[['predicted_payprice']]\n",
    "#teamABaseBid = teamABaseBid.rename(index=str, columns={\"click_proba\": \"pCTR\"})\n",
    "print(lasso_pBB.head(2))\n",
    "\n",
    "elasticnet_basebid = pd.read_csv(path+'elasticnet_basebid.csv')\n",
    "eN_pBB = elasticnet_basebid[['predicted_payprice']]\n",
    "#teamABaseBid = teamABaseBid.rename(index=str, columns={\"click_proba\": \"pCTR\"})\n",
    "print(eN_pBB.head(2))\n",
    "\n",
    "rfr_basebid = pd.read_csv(path+'rfg_basebid.csv')\n",
    "rfr_pBB = rfr_basebid[['predicted_payprice']]\n",
    "#teamABaseBid = teamABaseBid.rename(index=str, columns={\"click_proba\": \"pCTR\"})\n",
    "print(rfr_pBB.head(2))\n",
    "\n",
    "EightyNineBB=r_pBB * 0 + 89\n",
    "\n",
    "\n",
    "\n",
    "\n"
   ]
  },
  {
   "cell_type": "markdown",
   "metadata": {},
   "source": [
    "# Formulas to use"
   ]
  },
  {
   "cell_type": "code",
   "execution_count": 7,
   "metadata": {},
   "outputs": [],
   "source": [
    "def CostantBidding(resBaseBid,resCTR):\n",
    "    Bids=resBaseBid['predicted_payprice'].values * 0 + 79\n",
    "    #print(\"Bids:\",Bids)\n",
    "    return Bids"
   ]
  },
  {
   "cell_type": "code",
   "execution_count": 8,
   "metadata": {},
   "outputs": [],
   "source": [
    "def RandomBidding(resBaseBid,resCTR):\n",
    "    Bids = np.random.randint(69, 89+1, resBaseBid.shape[0])\n",
    "    return Bids"
   ]
  },
  {
   "cell_type": "code",
   "execution_count": 9,
   "metadata": {},
   "outputs": [],
   "source": [
    "def BestLinearBidding(resBaseBid,resCTR):\n",
    "    avCTR = resCTR['pCTR'].mean()\n",
    "    Bids = resBaseBid['predicted_payprice'].values * (resCTR['pCTR'].values/avCTR)\n",
    "    return Bids"
   ]
  },
  {
   "cell_type": "code",
   "execution_count": 10,
   "metadata": {},
   "outputs": [],
   "source": [
    "def Strategy1(sub_basebid,sub_pCTR):\n",
    "    avgCTR = sub_pCTR[\"pCTR\"].mean()\n",
    "    base_bid = 105.46\n",
    "    bidprice = (sub_pCTR[\"pCTR\"] * base_bid) / avgCTR\n",
    "    return bidprice"
   ]
  },
  {
   "cell_type": "code",
   "execution_count": 11,
   "metadata": {},
   "outputs": [],
   "source": [
    "def Strategy2(sub_basebid,sub_pCTR):\n",
    "    avgCTR = sub_pCTR[\"pCTR\"].mean()\n",
    "    bidprice = (sub_pCTR[\"pCTR\"].values * sub_basebid[\"predicted_payprice\"].values) / avgCTR\n",
    "    return bidprice"
   ]
  },
  {
   "cell_type": "code",
   "execution_count": 12,
   "metadata": {},
   "outputs": [],
   "source": [
    "# def Function1(resBaseBid,resCTR):\n",
    "#     avCTR = 0.5\n",
    "#     Bids=resBaseBid['base_bid'].values * (resCTR['pCTR'].values/avCTR)\n",
    "#     #print(\"Bids:\",Bids)\n",
    "#     return Bids"
   ]
  },
  {
   "cell_type": "code",
   "execution_count": 13,
   "metadata": {},
   "outputs": [],
   "source": [
    "# def Function2(reBaseBid,reCTR):\n",
    "#     avCTR = 0.5\n",
    "#     reCTR=reCTR.copy(True)\n",
    "#     reCTR=(((reCTR+0.5)**2)-0.5)\n",
    "#     reCTR[reCTR < 0] = 0\n",
    "#     Bids=reBaseBid.values * (reCTR/avCTR)\n",
    "#     return Bids"
   ]
  },
  {
   "cell_type": "code",
   "execution_count": 14,
   "metadata": {},
   "outputs": [],
   "source": [
    "# def Function3(rBaseBid,rCTR):\n",
    "#     avCTR = 0.5\n",
    "#     rCTR=rCTR.copy(True)\n",
    "#     rCTR[rCTR < 0.5] = 0\n",
    "#     #rCTR=(((rCTR+0.5)**4)-0.5)\n",
    "#     Bids=rBaseBid.values*1.2 * (rCTR/avCTR)\n",
    "#     return Bids"
   ]
  },
  {
   "cell_type": "markdown",
   "metadata": {},
   "source": [
    "# Build Bid Prices for all models"
   ]
  },
  {
   "cell_type": "markdown",
   "metadata": {},
   "source": [
    "Need a function that will build a new dataframe conatining bids of all teams by combining the previous two dataframes."
   ]
  },
  {
   "cell_type": "code",
   "execution_count": 15,
   "metadata": {},
   "outputs": [],
   "source": [
    "resultsBids=pd.DataFrame(index=range(validation_df.shape[0]))\n",
    "resultsBids['click']=validation_df['click']\n",
    "resultsBids['payprice']=validation_df['payprice']\n",
    "\n",
    "resultsBids['ConstantBidding'] = CostantBidding(EightyNineBB,lr_data)\n",
    "resultsBids['RandomBidding'] = RandomBidding(EightyNineBB,lr_data)\n",
    "resultsBids['BestLinear'] = BestLinearBidding(EightyNineBB,xgb_pCTR)\n",
    "resultsBids['xgb_lasso_Str2'] = Strategy2(lasso_pBB,xgb_pCTR)\n",
    "resultsBids['mF_rfr_Str2'] = Strategy2(rfr_pBB,mF_pCTR)\n",
    "resultsBids['mF_eN_Str1'] = Strategy1(eN_pBB,mF_pCTR)\n",
    "\n",
    "multiples = 7\n",
    "resultsBids['ConstantBidding'] = resultsBids['ConstantBidding'].values * multiples\n",
    "resultsBids['RandomBidding'] = resultsBids['RandomBidding'].values * multiples\n",
    "resultsBids['BestLinear'] = resultsBids['BestLinear'].values * multiples\n",
    "resultsBids['xgb_lasso_Str2'] = resultsBids['xgb_lasso_Str2'].values * multiples\n",
    "resultsBids['mF_rfr_Str2'] = resultsBids['mF_rfr_Str2'].values * multiples\n",
    "resultsBids['mF_eN_Str1'] = resultsBids['mF_eN_Str1'].values * multiples"
   ]
  },
  {
   "cell_type": "code",
   "execution_count": 17,
   "metadata": {},
   "outputs": [
    {
     "name": "stdout",
     "output_type": "stream",
     "text": [
      "Multiples of budget spent: 5.0\n",
      "         budget  click        team_name    win\n",
      "0  1.261658e+06      4   xgb_lasso_Str2  11855\n",
      "1  2.154869e+02      2       BestLinear  15222\n",
      "2  2.079547e+02     14       mF_eN_Str1   4348\n",
      "3  5.482496e+01     14      mF_rfr_Str2   6625\n",
      "4  1.025131e+06      1    RandomBidding  13057\n",
      "5  2.594907e+06      0  ConstantBidding   9678\n",
      "\n",
      "\n",
      "Multiples of budget spent: 5.5\n",
      "         budget  click        team_name    win\n",
      "0  2.092652e+05      6    RandomBidding  13741\n",
      "1  5.816816e+02     15       mF_eN_Str1   3915\n",
      "2  4.117345e+02      2       BestLinear  13831\n",
      "3  4.928700e+05      8   xgb_lasso_Str2  12514\n",
      "4  4.256847e+02     14      mF_rfr_Str2   6264\n",
      "5  1.886333e+06      3  ConstantBidding  10520\n",
      "\n",
      "\n",
      "Multiples of budget spent: 6.0\n",
      "          budget  click        team_name    win\n",
      "0     350.753655     11       mF_eN_Str1   3611\n",
      "1     325.457082      1       BestLinear  12672\n",
      "2  746198.949527      3  ConstantBidding  13298\n",
      "3     470.549549      6    RandomBidding  13036\n",
      "4     159.643019     12      mF_rfr_Str2   5673\n",
      "5      16.068390     13   xgb_lasso_Str2  12495\n",
      "\n",
      "\n",
      "Multiples of budget spent: 6.5\n",
      "          budget  click        team_name    win\n",
      "0     139.645372      2    RandomBidding  12035\n",
      "1     320.331975     13      mF_rfr_Str2   5414\n",
      "2     209.447134      2       BestLinear  11703\n",
      "3  937313.583982     16  ConstantBidding  16804\n",
      "4     871.243077     13       mF_eN_Str1   3301\n",
      "5     253.555410      8   xgb_lasso_Str2  11528\n",
      "\n",
      "\n",
      "Multiples of budget spent: 7.0\n",
      "         budget  click        team_name    win\n",
      "0  3.171934e+01      3       BestLinear  10868\n",
      "1  7.121037e+01      5    RandomBidding  11167\n",
      "2  1.145544e+06     10  ConstantBidding  20039\n",
      "3  4.637675e+02      9       mF_eN_Str1   3102\n",
      "4  4.676271e+01     17      mF_rfr_Str2   4901\n",
      "5  8.942723e+01      9   xgb_lasso_Str2  10708\n",
      "\n",
      "\n",
      "Multiples of budget spent: 7.5\n",
      "          budget  click        team_name    win\n",
      "0     286.147470      4   xgb_lasso_Str2  10001\n",
      "1     519.901960      8       mF_eN_Str1   2861\n",
      "2     526.331925      0       BestLinear  10137\n",
      "3      24.186924      2    RandomBidding  10427\n",
      "4  419714.627464     15  ConstantBidding  22573\n",
      "5     233.282590     16      mF_rfr_Str2   4786\n",
      "\n",
      "\n"
     ]
    }
   ],
   "source": [
    "for multiples in range(50,80,5):\n",
    "    resultsBids['ConstantBidding'] = CostantBidding(EightyNineBB,lr_data)\n",
    "    resultsBids['RandomBidding'] = RandomBidding(EightyNineBB,lr_data)\n",
    "    resultsBids['BestLinear'] = BestLinearBidding(EightyNineBB,xgb_pCTR)\n",
    "    resultsBids['xgb_lasso_Str2'] = Strategy2(lasso_pBB,xgb_pCTR)\n",
    "    resultsBids['mF_rfr_Str2'] = Strategy2(rfr_pBB,mF_pCTR)\n",
    "    resultsBids['mF_eN_Str1'] = Strategy1(eN_pBB,mF_pCTR)\n",
    "\n",
    "    resultsBids['ConstantBidding'] = resultsBids['ConstantBidding'].values * multiples/10\n",
    "    resultsBids['RandomBidding'] = resultsBids['RandomBidding'].values * multiples/10\n",
    "    resultsBids['BestLinear'] = resultsBids['BestLinear'].values * multiples/10\n",
    "    resultsBids['xgb_lasso_Str2'] = resultsBids['xgb_lasso_Str2'].values * multiples/10\n",
    "    resultsBids['mF_rfr_Str2'] = resultsBids['mF_rfr_Str2'].values * multiples/10\n",
    "    resultsBids['mF_eN_Str1'] = resultsBids['mF_eN_Str1'].values * multiples/10\n",
    "\n",
    "    dataSubset = resultsBids.sample(frac=0.2, replace=False).copy(True) #divided by 5 to get similar environment\n",
    "    dataSubset.reset_index(drop=True, inplace=True)\n",
    "\n",
    "    s = Scorer()\n",
    "    df_summary,df = s.set_df(dataSubset, ['ConstantBidding', 'RandomBidding', 'BestLinear','xgb_lasso_Str2', 'mF_rfr_Str2', 'mF_eN_Str1'],6250000,20) \n",
    "    # /5 because 6 teams instead of 30\n",
    "    print(\"Multiples of budget spent:\",multiples/10)\n",
    "    print(df_summary.sort_values(by=['click']))\n",
    "    print()\n",
    "    print()"
   ]
  },
  {
   "cell_type": "code",
   "execution_count": 19,
   "metadata": {},
   "outputs": [
    {
     "name": "stdout",
     "output_type": "stream",
     "text": [
      "Multiples of budget spent: 15.0\n",
      "        budget  click        team_name    win\n",
      "0   277.185649      0   xgb_lasso_Str2   4984\n",
      "1   259.659424      0       BestLinear   5068\n",
      "5   758.675598      0    RandomBidding   5210\n",
      "2   398.380849      4       mF_eN_Str1   1465\n",
      "4   138.547555      6      mF_rfr_Str2   2351\n",
      "3  1113.428553     11  ConstantBidding  20097\n",
      "\n",
      "\n",
      "Multiples of budget spent: 15.5\n",
      "       budget  click        team_name   win\n",
      "0  553.016002      0       BestLinear  4906\n",
      "1  413.530429      3    RandomBidding  5042\n",
      "2  730.308436      4  ConstantBidding  7382\n",
      "4  692.758241      5       mF_eN_Str1  1426\n",
      "5  281.790104      6   xgb_lasso_Str2  4840\n",
      "3   77.646624      9      mF_rfr_Str2  2195\n",
      "\n",
      "\n"
     ]
    }
   ],
   "source": [
    "for multiples in range(150,160,5):\n",
    "    resultsBids['ConstantBidding'] = CostantBidding(EightyNineBB,lr_data)\n",
    "    resultsBids['RandomBidding'] = RandomBidding(EightyNineBB,lr_data)\n",
    "    resultsBids['BestLinear'] = BestLinearBidding(EightyNineBB,xgb_pCTR)\n",
    "    resultsBids['xgb_lasso_Str2'] = Strategy2(lasso_pBB,xgb_pCTR)\n",
    "    resultsBids['mF_rfr_Str2'] = Strategy2(rfr_pBB,mF_pCTR)\n",
    "    resultsBids['mF_eN_Str1'] = Strategy1(eN_pBB,mF_pCTR)\n",
    "\n",
    "    resultsBids['ConstantBidding'] = resultsBids['ConstantBidding'].values * multiples/10\n",
    "    resultsBids['RandomBidding'] = resultsBids['RandomBidding'].values * multiples/10\n",
    "    resultsBids['BestLinear'] = resultsBids['BestLinear'].values * multiples/10\n",
    "    resultsBids['xgb_lasso_Str2'] = resultsBids['xgb_lasso_Str2'].values * multiples/10\n",
    "    resultsBids['mF_rfr_Str2'] = resultsBids['mF_rfr_Str2'].values * multiples/10\n",
    "    resultsBids['mF_eN_Str1'] = resultsBids['mF_eN_Str1'].values * multiples/10\n",
    "\n",
    "    dataSubset = resultsBids.sample(frac=0.2, replace=False).copy(True) #divided by 5 to get similar environment\n",
    "    dataSubset.reset_index(drop=True, inplace=True)\n",
    "\n",
    "    s = Scorer()\n",
    "    df_summary,df = s.set_df(dataSubset, ['ConstantBidding', 'RandomBidding', 'BestLinear','xgb_lasso_Str2', 'mF_rfr_Str2', 'mF_eN_Str1'],6250000,20) \n",
    "    # /5 because 6 teams instead of 30\n",
    "    print(\"Multiples of budget spent:\",multiples/10)\n",
    "    print(df_summary.sort_values(by=['click']))\n",
    "    print()\n",
    "    print()"
   ]
  },
  {
   "cell_type": "code",
   "execution_count": 18,
   "metadata": {},
   "outputs": [
    {
     "data": {
      "text/html": [
       "<div>\n",
       "<style scoped>\n",
       "    .dataframe tbody tr th:only-of-type {\n",
       "        vertical-align: middle;\n",
       "    }\n",
       "\n",
       "    .dataframe tbody tr th {\n",
       "        vertical-align: top;\n",
       "    }\n",
       "\n",
       "    .dataframe thead th {\n",
       "        text-align: right;\n",
       "    }\n",
       "</style>\n",
       "<table border=\"1\" class=\"dataframe\">\n",
       "  <thead>\n",
       "    <tr style=\"text-align: right;\">\n",
       "      <th></th>\n",
       "      <th>click</th>\n",
       "      <th>payprice</th>\n",
       "      <th>ConstantBidding</th>\n",
       "      <th>RandomBidding</th>\n",
       "      <th>BestLinear</th>\n",
       "      <th>xgb_lasso_Str2</th>\n",
       "      <th>mF_rfr_Str2</th>\n",
       "      <th>mF_eN_Str1</th>\n",
       "    </tr>\n",
       "  </thead>\n",
       "  <tbody>\n",
       "    <tr>\n",
       "      <th>0</th>\n",
       "      <td>0</td>\n",
       "      <td>23</td>\n",
       "      <td>592.5</td>\n",
       "      <td>637.5</td>\n",
       "      <td>695.819299</td>\n",
       "      <td>611.668420</td>\n",
       "      <td>0.000000</td>\n",
       "      <td>0.000000</td>\n",
       "    </tr>\n",
       "    <tr>\n",
       "      <th>1</th>\n",
       "      <td>0</td>\n",
       "      <td>75</td>\n",
       "      <td>592.5</td>\n",
       "      <td>667.5</td>\n",
       "      <td>580.693715</td>\n",
       "      <td>560.981722</td>\n",
       "      <td>0.000000</td>\n",
       "      <td>0.000000</td>\n",
       "    </tr>\n",
       "    <tr>\n",
       "      <th>2</th>\n",
       "      <td>0</td>\n",
       "      <td>65</td>\n",
       "      <td>592.5</td>\n",
       "      <td>555.0</td>\n",
       "      <td>612.171296</td>\n",
       "      <td>401.078520</td>\n",
       "      <td>0.000000</td>\n",
       "      <td>0.000000</td>\n",
       "    </tr>\n",
       "    <tr>\n",
       "      <th>3</th>\n",
       "      <td>0</td>\n",
       "      <td>6</td>\n",
       "      <td>592.5</td>\n",
       "      <td>577.5</td>\n",
       "      <td>580.693715</td>\n",
       "      <td>379.028135</td>\n",
       "      <td>0.000000</td>\n",
       "      <td>0.000000</td>\n",
       "    </tr>\n",
       "    <tr>\n",
       "      <th>4</th>\n",
       "      <td>0</td>\n",
       "      <td>5</td>\n",
       "      <td>592.5</td>\n",
       "      <td>540.0</td>\n",
       "      <td>580.693715</td>\n",
       "      <td>518.701773</td>\n",
       "      <td>0.000000</td>\n",
       "      <td>0.000000</td>\n",
       "    </tr>\n",
       "    <tr>\n",
       "      <th>5</th>\n",
       "      <td>0</td>\n",
       "      <td>22</td>\n",
       "      <td>592.5</td>\n",
       "      <td>622.5</td>\n",
       "      <td>704.903646</td>\n",
       "      <td>434.899662</td>\n",
       "      <td>0.000000</td>\n",
       "      <td>0.000000</td>\n",
       "    </tr>\n",
       "    <tr>\n",
       "      <th>6</th>\n",
       "      <td>0</td>\n",
       "      <td>31</td>\n",
       "      <td>592.5</td>\n",
       "      <td>570.0</td>\n",
       "      <td>612.171296</td>\n",
       "      <td>590.714244</td>\n",
       "      <td>0.000000</td>\n",
       "      <td>0.000000</td>\n",
       "    </tr>\n",
       "    <tr>\n",
       "      <th>7</th>\n",
       "      <td>0</td>\n",
       "      <td>20</td>\n",
       "      <td>592.5</td>\n",
       "      <td>607.5</td>\n",
       "      <td>695.819299</td>\n",
       "      <td>673.140355</td>\n",
       "      <td>0.000000</td>\n",
       "      <td>0.000000</td>\n",
       "    </tr>\n",
       "    <tr>\n",
       "      <th>8</th>\n",
       "      <td>0</td>\n",
       "      <td>58</td>\n",
       "      <td>592.5</td>\n",
       "      <td>517.5</td>\n",
       "      <td>580.693715</td>\n",
       "      <td>379.028135</td>\n",
       "      <td>0.000000</td>\n",
       "      <td>0.000000</td>\n",
       "    </tr>\n",
       "    <tr>\n",
       "      <th>9</th>\n",
       "      <td>0</td>\n",
       "      <td>55</td>\n",
       "      <td>592.5</td>\n",
       "      <td>600.0</td>\n",
       "      <td>621.031217</td>\n",
       "      <td>382.865485</td>\n",
       "      <td>0.000000</td>\n",
       "      <td>0.000000</td>\n",
       "    </tr>\n",
       "    <tr>\n",
       "      <th>10</th>\n",
       "      <td>0</td>\n",
       "      <td>88</td>\n",
       "      <td>592.5</td>\n",
       "      <td>525.0</td>\n",
       "      <td>629.926019</td>\n",
       "      <td>570.028244</td>\n",
       "      <td>428.650929</td>\n",
       "      <td>515.641478</td>\n",
       "    </tr>\n",
       "    <tr>\n",
       "      <th>11</th>\n",
       "      <td>0</td>\n",
       "      <td>55</td>\n",
       "      <td>592.5</td>\n",
       "      <td>562.5</td>\n",
       "      <td>589.408375</td>\n",
       "      <td>364.508789</td>\n",
       "      <td>0.000000</td>\n",
       "      <td>0.000000</td>\n",
       "    </tr>\n",
       "    <tr>\n",
       "      <th>12</th>\n",
       "      <td>0</td>\n",
       "      <td>49</td>\n",
       "      <td>592.5</td>\n",
       "      <td>652.5</td>\n",
       "      <td>704.903646</td>\n",
       "      <td>664.911000</td>\n",
       "      <td>0.000000</td>\n",
       "      <td>0.000000</td>\n",
       "    </tr>\n",
       "    <tr>\n",
       "      <th>13</th>\n",
       "      <td>0</td>\n",
       "      <td>110</td>\n",
       "      <td>592.5</td>\n",
       "      <td>547.5</td>\n",
       "      <td>695.819299</td>\n",
       "      <td>397.142304</td>\n",
       "      <td>0.000000</td>\n",
       "      <td>0.000000</td>\n",
       "    </tr>\n",
       "    <tr>\n",
       "      <th>14</th>\n",
       "      <td>0</td>\n",
       "      <td>160</td>\n",
       "      <td>592.5</td>\n",
       "      <td>562.5</td>\n",
       "      <td>762.571692</td>\n",
       "      <td>1354.386125</td>\n",
       "      <td>7064.109587</td>\n",
       "      <td>5156.414778</td>\n",
       "    </tr>\n",
       "    <tr>\n",
       "      <th>15</th>\n",
       "      <td>0</td>\n",
       "      <td>16</td>\n",
       "      <td>592.5</td>\n",
       "      <td>600.0</td>\n",
       "      <td>612.171296</td>\n",
       "      <td>538.288018</td>\n",
       "      <td>0.000000</td>\n",
       "      <td>0.000000</td>\n",
       "    </tr>\n",
       "    <tr>\n",
       "      <th>16</th>\n",
       "      <td>0</td>\n",
       "      <td>50</td>\n",
       "      <td>592.5</td>\n",
       "      <td>645.0</td>\n",
       "      <td>589.408375</td>\n",
       "      <td>314.031974</td>\n",
       "      <td>0.000000</td>\n",
       "      <td>0.000000</td>\n",
       "    </tr>\n",
       "    <tr>\n",
       "      <th>17</th>\n",
       "      <td>0</td>\n",
       "      <td>76</td>\n",
       "      <td>592.5</td>\n",
       "      <td>585.0</td>\n",
       "      <td>612.171296</td>\n",
       "      <td>739.424884</td>\n",
       "      <td>0.000000</td>\n",
       "      <td>0.000000</td>\n",
       "    </tr>\n",
       "    <tr>\n",
       "      <th>18</th>\n",
       "      <td>0</td>\n",
       "      <td>89</td>\n",
       "      <td>592.5</td>\n",
       "      <td>555.0</td>\n",
       "      <td>738.743210</td>\n",
       "      <td>886.209368</td>\n",
       "      <td>4984.082982</td>\n",
       "      <td>5156.414778</td>\n",
       "    </tr>\n",
       "    <tr>\n",
       "      <th>19</th>\n",
       "      <td>0</td>\n",
       "      <td>136</td>\n",
       "      <td>592.5</td>\n",
       "      <td>570.0</td>\n",
       "      <td>621.031217</td>\n",
       "      <td>384.065354</td>\n",
       "      <td>0.000000</td>\n",
       "      <td>0.000000</td>\n",
       "    </tr>\n",
       "  </tbody>\n",
       "</table>\n",
       "</div>"
      ],
      "text/plain": [
       "    click  payprice  ConstantBidding  RandomBidding  BestLinear  \\\n",
       "0       0        23            592.5          637.5  695.819299   \n",
       "1       0        75            592.5          667.5  580.693715   \n",
       "2       0        65            592.5          555.0  612.171296   \n",
       "3       0         6            592.5          577.5  580.693715   \n",
       "4       0         5            592.5          540.0  580.693715   \n",
       "5       0        22            592.5          622.5  704.903646   \n",
       "6       0        31            592.5          570.0  612.171296   \n",
       "7       0        20            592.5          607.5  695.819299   \n",
       "8       0        58            592.5          517.5  580.693715   \n",
       "9       0        55            592.5          600.0  621.031217   \n",
       "10      0        88            592.5          525.0  629.926019   \n",
       "11      0        55            592.5          562.5  589.408375   \n",
       "12      0        49            592.5          652.5  704.903646   \n",
       "13      0       110            592.5          547.5  695.819299   \n",
       "14      0       160            592.5          562.5  762.571692   \n",
       "15      0        16            592.5          600.0  612.171296   \n",
       "16      0        50            592.5          645.0  589.408375   \n",
       "17      0        76            592.5          585.0  612.171296   \n",
       "18      0        89            592.5          555.0  738.743210   \n",
       "19      0       136            592.5          570.0  621.031217   \n",
       "\n",
       "    xgb_lasso_Str2  mF_rfr_Str2   mF_eN_Str1  \n",
       "0       611.668420     0.000000     0.000000  \n",
       "1       560.981722     0.000000     0.000000  \n",
       "2       401.078520     0.000000     0.000000  \n",
       "3       379.028135     0.000000     0.000000  \n",
       "4       518.701773     0.000000     0.000000  \n",
       "5       434.899662     0.000000     0.000000  \n",
       "6       590.714244     0.000000     0.000000  \n",
       "7       673.140355     0.000000     0.000000  \n",
       "8       379.028135     0.000000     0.000000  \n",
       "9       382.865485     0.000000     0.000000  \n",
       "10      570.028244   428.650929   515.641478  \n",
       "11      364.508789     0.000000     0.000000  \n",
       "12      664.911000     0.000000     0.000000  \n",
       "13      397.142304     0.000000     0.000000  \n",
       "14     1354.386125  7064.109587  5156.414778  \n",
       "15      538.288018     0.000000     0.000000  \n",
       "16      314.031974     0.000000     0.000000  \n",
       "17      739.424884     0.000000     0.000000  \n",
       "18      886.209368  4984.082982  5156.414778  \n",
       "19      384.065354     0.000000     0.000000  "
      ]
     },
     "execution_count": 18,
     "metadata": {},
     "output_type": "execute_result"
    }
   ],
   "source": [
    "resultsBids.head(20)"
   ]
  },
  {
   "cell_type": "code",
   "execution_count": null,
   "metadata": {},
   "outputs": [],
   "source": [
    "dataSubset = resultsBids.sample(frac=0.2, replace=False).copy(True) #divided by 5 to get similar environment\n",
    "dataSubset.reset_index(drop=True, inplace=True)"
   ]
  },
  {
   "cell_type": "code",
   "execution_count": null,
   "metadata": {},
   "outputs": [],
   "source": [
    "dataSubset.head(10)"
   ]
  },
  {
   "cell_type": "markdown",
   "metadata": {},
   "source": [
    "# Hold Auction for each"
   ]
  },
  {
   "cell_type": "markdown",
   "metadata": {},
   "source": [
    "Need a function that will step through the impressions one by one checking who won the impression, whilst keeping track of each player's budget."
   ]
  },
  {
   "cell_type": "code",
   "execution_count": null,
   "metadata": {},
   "outputs": [],
   "source": [
    "s = Scorer()\n",
    "df_summary,df = s.set_df(dataSubset, ['ConstantBidding', 'RandomBidding', 'BestLinear','xgb_lasso_Str2', 'mF_rfr_Str2', 'mF_eN_Str1'],6250000,20) \n",
    "# /5 because 6 teams instead of 30"
   ]
  },
  {
   "cell_type": "markdown",
   "metadata": {},
   "source": [
    "# Scores"
   ]
  },
  {
   "cell_type": "markdown",
   "metadata": {},
   "source": [
    "Summarise the main metrics for each team."
   ]
  },
  {
   "cell_type": "code",
   "execution_count": null,
   "metadata": {},
   "outputs": [],
   "source": [
    "df_summary['CTR']=df_summary['click']/df_summary['win']\n",
    "print(df_summary)"
   ]
  },
  {
   "cell_type": "code",
   "execution_count": null,
   "metadata": {},
   "outputs": [],
   "source": [
    "df_summary['win'].sum()/(validation_df.shape[0]*0.2)"
   ]
  },
  {
   "cell_type": "code",
   "execution_count": null,
   "metadata": {},
   "outputs": [],
   "source": [
    "#print(df)"
   ]
  }
 ],
 "metadata": {
  "kernelspec": {
   "display_name": "Python 3",
   "language": "python",
   "name": "python3"
  },
  "language_info": {
   "codemirror_mode": {
    "name": "ipython",
    "version": 3
   },
   "file_extension": ".py",
   "mimetype": "text/x-python",
   "name": "python",
   "nbconvert_exporter": "python",
   "pygments_lexer": "ipython3",
   "version": "3.6.4"
  }
 },
 "nbformat": 4,
 "nbformat_minor": 2
}
