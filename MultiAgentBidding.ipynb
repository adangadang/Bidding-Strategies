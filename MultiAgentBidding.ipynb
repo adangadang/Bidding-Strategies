{
 "cells": [
  {
   "cell_type": "markdown",
   "metadata": {},
   "source": [
    "# Main Notebook"
   ]
  },
  {
   "cell_type": "markdown",
   "metadata": {},
   "source": [
    "## Summary"
   ]
  },
  {
   "cell_type": "markdown",
   "metadata": {},
   "source": [
    "This notebook will do following steps:\n",
    " -  Pull validation data\n",
    " -  Load CTR predictions from CSV for X different models\n",
    " -  Load BaseBid Predictions from pickels for X different models\n",
    " -  For X models combine (in Y different ways) the above two steps to build X*Y BidPrices for each impression\n",
    " -  Hold auction for each impression one by one\n",
    " -  Summary Scores for each of X*Y models "
   ]
  },
  {
   "cell_type": "markdown",
   "metadata": {},
   "source": [
    "# Preparation"
   ]
  },
  {
   "cell_type": "code",
   "execution_count": null,
   "metadata": {
    "collapsed": true
   },
   "outputs": [],
   "source": [
    "import pandas as pd\n",
    "import numpy as np\n",
    "import matplotlib.pyplot as plt\n",
    "from random import randint    \n",
    "import seaborn as sns\n",
    "from score_models import Scorer\n",
    "import datetime\n",
    "\n",
    "%matplotlib inline"
   ]
  },
  {
   "cell_type": "markdown",
   "metadata": {},
   "source": [
    "# Pull Validation Data"
   ]
  },
  {
   "cell_type": "code",
   "execution_count": null,
   "metadata": {
    "collapsed": true
   },
   "outputs": [],
   "source": [
    "path = \"C:/Users/Akis/OneDrive/Masters/Web Economics/Data/\"\n",
    "#test_df = pd.read_csv(path+'test.csv')\n",
    "#train_df = pd.read_csv(path+'train.csv')\n",
    "validation_df = pd.read_csv(path+'validation.csv')"
   ]
  },
  {
   "cell_type": "code",
   "execution_count": null,
   "metadata": {
    "collapsed": true
   },
   "outputs": [],
   "source": [
    "#print(validation_df.head())\n",
    "#avgCTR =validation_df.loc[validation_df[\"click\"] == 1].shape[0]/(validation_df.shape[0])\n",
    "#print(avgCTR)"
   ]
  },
  {
   "cell_type": "markdown",
   "metadata": {},
   "source": [
    "# Load CTR Predictions"
   ]
  },
  {
   "cell_type": "markdown",
   "metadata": {},
   "source": [
    "Need a function that will combine multiple dataframes into one"
   ]
  },
  {
   "cell_type": "code",
   "execution_count": null,
   "metadata": {
    "collapsed": false
   },
   "outputs": [],
   "source": [
    "#path='C:/Users/Akis-/OneDrive/Masters/Web Economics/Data/Predictions/click_predictions_achilleas/'\n",
    "path='C:/Users/Akis/OneDrive/Masters/Web Economics/Data/WebEcon Team Drive/predictions/'\n",
    "\n",
    "lr_data = pd.read_csv(path+'lr_pCTR.csv')\n",
    "lr_pCTR=lr_data[['click_proba']]\n",
    "lr_pCTR = lr_pCTR.rename(index=str, columns={\"click_proba\": \"pCTR\"})\n",
    "print(lr_pCTR.head(2))\n",
    "\n",
    "xgb_data = pd.read_csv(path+'xgb_pCTR.csv')\n",
    "xgb_pCTR=xgb_data[['click_proba']]\n",
    "xgb_pCTR = lr_pCTR.rename(index=str, columns={\"click_proba\": \"pCTR\"})\n",
    "print(lr_pCTR.head(2))\n",
    "\n",
    "\n",
    "#path='C:/Users/Akis-/OneDrive/Masters/Web Economics/Data/Predictions/click_predictions_dwane/'\n",
    "\n",
    "mF_data = pd.read_csv(path+'click_predictions_narrow.csv')\n",
    "mF_pCTR=mF_data[['pCTR']]\n",
    "#mF_pCTR = mF_pCTR.rename(index=str, columns={\"click_proba\": \"pCTR\"})\n",
    "print(mF_pCTR.head(2))"
   ]
  },
  {
   "cell_type": "code",
   "execution_count": null,
   "metadata": {
    "collapsed": true
   },
   "outputs": [],
   "source": [
    "#resultCTR=teamAdf\n",
    "#resultCTR[\"teamB_CTR\"]=teamBdf[\"CTR\"]\n",
    "#result = pd.merge(teamAdf, teamBdf, how='inner', on=None, left_on=None, right_on=None, left_index=False, right_index=False, sort=False, suffixes=('_x', '_y'), copy=True, indicator=False, validate=None)\n",
    "#print(resultCTR.head())"
   ]
  },
  {
   "cell_type": "markdown",
   "metadata": {},
   "source": [
    "\n",
    "# Load Basebid Predictions"
   ]
  },
  {
   "cell_type": "markdown",
   "metadata": {},
   "source": [
    "Need a function that will combine multiple dataframes into one"
   ]
  },
  {
   "cell_type": "code",
   "execution_count": null,
   "metadata": {
    "collapsed": false
   },
   "outputs": [],
   "source": [
    "#path='C:/Users/Akis-/OneDrive/Masters/Web Economics/Data/Predictions/basebid_predictions_achilleas/'\n",
    "path='C:/Users/Akis/OneDrive/Masters/Web Economics/Data/WebEcon Team Drive/predictions/'\n",
    "\n",
    "r_data = pd.read_csv(path+'ridge_basebid.csv')\n",
    "r_pBB = r_data[['predicted_payprice']]\n",
    "#teamABaseBid = teamABaseBid.rename(index=str, columns={\"click_proba\": \"pCTR\"})\n",
    "print(r_pBB.head(2))\n",
    "\n",
    "lasso_basebid = pd.read_csv(path+'lasso_basebid.csv')\n",
    "lasso_pBB = lasso_basebid[['predicted_payprice']]\n",
    "#teamABaseBid = teamABaseBid.rename(index=str, columns={\"click_proba\": \"pCTR\"})\n",
    "print(lasso_pBB.head(2))\n",
    "\n",
    "elasticnet_basebid = pd.read_csv(path+'elasticnet_basebid.csv')\n",
    "eN_pBB = elasticnet_basebid[['predicted_payprice']]\n",
    "#teamABaseBid = teamABaseBid.rename(index=str, columns={\"click_proba\": \"pCTR\"})\n",
    "print(eN_pBB.head(2))\n",
    "\n",
    "rfr_basebid = pd.read_csv(path+'rfg_basebid.csv')\n",
    "rfr_pBB = rfr_basebid[['predicted_payprice']]\n",
    "#teamABaseBid = teamABaseBid.rename(index=str, columns={\"click_proba\": \"pCTR\"})\n",
    "print(rfr_pBB.head(2))\n",
    "\n",
    "EightyNineBB=r_pBB * 0 + 89"
   ]
  },
  {
   "cell_type": "markdown",
   "metadata": {},
   "source": [
    "# Formulas to use"
   ]
  },
  {
   "cell_type": "code",
   "execution_count": null,
   "metadata": {
    "collapsed": true
   },
   "outputs": [],
   "source": [
    "def CostantBidding(resBaseBid,resCTR):\n",
    "    Bids=resBaseBid['predicted_payprice'].values * 0 + 79\n",
    "    #print(\"Bids:\",Bids)\n",
    "    return Bids"
   ]
  },
  {
   "cell_type": "code",
   "execution_count": null,
   "metadata": {
    "collapsed": true
   },
   "outputs": [],
   "source": [
    "def RandomBidding(resBaseBid,resCTR):\n",
    "    Bids = np.random.randint(69, 89+1, resBaseBid.shape[0])\n",
    "    return Bids"
   ]
  },
  {
   "cell_type": "code",
   "execution_count": null,
   "metadata": {
    "collapsed": true
   },
   "outputs": [],
   "source": [
    "def BestLinearBidding(resBaseBid,resCTR):\n",
    "    avCTR = resCTR['pCTR'].mean()\n",
    "    Bids = resBaseBid['predicted_payprice'].values * (resCTR['pCTR'].values/avCTR)\n",
    "    return Bids"
   ]
  },
  {
   "cell_type": "code",
   "execution_count": null,
   "metadata": {
    "collapsed": true
   },
   "outputs": [],
   "source": [
    "def Strategy1(sub_basebid,sub_pCTR):\n",
    "    avgCTR = sub_pCTR[\"pCTR\"].mean()\n",
    "    base_bid = 105.46\n",
    "    bidprice = (sub_pCTR[\"pCTR\"] * base_bid) / avgCTR\n",
    "    return bidprice"
   ]
  },
  {
   "cell_type": "code",
   "execution_count": null,
   "metadata": {
    "collapsed": true
   },
   "outputs": [],
   "source": [
    "def Strategy2(sub_basebid,sub_pCTR):\n",
    "    avgCTR = sub_pCTR[\"pCTR\"].mean()\n",
    "    bidprice = (sub_pCTR[\"pCTR\"].values * sub_basebid[\"predicted_payprice\"].values) / avgCTR\n",
    "    return bidprice"
   ]
  },
  {
   "cell_type": "code",
   "execution_count": null,
   "metadata": {
    "collapsed": true
   },
   "outputs": [],
   "source": [
    "# def Function1(resBaseBid,resCTR):\n",
    "#     avCTR = 0.5\n",
    "#     Bids=resBaseBid['base_bid'].values * (resCTR['pCTR'].values/avCTR)\n",
    "#     #print(\"Bids:\",Bids)\n",
    "#     return Bids"
   ]
  },
  {
   "cell_type": "code",
   "execution_count": null,
   "metadata": {
    "collapsed": true
   },
   "outputs": [],
   "source": [
    "# def Function2(reBaseBid,reCTR):\n",
    "#     avCTR = 0.5\n",
    "#     reCTR=reCTR.copy(True)\n",
    "#     reCTR=(((reCTR+0.5)**2)-0.5)\n",
    "#     reCTR[reCTR < 0] = 0\n",
    "#     Bids=reBaseBid.values * (reCTR/avCTR)\n",
    "#     return Bids"
   ]
  },
  {
   "cell_type": "code",
   "execution_count": null,
   "metadata": {
    "collapsed": true
   },
   "outputs": [],
   "source": [
    "# def Function3(rBaseBid,rCTR):\n",
    "#     avCTR = 0.5\n",
    "#     rCTR=rCTR.copy(True)\n",
    "#     rCTR[rCTR < 0.5] = 0\n",
    "#     #rCTR=(((rCTR+0.5)**4)-0.5)\n",
    "#     Bids=rBaseBid.values*1.2 * (rCTR/avCTR)\n",
    "#     return Bids"
   ]
  },
  {
   "cell_type": "markdown",
   "metadata": {},
   "source": [
    "# Build Bid Prices for all models"
   ]
  },
  {
   "cell_type": "markdown",
   "metadata": {},
   "source": [
    "Need a function that will build a new dataframe conatining bids of all teams by combining the previous two dataframes."
   ]
  },
  {
   "cell_type": "code",
   "execution_count": null,
   "metadata": {
    "collapsed": true
   },
   "outputs": [],
   "source": [
    "resultsBids=pd.DataFrame(index=range(validation_df.shape[0]))\n",
    "resultsBids['click']=validation_df['click']\n",
    "resultsBids['payprice']=validation_df['payprice']\n",
    "\n",
    "# resultsBids['ConstantBidding'] = CostantBidding(EightyNineBB,lr_data)\n",
    "# resultsBids['RandomBidding'] = RandomBidding(EightyNineBB,lr_data)\n",
    "# resultsBids['BestLinear'] = BestLinearBidding(EightyNineBB,xgb_pCTR)\n",
    "# resultsBids['xgb_lasso_Str2'] = Strategy2(lasso_pBB,xgb_pCTR)\n",
    "# resultsBids['mF_rfr_Str2'] = Strategy2(rfr_pBB,mF_pCTR)\n",
    "# resultsBids['mF_eN_Str1'] = Strategy1(eN_pBB,mF_pCTR)\n",
    "\n",
    "# multiples = 7\n",
    "# resultsBids['ConstantBidding'] = resultsBids['ConstantBidding'].values * multiples\n",
    "# resultsBids['RandomBidding'] = resultsBids['RandomBidding'].values * multiples\n",
    "# resultsBids['BestLinear'] = resultsBids['BestLinear'].values * multiples\n",
    "# resultsBids['xgb_lasso_Str2'] = resultsBids['xgb_lasso_Str2'].values * multiples\n",
    "# resultsBids['mF_rfr_Str2'] = resultsBids['mF_rfr_Str2'].values * multiples\n",
    "# resultsBids['mF_eN_Str1'] = resultsBids['mF_eN_Str1'].values * multiples"
   ]
  },
  {
   "cell_type": "code",
   "execution_count": null,
   "metadata": {
    "collapsed": true
   },
   "outputs": [],
   "source": [
    "df_summary = pd.DataFrame(columns=['budget','click','team_name','win','multiples'])"
   ]
  },
  {
   "cell_type": "code",
   "execution_count": null,
   "metadata": {
    "collapsed": false
   },
   "outputs": [],
   "source": [
    "df_summary"
   ]
  },
  {
   "cell_type": "code",
   "execution_count": null,
   "metadata": {
    "collapsed": false
   },
   "outputs": [],
   "source": [
    "for multiples in range(40,81,2):\n",
    "    print(int((multiples-38)/2),\"/ 20 .....\",)\n",
    "    print(datetime.datetime.now().time())\n",
    "    resultsBids['ConstantBidding'] = CostantBidding(EightyNineBB,lr_data)\n",
    "    resultsBids['RandomBidding'] = RandomBidding(EightyNineBB,lr_data)\n",
    "    resultsBids['BestLinear'] = BestLinearBidding(EightyNineBB,xgb_pCTR)\n",
    "    resultsBids['xgb_lasso_Str2'] = Strategy2(lasso_pBB,xgb_pCTR)\n",
    "    resultsBids['mF_rfr_Str2'] = Strategy2(rfr_pBB,mF_pCTR)\n",
    "    resultsBids['mF_eN_Str1'] = Strategy1(eN_pBB,mF_pCTR)\n",
    "\n",
    "    resultsBids['ConstantBidding'] = resultsBids['ConstantBidding'].values * multiples/10\n",
    "    resultsBids['RandomBidding'] = resultsBids['RandomBidding'].values * multiples/10\n",
    "    resultsBids['BestLinear'] = resultsBids['BestLinear'].values * multiples/10\n",
    "    resultsBids['xgb_lasso_Str2'] = resultsBids['xgb_lasso_Str2'].values * multiples/10\n",
    "    resultsBids['mF_rfr_Str2'] = resultsBids['mF_rfr_Str2'].values * multiples/10\n",
    "    resultsBids['mF_eN_Str1'] = resultsBids['mF_eN_Str1'].values * multiples/10\n",
    "\n",
    "    dataSubset = resultsBids.sample(frac=0.2, replace=False).copy(True) #divided by 5 to get similar environment\n",
    "    dataSubset.reset_index(drop=True, inplace=True)\n",
    "\n",
    "    s = Scorer()\n",
    "    df_OneIteration,df = s.set_df(dataSubset, ['ConstantBidding', 'RandomBidding', 'BestLinear','xgb_lasso_Str2', 'mF_rfr_Str2', 'mF_eN_Str1'],6250000,20) \n",
    "    # /5 because 6 teams instead of 30\n",
    "    df_OneIteration['multiples'] = multiples/10\n",
    "    print(\"Multiples of budget spent:\",multiples/10)\n",
    "    print(df_OneIteration.sort_values(by=['team_name'])) #.sort_values(by=['click'])\n",
    "    df_summary = df_summary.append(df_OneIteration)\n",
    "    print()\n",
    "    print()"
   ]
  },
  {
   "cell_type": "code",
   "execution_count": null,
   "metadata": {
    "collapsed": false
   },
   "outputs": [],
   "source": [
    "df_summary.head(10)"
   ]
  },
  {
   "cell_type": "code",
   "execution_count": null,
   "metadata": {
    "collapsed": true
   },
   "outputs": [],
   "source": [
    "df_summary.to_csv('MultiAgentResults.csv')"
   ]
  },
  {
   "cell_type": "code",
   "execution_count": null,
   "metadata": {
    "collapsed": false
   },
   "outputs": [],
   "source": [
    "def PlotMultiAgentResults(results,metric):\n",
    "    x = results['multiples'].sort_values()\n",
    "    x = x.unique()\n",
    "\n",
    "    BestLinear = results[metric][results['team_name'] =='BestLinear']\n",
    "    RandomBidding = results[metric][results['team_name'] =='RandomBidding']\n",
    "    mF_rfr_Str2 = results[metric][results['team_name'] =='mF_rfr_Str2']\n",
    "    mF_eN_Str1 = results[metric][results['team_name'] =='mF_eN_Str1']\n",
    "    xgb_lasso_Str2 = results[metric][results['team_name'] =='xgb_lasso_Str2']\n",
    "    ConstantBidding = results[metric][results['team_name'] =='ConstantBidding']\n",
    "\n",
    "    plt.plot(x, BestLinear)\n",
    "    plt.plot(x, RandomBidding)\n",
    "    plt.plot(x, mF_rfr_Str2)\n",
    "    plt.plot(x, mF_eN_Str1)\n",
    "    plt.plot(x, xgb_lasso_Str2)\n",
    "    plt.plot(x, ConstantBidding)\n",
    "    \n",
    "    plt.title(metric+'s for each strategy')\n",
    "    plt.xlabel('Multiples of Budget')\n",
    "    plt.legend(['BestLinear', 'RandomBidding', 'mF_rfr_Str2', 'mF_eN_Str1', 'xgb_lasso_Str2', 'ConstantBidding'], loc='best')\n",
    "\n",
    "    plt.show()"
   ]
  },
  {
   "cell_type": "code",
   "execution_count": null,
   "metadata": {
    "collapsed": false
   },
   "outputs": [],
   "source": [
    "PlotMultiAgentResults(df_summary,'win')"
   ]
  },
  {
   "cell_type": "code",
   "execution_count": null,
   "metadata": {
    "collapsed": false
   },
   "outputs": [],
   "source": [
    "PlotMultiAgentResults(df_summary,'click')"
   ]
  },
  {
   "cell_type": "code",
   "execution_count": null,
   "metadata": {
    "collapsed": false
   },
   "outputs": [],
   "source": [
    "PlotMultiAgentResults(df_summary,'budget')"
   ]
  },
  {
   "cell_type": "code",
   "execution_count": null,
   "metadata": {
    "collapsed": false
   },
   "outputs": [],
   "source": [
    "# for multiples in range(150,160,5):\n",
    "#     resultsBids['ConstantBidding'] = CostantBidding(EightyNineBB,lr_data)\n",
    "#     resultsBids['RandomBidding'] = RandomBidding(EightyNineBB,lr_data)\n",
    "#     resultsBids['BestLinear'] = BestLinearBidding(EightyNineBB,xgb_pCTR)\n",
    "#     resultsBids['xgb_lasso_Str2'] = Strategy2(lasso_pBB,xgb_pCTR)\n",
    "#     resultsBids['mF_rfr_Str2'] = Strategy2(rfr_pBB,mF_pCTR)\n",
    "#     resultsBids['mF_eN_Str1'] = Strategy1(eN_pBB,mF_pCTR)\n",
    "\n",
    "#     resultsBids['ConstantBidding'] = resultsBids['ConstantBidding'].values * multiples/10\n",
    "#     resultsBids['RandomBidding'] = resultsBids['RandomBidding'].values * multiples/10\n",
    "#     resultsBids['BestLinear'] = resultsBids['BestLinear'].values * multiples/10\n",
    "#     resultsBids['xgb_lasso_Str2'] = resultsBids['xgb_lasso_Str2'].values * multiples/10\n",
    "#     resultsBids['mF_rfr_Str2'] = resultsBids['mF_rfr_Str2'].values * multiples/10\n",
    "#     resultsBids['mF_eN_Str1'] = resultsBids['mF_eN_Str1'].values * multiples/10\n",
    "\n",
    "#     dataSubset = resultsBids.sample(frac=0.002, replace=False).copy(True) #divided by 5 to get similar environment\n",
    "#     dataSubset.reset_index(drop=True, inplace=True)\n",
    "\n",
    "#     s = Scorer()\n",
    "#     df_summary,df = s.set_df(dataSubset, ['ConstantBidding', 'RandomBidding', 'BestLinear','xgb_lasso_Str2', 'mF_rfr_Str2', 'mF_eN_Str1'],6250000,20) \n",
    "#     # /5 because 6 teams instead of 30\n",
    "#     print(\"Multiples of budget spent:\",multiples/10)\n",
    "#     print(df_summary.sort_values(by=['click']))\n",
    "#     print()\n",
    "#     print()"
   ]
  },
  {
   "cell_type": "code",
   "execution_count": null,
   "metadata": {
    "collapsed": false
   },
   "outputs": [],
   "source": [
    "resultsBids.head(20)"
   ]
  },
  {
   "cell_type": "code",
   "execution_count": null,
   "metadata": {
    "collapsed": true
   },
   "outputs": [],
   "source": [
    "dataSubset = resultsBids.sample(frac=0.2, replace=False).copy(True) #divided by 5 to get similar environment\n",
    "dataSubset.reset_index(drop=True, inplace=True)"
   ]
  },
  {
   "cell_type": "code",
   "execution_count": null,
   "metadata": {
    "collapsed": true
   },
   "outputs": [],
   "source": [
    "dataSubset.head(10)"
   ]
  },
  {
   "cell_type": "markdown",
   "metadata": {},
   "source": [
    "# Hold Auction for each"
   ]
  },
  {
   "cell_type": "markdown",
   "metadata": {},
   "source": [
    "Need a function that will step through the impressions one by one checking who won the impression, whilst keeping track of each player's budget."
   ]
  },
  {
   "cell_type": "code",
   "execution_count": null,
   "metadata": {
    "collapsed": true
   },
   "outputs": [],
   "source": [
    "s = Scorer()\n",
    "df_summary,df = s.set_df(dataSubset, ['ConstantBidding', 'RandomBidding', 'BestLinear','xgb_lasso_Str2', 'mF_rfr_Str2', 'mF_eN_Str1'],6250000,20) \n",
    "# /5 because 6 teams instead of 30"
   ]
  },
  {
   "cell_type": "markdown",
   "metadata": {},
   "source": [
    "# Scores"
   ]
  },
  {
   "cell_type": "markdown",
   "metadata": {},
   "source": [
    "Summarise the main metrics for each team."
   ]
  },
  {
   "cell_type": "code",
   "execution_count": null,
   "metadata": {
    "collapsed": true
   },
   "outputs": [],
   "source": [
    "df_summary['CTR']=df_summary['click']/df_summary['win']\n",
    "print(df_summary)"
   ]
  },
  {
   "cell_type": "code",
   "execution_count": null,
   "metadata": {
    "collapsed": true
   },
   "outputs": [],
   "source": [
    "df_summary['win'].sum()/(validation_df.shape[0]*0.2)"
   ]
  },
  {
   "cell_type": "code",
   "execution_count": null,
   "metadata": {
    "collapsed": true
   },
   "outputs": [],
   "source": [
    "#print(df)"
   ]
  }
 ],
 "metadata": {
  "kernelspec": {
   "display_name": "Python 3",
   "language": "python",
   "name": "python3"
  },
  "language_info": {
   "codemirror_mode": {
    "name": "ipython",
    "version": 3
   },
   "file_extension": ".py",
   "mimetype": "text/x-python",
   "name": "python",
   "nbconvert_exporter": "python",
   "pygments_lexer": "ipython3",
   "version": "3.6.0"
  }
 },
 "nbformat": 4,
 "nbformat_minor": 2
}
