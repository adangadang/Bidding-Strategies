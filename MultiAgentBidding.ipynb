{
 "cells": [
  {
   "cell_type": "markdown",
   "metadata": {},
   "source": [
    "# Main Notebook"
   ]
  },
  {
   "cell_type": "markdown",
   "metadata": {},
   "source": [
    "## Summary"
   ]
  },
  {
   "cell_type": "markdown",
   "metadata": {},
   "source": [
    "This notebook will do following steps:\n",
    " -  Pull validation data\n",
    " -  Load CTR predictions from CSV for X different models\n",
    " -  Load BaseBid Predictions from pickels for X different models\n",
    " -  For X models combine (in Y different ways) the above two steps to build X*Y BidPrices for each impression\n",
    " -  Hold auction for each impression one by one\n",
    " -  Summary Scores for each of X*Y models "
   ]
  },
  {
   "cell_type": "markdown",
   "metadata": {},
   "source": [
    "# Preparation"
   ]
  },
  {
   "cell_type": "code",
   "execution_count": null,
   "metadata": {
    "collapsed": true
   },
   "outputs": [],
   "source": [
    "import pandas as pd\n",
    "import numpy as np\n",
    "import matplotlib.pyplot as plt\n",
    "from random import randint    \n",
    "import seaborn as sns\n",
    "from score_models import Scorer\n",
    "\n",
    "%matplotlib inline"
   ]
  },
  {
   "cell_type": "markdown",
   "metadata": {},
   "source": [
    "# Pull Validation Data"
   ]
  },
  {
   "cell_type": "code",
   "execution_count": 2,
   "metadata": {
    "collapsed": true
   },
   "outputs": [],
   "source": [
    "path = \"C:/Users/Akis-/OneDrive/Masters/Web Economics/Data/\"\n",
    "#test_df = pd.read_csv(path+'test.csv')\n",
    "#train_df = pd.read_csv(path+'train.csv')\n",
    "validation_df = pd.read_csv(path+'validation.csv')"
   ]
  },
  {
   "cell_type": "code",
   "execution_count": 3,
   "metadata": {
    "collapsed": false
   },
   "outputs": [
    {
     "name": "stdout",
     "output_type": "stream",
     "text": [
      "0.0006646376573167722\n"
     ]
    }
   ],
   "source": [
    "#print(validation_df.head())\n",
    "avgCTR =validation_df.loc[validation_df[\"click\"] == 1].shape[0]/(validation_df.shape[0])\n",
    "print(avgCTR)"
   ]
  },
  {
   "cell_type": "markdown",
   "metadata": {},
   "source": [
    "# Load CTR Predictions"
   ]
  },
  {
   "cell_type": "markdown",
   "metadata": {},
   "source": [
    "Need a function that will combine multiple dataframes into one"
   ]
  },
  {
   "cell_type": "code",
   "execution_count": 42,
   "metadata": {
    "collapsed": false
   },
   "outputs": [
    {
     "name": "stdout",
     "output_type": "stream",
     "text": [
      "       pCTR\n",
      "0  0.470948\n",
      "1  0.393028\n",
      "   pCTR\n",
      "0   0.0\n",
      "1   0.0\n"
     ]
    }
   ],
   "source": [
    "path='C:/Users/Akis-/OneDrive/Masters/Web Economics/Data/Predictions/click_predictions_achilleas/'\n",
    "teamACTRData = pd.read_csv(path+'lr_pCTR.csv')\n",
    "teamACTR=teamACTRData[['click_proba']]\n",
    "teamACTR = teamACTR.rename(index=str, columns={\"click_proba\": \"pCTR\"})\n",
    "print(teamACTR.head(2))\n",
    "\n",
    "path='C:/Users/Akis-/OneDrive/Masters/Web Economics/Data/Predictions/click_predictions_dwane/'\n",
    "teamBCTRData = pd.read_csv(path+'click_predictions_narrow.csv')\n",
    "teamBCTR=teamBCTRData[['pCTR']]\n",
    "#teamBCTR = teamBCTR.rename(index=str, columns={\"click_proba\": \"pCTR\"})\n",
    "print(teamBCTR.head(2))"
   ]
  },
  {
   "cell_type": "code",
   "execution_count": 43,
   "metadata": {
    "collapsed": true
   },
   "outputs": [],
   "source": [
    "#resultCTR=teamAdf\n",
    "#resultCTR[\"teamB_CTR\"]=teamBdf[\"CTR\"]\n",
    "#result = pd.merge(teamAdf, teamBdf, how='inner', on=None, left_on=None, right_on=None, left_index=False, right_index=False, sort=False, suffixes=('_x', '_y'), copy=True, indicator=False, validate=None)\n",
    "#print(resultCTR.head())"
   ]
  },
  {
   "cell_type": "markdown",
   "metadata": {},
   "source": [
    "# Load Basebid Predictions"
   ]
  },
  {
   "cell_type": "markdown",
   "metadata": {},
   "source": [
    "Need a function that will combine multiple dataframes into one"
   ]
  },
  {
   "cell_type": "code",
   "execution_count": 44,
   "metadata": {
    "collapsed": false
   },
   "outputs": [
    {
     "name": "stdout",
     "output_type": "stream",
     "text": [
      "    base_bid\n",
      "0  80.350004\n",
      "1  95.867239\n"
     ]
    }
   ],
   "source": [
    "path='C:/Users/Akis-/OneDrive/Masters/Web Economics/Data/Predictions/basebid_predictions_achilleas/'\n",
    "teamABaseBidData = pd.read_csv(path+'ridge_basebid.csv')\n",
    "teamABaseBid=teamABaseBidData[['base_bid']]\n",
    "#teamABaseBid = teamABaseBid.rename(index=str, columns={\"click_proba\": \"pCTR\"})\n",
    "print(teamABaseBid.head(2))\n"
   ]
  },
  {
   "cell_type": "markdown",
   "metadata": {},
   "source": [
    "# Build Bid Prices for all models"
   ]
  },
  {
   "cell_type": "markdown",
   "metadata": {},
   "source": [
    "Need a function that will build a new dataframe conatining bids of all teams by combining the previous two dataframes."
   ]
  },
  {
   "cell_type": "code",
   "execution_count": 45,
   "metadata": {
    "collapsed": true
   },
   "outputs": [],
   "source": [
    "def Function1(resBaseBid,resCTR):\n",
    "    avCTR = 0.5\n",
    "    Bids=resBaseBid.values * (resCTR/avCTR)\n",
    "    #print(\"Bids:\",Bids)\n",
    "    return Bids"
   ]
  },
  {
   "cell_type": "code",
   "execution_count": 57,
   "metadata": {
    "collapsed": true
   },
   "outputs": [],
   "source": [
    "def Function2(reBaseBid,reCTR):\n",
    "    avCTR = 0.5\n",
    "    reCTR=reCTR.copy(True)\n",
    "    reCTR=(((reCTR+0.5)**2)-0.5)\n",
    "    reCTR[reCTR < 0] = 0\n",
    "    Bids=reBaseBid.values * (reCTR/avCTR)\n",
    "    return Bids"
   ]
  },
  {
   "cell_type": "code",
   "execution_count": 61,
   "metadata": {
    "collapsed": true
   },
   "outputs": [],
   "source": [
    "def Function3(rBaseBid,rCTR):\n",
    "    avCTR = 0.5\n",
    "    rCTR=rCTR.copy(True)\n",
    "    rCTR[rCTR < 0.5] = 0\n",
    "    #rCTR=(((rCTR+0.5)**4)-0.5)\n",
    "    Bids=rBaseBid.values*1.2 * (rCTR/avCTR)\n",
    "    return Bids"
   ]
  },
  {
   "cell_type": "code",
   "execution_count": 63,
   "metadata": {
    "collapsed": false
   },
   "outputs": [
    {
     "name": "stdout",
     "output_type": "stream",
     "text": [
      "    click  payprice  TeamAFormula1  TeamAFormula2  TeamAFormula3  \\\n",
      "0       0        23      75.681350      71.148330       0.000000   \n",
      "1       0        75      75.357042      57.040860       0.000000   \n",
      "2       0        65      79.423925      64.409106       0.000000   \n",
      "3       0         6      36.382727      27.539590       0.000000   \n",
      "4       0         5      46.016489      34.831782       0.000000   \n",
      "5       0        22      37.358419      35.606068       0.000000   \n",
      "6       0        31      56.270605      45.632842       0.000000   \n",
      "7       0        20      83.579240      78.573167       0.000000   \n",
      "8       0        58      39.174854      29.653066       0.000000   \n",
      "9       0        55      47.593749      39.291408       0.000000   \n",
      "10      0        88      80.067262      67.254642       0.000000   \n",
      "11      0        55      42.885943      33.118431       0.000000   \n",
      "12      0        49      78.761406      75.066988       0.000000   \n",
      "13      0       110      49.670200      46.695147       0.000000   \n",
      "14      0       160     184.623743     190.485820     221.548491   \n",
      "15      0        16      60.494599      49.058304       0.000000   \n",
      "16      0        50      51.030263      39.407837       0.000000   \n",
      "17      0        76      99.243468      80.481833       0.000000   \n",
      "18      0        89     101.878999     101.878999     122.254799   \n",
      "19      0       136      58.977454      48.689319       0.000000   \n",
      "\n",
      "    TeamBFormula1  TeamBFormula2  TeamBFormula3  \n",
      "0        0.000000       0.000000       0.000000  \n",
      "1        0.000000       0.000000       0.000000  \n",
      "2        0.000000       0.000000       0.000000  \n",
      "3        0.000000       0.000000       0.000000  \n",
      "4        0.000000       0.000000       0.000000  \n",
      "5        0.000000       0.000000       0.000000  \n",
      "6        0.000000       0.000000       0.000000  \n",
      "7        0.000000       0.000000       0.000000  \n",
      "8        0.000000       0.000000       0.000000  \n",
      "9        0.000000       0.000000       0.000000  \n",
      "10      18.779712       0.000000       0.000000  \n",
      "11       0.000000       0.000000       0.000000  \n",
      "12       0.000000       0.000000       0.000000  \n",
      "13       0.000000       0.000000       0.000000  \n",
      "14     357.709413     625.991473     429.251296  \n",
      "15       0.000000       0.000000       0.000000  \n",
      "16       0.000000       0.000000       0.000000  \n",
      "17       0.000000       0.000000       0.000000  \n",
      "18     203.757999     356.576498     244.509599  \n",
      "19       0.000000       0.000000       0.000000  \n"
     ]
    }
   ],
   "source": [
    "resultsBids=pd.DataFrame(index=range(validation_df.shape[0]))\n",
    "resultsBids['click']=validation_df['click']\n",
    "resultsBids['payprice']=validation_df['payprice']\n",
    "\n",
    "#print(teamABaseBid.head(20))\n",
    "#print(teamACTR.head(20))\n",
    "#resultsBids = resultsBids.set_index(teamABaseBid.index)\n",
    "resultsBids['TeamAFormula1'] = Function1(teamABaseBid,teamACTR).values\n",
    "resultsBids['TeamAFormula2'] = Function2(teamABaseBid,teamACTR).values\n",
    "resultsBids['TeamAFormula3'] = Function3(teamABaseBid,teamACTR).values\n",
    "resultsBids['TeamBFormula1'] = Function1(teamABaseBid,teamBCTR).values\n",
    "resultsBids['TeamBFormula2'] = Function2(teamABaseBid,teamBCTR).values\n",
    "resultsBids['TeamBFormula3'] = Function3(teamABaseBid,teamBCTR).values\n",
    "#print(\"What:\",resultsBids['TeamAFormula1'])\n",
    "\n",
    "#resultsBids['TeamAFormula2'] = Function2(teamABaseBid,teamACTR)\n",
    "#resultsBids['TeamAFormula3'] = Function3(teamABaseBid,teamACTR)\n",
    "\n",
    "print(resultsBids.head(20))"
   ]
  },
  {
   "cell_type": "code",
   "execution_count": 64,
   "metadata": {
    "collapsed": false
   },
   "outputs": [
    {
     "name": "stdout",
     "output_type": "stream",
     "text": [
      "    click  payprice  TeamAFormula1  TeamAFormula2  TeamAFormula3  \\\n",
      "0       0        23      75.681350      71.148330       0.000000   \n",
      "1       0        75      75.357042      57.040860       0.000000   \n",
      "2       0        65      79.423925      64.409106       0.000000   \n",
      "3       0         6      36.382727      27.539590       0.000000   \n",
      "4       0         5      46.016489      34.831782       0.000000   \n",
      "5       0        22      37.358419      35.606068       0.000000   \n",
      "6       0        31      56.270605      45.632842       0.000000   \n",
      "7       0        20      83.579240      78.573167       0.000000   \n",
      "8       0        58      39.174854      29.653066       0.000000   \n",
      "9       0        55      47.593749      39.291408       0.000000   \n",
      "10      0        88      80.067262      67.254642       0.000000   \n",
      "11      0        55      42.885943      33.118431       0.000000   \n",
      "12      0        49      78.761406      75.066988       0.000000   \n",
      "13      0       110      49.670200      46.695147       0.000000   \n",
      "14      0       160     184.623743     190.485820     221.548491   \n",
      "15      0        16      60.494599      49.058304       0.000000   \n",
      "16      0        50      51.030263      39.407837       0.000000   \n",
      "17      0        76      99.243468      80.481833       0.000000   \n",
      "18      0        89     101.878999     101.878999     122.254799   \n",
      "19      0       136      58.977454      48.689319       0.000000   \n",
      "\n",
      "    TeamBFormula1  TeamBFormula2  TeamBFormula3  \n",
      "0        0.000000       0.000000       0.000000  \n",
      "1        0.000000       0.000000       0.000000  \n",
      "2        0.000000       0.000000       0.000000  \n",
      "3        0.000000       0.000000       0.000000  \n",
      "4        0.000000       0.000000       0.000000  \n",
      "5        0.000000       0.000000       0.000000  \n",
      "6        0.000000       0.000000       0.000000  \n",
      "7        0.000000       0.000000       0.000000  \n",
      "8        0.000000       0.000000       0.000000  \n",
      "9        0.000000       0.000000       0.000000  \n",
      "10      18.779712       0.000000       0.000000  \n",
      "11       0.000000       0.000000       0.000000  \n",
      "12       0.000000       0.000000       0.000000  \n",
      "13       0.000000       0.000000       0.000000  \n",
      "14     357.709413     625.991473     429.251296  \n",
      "15       0.000000       0.000000       0.000000  \n",
      "16       0.000000       0.000000       0.000000  \n",
      "17       0.000000       0.000000       0.000000  \n",
      "18     203.757999     356.576498     244.509599  \n",
      "19       0.000000       0.000000       0.000000  \n"
     ]
    }
   ],
   "source": [
    "print(resultsBids.head(20))"
   ]
  },
  {
   "cell_type": "markdown",
   "metadata": {},
   "source": [
    "# Hold Auction for each"
   ]
  },
  {
   "cell_type": "markdown",
   "metadata": {},
   "source": [
    "Need a function that will step through the impressions one by one checking who won the impression, whilst keeping track of each player's budget."
   ]
  },
  {
   "cell_type": "code",
   "execution_count": 65,
   "metadata": {
    "collapsed": false
   },
   "outputs": [
    {
     "name": "stdout",
     "output_type": "stream",
     "text": [
      "   click  payprice  TeamAFormula1  TeamAFormula2  TeamAFormula3  \\\n",
      "0      0        23      75.681350      71.148330            0.0   \n",
      "1      0        75      75.357042      57.040860            0.0   \n",
      "2      0        65      79.423925      64.409106            0.0   \n",
      "3      0         6      36.382727      27.539590            0.0   \n",
      "4      0         5      46.016489      34.831782            0.0   \n",
      "\n",
      "   TeamBFormula1  TeamBFormula2  TeamBFormula3  \n",
      "0            0.0            0.0            0.0  \n",
      "1            0.0            0.0            0.0  \n",
      "2            0.0            0.0            0.0  \n",
      "3            0.0            0.0            0.0  \n",
      "4            0.0            0.0            0.0  \n"
     ]
    }
   ],
   "source": [
    "print(resultsBids.head())\n",
    "#Scorer()"
   ]
  },
  {
   "cell_type": "code",
   "execution_count": 66,
   "metadata": {
    "collapsed": true
   },
   "outputs": [],
   "source": [
    "s = Scorer()\n",
    "df_summary,df = s.set_df(resultsBids, ['payprice','TeamAFormula1', 'TeamAFormula2', 'TeamAFormula3','TeamBFormula1', 'TeamBFormula2', 'TeamBFormula3'],6250000,200)"
   ]
  },
  {
   "cell_type": "markdown",
   "metadata": {},
   "source": [
    "# Scores"
   ]
  },
  {
   "cell_type": "markdown",
   "metadata": {},
   "source": [
    "Summarise the main metrics for each team."
   ]
  },
  {
   "cell_type": "code",
   "execution_count": 67,
   "metadata": {
    "collapsed": false
   },
   "outputs": [
    {
     "name": "stdout",
     "output_type": "stream",
     "text": [
      "   click      team_name    win\n",
      "0      5  TeamAFormula1  31250\n",
      "1      6       payprice  31240\n",
      "2    107  TeamBFormula2  28193\n",
      "3     35  TeamBFormula3  15946\n",
      "4      0  TeamAFormula3   3918\n",
      "5      7  TeamAFormula2  31238\n",
      "6     15  TeamBFormula1  26280\n"
     ]
    }
   ],
   "source": [
    "print(df_summary)"
   ]
  },
  {
   "cell_type": "code",
   "execution_count": 68,
   "metadata": {
    "collapsed": false
   },
   "outputs": [
    {
     "name": "stdout",
     "output_type": "stream",
     "text": [
      "        click  payprice  TeamAFormula1  TeamAFormula2  TeamAFormula3  \\\n",
      "0           0        23      75.681350      71.148330       0.000000   \n",
      "1           0        75      75.357042      57.040860       0.000000   \n",
      "2           0        65      79.423925      64.409106       0.000000   \n",
      "3           0         6      36.382727      27.539590       0.000000   \n",
      "4           0         5      46.016489      34.831782       0.000000   \n",
      "5           0        22      37.358419      35.606068       0.000000   \n",
      "6           0        31      56.270605      45.632842       0.000000   \n",
      "7           0        20      83.579240      78.573167       0.000000   \n",
      "8           0        58      39.174854      29.653066       0.000000   \n",
      "9           0        55      47.593749      39.291408       0.000000   \n",
      "10          0        88      80.067262      67.254642       0.000000   \n",
      "11          0        55      42.885943      33.118431       0.000000   \n",
      "12          0        49      78.761406      75.066988       0.000000   \n",
      "13          0       110      49.670200      46.695147       0.000000   \n",
      "14          0       160     184.623743     190.485820     221.548491   \n",
      "15          0        16      60.494599      49.058304       0.000000   \n",
      "16          0        50      51.030263      39.407837       0.000000   \n",
      "17          0        76      99.243468      80.481833       0.000000   \n",
      "18          0        89     101.878999     101.878999     122.254799   \n",
      "19          0       136      58.977454      48.689319       0.000000   \n",
      "20          0        55      53.617106      48.561472       0.000000   \n",
      "21          0        50      51.954376      42.891359       0.000000   \n",
      "22          0        64      56.153398      42.504828       0.000000   \n",
      "23          0       129      76.719780      62.216171       0.000000   \n",
      "24          0        20      49.005244      46.706583       0.000000   \n",
      "25          0       166      30.660949      23.208540       0.000000   \n",
      "26          0        88      66.263074      52.172096       0.000000   \n",
      "27          0       221      49.299640      39.979713       0.000000   \n",
      "28          0        69      75.078770      60.885388       0.000000   \n",
      "29          0        70      56.837470      54.900651       0.000000   \n",
      "...       ...       ...            ...            ...            ...   \n",
      "303895      0       185     166.205623     215.157006     199.446748   \n",
      "303896      0        22      51.994429      42.924425       0.000000   \n",
      "303897      0        86      48.947835      46.651866       0.000000   \n",
      "303898      0       230     116.431318     115.879903       0.000000   \n",
      "303899      0        76      72.903190      68.536570       0.000000   \n",
      "303900      0        20      46.855126      55.765126      56.226152   \n",
      "303901      0        27      84.837058      68.798905       0.000000   \n",
      "303902      0       160      88.936607      84.764907       0.000000   \n",
      "303903      0        77      64.887669      51.089173       0.000000   \n",
      "303904      0       160      63.772423      52.647844       0.000000   \n",
      "303905      0        20      36.072577      34.380541       0.000000   \n",
      "303906      0        80     133.100656     135.727893     159.720787   \n",
      "303907      0       265      69.005544      52.233148       0.000000   \n",
      "303908      0        70      55.989087      44.082893       0.000000   \n",
      "303909      0        50      35.095326      28.973233       0.000000   \n",
      "303910      0        70      71.963479      73.383946      86.356174   \n",
      "303911      0        93      66.592478      66.277099       0.000000   \n",
      "303912      0        77      73.938457      67.958520       0.000000   \n",
      "303913      0       100      75.520083      70.996722       0.000000   \n",
      "303914      0        22      45.158883      34.873697       0.000000   \n",
      "303915      0         5      39.739874      37.359609       0.000000   \n",
      "303916      0        20      33.769327      32.185328       0.000000   \n",
      "303917      0        17      64.190094      52.055178       0.000000   \n",
      "303918      0        50      37.928222      31.311953       0.000000   \n",
      "303919      0        64      24.944317      20.228680       0.000000   \n",
      "303920      0        50      42.338247      32.695476       0.000000   \n",
      "303921      0        41      22.990021      18.643837       0.000000   \n",
      "303922      0       108     113.252096     101.035117       0.000000   \n",
      "303923      0        50      49.070833      46.131680       0.000000   \n",
      "303924      0        40      45.203327      42.495822       0.000000   \n",
      "\n",
      "        TeamBFormula1  TeamBFormula2  TeamBFormula3  winner       price  \n",
      "0            0.000000       0.000000       0.000000       1  200.000000  \n",
      "1            0.000000       0.000000       0.000000       1  200.000000  \n",
      "2            0.000000       0.000000       0.000000       1  200.000000  \n",
      "3            0.000000       0.000000       0.000000       1  200.000000  \n",
      "4            0.000000       0.000000       0.000000       1  200.000000  \n",
      "5            0.000000       0.000000       0.000000       1  200.000000  \n",
      "6            0.000000       0.000000       0.000000       1  200.000000  \n",
      "7            0.000000       0.000000       0.000000       1  200.000000  \n",
      "8            0.000000       0.000000       0.000000       0  200.000000  \n",
      "9            0.000000       0.000000       0.000000       0  200.000000  \n",
      "10          18.779712       0.000000       0.000000       0  200.000000  \n",
      "11           0.000000       0.000000       0.000000       0  200.000000  \n",
      "12           0.000000       0.000000       0.000000       1  200.000000  \n",
      "13           0.000000       0.000000       0.000000       0  200.000000  \n",
      "14         357.709413     625.991473     429.251296       5  429.251296  \n",
      "15           0.000000       0.000000       0.000000       1  200.000000  \n",
      "16           0.000000       0.000000       0.000000       1  200.000000  \n",
      "17           0.000000       0.000000       0.000000       1  200.000000  \n",
      "18         203.757999     356.576498     244.509599       5  244.509599  \n",
      "19           0.000000       0.000000       0.000000       0  200.000000  \n",
      "20           0.000000       0.000000       0.000000       0  200.000000  \n",
      "21           0.000000       0.000000       0.000000       1  200.000000  \n",
      "22           0.000000       0.000000       0.000000       0  200.000000  \n",
      "23           0.000000       0.000000       0.000000       0  200.000000  \n",
      "24          61.629345      72.928058      73.955214       6  200.000000  \n",
      "25          54.608470      73.331374      65.530164       0  200.000000  \n",
      "26           0.000000       0.000000       0.000000       0  200.000000  \n",
      "27           0.000000       0.000000       0.000000       0  200.000000  \n",
      "28           0.000000       0.000000       0.000000       1  200.000000  \n",
      "29          47.045823      36.460513       0.000000       0  200.000000  \n",
      "...               ...            ...            ...     ...         ...  \n",
      "303895     223.763404     362.993966     268.516085       6  223.763404  \n",
      "303896       0.000000       0.000000       0.000000      -1    0.000000  \n",
      "303897      71.816671      96.439529      86.180005       6  200.000000  \n",
      "303898     233.968076     409.444133     280.761691       6  233.968076  \n",
      "303899       0.000000       0.000000       0.000000      -1    0.000000  \n",
      "303900      69.812584     113.251526      83.775101       6  200.000000  \n",
      "303901       0.000000       0.000000       0.000000      -1    0.000000  \n",
      "303902       0.000000       0.000000       0.000000      -1    0.000000  \n",
      "303903       0.000000       0.000000       0.000000      -1    0.000000  \n",
      "303904       0.000000       0.000000       0.000000      -1    0.000000  \n",
      "303905       0.000000       0.000000       0.000000      -1    0.000000  \n",
      "303906      78.299607      36.539817       0.000000       3  200.000000  \n",
      "303907       0.000000       0.000000       0.000000      -1    0.000000  \n",
      "303908       0.000000       0.000000       0.000000      -1    0.000000  \n",
      "303909       0.000000       0.000000       0.000000      -1    0.000000  \n",
      "303910      84.668435     100.190981     101.602122       6  200.000000  \n",
      "303911      80.290326      95.010219      96.348391       6  200.000000  \n",
      "303912       0.000000       0.000000       0.000000      -1    0.000000  \n",
      "303913      64.143031      49.710849       0.000000       4  200.000000  \n",
      "303914       0.000000       0.000000       0.000000      -1    0.000000  \n",
      "303915       8.438272       0.000000       0.000000       4  200.000000  \n",
      "303916       0.000000       0.000000       0.000000      -1    0.000000  \n",
      "303917       0.000000       0.000000       0.000000      -1    0.000000  \n",
      "303918       0.000000       0.000000       0.000000      -1    0.000000  \n",
      "303919       0.000000       0.000000       0.000000      -1    0.000000  \n",
      "303920       0.000000       0.000000       0.000000      -1    0.000000  \n",
      "303921       5.548683       0.000000       0.000000       4  200.000000  \n",
      "303922      50.450447       0.000000       0.000000       4  200.000000  \n",
      "303923       0.000000       0.000000       0.000000      -1    0.000000  \n",
      "303924       0.000000       0.000000       0.000000      -1    0.000000  \n",
      "\n",
      "[303925 rows x 10 columns]\n"
     ]
    }
   ],
   "source": [
    "print(df)"
   ]
  },
  {
   "cell_type": "code",
   "execution_count": null,
   "metadata": {
    "collapsed": true
   },
   "outputs": [],
   "source": []
  }
 ],
 "metadata": {
  "kernelspec": {
   "display_name": "Python 3",
   "language": "python",
   "name": "python3"
  },
  "language_info": {
   "codemirror_mode": {
    "name": "ipython",
    "version": 3
   },
   "file_extension": ".py",
   "mimetype": "text/x-python",
   "name": "python",
   "nbconvert_exporter": "python",
   "pygments_lexer": "ipython3",
   "version": "3.6.0"
  }
 },
 "nbformat": 4,
 "nbformat_minor": 2
}
