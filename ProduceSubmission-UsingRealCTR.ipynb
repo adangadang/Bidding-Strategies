{
 "cells": [
  {
   "cell_type": "code",
   "execution_count": 1,
   "metadata": {
    "collapsed": true
   },
   "outputs": [],
   "source": [
    "import numpy as np\n",
    "import pandas as pd"
   ]
  },
  {
   "cell_type": "code",
   "execution_count": 2,
   "metadata": {
    "collapsed": true
   },
   "outputs": [],
   "source": [
    "def Strategy3(sub_pCTR, sub_basebid):\n",
    "    avgCTR = 0.5\n",
    "    sub_pCTR_ = sub_pCTR.copy()\n",
    "    bidprice=sub_pCTR_[\"pCTR\"] * 1\n",
    "    return bidprice"
   ]
  },
  {
   "cell_type": "code",
   "execution_count": 3,
   "metadata": {
    "collapsed": true
   },
   "outputs": [],
   "source": [
    "def Strategy2(sub_pCTR, sub_basebid, C=200 ,BBimportance=18):\n",
    "\n",
    "    importance = BBimportance * 10 \n",
    "    avgCTR = sub_pCTR[\"pCTR\"].values.mean()\n",
    "    \n",
    "    mean = sub_basebid[\"predicted_payprice\"].values.mean()\n",
    "    sub_basebid[\"predicted_payprice\"] = sub_basebid[\"predicted_payprice\"].values-mean\n",
    "    sub_basebid[\"predicted_payprice\"] = (importance * sub_basebid[\"predicted_payprice\"].values/sub_basebid[\"predicted_payprice\"].values.max())\n",
    "    sub_basebid[\"predicted_payprice\"] = sub_basebid[\"predicted_payprice\"].values + mean\n",
    "    #importance is a constant to be played around with\n",
    "    \n",
    "    avgBB = sub_basebid[\"predicted_payprice\"].mean()\n",
    "\n",
    "    print(\"avBB/pBB Min:\",(avgBB/sub_basebid[\"predicted_payprice\"].values).min())\n",
    "    print(\"avBB/pBB Max:\",(avgBB/sub_basebid[\"predicted_payprice\"].values).max())\n",
    "    print(\"avBB/pBB Mean:\",(avgBB/sub_basebid[\"predicted_payprice\"]).mean())\n",
    "    print(\"avBB/pBB Std:\",(avgBB/sub_basebid[\"predicted_payprice\"]).std())\n",
    "    print()\n",
    "    \n",
    "    print(\"pCTR/avCTR Min:\",(sub_pCTR[\"pCTR\"]/ avgCTR).min())\n",
    "    print(\"pCTR/avCTR Max:\",(sub_pCTR[\"pCTR\"]/ avgCTR).max())\n",
    "    print(\"pCTR/avCTR Mean:\",(sub_pCTR[\"pCTR\"]/ avgCTR).mean())\n",
    "    print(\"pCTR/avCTR Std:\",(sub_pCTR[\"pCTR\"]/ avgCTR).std())\n",
    "    \n",
    "    #sub_pCTR[\"pCTR\"] = (sub_pCTR[\"pCTR\"].values + (1-avgCTR))**2 - (1-avgCTR)\n",
    "    bidprice2 = (avgBB/sub_basebid[\"predicted_payprice\"].values) * (sub_pCTR[\"pCTR\"].values/ avgCTR) * C\n",
    "    return bidprice2"
   ]
  },
  {
   "cell_type": "code",
   "execution_count": 4,
   "metadata": {
    "collapsed": false
   },
   "outputs": [],
   "source": [
    "path = 'C:/Users/Akis/OneDrive/Masters/Web Economics/Data/WebEcon Team Drive/Test Set Predictions/'\n",
    "ridge_preds = pd.read_csv(path+\"xgbr_basebid_test.csv\") #, index_col  = \"Unnamed: 0\"\n",
    "dwane_preds = pd.read_csv(path+\"test_dummy.click_predictions_narrow.2018-03-13.csv\")\n",
    "achilleas_preds = pd.read_csv(path+\"xgb_pCTR_test.csv\")"
   ]
  },
  {
   "cell_type": "code",
   "execution_count": 5,
   "metadata": {
    "collapsed": false
   },
   "outputs": [],
   "source": [
    "#Our best ensemble model by multiplication\n",
    "combined_preds1 = pd.DataFrame(columns=['bidid','pCTR'])\n",
    "combined_preds1['pCTR'] = achilleas_preds['pCTR']*dwane_preds['pCTR']\n",
    "combined_preds1[\"pCTR\"] = combined_preds1[\"pCTR\"].map(lambda x: 0.000220 if ((0.000 <=x) & (x <0.025)) else x)\n",
    "combined_preds1[\"pCTR\"] = combined_preds1[\"pCTR\"].map(lambda x: 0.001388 if ((0.025 <=x) & (x <0.050)) else x)\n",
    "combined_preds1[\"pCTR\"] = combined_preds1[\"pCTR\"].map(lambda x: 0.001112 if ((0.050 <=x) & (x <0.100)) else x)\n",
    "combined_preds1[\"pCTR\"] = combined_preds1[\"pCTR\"].map(lambda x: 0.002008 if ((0.100 <=x) & (x <0.200)) else x)\n",
    "combined_preds1[\"pCTR\"] = combined_preds1[\"pCTR\"].map(lambda x: 0.002761 if ((0.200 <=x) & (x <0.300)) else x)\n",
    "combined_preds1[\"pCTR\"] = combined_preds1[\"pCTR\"].map(lambda x: 0.002787 if ((0.300 <=x) & (x <0.400)) else x)\n",
    "combined_preds1[\"pCTR\"] = combined_preds1[\"pCTR\"].map(lambda x: 0.003005 if ((0.400 <=x) & (x <0.500)) else x)\n",
    "combined_preds1[\"pCTR\"] = combined_preds1[\"pCTR\"].map(lambda x: 0.006875 if ((0.500 <=x) & (x <0.800)) else x)\n",
    "combined_preds1[\"pCTR\"] = combined_preds1[\"pCTR\"].map(lambda x: 0.046070 if ((0.800 <=x) & (x <0.950)) else x)\n",
    "combined_preds1[\"pCTR\"] = combined_preds1[\"pCTR\"].map(lambda x: 0.141414 if ((0.950 <=x) & (x <0.980)) else x)\n",
    "combined_preds1[\"pCTR\"] = combined_preds1[\"pCTR\"].map(lambda x: 0.203704 if ((0.980 <=x) & (x <0.990)) else x)\n",
    "combined_preds1[\"pCTR\"] = combined_preds1[\"pCTR\"].map(lambda x: 0.387097 if ((0.990 <=x) & (x <0.994)) else x)\n",
    "combined_preds1[\"pCTR\"] = combined_preds1[\"pCTR\"].map(lambda x: 0.444444 if ((0.994 <=x) & (x <0.995)) else x)\n",
    "combined_preds1[\"pCTR\"] = combined_preds1[\"pCTR\"].map(lambda x: 0.391304 if ((0.995 <=x) & (x <0.997)) else x)\n",
    "combined_preds1[\"pCTR\"] = combined_preds1[\"pCTR\"].map(lambda x: 0.357143 if ((0.997 <=x) & (x <0.998)) else x)\n",
    "combined_preds1[\"pCTR\"] = combined_preds1[\"pCTR\"].map(lambda x: 0.333333 if ((0.998 <=x) & (x <0.999)) else x)\n",
    "combined_preds1[\"pCTR\"] = combined_preds1[\"pCTR\"].map(lambda x: 0.000000 if ((0.999 <=x) & (x <1.000)) else x)\n",
    "#print(combined_preds1['pCTR'].astype(bool).sum(axis=0))\n",
    "\n"
   ]
  },
  {
   "cell_type": "code",
   "execution_count": 6,
   "metadata": {
    "collapsed": false
   },
   "outputs": [
    {
     "data": {
      "text/html": [
       "<div>\n",
       "<table border=\"1\" class=\"dataframe\">\n",
       "  <thead>\n",
       "    <tr style=\"text-align: right;\">\n",
       "      <th></th>\n",
       "      <th>bidid</th>\n",
       "      <th>predicted_payprice</th>\n",
       "    </tr>\n",
       "  </thead>\n",
       "  <tbody>\n",
       "    <tr>\n",
       "      <th>0</th>\n",
       "      <td>366c563de7d90feb9d4dab53e795a93fb3157387</td>\n",
       "      <td>64.394638</td>\n",
       "    </tr>\n",
       "    <tr>\n",
       "      <th>1</th>\n",
       "      <td>29167d4caa719788b5a342dbaa25151d53121f80</td>\n",
       "      <td>47.536221</td>\n",
       "    </tr>\n",
       "    <tr>\n",
       "      <th>2</th>\n",
       "      <td>ff8bc3f4d44a3ea60c5f3a3a8fbe7cd98fb2966e</td>\n",
       "      <td>136.608963</td>\n",
       "    </tr>\n",
       "    <tr>\n",
       "      <th>3</th>\n",
       "      <td>844c2da00d45315f20b748ec131c26ee99a7cbc7</td>\n",
       "      <td>62.953285</td>\n",
       "    </tr>\n",
       "    <tr>\n",
       "      <th>4</th>\n",
       "      <td>c6017f0ad0c44d7d0c9b62583ea863f28941c0ca</td>\n",
       "      <td>97.357269</td>\n",
       "    </tr>\n",
       "  </tbody>\n",
       "</table>\n",
       "</div>"
      ],
      "text/plain": [
       "                                      bidid  predicted_payprice\n",
       "0  366c563de7d90feb9d4dab53e795a93fb3157387           64.394638\n",
       "1  29167d4caa719788b5a342dbaa25151d53121f80           47.536221\n",
       "2  ff8bc3f4d44a3ea60c5f3a3a8fbe7cd98fb2966e          136.608963\n",
       "3  844c2da00d45315f20b748ec131c26ee99a7cbc7           62.953285\n",
       "4  c6017f0ad0c44d7d0c9b62583ea863f28941c0ca           97.357269"
      ]
     },
     "execution_count": 6,
     "metadata": {},
     "output_type": "execute_result"
    }
   ],
   "source": [
    "ridge_preds.head(5)"
   ]
  },
  {
   "cell_type": "code",
   "execution_count": 7,
   "metadata": {
    "collapsed": false
   },
   "outputs": [],
   "source": [
    "#combined_preds1['pCTR'][combined_preds1['pCTR'] > 0.4]"
   ]
  },
  {
   "cell_type": "code",
   "execution_count": 8,
   "metadata": {
    "collapsed": true
   },
   "outputs": [],
   "source": [
    "#combined_preds1['pCTR']"
   ]
  },
  {
   "cell_type": "code",
   "execution_count": 9,
   "metadata": {
    "collapsed": true
   },
   "outputs": [],
   "source": [
    "#combined_preds2 = pd.DataFrame(columns=['bidid','pCTR'])\n",
    "#print(achilleas_preds.shape[0]/100)\n",
    "#percentile = 99\n",
    "#dwane_preds[\"pCTR\"] = dwane_preds[\"pCTR\"].map(lambda x: 0 if x < 1 else np.exp(x))\n",
    "#print(dwane_preds['pCTR'].astype(bool).sum(axis=0))\n",
    "#achilleas_preds[\"pCTR\"] = achilleas_preds[\"pCTR\"].map(lambda x: 0 if x <0.44 else x) #0.93\n",
    "#print(achilleas_preds['pCTR'][achilleas_preds['pCTR'] > 0].count())\n",
    "#limit = np.percentile(achilleas_preds2[\"pCTR\"],percentile)\n",
    "#achilleas_preds2[\"pCTR\"] = achilleas_preds2[\"pCTR\"].map(lambda x: 0 if x < limit else x) #0.9998\n",
    "#print(achilleas_preds2['pCTR'][achilleas_preds2['pCTR'] > 0].count())\n",
    "#limit = np.percentile(achilleas_preds3[\"pCTR\"],percentile)\n",
    "#achilleas_preds3[\"pCTR\"] = achilleas_preds3[\"pCTR\"].map(lambda x: 0 if x <limit else x) #0.87\n",
    "#print(achilleas_preds3['pCTR'][achilleas_preds3['pCTR'] > 0].count())\n",
    "#combined_preds2['pCTR'] = achilleas_preds3['pCTR']*achilleas_preds2['pCTR']#*achilleas_preds['pCTR']\n",
    "#print(combined_preds2['pCTR'][combined_preds2['pCTR'] > 0].count())"
   ]
  },
  {
   "cell_type": "code",
   "execution_count": 10,
   "metadata": {
    "collapsed": false
   },
   "outputs": [
    {
     "name": "stdout",
     "output_type": "stream",
     "text": [
      "303375\n"
     ]
    }
   ],
   "source": [
    "#combined_preds = pd.DataFrame(columns=['bidid','pCTR'])\n",
    "print(combined_preds1['pCTR'][combined_preds1['pCTR'] > 0].count())\n",
    "#print(combined_preds2['pCTR'][combined_preds2['pCTR'] > 0].count())\n",
    "#combined_preds['pCTR'] = combined_preds1['pCTR']+combined_preds2['pCTR']\n",
    "#print(combined_preds['pCTR'][combined_preds['pCTR'] > 0].count())\n",
    "#print(\"Additional Bids:\",combined_preds['pCTR'].astype(bool).sum(axis=0)-combined_preds1['pCTR'].astype(bool).sum(axis=0))"
   ]
  },
  {
   "cell_type": "code",
   "execution_count": 11,
   "metadata": {
    "collapsed": true
   },
   "outputs": [],
   "source": [
    "#combined_preds = pd.DataFrame(columns=['bidid','pCTR'])\n",
    "#combined_preds['pCTR'] = achilleas_preds['pCTR']*dwane_preds['pCTR']\n",
    "#combined_preds['bidid'] = dwane_preds['bidid']"
   ]
  },
  {
   "cell_type": "code",
   "execution_count": 12,
   "metadata": {
    "collapsed": false
   },
   "outputs": [
    {
     "name": "stdout",
     "output_type": "stream",
     "text": [
      "avBB/pBB Min: -30.001635129095185\n",
      "avBB/pBB Max: 144.86074817233887\n",
      "avBB/pBB Mean: 1.075283883764754\n",
      "avBB/pBB Std: 0.43133205573457717\n",
      "\n",
      "pCTR/avCTR Min: 0.3075628555276039\n",
      "pCTR/avCTR Max: 621.3384807368653\n",
      "pCTR/avCTR Mean: 1.000000000004646\n",
      "pCTR/avCTR Std: 10.71486235322782\n"
     ]
    }
   ],
   "source": [
    "bids = pd.DataFrame(columns=['bidid','bidprice'])\n",
    "bids['bidprice'] = Strategy2(combined_preds1,ridge_preds)\n",
    "#bids['bidprice'] = combined_preds1['pCTR']*2621 *100 * 1.25 /2 *1.2 *1.5\n",
    "#print(combined_preds['pCTR'][combined_preds['pCTR'] > 0].count())\n",
    "bids['bidid']=ridge_preds['bidid']\n",
    "#bids['bidprice'] = bids['bidprice'] * 2621 *5 *10 *10000\n",
    "#bids['bidprice'] = bids['bidprice'].round(0)\n",
    "#bids['bidprice'] = bids['bidprice'].astype(int)\n",
    "#print(bids['bidprice'][bids['bidprice'] > 0].count())\n",
    "#bids.tail(1)['bidprice']=6250000-6247377\n",
    "#bids['bidprice'][-1]=6250000-6247377\n",
    "#print()"
   ]
  },
  {
   "cell_type": "code",
   "execution_count": 13,
   "metadata": {
    "collapsed": false
   },
   "outputs": [
    {
     "name": "stdout",
     "output_type": "stream",
     "text": [
      "                                           bidid    bidprice\n",
      "303367  922e2d268729fe743c2deb8f015bf696834ca9bc   76.087266\n",
      "303368  c0cfb39d67204c9687fac99d206f46b9791645d7  684.184834\n",
      "303369  243768b472f0933c11f5b75a166023aa5b25271e   75.292999\n",
      "303370  c3bb9e4340efd0b7727e1340be7975856878e27c   52.127421\n",
      "303371  75a0dac04603fa79e811f1c3e7d1a309f5a81bbf   75.798551\n",
      "303372  edb83d1e92bab4113360a655b68c2e44ace6a81d   87.915012\n",
      "303373  5eca186cb78a6eaadf91aa7070c88f2c25e31464   69.964890\n",
      "303374  afcdff59c976336fbcecb98b2c7379d369496131   88.113355\n"
     ]
    }
   ],
   "source": [
    "pd.options.display.max_rows=290\n",
    "print(bids.tail(8))\n",
    "#print(bids['bidprice'].astype(bool).sum(axis=0))\n",
    "#print(bids['bidprice'][bids['bidprice'] > 0].count())"
   ]
  },
  {
   "cell_type": "code",
   "execution_count": null,
   "metadata": {
    "collapsed": true
   },
   "outputs": [],
   "source": [
    "bids[\"bidprice\"] = bids[\"bidprice\"].map(lambda x: 0 if (x <0) else x)"
   ]
  },
  {
   "cell_type": "code",
   "execution_count": null,
   "metadata": {
    "collapsed": false
   },
   "outputs": [],
   "source": [
    "print(bids[bids[\"bidprice\"]>0].tail(8))"
   ]
  },
  {
   "cell_type": "code",
   "execution_count": null,
   "metadata": {
    "collapsed": false
   },
   "outputs": [],
   "source": [
    "print(bids[\"bidprice\"].min())"
   ]
  },
  {
   "cell_type": "code",
   "execution_count": null,
   "metadata": {
    "collapsed": false
   },
   "outputs": [],
   "source": [
    "print(\"Min bid:\",bids[\"bidprice\"].min())\n",
    "print(\"Max bid:\",bids[\"bidprice\"].max())\n",
    "#print(bids.shape)\n",
    "ourAverage = bids['bidprice'][bids['bidprice'] > 0].mean()\n",
    "totalBid = bids['bidprice'].sum()\n",
    "totalBidsPlaced = bids['bidprice'][bids['bidprice'] > 0].count()\n",
    "print(\"ourAverage\",ourAverage)\n",
    "print(\"totalBid\",totalBid)\n",
    "print(\"totalBidsPlaced\",totalBidsPlaced)\n",
    "print(\"Multiples of budget bid:\",totalBid/6250000)"
   ]
  },
  {
   "cell_type": "code",
   "execution_count": null,
   "metadata": {
    "collapsed": true
   },
   "outputs": [],
   "source": [
    "bids.to_csv('Group_21_SingleAgentBids.csv',index=False)"
   ]
  },
  {
   "cell_type": "code",
   "execution_count": null,
   "metadata": {
    "collapsed": true
   },
   "outputs": [],
   "source": [
    "averageNeeded = 659 #659 is sum(budgets of all teams)/number of impressions available; assumes 32 teams (there should be 31 but 32 plays it safe)"
   ]
  },
  {
   "cell_type": "code",
   "execution_count": null,
   "metadata": {
    "collapsed": false
   },
   "outputs": [],
   "source": [
    "bids['bidprice'] = bids['bidprice']*(averageNeeded/ourAverage)\n",
    "bids['bidprice'] = bids['bidprice'].round(0)\n",
    "bids['bidprice'] = bids['bidprice'].astype(int)\n",
    "print(bids.head(5))"
   ]
  },
  {
   "cell_type": "code",
   "execution_count": null,
   "metadata": {
    "collapsed": false
   },
   "outputs": [],
   "source": [
    "ourAverage = bids['bidprice'].mean()\n",
    "totalBid = bids['bidprice'].sum()\n",
    "print(\"ourAverage\",ourAverage)\n",
    "print(\"totalBid\",totalBid)\n",
    "print(\"Multiples of budget bid:\",totalBid/6250000)"
   ]
  },
  {
   "cell_type": "code",
   "execution_count": null,
   "metadata": {
    "collapsed": true
   },
   "outputs": [],
   "source": [
    "bids.to_csv('Group_21_MultiAgentBids.csv',index=False)"
   ]
  }
 ],
 "metadata": {
  "kernelspec": {
   "display_name": "Python 3",
   "language": "python",
   "name": "python3"
  },
  "language_info": {
   "codemirror_mode": {
    "name": "ipython",
    "version": 3
   },
   "file_extension": ".py",
   "mimetype": "text/x-python",
   "name": "python",
   "nbconvert_exporter": "python",
   "pygments_lexer": "ipython3",
   "version": "3.6.0"
  }
 },
 "nbformat": 4,
 "nbformat_minor": 2
}
