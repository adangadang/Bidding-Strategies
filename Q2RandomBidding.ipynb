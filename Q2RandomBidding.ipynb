{
 "cells": [
  {
   "cell_type": "code",
   "execution_count": 133,
   "metadata": {},
   "outputs": [],
   "source": [
    "import pandas as pd\n",
    "import numpy as np\n",
    "import matplotlib.pyplot as plt\n",
    "from random import randint    \n",
    "import seaborn as sns\n",
    "\n",
    "%matplotlib inline"
   ]
  },
  {
   "cell_type": "markdown",
   "metadata": {},
   "source": [
    "# Pull Data"
   ]
  },
  {
   "cell_type": "code",
   "execution_count": 134,
   "metadata": {},
   "outputs": [],
   "source": [
    "path = \"C:/Users/Akis-/OneDrive/Masters/Web Economics/Data/\"\n",
    "#test_df = pd.read_csv(path+'test.csv')\n",
    "#train_df = pd.read_csv(path+'train.csv')\n",
    "validation_df = pd.read_csv(path+'validation.csv')\n",
    "train_df = pd.read_csv(path+'validation.csv')"
   ]
  },
  {
   "cell_type": "code",
   "execution_count": 135,
   "metadata": {},
   "outputs": [],
   "source": [
    "#TotalImpressions = test_df.shape[0]\n",
    "#print(\"TotalImpressions:\",TotalImpressions)\n"
   ]
  },
  {
   "cell_type": "code",
   "execution_count": 136,
   "metadata": {},
   "outputs": [],
   "source": [
    "#budget=6250*1000\n",
    "#print(\"Our Budget is:\",budget, \"Fen\")\n",
    "#print(\"To use over\",test_df.shape[0],\"bid opportunities.\")\n",
    "#BudPerBid=budget/test_df.shape[0]\n",
    "#print(\"Budget / Bid Opportunity:\",BudPerBid)\n",
    "\n",
    "minBid=np.min(train_df[\"payprice\"].values)\n",
    "maxBid=np.max(train_df[\"payprice\"].values)\n",
    "custRange = np.arange(minBid+1, maxBid+5,10) # determines the range that bids should be in\n",
    "#custRange = np.arange(60, 65,1)"
   ]
  },
  {
   "cell_type": "code",
   "execution_count": 137,
   "metadata": {},
   "outputs": [],
   "source": [
    "pd.set_option('display.max_columns', None)"
   ]
  },
  {
   "cell_type": "markdown",
   "metadata": {
    "collapsed": true
   },
   "source": [
    "# Functions"
   ]
  },
  {
   "cell_type": "markdown",
   "metadata": {},
   "source": [
    "### Plot Metrics for bound combination for random bidding strategy"
   ]
  },
  {
   "cell_type": "code",
   "execution_count": 138,
   "metadata": {},
   "outputs": [],
   "source": [
    "def plotResults(Matrix):\n",
    "\n",
    "    ax = sns.heatmap(Matrix, linewidth=0, xticklabels=custRange, yticklabels=custRange[::-1], cmap=\"Greens\") #, annot=True\n",
    "    ax.set(xlabel='lower bound for random bid', ylabel='upper bound for random bid', title=\"Clicks by bounded random bids\")\n",
    "    for label in ax.xaxis.get_ticklabels()[::1]:\n",
    "        label.set_visible(False)\n",
    "    for label in ax.xaxis.get_ticklabels()[::1]:\n",
    "        label.set_visible(True)\n",
    "    for label in ax.yaxis.get_ticklabels()[::1]:\n",
    "        label.set_visible(False)\n",
    "    for label in ax.yaxis.get_ticklabels()[::1]:\n",
    "        label.set_visible(True)\n",
    "    plt.savefig('RandomBidResults.png')\n",
    "    plt.show()\n",
    "    \n",
    "    useless = 0\n",
    "    return useless"
   ]
  },
  {
   "cell_type": "markdown",
   "metadata": {},
   "source": [
    "### Build Matrix containing CTR for various bound combinations"
   ]
  },
  {
   "cell_type": "code",
   "execution_count": 139,
   "metadata": {},
   "outputs": [],
   "source": [
    "def BuildCTRMatrix(dataframe,plot,repeats):\n",
    "    lastInRange = custRange[len(custRange)-1:][0]+1\n",
    "    for n in range(0,repeats,1):\n",
    "        dataSubset = dataframe.sample(frac=0.5, replace=False)\n",
    "        print(n+1,\"/\",repeats,\"...\")\n",
    "        for minimumBid in custRange:\n",
    "            for maximumBid in range(minimumBid,lastInRange,1): #maxBid>minBid?????\n",
    "                    Clicks = EvalRandBid(dataSubset,minimumBid, maximumBid,6250000,validation_df.shape[0])[1]\n",
    "                    CTRMatrix[minimumBid][maximumBid]=(CTRMatrix[minimumBid][maximumBid]*n+Clicks)/(n+1)\n",
    "   \n",
    "    return CTRMatrix"
   ]
  },
  {
   "cell_type": "markdown",
   "metadata": {},
   "source": [
    "### Extract best Bounds from Results Matrix"
   ]
  },
  {
   "cell_type": "code",
   "execution_count": 140,
   "metadata": {},
   "outputs": [],
   "source": [
    "def FindBestBounds(ResultsMatrix):\n",
    "    print(\"Best CTR is:\",ResultsMatrix.values.max())\n",
    "    for x in custRange:\n",
    "        for y in custRange:\n",
    "            if ResultsMatrix[x][y]==ResultsMatrix.values.max():\n",
    "                print(\"X:\",x,\"Y:\",y)\n",
    "                lowerBound=x\n",
    "                upperBound=y\n",
    "    return lowerBound, upperBound"
   ]
  },
  {
   "cell_type": "markdown",
   "metadata": {},
   "source": [
    "### Evaluate a random bid value on a new set"
   ]
  },
  {
   "cell_type": "code",
   "execution_count": 141,
   "metadata": {},
   "outputs": [],
   "source": [
    "#def EvalRandBid(dataframe,lowerBound, upperBound):\n",
    "#    \n",
    "#    dataframe['ConstBid'] = np.random.randint(lowerBound, upperBound+1, dataframe.shape[0])\n",
    "#\n",
    "#    trueValues = (dataframe[\"payprice\"]<dataframe['ConstBid'])\n",
    "#    impressions = dataframe[trueValues].shape[0]\n",
    "#    clicks = np.sum(dataframe[trueValues][\"click\"].values)\n",
    "#    ClickThroughRate=(clicks*100)/impressions\n",
    "#        \n",
    "#    return ClickThroughRate"
   ]
  },
  {
   "cell_type": "code",
   "execution_count": 142,
   "metadata": {},
   "outputs": [],
   "source": [
    "def EvalRandBid(dataframe,lowerBound, upperBound,budget,size):\n",
    "    \n",
    "    AdjustedBudget=(budget/size)*dataframe.shape[0]\n",
    "    #print(\"AdjustedBudget is:\",AdjustedBudget)\n",
    "    tempData=dataframe\n",
    "    #tempData['ConstBid']=constant\n",
    "    tempData['ConstBid'] = np.random.randint(lowerBound, upperBound+1, dataframe.shape[0])\n",
    "\n",
    "    tempData['trueValues'] = np.where(tempData[\"payprice\"]<tempData['ConstBid'],1,0)\n",
    "    tempData['ModelPays'] = tempData['trueValues']*tempData['payprice']\n",
    "    tempData['cumsum'] = tempData['ModelPays'].cumsum()\n",
    "    lastRowToInclude = np.argmax(tempData['cumsum'].as_matrix()>AdjustedBudget)\n",
    "    if lastRowToInclude==0:\n",
    "        lastRowToInclude=tempData.shape[0]\n",
    "    #print(\"lastRowToInclude\",lastRowToInclude)\n",
    "    \n",
    "    shortData = tempData.head(lastRowToInclude).copy(True)\n",
    "    trueValues = (0<shortData['ModelPays'])\n",
    "    impressions = shortData[trueValues].shape[0]\n",
    "    clicks = np.sum(shortData[trueValues][\"click\"].values)\n",
    "    spend = np.sum(shortData[trueValues][\"payprice\"].values)\n",
    "    CostPerClick = spend/clicks\n",
    "    CostPerMille = spend*1000/(impressions)\n",
    "    ClickThroughRate=(clicks*100)/impressions\n",
    "    #print(constant, ClickThroughRate, clicks, spend, CostPerMille, CostPerClick, impressions)\n",
    "    return [ClickThroughRate, clicks, spend, CostPerMille, CostPerClick, impressions]\n",
    "    #return clicks\n",
    "\n",
    "\n",
    "    #impressions = shortData.loc[shortData['ModelPays'] > 0].sum()\n",
    "    #clicks = shortData.loc[shortData['ModelPays'] > 0 , 'click'].sum()\n",
    "    #print(\"clicks:\",clicks)"
   ]
  },
  {
   "cell_type": "markdown",
   "metadata": {},
   "source": [
    "# Main Code"
   ]
  },
  {
   "cell_type": "markdown",
   "metadata": {},
   "source": [
    "### Determine Best Bounds Combination from Train Set"
   ]
  },
  {
   "cell_type": "code",
   "execution_count": 127,
   "metadata": {},
   "outputs": [],
   "source": [
    "zero_data = np.zeros(shape=(len(custRange),len(custRange)))\n",
    "zero_data[zero_data < 1] = 0.0\n",
    "CTRMatrix=pd.DataFrame(zero_data,index=reversed(custRange), columns=custRange)"
   ]
  },
  {
   "cell_type": "code",
   "execution_count": 128,
   "metadata": {
    "scrolled": true
   },
   "outputs": [
    {
     "name": "stdout",
     "output_type": "stream",
     "text": [
      "1 / 10 ...\n",
      "2 / 10 ...\n",
      "3 / 10 ...\n",
      "4 / 10 ...\n",
      "5 / 10 ...\n",
      "6 / 10 ...\n",
      "7 / 10 ...\n",
      "8 / 10 ...\n",
      "9 / 10 ...\n",
      "10 / 10 ...\n"
     ]
    }
   ],
   "source": [
    "CTRMatrix =  BuildCTRMatrix(train_df,plot=False,repeats=5)\n",
    "#CTRMatrix.to_pickle(\"CTRMatrix.pkl\")\n"
   ]
  },
  {
   "cell_type": "code",
   "execution_count": 129,
   "metadata": {},
   "outputs": [],
   "source": [
    "CTRMatrix.to_csv(\"RandomBidResults.csv\")"
   ]
  },
  {
   "cell_type": "code",
   "execution_count": 130,
   "metadata": {},
   "outputs": [],
   "source": [
    "#CTRMatrix = pd.read_pickle(\"CTRMatrix.pkl\")"
   ]
  },
  {
   "cell_type": "code",
   "execution_count": 131,
   "metadata": {},
   "outputs": [
    {
     "data": {
      "image/png": "[encoded data removed]",
      "text/plain": [
       "<matplotlib.figure.Figure at 0x29900550>"
      ]
     },
     "metadata": {},
     "output_type": "display_data"
    },
    {
     "data": {
      "text/plain": [
       "0"
      ]
     },
     "execution_count": 131,
     "metadata": {},
     "output_type": "execute_result"
    }
   ],
   "source": [
    "plotResults(CTRMatrix)"
   ]
  },
  {
   "cell_type": "code",
   "execution_count": 132,
   "metadata": {},
   "outputs": [
    {
     "name": "stdout",
     "output_type": "stream",
     "text": [
      "Best CTR is: 26.9\n",
      "X: 62 Y: 64\n",
      "X: 63 Y: 63\n",
      "X: 63 Y: 64\n",
      "X: 64 Y: 64\n"
     ]
    }
   ],
   "source": [
    "lowBound, upBound = FindBestBounds(CTRMatrix)  "
   ]
  },
  {
   "cell_type": "markdown",
   "metadata": {},
   "source": [
    "### Evalute on a new data set (validation set)"
   ]
  },
  {
   "cell_type": "code",
   "execution_count": 161,
   "metadata": {},
   "outputs": [],
   "source": [
    "result = EvalRandBid(validation_df,69, 89,6250000,validation_df.shape[0])"
   ]
  },
  {
   "cell_type": "code",
   "execution_count": 162,
   "metadata": {},
   "outputs": [
    {
     "name": "stdout",
     "output_type": "stream",
     "text": [
      "ClickThroughRate 0.04623774359811241\n",
      "clicks 68\n",
      "spend 6249982\n",
      "CostPerMille 42497.80370717909\n",
      "CostPerClick 91911.5\n",
      "impressions 147066\n"
     ]
    }
   ],
   "source": [
    "#constant = result[0]\n",
    "ClickThroughRate = result[0]\n",
    "clicks = result[1]\n",
    "spend = result[2]\n",
    "CostPerMille = result[3]\n",
    "CostPerClick = result[4]\n",
    "impressions = result[5]\n",
    "\n",
    "#print(\"constant\",constant)\n",
    "print(\"ClickThroughRate\",ClickThroughRate)\n",
    "print(\"clicks\",clicks)\n",
    "print(\"spend\",spend)\n",
    "print(\"CostPerMille\",CostPerMille)\n",
    "print(\"CostPerClick\",CostPerClick)\n",
    "print(\"impressions\",impressions)"
   ]
  },
  {
   "cell_type": "code",
   "execution_count": 164,
   "metadata": {},
   "outputs": [
    {
     "name": "stdout",
     "output_type": "stream",
     "text": [
      "Average won: 135.21212121212122\n"
     ]
    }
   ],
   "source": [
    "clicksarray = []\n",
    "totalclicks = 0\n",
    "for n in range(1,200,1):    \n",
    "    result = EvalRandBid(validation_df,69, 89,6250000,validation_df.shape[0])\n",
    "    #constant = result[0]\n",
    "    ClickThroughRate = result[0]\n",
    "    clicks = result[1]\n",
    "    spend = result[2]\n",
    "    CostPerMille = result[3]\n",
    "    CostPerClick = result[4]\n",
    "    impressions = result[5]\n",
    "\n",
    "    #print(\"constant\",constant)\n",
    "    #print(\"clicks\",clicks)\n",
    "    totalclicks+=clicks\n",
    "    clicksarray.append(clicks)"
   ]
  },
  {
   "cell_type": "code",
   "execution_count": 166,
   "metadata": {},
   "outputs": [
    {
     "name": "stdout",
     "output_type": "stream",
     "text": [
      "Average won: 67.26633165829146\n"
     ]
    }
   ],
   "source": [
    "print(\"Average won:\",totalclicks/199)"
   ]
  },
  {
   "cell_type": "code",
   "execution_count": 169,
   "metadata": {},
   "outputs": [
    {
     "data": {
      "text/plain": [
       "2.820317903345725"
      ]
     },
     "execution_count": 169,
     "metadata": {},
     "output_type": "execute_result"
    }
   ],
   "source": [
    "np.std(clicksarray)\n",
    "np.mean(clicksarray)"
   ]
  },
  {
   "cell_type": "code",
   "execution_count": null,
   "metadata": {},
   "outputs": [],
   "source": []
  }
 ],
 "metadata": {
  "kernelspec": {
   "display_name": "Python 3",
   "language": "python",
   "name": "python3"
  },
  "language_info": {
   "codemirror_mode": {
    "name": "ipython",
    "version": 3
   },
   "file_extension": ".py",
   "mimetype": "text/x-python",
   "name": "python",
   "nbconvert_exporter": "python",
   "pygments_lexer": "ipython3",
   "version": "3.6.4"
  }
 },
 "nbformat": 4,
 "nbformat_minor": 2
}
