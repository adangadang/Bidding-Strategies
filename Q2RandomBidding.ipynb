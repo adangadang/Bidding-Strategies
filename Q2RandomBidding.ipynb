{
 "cells": [
  {
   "cell_type": "code",
   "execution_count": 1,
   "metadata": {
    "collapsed": true
   },
   "outputs": [],
   "source": [
    "import pandas as pd\n",
    "import numpy as np\n",
    "import matplotlib.pyplot as plt\n",
    "from random import randint    \n",
    "import seaborn as sns\n",
    "\n",
    "%matplotlib inline"
   ]
  },
  {
   "cell_type": "markdown",
   "metadata": {},
   "source": [
    "# Pull Data"
   ]
  },
  {
   "cell_type": "code",
   "execution_count": 2,
   "metadata": {
    "collapsed": true
   },
   "outputs": [],
   "source": [
    "path = \"C:/Users/Akis-/OneDrive/Masters/Web Economics/Data/\"\n",
    "test_df = pd.read_csv(path+'test.csv')\n",
    "train_df = pd.read_csv(path+'train.csv')\n",
    "validation_df = pd.read_csv(path+'validation.csv')"
   ]
  },
  {
   "cell_type": "code",
   "execution_count": 3,
   "metadata": {},
   "outputs": [
    {
     "data": {
      "text/plain": [
       "303375"
      ]
     },
     "execution_count": 3,
     "metadata": {},
     "output_type": "execute_result"
    }
   ],
   "source": [
    "TotalImpressions = test_df.shape[0]\n",
    "print(\"TotalImpressions:\",TotalImpressions) #create a function for this\n"
   ]
  },
  {
   "cell_type": "code",
   "execution_count": 4,
   "metadata": {},
   "outputs": [
    {
     "name": "stdout",
     "output_type": "stream",
     "text": [
      "Our Budget is: 6250000 Fen\n",
      "To use over 303375 bid opportunities.\n",
      "Budget / Bid Opportunity: 20.601565718994642\n"
     ]
    },
    {
     "ename": "NameError",
     "evalue": "name 'validation_df' is not defined",
     "output_type": "error",
     "traceback": [
      "\u001b[1;31m---------------------------------------------------------------------------\u001b[0m",
      "\u001b[1;31mNameError\u001b[0m                                 Traceback (most recent call last)",
      "\u001b[1;32m<ipython-input-4-4ff6b5d3efc4>\u001b[0m in \u001b[0;36m<module>\u001b[1;34m()\u001b[0m\n\u001b[0;32m      5\u001b[0m \u001b[0mprint\u001b[0m\u001b[1;33m(\u001b[0m\u001b[1;34m\"Budget / Bid Opportunity:\"\u001b[0m\u001b[1;33m,\u001b[0m\u001b[0mBudPerBid\u001b[0m\u001b[1;33m)\u001b[0m\u001b[1;33m\u001b[0m\u001b[0m\n\u001b[0;32m      6\u001b[0m \u001b[1;33m\u001b[0m\u001b[0m\n\u001b[1;32m----> 7\u001b[1;33m \u001b[0mminBid\u001b[0m\u001b[1;33m=\u001b[0m\u001b[0mnp\u001b[0m\u001b[1;33m.\u001b[0m\u001b[0mmin\u001b[0m\u001b[1;33m(\u001b[0m\u001b[0mvalidation_df\u001b[0m\u001b[1;33m[\u001b[0m\u001b[1;34m\"bidprice\"\u001b[0m\u001b[1;33m]\u001b[0m\u001b[1;33m.\u001b[0m\u001b[0mvalues\u001b[0m\u001b[1;33m)\u001b[0m\u001b[1;33m\u001b[0m\u001b[0m\n\u001b[0m\u001b[0;32m      8\u001b[0m \u001b[0mmaxBid\u001b[0m\u001b[1;33m=\u001b[0m\u001b[0mnp\u001b[0m\u001b[1;33m.\u001b[0m\u001b[0mmax\u001b[0m\u001b[1;33m(\u001b[0m\u001b[0mvalidation_df\u001b[0m\u001b[1;33m[\u001b[0m\u001b[1;34m\"bidprice\"\u001b[0m\u001b[1;33m]\u001b[0m\u001b[1;33m.\u001b[0m\u001b[0mvalues\u001b[0m\u001b[1;33m)\u001b[0m\u001b[1;33m\u001b[0m\u001b[0m\n\u001b[0;32m      9\u001b[0m \u001b[0mcustRange\u001b[0m \u001b[1;33m=\u001b[0m \u001b[0mnp\u001b[0m\u001b[1;33m.\u001b[0m\u001b[0marange\u001b[0m\u001b[1;33m(\u001b[0m\u001b[0mminBid\u001b[0m\u001b[1;33m+\u001b[0m\u001b[1;36m1\u001b[0m\u001b[1;33m,\u001b[0m \u001b[0mmaxBid\u001b[0m\u001b[1;33m+\u001b[0m\u001b[1;36m2\u001b[0m\u001b[1;33m,\u001b[0m\u001b[1;36m5\u001b[0m\u001b[1;33m)\u001b[0m \u001b[1;31m# determines the range that bids should be in\u001b[0m\u001b[1;33m\u001b[0m\u001b[0m\n",
      "\u001b[1;31mNameError\u001b[0m: name 'validation_df' is not defined"
     ]
    }
   ],
   "source": [
    "budget=6250*1000\n",
    "print(\"Our Budget is:\",budget, \"Fen\")\n",
    "print(\"To use over\",test_df.shape[0],\"bid opportunities.\")\n",
    "BudPerBid=budget/test_df.shape[0]\n",
    "print(\"Budget / Bid Opportunity:\",BudPerBid)\n",
    "\n",
    "minBid=np.min(train_df[\"payprice\"].values)\n",
    "maxBid=np.max(train_df[\"payprice\"].values)\n",
    "custRange = np.arange(minBid+1, maxBid+2,10) # determines the range that bids should be in"
   ]
  },
  {
   "cell_type": "code",
   "execution_count": null,
   "metadata": {
    "collapsed": true
   },
   "outputs": [],
   "source": [
    "pd.set_option('display.max_columns', None)"
   ]
  },
  {
   "cell_type": "markdown",
   "metadata": {
    "collapsed": true
   },
   "source": [
    "# Functions"
   ]
  },
  {
   "cell_type": "markdown",
   "metadata": {},
   "source": [
    "### Plot Metrics for bound combination for random bidding strategy"
   ]
  },
  {
   "cell_type": "code",
   "execution_count": null,
   "metadata": {
    "collapsed": true
   },
   "outputs": [],
   "source": [
    "def plotResults(Matrix):\n",
    "\n",
    "    ax = sns.heatmap(Matrix, linewidth=0, xticklabels=custRange, yticklabels=custRange[::-1], cmap=\"Greens\") #, annot=True\n",
    "    ax.set(xlabel='lower bound for random bid', ylabel='upper bound for random bid', title=\"Clicks by bounded random bids\")\n",
    "    for label in ax.xaxis.get_ticklabels()[::1]:\n",
    "        label.set_visible(False)\n",
    "    for label in ax.xaxis.get_ticklabels()[::1]:\n",
    "        label.set_visible(True)\n",
    "    for label in ax.yaxis.get_ticklabels()[::1]:\n",
    "        label.set_visible(False)\n",
    "    for label in ax.yaxis.get_ticklabels()[::1]:\n",
    "        label.set_visible(True)\n",
    "    plt.show()\n",
    "    \n",
    "    useless = 0\n",
    "    return useless"
   ]
  },
  {
   "cell_type": "markdown",
   "metadata": {},
   "source": [
    "### Build Matrix containing CTR for various bound combinations"
   ]
  },
  {
   "cell_type": "code",
   "execution_count": null,
   "metadata": {
    "collapsed": true
   },
   "outputs": [],
   "source": [
    "def BuildCTRMatrix(dataframe,plot,repeats):\n",
    "    for n in range(0,repeats,1):\n",
    "        dataSubset = dataframe.sample(frac=0.5, replace=False)\n",
    "        print(n+1,\"/\",repeats,\"...\")\n",
    "        for minimumBid in custRange:\n",
    "            for maximumBid in custRange: #maxBid>minBid?????\n",
    "                if maximumBid>minimumBid:\n",
    "                    ClickThroughRate = EvalRandBid(dataSubset,minimumBid, maximumBid)\n",
    "                    CTRMatrix[minimumBid][maximumBid]=(CTRMatrix[minimumBid][maximumBid]*n+ClickThroughRate)/(n+1)\n",
    "   \n",
    "    return CTRMatrix"
   ]
  },
  {
   "cell_type": "markdown",
   "metadata": {},
   "source": [
    "### Extract best Bounds from Results Matrix"
   ]
  },
  {
   "cell_type": "code",
   "execution_count": null,
   "metadata": {
    "collapsed": true
   },
   "outputs": [],
   "source": [
    "def FindBestBounds(ResultsMatrix):\n",
    "    print(\"Best CTR is:\",ResultsMatrix.values.max())\n",
    "    for x in custRange:\n",
    "        for y in custRange:\n",
    "            if ResultsMatrix[x][y]==ResultsMatrix.values.max():\n",
    "                print(\"X:\",x,\"Y:\",y)\n",
    "                lowerBound=x\n",
    "                upperBound=y\n",
    "    return lowerBound, upperBound"
   ]
  },
  {
   "cell_type": "markdown",
   "metadata": {},
   "source": [
    "### Evaluate a random bid value on a new set"
   ]
  },
  {
   "cell_type": "code",
   "execution_count": null,
   "metadata": {
    "collapsed": true
   },
   "outputs": [],
   "source": [
    "def EvalRandBid(dataframe,lowerBound, upperBound):\n",
    "    \n",
    "    dataframe['ConstBid'] = np.random.randint(lowerBound, upperBound+1, dataframe.shape[0])\n",
    "\n",
    "    trueValues = (dataframe[\"payprice\"]<dataframe['ConstBid'])\n",
    "    impressions = dataframe[trueValues].shape[0]\n",
    "    clicks = np.sum(dataframe[trueValues][\"click\"].values)\n",
    "    ClickThroughRate=(clicks*100)/impressions\n",
    "        \n",
    "    return ClickThroughRate"
   ]
  },
  {
   "cell_type": "markdown",
   "metadata": {},
   "source": [
    "# Main Code"
   ]
  },
  {
   "cell_type": "markdown",
   "metadata": {},
   "source": [
    "### Determine Best Bounds Combination from Train Set"
   ]
  },
  {
   "cell_type": "code",
   "execution_count": null,
   "metadata": {
    "collapsed": true
   },
   "outputs": [],
   "source": [
    "zero_data = np.zeros(shape=(len(custRange),len(custRange)))\n",
    "zero_data[zero_data < 1] = 0.05\n",
    "CTRMatrix=pd.DataFrame(zero_data,index=reversed(custRange), columns=custRange)"
   ]
  },
  {
   "cell_type": "code",
   "execution_count": null,
   "metadata": {
    "collapsed": true
   },
   "outputs": [],
   "source": [
    "CTRMatrix =  BuildCTRMatrix(train_df,plot=False,repeats=15)\n",
    "#CTRMatrix.to_pickle(\"CTRMatrix.pkl\")"
   ]
  },
  {
   "cell_type": "code",
   "execution_count": null,
   "metadata": {
    "collapsed": true
   },
   "outputs": [],
   "source": [
    "#CTRMatrix = pd.read_pickle(\"CTRMatrix.pkl\")"
   ]
  },
  {
   "cell_type": "code",
   "execution_count": null,
   "metadata": {
    "collapsed": true
   },
   "outputs": [],
   "source": [
    "plotResults(CTRMatrix)"
   ]
  },
  {
   "cell_type": "code",
   "execution_count": null,
   "metadata": {
    "collapsed": true
   },
   "outputs": [],
   "source": [
    "lowBound, upBound = FindBestBounds(CTRMatrix)  "
   ]
  },
  {
   "cell_type": "markdown",
   "metadata": {},
   "source": [
    "### Evalute on a new data set (validation set)"
   ]
  },
  {
   "cell_type": "code",
   "execution_count": null,
   "metadata": {
    "collapsed": true
   },
   "outputs": [],
   "source": [
    "CTR = EvalRandBid(validation_df,lowBound, upBound)"
   ]
  },
  {
   "cell_type": "code",
   "execution_count": null,
   "metadata": {
    "collapsed": true
   },
   "outputs": [],
   "source": [
    "print(CTR)"
   ]
  },
  {
   "cell_type": "code",
   "execution_count": null,
   "metadata": {
    "collapsed": true
   },
   "outputs": [],
   "source": []
  }
 ],
 "metadata": {
  "kernelspec": {
   "display_name": "Python 3",
   "language": "python",
   "name": "python3"
  },
  "language_info": {
   "codemirror_mode": {
    "name": "ipython",
    "version": 3
   },
   "file_extension": ".py",
   "mimetype": "text/x-python",
   "name": "python",
   "nbconvert_exporter": "python",
   "pygments_lexer": "ipython3",
   "version": "3.6.4"
  }
 },
 "nbformat": 4,
 "nbformat_minor": 2
}
