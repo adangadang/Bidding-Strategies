{
 "cells": [
  {
   "cell_type": "code",
   "execution_count": 30,
   "metadata": {},
   "outputs": [],
   "source": [
    "from data_loader import DataLoader\n",
    "import pandas as pd\n",
    "import numpy as np"
   ]
  },
  {
   "cell_type": "code",
   "execution_count": 45,
   "metadata": {},
   "outputs": [
    {
     "name": "stderr",
     "output_type": "stream",
     "text": [
      "2018-02-26 13:35:07,337 : INFO : Loading C:/Users/Akis-/OneDrive/Masters/Web Economics/Data/validation.csv\n",
      "2018-02-26 13:35:10,579 : INFO : file  loaded\n"
     ]
    }
   ],
   "source": [
    "dl= DataLoader()\n",
    "path = \"C:/Users/Akis-/OneDrive/Masters/Web Economics/Data/\"\n",
    "filename = \"validation.csv\"\n",
    "dl.load_file(path,filename)\n",
    "df = dl.get_df_copy()"
   ]
  },
  {
   "cell_type": "code",
   "execution_count": 46,
   "metadata": {},
   "outputs": [
    {
     "name": "stdout",
     "output_type": "stream",
     "text": [
      "   click                                     bidid  bidTeam1  bidTeam2  \\\n",
      "0      0  bbcb813b6166538503d8b33a5602d7d72f6019dc       297       297   \n",
      "1      0  5a07316c49477cb5d9b4d5aa39c27d6c3be7f92d       250       232   \n",
      "2      0  f6ece71dae81d6b16bfb24ad6dd5611472d4c673       259       283   \n",
      "3      0  b4d5c57c9b38ff5a12954fa01e11931b4e6bfbbb       262       298   \n",
      "4      0  0899bf144249458ea9c89188473694bf44c7ca15       243       243   \n",
      "5      0  f4c6a9a3b1db6da035c7e2a36d4f5e389095beca       240       285   \n",
      "6      0  786a2940f225482dc04d455dc7a7fea436b02e03       245       291   \n",
      "7      0  17ada861c6ed0616f88312ba0d3d76c0f95b4940       237       274   \n",
      "8      0  6abd8ef3eb678b1afe67dc0cff0aa58413fbf29a       294       272   \n",
      "9      0  442ffca310e325abc255e8ff97d9812051336acd       247       283   \n",
      "\n",
      "   bidTeam3  \n",
      "0       253  \n",
      "1       252  \n",
      "2       253  \n",
      "3       228  \n",
      "4       267  \n",
      "5       277  \n",
      "6       269  \n",
      "7       227  \n",
      "8       280  \n",
      "9       289  \n"
     ]
    },
    {
     "name": "stderr",
     "output_type": "stream",
     "text": [
      "c:\\users\\akis-\\appdata\\local\\programs\\python\\python36-32\\lib\\site-packages\\ipykernel_launcher.py:3: SettingWithCopyWarning: \n",
      "A value is trying to be set on a copy of a slice from a DataFrame.\n",
      "Try using .loc[row_indexer,col_indexer] = value instead\n",
      "\n",
      "See the caveats in the documentation: http://pandas.pydata.org/pandas-docs/stable/indexing.html#indexing-view-versus-copy\n",
      "  This is separate from the ipykernel package so we can avoid doing imports until\n",
      "c:\\users\\akis-\\appdata\\local\\programs\\python\\python36-32\\lib\\site-packages\\ipykernel_launcher.py:4: SettingWithCopyWarning: \n",
      "A value is trying to be set on a copy of a slice from a DataFrame.\n",
      "Try using .loc[row_indexer,col_indexer] = value instead\n",
      "\n",
      "See the caveats in the documentation: http://pandas.pydata.org/pandas-docs/stable/indexing.html#indexing-view-versus-copy\n",
      "  after removing the cwd from sys.path.\n",
      "c:\\users\\akis-\\appdata\\local\\programs\\python\\python36-32\\lib\\site-packages\\ipykernel_launcher.py:5: SettingWithCopyWarning: \n",
      "A value is trying to be set on a copy of a slice from a DataFrame.\n",
      "Try using .loc[row_indexer,col_indexer] = value instead\n",
      "\n",
      "See the caveats in the documentation: http://pandas.pydata.org/pandas-docs/stable/indexing.html#indexing-view-versus-copy\n",
      "  \"\"\"\n"
     ]
    }
   ],
   "source": [
    "#print(df.head(5))\n",
    "data = df[['click','bidid']]\n",
    "data['bidTeam1']=np.random.randint(227, 301, data.shape[0])\n",
    "data['bidTeam2']=np.random.randint(227, 301, data.shape[0])\n",
    "data['bidTeam3']=np.random.randint(227, 301, data.shape[0])\n",
    "print(data.head(10))"
   ]
  },
  {
   "cell_type": "code",
   "execution_count": null,
   "metadata": {},
   "outputs": [],
   "source": []
  }
 ],
 "metadata": {
  "kernelspec": {
   "display_name": "Python 3",
   "language": "python",
   "name": "python3"
  },
  "language_info": {
   "codemirror_mode": {
    "name": "ipython",
    "version": 3
   },
   "file_extension": ".py",
   "mimetype": "text/x-python",
   "name": "python",
   "nbconvert_exporter": "python",
   "pygments_lexer": "ipython3",
   "version": "3.6.4"
  }
 },
 "nbformat": 4,
 "nbformat_minor": 2
}
