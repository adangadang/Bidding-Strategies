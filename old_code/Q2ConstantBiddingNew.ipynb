{
 "cells": [
  {
   "cell_type": "code",
   "execution_count": 56,
   "metadata": {},
   "outputs": [],
   "source": [
    "import pandas as pd\n",
    "import numpy as np\n",
    "import matplotlib.pyplot as plt\n",
    "from random import randint\n",
    "import seaborn as sns\n",
    "import timeit\n",
    "\n",
    "%matplotlib inline"
   ]
  },
  {
   "cell_type": "markdown",
   "metadata": {},
   "source": [
    "# Pull Data"
   ]
  },
  {
   "cell_type": "code",
   "execution_count": 57,
   "metadata": {},
   "outputs": [],
   "source": [
    "path = \"C:/Users/Akis-/OneDrive/Masters/Web Economics/Data/\"\n",
    "#path=\"\"\n",
    "#test_df = pd.read_csv(path+'test.csv')\n",
    "#train_df = pd.read_csv(path+'train.csv')\n",
    "train_df = pd.read_csv(path+'validation.csv')"
   ]
  },
  {
   "cell_type": "code",
   "execution_count": 58,
   "metadata": {},
   "outputs": [
    {
     "data": {
      "text/html": [
       "<div>\n",
       "<style scoped>\n",
       "    .dataframe tbody tr th:only-of-type {\n",
       "        vertical-align: middle;\n",
       "    }\n",
       "\n",
       "    .dataframe tbody tr th {\n",
       "        vertical-align: top;\n",
       "    }\n",
       "\n",
       "    .dataframe thead th {\n",
       "        text-align: right;\n",
       "    }\n",
       "</style>\n",
       "<table border=\"1\" class=\"dataframe\">\n",
       "  <thead>\n",
       "    <tr style=\"text-align: right;\">\n",
       "      <th></th>\n",
       "      <th>click</th>\n",
       "      <th>weekday</th>\n",
       "      <th>hour</th>\n",
       "      <th>bidid</th>\n",
       "      <th>userid</th>\n",
       "      <th>useragent</th>\n",
       "      <th>IP</th>\n",
       "      <th>region</th>\n",
       "      <th>city</th>\n",
       "      <th>adexchange</th>\n",
       "      <th>domain</th>\n",
       "      <th>url</th>\n",
       "      <th>urlid</th>\n",
       "      <th>slotid</th>\n",
       "      <th>slotwidth</th>\n",
       "      <th>slotheight</th>\n",
       "      <th>slotvisibility</th>\n",
       "      <th>slotformat</th>\n",
       "      <th>slotprice</th>\n",
       "      <th>creative</th>\n",
       "      <th>bidprice</th>\n",
       "      <th>payprice</th>\n",
       "      <th>keypage</th>\n",
       "      <th>advertiser</th>\n",
       "      <th>usertag</th>\n",
       "    </tr>\n",
       "  </thead>\n",
       "  <tbody>\n",
       "    <tr>\n",
       "      <th>0</th>\n",
       "      <td>0</td>\n",
       "      <td>4</td>\n",
       "      <td>20</td>\n",
       "      <td>bbcb813b6166538503d8b33a5602d7d72f6019dc</td>\n",
       "      <td>663169f66491c98c69f1f94a5c48fa34aa9fe06f</td>\n",
       "      <td>windows_ie</td>\n",
       "      <td>211.144.203.*</td>\n",
       "      <td>79</td>\n",
       "      <td>79</td>\n",
       "      <td>1.0</td>\n",
       "      <td>trqRTvFRLpscFU</td>\n",
       "      <td>5ede68cc7542a34777fb8a1574856b6f</td>\n",
       "      <td>NaN</td>\n",
       "      <td>mm_10027070_2459574_9659312</td>\n",
       "      <td>160</td>\n",
       "      <td>600</td>\n",
       "      <td>2</td>\n",
       "      <td>1</td>\n",
       "      <td>0</td>\n",
       "      <td>cb7c76e7784031272e37af8e7e9b062c</td>\n",
       "      <td>300</td>\n",
       "      <td>23</td>\n",
       "      <td>bebefa5efe83beee17a3d245e7c5085b</td>\n",
       "      <td>1458</td>\n",
       "      <td>13866,10111</td>\n",
       "    </tr>\n",
       "    <tr>\n",
       "      <th>1</th>\n",
       "      <td>0</td>\n",
       "      <td>1</td>\n",
       "      <td>21</td>\n",
       "      <td>5a07316c49477cb5d9b4d5aa39c27d6c3be7f92d</td>\n",
       "      <td>a23f0cfab6592c137f796e68fa752fceba08bb1b</td>\n",
       "      <td>windows_chrome</td>\n",
       "      <td>58.247.250.*</td>\n",
       "      <td>79</td>\n",
       "      <td>79</td>\n",
       "      <td>1.0</td>\n",
       "      <td>trqRTu1YP5scFsf</td>\n",
       "      <td>cff326604db401e7d4f895fd747f7e91</td>\n",
       "      <td>NaN</td>\n",
       "      <td>mm_10075660_3500949_11453278</td>\n",
       "      <td>950</td>\n",
       "      <td>90</td>\n",
       "      <td>0</td>\n",
       "      <td>1</td>\n",
       "      <td>0</td>\n",
       "      <td>c938195f9e404b4f38c7e71bf50263e5</td>\n",
       "      <td>238</td>\n",
       "      <td>75</td>\n",
       "      <td>a3becb967c015e9acb5e72f22b100ef8</td>\n",
       "      <td>3476</td>\n",
       "      <td>10075,10057,10024,10052,10083,10063,10006,10110</td>\n",
       "    </tr>\n",
       "  </tbody>\n",
       "</table>\n",
       "</div>"
      ],
      "text/plain": [
       "   click  weekday  hour                                     bidid  \\\n",
       "0      0        4    20  bbcb813b6166538503d8b33a5602d7d72f6019dc   \n",
       "1      0        1    21  5a07316c49477cb5d9b4d5aa39c27d6c3be7f92d   \n",
       "\n",
       "                                     userid       useragent             IP  \\\n",
       "0  663169f66491c98c69f1f94a5c48fa34aa9fe06f      windows_ie  211.144.203.*   \n",
       "1  a23f0cfab6592c137f796e68fa752fceba08bb1b  windows_chrome   58.247.250.*   \n",
       "\n",
       "   region  city  adexchange           domain  \\\n",
       "0      79    79         1.0   trqRTvFRLpscFU   \n",
       "1      79    79         1.0  trqRTu1YP5scFsf   \n",
       "\n",
       "                                url  urlid                        slotid  \\\n",
       "0  5ede68cc7542a34777fb8a1574856b6f    NaN   mm_10027070_2459574_9659312   \n",
       "1  cff326604db401e7d4f895fd747f7e91    NaN  mm_10075660_3500949_11453278   \n",
       "\n",
       "   slotwidth  slotheight slotvisibility slotformat  slotprice  \\\n",
       "0        160         600              2          1          0   \n",
       "1        950          90              0          1          0   \n",
       "\n",
       "                           creative  bidprice  payprice  \\\n",
       "0  cb7c76e7784031272e37af8e7e9b062c       300        23   \n",
       "1  c938195f9e404b4f38c7e71bf50263e5       238        75   \n",
       "\n",
       "                            keypage  advertiser  \\\n",
       "0  bebefa5efe83beee17a3d245e7c5085b        1458   \n",
       "1  a3becb967c015e9acb5e72f22b100ef8        3476   \n",
       "\n",
       "                                           usertag  \n",
       "0                                      13866,10111  \n",
       "1  10075,10057,10024,10052,10083,10063,10006,10110  "
      ]
     },
     "execution_count": 58,
     "metadata": {},
     "output_type": "execute_result"
    }
   ],
   "source": [
    "validation_df.head(2)"
   ]
  },
  {
   "cell_type": "code",
   "execution_count": 59,
   "metadata": {},
   "outputs": [
    {
     "name": "stdout",
     "output_type": "stream",
     "text": [
      "79888.53430187739\n",
      "0.0006646376573167722\n",
      "53.09692828487039\n"
     ]
    }
   ],
   "source": [
    "validation_df['payprice'].mean()\n",
    "budget=6250*1000\n",
    "print(budget/validation_df['payprice'].mean())\n",
    "print(validation_df['click'].sum()/validation_df.shape[0])\n",
    "print((validation_df['click'].sum()/validation_df.shape[0])*(budget/validation_df['payprice'].mean()))"
   ]
  },
  {
   "cell_type": "code",
   "execution_count": 60,
   "metadata": {
    "scrolled": true
   },
   "outputs": [
    {
     "name": "stdout",
     "output_type": "stream",
     "text": [
      "Our Budget is: 6250000 Fen\n",
      "To use over 303925 bid opportunities.\n",
      "Budget / Bid Opportunity: 20.564283951632802\n"
     ]
    }
   ],
   "source": [
    "budget=6250*1000\n",
    "print(\"Our Budget is:\",budget, \"Fen\")\n",
    "print(\"To use over\",validation_df.shape[0],\"bid opportunities.\")\n",
    "BudPerBid=budget/validation_df.shape[0]\n",
    "print(\"Budget / Bid Opportunity:\",BudPerBid)\n",
    "\n",
    "minBid=1 #np.min(train_df[\"payprice\"].values)-10\n",
    "maxBid=int(np.max(train_df[\"payprice\"].values)*1.1)\n",
    "custRange = np.arange(minBid+1, maxBid+2,1) # determines the range that bids should be in\n",
    "custRange = np.arange(70, 90,1)\n",
    "#print(custRange.shape[0])\n",
    "\n",
    "#minBid=30 #used for zoom to find exact best value\n",
    "#maxBid=50\n",
    "#custRange = np.arange(minBid, maxBid,1)"
   ]
  },
  {
   "cell_type": "code",
   "execution_count": 61,
   "metadata": {},
   "outputs": [
    {
     "data": {
      "text/plain": [
       "'\\nImpressions = test_df.shape[0]\\nImpressionsPerTeam = Impressions/30\\nAverageSpendPerImpression = 6250000/ImpressionsPerTeam\\nprint(\"Total number of auctions:\", Impressions)\\nprint(\"Average Number Of Impressions per team:\",ImpressionsPerTeam)\\nprint(\"Average budget per impression\",AverageSpendPerImpression)\\n'"
      ]
     },
     "execution_count": 61,
     "metadata": {},
     "output_type": "execute_result"
    }
   ],
   "source": [
    "'''\n",
    "Impressions = test_df.shape[0]\n",
    "ImpressionsPerTeam = Impressions/30\n",
    "AverageSpendPerImpression = 6250000/ImpressionsPerTeam\n",
    "print(\"Total number of auctions:\", Impressions)\n",
    "print(\"Average Number Of Impressions per team:\",ImpressionsPerTeam)\n",
    "print(\"Average budget per impression\",AverageSpendPerImpression)\n",
    "'''"
   ]
  },
  {
   "cell_type": "code",
   "execution_count": 62,
   "metadata": {},
   "outputs": [
    {
     "data": {
      "text/plain": [
       "'meanPayPrice = train_df[\"bidprice\"].mean()/1000\\nImpressions = test_df.shape[0]\\ntotalSpend = Impressions * meanPayPrice\\nspendPerTeam = totalSpend/30 #30 is number of teams\\npercOfBudget = int(spendPerTeam*100/6250)\\nsuggestedBudget = int(spendPerTeam*0.80/100)*100 #75 percent of their probable spend, to make sure everyone can reach their budget limit\\nprint(\"Assuming that by training our models on the train set provided, our payprices will be similar to those of the train set:\")\\nprint(\"Pay price average in train set:\",meanPayPrice)\\nprint(\"Total number of auctions to be held in the competition:\", Impressions)\\nprint(\"These 2 figures tell us that a rough total of\",int(totalSpend),\" will be paid by all teams combined.\")\\nprint(\"Average spend of each team:\", int(spendPerTeam),\"which equals\",percOfBudget,\"% of their budget.\")\\nprint(\"Thus a budget of roughly 80% of their likely spend is suggested:\",suggestedBudget,\"CNY Fen\")\\n'"
      ]
     },
     "execution_count": 62,
     "metadata": {},
     "output_type": "execute_result"
    }
   ],
   "source": [
    "'''meanPayPrice = train_df[\"bidprice\"].mean()/1000\n",
    "Impressions = test_df.shape[0]\n",
    "totalSpend = Impressions * meanPayPrice\n",
    "spendPerTeam = totalSpend/30 #30 is number of teams\n",
    "percOfBudget = int(spendPerTeam*100/6250)\n",
    "suggestedBudget = int(spendPerTeam*0.80/100)*100 #75 percent of their probable spend, to make sure everyone can reach their budget limit\n",
    "print(\"Assuming that by training our models on the train set provided, our payprices will be similar to those of the train set:\")\n",
    "print(\"Pay price average in train set:\",meanPayPrice)\n",
    "print(\"Total number of auctions to be held in the competition:\", Impressions)\n",
    "print(\"These 2 figures tell us that a rough total of\",int(totalSpend),\" will be paid by all teams combined.\")\n",
    "print(\"Average spend of each team:\", int(spendPerTeam),\"which equals\",percOfBudget,\"% of their budget.\")\n",
    "print(\"Thus a budget of roughly 80% of their likely spend is suggested:\",suggestedBudget,\"CNY Fen\")\n",
    "'''"
   ]
  },
  {
   "cell_type": "code",
   "execution_count": 63,
   "metadata": {},
   "outputs": [],
   "source": [
    "pd.set_option('display.max_columns', None)"
   ]
  },
  {
   "cell_type": "markdown",
   "metadata": {
    "collapsed": true
   },
   "source": [
    "# Functions"
   ]
  },
  {
   "cell_type": "markdown",
   "metadata": {},
   "source": [
    "### Plot Metrics by Constant Bidding Rate"
   ]
  },
  {
   "cell_type": "code",
   "execution_count": 64,
   "metadata": {},
   "outputs": [],
   "source": [
    "def plotResults(resultsDataFrame,customrange):\n",
    "    \n",
    "    metrics = [resultsDataFrame['ConstValue'],resultsDataFrame['CTR'], resultsDataFrame['Clicks'], resultsDataFrame['Spend'], resultsDataFrame['CPM'], resultsDataFrame['CPC'], resultsDataFrame['Impressions']]\n",
    "    metricNames = ['ConstValue','CTR','Clicks','Spend','CostPerMille','CostPerClick','Impressions']\n",
    "\n",
    "    f, axarr = plt.subplots(len(metrics), sharex=True, figsize=(8, 14))\n",
    "    i=0\n",
    "    for metric in metrics:\n",
    "        axarr[i].plot(customrange, metric)\n",
    "        axarr[i].set_title(metricNames[i])\n",
    "        #axarr[i].axvline(x=228,color='red')\n",
    "        #axarr[i].axvline(x=278,color='red')\n",
    "        i+=1\n",
    "\n",
    "    axarr[i-1].set(xlabel=\"Constant Bid Value\")\n",
    "\n",
    "    # Bring subplots close to each other.\n",
    "    f.subplots_adjust(wspace=0.3)\n",
    "    \n",
    "    \n",
    "    useless = 0\n",
    "    return useless"
   ]
  },
  {
   "cell_type": "markdown",
   "metadata": {},
   "source": [
    "### Function to find best constant bidding value for a dataset"
   ]
  },
  {
   "cell_type": "code",
   "execution_count": 65,
   "metadata": {},
   "outputs": [],
   "source": [
    "# dataframe pandas:                  data to find best value for\n",
    "# metric string:                     metric that needs minimsing or maximising\n",
    "# MaxMin \"maximise\"/\"minimise\":      Minimse or Maximise the metric\n",
    "# minSpendPercentage [0,1]:          Minimum % of Budget we want to use\n",
    "# plot boolean:                      plot results?\n",
    "\n",
    "def FindConstant(dataframe,metric,MaxMin,searchrange,plot):\n",
    "    \n",
    "    #minSpend=minSpendPercentage*dataframe.shape[0]*BudPerBid*3\n",
    "    \n",
    "    resultsDF = pd.DataFrame(columns=['ConstValue','CTR', 'Clicks', 'Spend', 'CPM', 'CPC', 'Impressions'])\n",
    "\n",
    "    cRange=searchrange.copy(True)\n",
    "    i=1\n",
    "    for ConstantBid in cRange: \n",
    "        print(\"Processing\",i,\"/\",cRange.shape[0],\"...\")\n",
    "        resultsDF.loc[len(resultsDF)] = EvalConstBid(dataframe,ConstantBid,6250000,validation_df.shape[0])\n",
    "        i+=1\n",
    "    #print(resultsDF)\n",
    "    if plot:\n",
    "        plotResults(resultsDF,cRange)\n",
    "    \n",
    "    if MaxMin == \"maximise\":\n",
    "        #print(\"Maximisiiiiiing \\n\")\n",
    "        mIndex = resultsDF[metric].idxmax(axis=1, skipna=True).copy(True)\n",
    "        #print(\"mIndex:\",mIndex)\n",
    "    elif MaxMin == \"minimise\":\n",
    "        mIndex = resultsDF[metric].idxmin(axis=1, skipna=True).copy(True)\n",
    "    else:\n",
    "        print(\"Maximise or minimise?\")\n",
    "    \n",
    "    constant = int(resultsDF['ConstValue'][mIndex])\n",
    "    #print(\"constant:\",constant)\n",
    "    #print(resultsDF)\n",
    "    \n",
    "    return constant"
   ]
  },
  {
   "cell_type": "markdown",
   "metadata": {},
   "source": [
    "### Evaluate a constant bid value on a new set"
   ]
  },
  {
   "cell_type": "code",
   "execution_count": 66,
   "metadata": {},
   "outputs": [],
   "source": [
    "def EvalConstBid(dataframe,constant,budget,size):\n",
    "    \n",
    "    AdjustedBudget=(budget/size)*dataframe.shape[0]\n",
    "    #print(\"AdjustedBudget is:\",AdjustedBudget)\n",
    "    tempData=dataframe.copy(True)\n",
    "    tempData['ConstBid']=constant\n",
    "\n",
    "    tempData['trueValues'] = np.where(tempData[\"payprice\"]<tempData['ConstBid'],1,0)\n",
    "    tempData['ModelPays'] = tempData['trueValues']*tempData['payprice']\n",
    "    tempData['cumsum'] = tempData['ModelPays'].cumsum()\n",
    "    lastRowToInclude = np.argmax(tempData['cumsum'].as_matrix()>AdjustedBudget)\n",
    "    if lastRowToInclude==0:\n",
    "        lastRowToInclude=tempData.shape[0]\n",
    "    #print(\"lastRowToInclude\",lastRowToInclude)\n",
    "    \n",
    "    shortData = tempData.head(lastRowToInclude).copy(True)\n",
    "    trueValues = (0<shortData['ModelPays'])\n",
    "    impressions = shortData[trueValues].shape[0]\n",
    "    clicks = np.sum(shortData[trueValues][\"click\"].values)\n",
    "    spend = np.sum(shortData[trueValues][\"payprice\"].values)\n",
    "    CostPerClick = spend/clicks\n",
    "    CostPerMille = spend*1000/(impressions)\n",
    "    ClickThroughRate=(clicks*100)/impressions\n",
    "    #print(constant, ClickThroughRate, clicks, spend, CostPerMille, CostPerClick, impressions)\n",
    "    return [constant, ClickThroughRate, clicks, spend, CostPerMille, CostPerClick, impressions]\n",
    "\n",
    "\n",
    "    #impressions = shortData.loc[shortData['ModelPays'] > 0].sum()\n",
    "    #clicks = shortData.loc[shortData['ModelPays'] > 0 , 'click'].sum()\n",
    "    #print(\"clicks:\",clicks)"
   ]
  },
  {
   "cell_type": "code",
   "execution_count": 67,
   "metadata": {},
   "outputs": [],
   "source": [
    "#dataa = EvalConstBid(train_df,275,6250000,validation_df.shape[0])\n",
    "#print(dataa)"
   ]
  },
  {
   "cell_type": "markdown",
   "metadata": {},
   "source": [
    "### Bootstrap to combine above two functions"
   ]
  },
  {
   "cell_type": "code",
   "execution_count": 68,
   "metadata": {},
   "outputs": [],
   "source": [
    "def Bootstrap(trainDF,searchrange,repeats):\n",
    "    BestBids=[]\n",
    "    for n in range(1,repeats+1,1):\n",
    "        print(n,\"/\",repeats,\"...\")\n",
    "        #randomly assign 75% of data to dataSubset\n",
    "        dataSubset = trainDF.sample(frac=0.75, replace=False).copy(True)\n",
    "\n",
    "        constant = FindConstant(dataSubset,'Clicks','maximise',searchrange,plot=False)\n",
    "\n",
    "        #CTR = EvalConstBid(dataSubset,constant)[1]\n",
    "        #print(\"Constant value\" ,constant, \"gives CTR of:\",CTR)\n",
    "        BestBids.append(constant)\n",
    "    \n",
    "    return BestBids"
   ]
  },
  {
   "cell_type": "markdown",
   "metadata": {},
   "source": [
    "### Evalute on a new data set (validation set)"
   ]
  },
  {
   "cell_type": "markdown",
   "metadata": {},
   "source": [
    "# Main Code"
   ]
  },
  {
   "cell_type": "code",
   "execution_count": 69,
   "metadata": {},
   "outputs": [],
   "source": [
    "dataSubset = train_df.sample(frac=1, replace=False).copy(True)"
   ]
  },
  {
   "cell_type": "code",
   "execution_count": 70,
   "metadata": {},
   "outputs": [
    {
     "name": "stderr",
     "output_type": "stream",
     "text": [
      "c:\\users\\akis-\\appdata\\local\\programs\\python\\python36-32\\lib\\site-packages\\ipykernel_launcher.py:13: DeprecationWarning: Non-string object detected for the array ordering. Please pass in 'C', 'F', 'A', or 'K' instead\n",
      "  del sys.path[0]\n"
     ]
    },
    {
     "name": "stdout",
     "output_type": "stream",
     "text": [
      "Processing 1 / 20 ...\n",
      "Processing 2 / 20 ...\n",
      "Processing 3 / 20 ...\n",
      "Processing 4 / 20 ...\n",
      "Processing 5 / 20 ...\n",
      "Processing 6 / 20 ...\n",
      "Processing 7 / 20 ...\n",
      "Processing 8 / 20 ...\n",
      "Processing 9 / 20 ...\n",
      "Processing 10 / 20 ...\n",
      "Processing 11 / 20 ...\n",
      "Processing 12 / 20 ...\n",
      "Processing 13 / 20 ...\n",
      "Processing 14 / 20 ...\n",
      "Processing 15 / 20 ...\n",
      "Processing 16 / 20 ...\n",
      "Processing 17 / 20 ...\n",
      "Processing 18 / 20 ...\n",
      "Processing 19 / 20 ...\n",
      "Processing 20 / 20 ...\n"
     ]
    },
    {
     "name": "stderr",
     "output_type": "stream",
     "text": [
      "c:\\users\\akis-\\appdata\\local\\programs\\python\\python36-32\\lib\\site-packages\\ipykernel_launcher.py:25: DeprecationWarning: Non-string object detected for the array ordering. Please pass in 'C', 'F', 'A', or 'K' instead\n"
     ]
    },
    {
     "data": {
      "text/plain": [
       "78"
      ]
     },
     "execution_count": 70,
     "metadata": {},
     "output_type": "execute_result"
    },
    {
     "data": {
      "image/png": "[encoded data removed]",
      "text/plain": [
       "<matplotlib.figure.Figure at 0x3400c7d0>"
      ]
     },
     "metadata": {},
     "output_type": "display_data"
    }
   ],
   "source": [
    "FindConstant(dataSubset,'Clicks','maximise',custRange,plot=True)"
   ]
  },
  {
   "cell_type": "code",
   "execution_count": null,
   "metadata": {},
   "outputs": [],
   "source": [
    "minBidZoom=70 #used for zoom to find exact best value\n",
    "maxBidZoom=85\n",
    "custRangeZoom = np.arange(minBidZoom, maxBidZoom,1)"
   ]
  },
  {
   "cell_type": "code",
   "execution_count": null,
   "metadata": {},
   "outputs": [],
   "source": [
    "dataSubset = train_df.sample(frac=0.70, replace=False).copy(True)"
   ]
  },
  {
   "cell_type": "code",
   "execution_count": null,
   "metadata": {},
   "outputs": [],
   "source": [
    "FindConstant(dataSubset,'Clicks','maximise',custRangeZoom,plot=True)"
   ]
  },
  {
   "cell_type": "code",
   "execution_count": null,
   "metadata": {},
   "outputs": [],
   "source": [
    "#dataSubset = train_df.sample(frac=0.70, replace=False)"
   ]
  },
  {
   "cell_type": "code",
   "execution_count": null,
   "metadata": {},
   "outputs": [],
   "source": [
    "#FindConstant(dataSubset,'Clicks','maximise',custRangeZoom,plot=True)"
   ]
  },
  {
   "cell_type": "markdown",
   "metadata": {},
   "source": [
    "This looks right when comparing to the graph below. We can see that the green graph is higher than the red for higher bid values. Thus the CTR will continue to increase the higher the bid constant."
   ]
  },
  {
   "cell_type": "code",
   "execution_count": null,
   "metadata": {},
   "outputs": [],
   "source": [
    "plt.figure(figsize = (12,6))\n",
    "\n",
    "\n",
    "ax = plt.subplot(3,1,2)\n",
    "sns.distplot(train_df.loc[train_df[\"click\"] == 1, \"payprice\"], bins = 40, kde = False, norm_hist = True, color = \"green\")\n",
    "ax = plt.subplot(3,1,2)\n",
    "sns.distplot(train_df.loc[train_df[\"click\"] == 0, \"payprice\"], bins = 40, kde = False, norm_hist = True, color = \"red\")\n",
    "\n",
    "#ax = plt.subplot(3,1,3)\n",
    "#sns.distplot(train.loc[train[\"click\"] == 1, \"BidPayDifference\"], bins = 40, kde = False, norm_hist = True, color = \"green\")\n",
    "#ax = plt.subplot(3,1,3)\n",
    "#sns.distplot(train.loc[train[\"click\"] == 0, \"BidPayDifference\"], bins = 40, kde = False, norm_hist = True, color = \"red\")\n",
    "\n",
    "plt.tight_layout()"
   ]
  },
  {
   "cell_type": "markdown",
   "metadata": {},
   "source": [
    "### Bootstrap to find best constant bidding value on train set"
   ]
  },
  {
   "cell_type": "code",
   "execution_count": null,
   "metadata": {},
   "outputs": [],
   "source": [
    "\n",
    "start = timeit.timeit()\n",
    "\n",
    "\n",
    "BestBidValues = Bootstrap(train_df,custRangeZoom,repeats=20)\n",
    "counts = np.bincount(BestBidValues)\n",
    "BestBidValue = np.argmax(counts)\n",
    "\n",
    "end = timeit.timeit()\n",
    "print(\"Time elapsed:\",end - start)"
   ]
  },
  {
   "cell_type": "code",
   "execution_count": null,
   "metadata": {},
   "outputs": [],
   "source": [
    "print(\"BestBids:\",BestBidValues)\n",
    "opt = int(sum(BestBidValues)/len(BestBidValues))\n",
    "print(\"Optimal:\",opt)\n",
    "print(\"counts:\",counts)\n",
    "print(\"BestBid\",BestBidValue)"
   ]
  },
  {
   "cell_type": "markdown",
   "metadata": {},
   "source": [
    "### Evaluate Strategy on Validation Set"
   ]
  },
  {
   "cell_type": "code",
   "execution_count": 71,
   "metadata": {},
   "outputs": [],
   "source": [
    "BestBid = 80 #use this to save run time\n",
    "result = EvalConstBid(validation_df,BestBid,6250000,validation_df.shape[0])"
   ]
  },
  {
   "cell_type": "code",
   "execution_count": 72,
   "metadata": {},
   "outputs": [
    {
     "name": "stdout",
     "output_type": "stream",
     "text": [
      "Constant Bidding Value:  80\n",
      "CTR:  <class 'list'>\n"
     ]
    }
   ],
   "source": [
    "print(\"Constant Bidding Value: \",BestBid)\n",
    "print(\"CTR: \",type(result))"
   ]
  },
  {
   "cell_type": "code",
   "execution_count": 73,
   "metadata": {},
   "outputs": [
    {
     "name": "stdout",
     "output_type": "stream",
     "text": [
      "constant 80\n",
      "ClickThroughRate 0.04662100550539227\n",
      "clicks 68\n",
      "spend 6249957\n",
      "CostPerMille 42849.89407433308\n",
      "CostPerClick 91911.13235294117\n",
      "impressions 145857\n"
     ]
    }
   ],
   "source": [
    "constant = result[0]\n",
    "ClickThroughRate = result[1]\n",
    "clicks = result[2]\n",
    "spend = result[3]\n",
    "CostPerMille = result[4]\n",
    "CostPerClick = result[5]\n",
    "impressions = result[6]\n",
    "\n",
    "print(\"constant\",constant)\n",
    "print(\"ClickThroughRate\",ClickThroughRate)\n",
    "print(\"clicks\",clicks)\n",
    "print(\"spend\",spend)\n",
    "print(\"CostPerMille\",CostPerMille)\n",
    "print(\"CostPerClick\",CostPerClick)\n",
    "print(\"impressions\",impressions)"
   ]
  },
  {
   "cell_type": "markdown",
   "metadata": {},
   "source": [
    "Compare this result to \"Q2TargetResults.ipynb\" to see that the model obtained is indeed the best constant bidding strategy."
   ]
  },
  {
   "cell_type": "code",
   "execution_count": null,
   "metadata": {},
   "outputs": [],
   "source": []
  }
 ],
 "metadata": {
  "kernelspec": {
   "display_name": "Python 3",
   "language": "python",
   "name": "python3"
  },
  "language_info": {
   "codemirror_mode": {
    "name": "ipython",
    "version": 3
   },
   "file_extension": ".py",
   "mimetype": "text/x-python",
   "name": "python",
   "nbconvert_exporter": "python",
   "pygments_lexer": "ipython3",
   "version": "3.6.4"
  }
 },
 "nbformat": 4,
 "nbformat_minor": 2
}
