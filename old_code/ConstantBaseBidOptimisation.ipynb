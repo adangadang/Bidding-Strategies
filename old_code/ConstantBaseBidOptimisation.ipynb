{
 "cells": [
  {
   "cell_type": "markdown",
   "metadata": {},
   "source": [
    "# Evaluate On Evaluation Set"
   ]
  },
  {
   "cell_type": "markdown",
   "metadata": {},
   "source": [
    "## Summary"
   ]
  },
  {
   "cell_type": "markdown",
   "metadata": {},
   "source": [
    "This notebook will do following steps:\n",
    " -  Pull validation data\n",
    " -  Load CTR predictions from CSV\n",
    " -  Load BaseBid Predictions for CSV\n",
    " -  Combine above using a formula\n",
    " -  Summarise Results"
   ]
  },
  {
   "cell_type": "markdown",
   "metadata": {},
   "source": [
    "# Preparation"
   ]
  },
  {
   "cell_type": "code",
   "execution_count": 1,
   "metadata": {
    "collapsed": true
   },
   "outputs": [],
   "source": [
    "import pandas as pd\n",
    "import numpy as np\n",
    "import matplotlib.pyplot as plt\n",
    "from random import randint    \n",
    "import seaborn as sns\n",
    "from score_models import Scorer\n",
    "import timeit\n",
    "import random\n",
    "\n",
    "%matplotlib inline"
   ]
  },
  {
   "cell_type": "markdown",
   "metadata": {},
   "source": [
    "# Pull Validation Data"
   ]
  },
  {
   "cell_type": "code",
   "execution_count": 2,
   "metadata": {
    "collapsed": true
   },
   "outputs": [],
   "source": [
    "path = \"C:/Users/Akis/OneDrive/Masters/Web Economics/Data/\"\n",
    "validation_df = pd.read_csv(path+'train.csv')"
   ]
  },
  {
   "cell_type": "code",
   "execution_count": 3,
   "metadata": {
    "collapsed": false
   },
   "outputs": [
    {
     "name": "stdout",
     "output_type": "stream",
     "text": [
      "0.0006646376573167722\n"
     ]
    }
   ],
   "source": [
    "avgCTR =validation_df.loc[validation_df[\"click\"] == 1].shape[0]/(validation_df.shape[0])\n",
    "print(avgCTR)"
   ]
  },
  {
   "cell_type": "markdown",
   "metadata": {},
   "source": [
    "# Load CTR Predictions"
   ]
  },
  {
   "cell_type": "markdown",
   "metadata": {},
   "source": [
    "Need a function that will combine multiple dataframes into one"
   ]
  },
  {
   "cell_type": "code",
   "execution_count": 4,
   "metadata": {
    "collapsed": false
   },
   "outputs": [],
   "source": [
    "path='C:/Users/Akis/OneDrive/Masters/Web Economics/Data/WebEcon Team Drive/predictions/'\n",
    "teamACTRData = pd.read_csv(path+'lr_pCTR.csv')\n",
    "teamACTR=teamACTRData[['click_proba']]\n",
    "teamACTR = teamACTR.rename(index=str, columns={\"click_proba\": \"pCTR\"})"
   ]
  },
  {
   "cell_type": "markdown",
   "metadata": {},
   "source": [
    "# Load Basebid Predictions"
   ]
  },
  {
   "cell_type": "markdown",
   "metadata": {},
   "source": [
    "Need a function that will combine multiple dataframes into one"
   ]
  },
  {
   "cell_type": "code",
   "execution_count": 5,
   "metadata": {
    "collapsed": false
   },
   "outputs": [
    {
     "name": "stdout",
     "output_type": "stream",
     "text": [
      "    base_bid\n",
      "0  80.350004\n",
      "1  95.867239\n"
     ]
    }
   ],
   "source": [
    "teamABaseBidData = pd.read_csv(path+'ridge_basebid.csv')\n",
    "teamABaseBid=teamABaseBidData[['base_bid']]\n",
    "print(teamABaseBid.head(2))\n"
   ]
  },
  {
   "cell_type": "markdown",
   "metadata": {},
   "source": [
    "# Build Bid Prices for all models"
   ]
  },
  {
   "cell_type": "markdown",
   "metadata": {},
   "source": [
    "Need a function that will build a new dataframe conatining bids of all teams by combining the previous two dataframes."
   ]
  },
  {
   "cell_type": "code",
   "execution_count": 6,
   "metadata": {
    "collapsed": true
   },
   "outputs": [],
   "source": [
    "#given formula\n",
    "def Function1(resBaseBid,resCTR):\n",
    "    avCTR = 0.5\n",
    "    Bids=resBaseBid.values * (resCTR/avCTR)\n",
    "    #print(\"Bids:\",Bids)\n",
    "    return Bids"
   ]
  },
  {
   "cell_type": "code",
   "execution_count": 7,
   "metadata": {
    "collapsed": true
   },
   "outputs": [],
   "source": [
    "#exponential CTR\n",
    "def Function2(reBaseBid,reCTR):\n",
    "    avCTR = 0.5\n",
    "    reCTR=reCTR.copy(True)\n",
    "    reCTR=(((reCTR+0.5)**2)-0.5)\n",
    "    reCTR[reCTR < 0] = 0\n",
    "    Bids=reBaseBid.values * (reCTR/avCTR)\n",
    "    return Bids"
   ]
  },
  {
   "cell_type": "code",
   "execution_count": 8,
   "metadata": {
    "collapsed": true
   },
   "outputs": [],
   "source": [
    "#Zero bid for unsure values and high bidding on expected clicks\n",
    "def Function3(rBaseBid,rCTR):\n",
    "    avCTR = 0.5\n",
    "    rCTR=rCTR.copy(True)\n",
    "    rCTR[rCTR < 0.5] = 0\n",
    "    #rCTR=(((rCTR+0.5)**4)-0.5)\n",
    "    Bids=rBaseBid.values*1.2 * (rCTR/avCTR)\n",
    "    return Bids"
   ]
  },
  {
   "cell_type": "code",
   "execution_count": 9,
   "metadata": {
    "collapsed": true
   },
   "outputs": [],
   "source": [
    "def Function4(BaseBid,CTR):\n",
    "    Bids = BaseBid*0+301\n",
    "    #Bids = 301\n",
    "    return Bids"
   ]
  },
  {
   "cell_type": "code",
   "execution_count": 10,
   "metadata": {
    "collapsed": false
   },
   "outputs": [],
   "source": [
    "def Function5(BaseBid,CTR):\n",
    "    Bids =  pd.DataFrame(np.random.randint(295, 301+1, BaseBid.shape[0]))\n",
    "    #Bids = 301\n",
    "    return Bids"
   ]
  },
  {
   "cell_type": "code",
   "execution_count": 11,
   "metadata": {
    "collapsed": false
   },
   "outputs": [
    {
     "name": "stdout",
     "output_type": "stream",
     "text": [
      "   click  payprice\n",
      "0      0        23\n",
      "1      0        75\n"
     ]
    }
   ],
   "source": [
    "resultsBids=pd.DataFrame(index=range(validation_df.shape[0]))\n",
    "resultsBids['click']=validation_df['click']\n",
    "resultsBids['payprice']=validation_df['payprice']\n",
    "\n",
    "#resultsBids['TeamAFormula1'] = Function1(teamABaseBid,teamACTR).values\n",
    "\n",
    "print(resultsBids.head(2))"
   ]
  },
  {
   "cell_type": "code",
   "execution_count": 12,
   "metadata": {
    "collapsed": true
   },
   "outputs": [],
   "source": [
    "def EvaluateMultiple(results,BaseBidPred,CTRPred,function,budget):\n",
    "    #print(function(BaseBidPred,CTRPred))\n",
    "    results['TeamAFormula1'] = function(BaseBidPred,CTRPred).values\n",
    "    s = Scorer()\n",
    "    df_summary,df = s.set_df(results, ['payprice','TeamAFormula1'],budget,0)\n",
    "    print(df_summary)\n",
    "    return results"
   ]
  },
  {
   "cell_type": "code",
   "execution_count": null,
   "metadata": {
    "collapsed": false
   },
   "outputs": [],
   "source": [
    "#result = EvaluateMultiple(resultsBids,teamABaseBid,teamACTR,Function5,6250)"
   ]
  },
  {
   "cell_type": "code",
   "execution_count": null,
   "metadata": {
    "collapsed": false
   },
   "outputs": [
    {
     "name": "stdout",
     "output_type": "stream",
     "text": [
      "<function Function1 at 0x000001E0818280D0>\n"
     ]
    }
   ],
   "source": [
    "start = timeit.timeit()\n",
    "\n",
    "functions = [Function1, Function2, Function3, Function4, Function5]\n",
    "for func in functions:\n",
    "    print(func)\n",
    "    result = EvaluateMultiple(resultsBids,teamABaseBid,teamACTR,func,6250000)\n",
    "\n",
    "end = timeit.timeit()\n",
    "print(end - start,\"seconds\")"
   ]
  },
  {
   "cell_type": "code",
   "execution_count": null,
   "metadata": {
    "collapsed": true
   },
   "outputs": [],
   "source": []
  }
 ],
 "metadata": {
  "kernelspec": {
   "display_name": "Python 3",
   "language": "python",
   "name": "python3"
  },
  "language_info": {
   "codemirror_mode": {
    "name": "ipython",
    "version": 3
   },
   "file_extension": ".py",
   "mimetype": "text/x-python",
   "name": "python",
   "nbconvert_exporter": "python",
   "pygments_lexer": "ipython3",
   "version": "3.6.0"
  }
 },
 "nbformat": 4,
 "nbformat_minor": 2
}
