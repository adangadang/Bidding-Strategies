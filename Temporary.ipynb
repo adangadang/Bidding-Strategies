{
 "cells": [
  {
   "cell_type": "code",
   "execution_count": 1,
   "metadata": {
    "collapsed": true
   },
   "outputs": [],
   "source": [
    "import logging\n",
    "import os\n",
    "import numpy as np\n",
    "import pandas as pd\n",
    "import time\n",
    "\n",
    "\n",
    "from data_loader import DataLoader"
   ]
  },
  {
   "cell_type": "code",
   "execution_count": 2,
   "metadata": {
    "collapsed": false
   },
   "outputs": [
    {
     "name": "stderr",
     "output_type": "stream",
     "text": [
      "2018-02-27 21:55:59,753 : INFO : starting train_via_rf.py\n",
      "2018-02-27 21:55:59,757 : INFO : loading DF validation.csv\n",
      "2018-02-27 21:55:59,758 : INFO : Loading C:/Users/Akis/OneDrive/Masters/Web Economics/Data/validation.csv\n",
      "2018-02-27 21:56:01,453 : INFO : file  loaded\n"
     ]
    }
   ],
   "source": [
    "if __name__ == '__main__':\n",
    "\n",
    "    path = 'C:/Users/Akis/OneDrive/Masters/Web Economics/Data/'\n",
    "\n",
    "    logging.basicConfig(format='%(asctime)s : %(levelname)s : %(message)s', level=logging.INFO)\n",
    "    logging.info('starting train_via_rf.py')\n",
    "\n",
    "    target_col_name = 'click'\n",
    "    data_filename = 'validation.csv'\n",
    "\n",
    "    logging.info('loading DF ' + data_filename)\n",
    "    train_dl = DataLoader()\n",
    "    train_dl.load_file(path, data_filename)\n",
    "    df = train_dl.get_df_copy()"
   ]
  },
  {
   "cell_type": "code",
   "execution_count": 21,
   "metadata": {
    "collapsed": false
   },
   "outputs": [],
   "source": [
    "class Scorer(object):\n",
    "\n",
    "    def second_largest(self,numbers):\n",
    "        count = 0\n",
    "        topBid = secondBid = -1.0\n",
    "        for x in numbers:\n",
    "            count += 1\n",
    "            if x > secondBid:\n",
    "                if x >= topBid:\n",
    "                    topBid, secondBid = x, topBid\n",
    "                else:\n",
    "                    secondBid = x\n",
    "        return secondBid if count >= 2 else None\n",
    "    \n",
    "    def FormulaCombineCTRBaseBid(self,CTR,BaseBid):\n",
    "        CTR=(((CTR+0.5)**2)-0.5)\n",
    "        #CTR=max(0.1,CTR).all()\n",
    "        prices = (CTR/0.5)*BaseBid\n",
    "        return prices\n",
    "\n",
    "    def set_df(self,clicksDF,predictionsBaseBid,predictionsCTR,column_names, budget, reserve):\n",
    "        \n",
    "\n",
    "        CTRdf=clicksDF.copy(True)\n",
    "        BaseBiddf=clicksDF.copy(True)\n",
    "        for i in range(0,len(predictionsCTR),1):\n",
    "            name=column_names[i]\n",
    "            CTRdf[name] = predictionsCTR[i]\n",
    "            BaseBiddf[name] = predictionsBaseBid[i]\n",
    "        \n",
    "        #df = df.copy(True)\n",
    "        balances = np.ones(len(column_names)) * budget\n",
    "        df_teams_CTR = CTRdf[column_names]\n",
    "        df_teams_BaseBid = BaseBiddf[column_names]\n",
    "        CTRdf['winner'] = -1\n",
    "        CTRdf['price'] = 0\n",
    "        logging.info('calculating price paid (second highest). This takes some time...')\n",
    "           \n",
    "        for i in range(len(CTRdf)):\n",
    "            #prices = (df_teams_CTR.loc[i].values/0.5)*df_teams_BaseBid.loc[i].values\n",
    "            prices = self.FormulaCombineCTRBaseBid(df_teams_CTR.loc[i].values,df_teams_BaseBid.loc[i].values)\n",
    "            #print(prices)\n",
    "            valid1 = balances > prices\n",
    "            valid2 = prices > 0.0\n",
    "            valid3 = valid1 * valid2\n",
    "            new_prices = valid3 * prices\n",
    "            winner = np.argmax(new_prices)\n",
    "            if (new_prices[winner]>0):\n",
    "                price = self.second_largest(new_prices)\n",
    "                price = np.max([reserve,price])\n",
    "                CTRdf.loc[i, 'price'] = price\n",
    "                CTRdf.loc[i, 'winner'] = winner\n",
    "                balances[winner] -= price\n",
    "\n",
    "            #if i % int(len(CTRdf)/49) == 0:\n",
    "            #    logging.info('%.2f complete',(float(i)/len(CTRdf)))\n",
    "\n",
    "            if np.sum(balances > 0.0) == 0: # if no balances are positive, we don't need to process the rest of the data frame\n",
    "                break\n",
    "\n",
    "        logging.info('calculating wins by team')\n",
    "        wins_by_team = CTRdf.winner.value_counts()\n",
    "        teams = CTRdf.winner.unique()\n",
    "\n",
    "        team_names = []\n",
    "        team_wins = []\n",
    "        team_clicks = []\n",
    "        for team_index in teams:\n",
    "            if team_index >= 0:\n",
    "                temp_df = CTRdf.loc[CTRdf['winner'] == team_index]\n",
    "                clicks = np.sum(temp_df['click'].values)\n",
    "                team_name = df_teams_CTR.columns[team_index]\n",
    "                team_names.append(team_name)\n",
    "                team_wins.append(wins_by_team[team_index])\n",
    "                team_clicks.append(clicks)\n",
    "\n",
    "                logging.info(\n",
    "                    'team ' + team_name + ' ' + str(team_index) + ' wins:' + str(wins_by_team[team_index]) + ' clicks:' + str(clicks))\n",
    "        df_summary = pd.DataFrame({\"team_name\": team_names, \"win\": team_wins, \"click\": team_clicks})\n",
    "        return(df_summary,CTRdf)"
   ]
  },
  {
   "cell_type": "code",
   "execution_count": 4,
   "metadata": {
    "collapsed": false
   },
   "outputs": [
    {
     "name": "stdout",
     "output_type": "stream",
     "text": [
      "[278. 278. 278. ... 278. 278. 278.]\n",
      "[0.53 0.15 0.17 ... 0.82 0.14 0.78]\n"
     ]
    }
   ],
   "source": [
    "clicksFile = df[['click']].copy(True)\n",
    "Random1BaseBid = np.random.randint(227, 230, clicksFile.shape[0])\n",
    "Constant1BaseBid = np.ones(clicksFile.shape[0]) * 278\n",
    "Random2BaseBid = np.random.randint(297, 301, clicksFile.shape[0])\n",
    "Random1CTR = np.random.randint(0, 100, clicksFile.shape[0])/100\n",
    "Constant1CTR = np.random.randint(0, 100, clicksFile.shape[0])/100\n",
    "Random2CTR = np.random.randint(0, 100, clicksFile.shape[0])/100\n",
    "print(Constant1BaseBid)\n",
    "print(Constant1CTR)\n",
    "#print(clicksFile.head())\n"
   ]
  },
  {
   "cell_type": "code",
   "execution_count": 5,
   "metadata": {
    "collapsed": false
   },
   "outputs": [],
   "source": [
    "#for i in range(1,300,10):\n",
    "#    print((Random2CTR[i]/0.5)*Random2BaseBid[i])"
   ]
  },
  {
   "cell_type": "code",
   "execution_count": 22,
   "metadata": {
    "collapsed": false
   },
   "outputs": [
    {
     "name": "stderr",
     "output_type": "stream",
     "text": [
      "2018-02-27 21:59:57,700 : INFO : calculating price paid (second highest). This takes some time...\n"
     ]
    },
    {
     "name": "stdout",
     "output_type": "stream",
     "text": [
      "303925\n"
     ]
    },
    {
     "name": "stderr",
     "output_type": "stream",
     "text": [
      "2018-02-27 22:00:28,991 : INFO : calculating wins by team\n",
      "2018-02-27 22:00:28,998 : INFO : team bidTeam2 1 wins:1668 clicks:4\n",
      "2018-02-27 22:00:29,000 : INFO : team bidTeam1 0 wins:2272 clicks:3\n",
      "2018-02-27 22:00:29,002 : INFO : team bidTeam3 2 wins:1772 clicks:0\n"
     ]
    },
    {
     "name": "stdout",
     "output_type": "stream",
     "text": [
      "Time: 31.333794832229614 s\n",
      "   click team_name   win\n",
      "0      4  bidTeam2  1668\n",
      "1      3  bidTeam1  2272\n",
      "2      0  bidTeam3  1772\n"
     ]
    }
   ],
   "source": [
    "start = time.time()\n",
    "s = Scorer()\n",
    "df_summary, df_full = s.set_df(clicksFile,[Random1BaseBid,Random2BaseBid,Constant1BaseBid],[Random1CTR,Random2CTR,Constant1CTR],['bidTeam1','bidTeam2','bidTeam3'],625000, 227)\n",
    "\n",
    "end = time.time()\n",
    "print(\"Time:\",end - start,\"s\")\n",
    "\n",
    "print(df_summary.head())"
   ]
  },
  {
   "cell_type": "code",
   "execution_count": 18,
   "metadata": {
    "collapsed": false
   },
   "outputs": [
    {
     "name": "stdout",
     "output_type": "stream",
     "text": [
      "0.1\n"
     ]
    }
   ],
   "source": [
    "CTR=max(0.1,0.1)\n",
    "print(CTR)"
   ]
  },
  {
   "cell_type": "code",
   "execution_count": null,
   "metadata": {
    "collapsed": true
   },
   "outputs": [],
   "source": []
  }
 ],
 "metadata": {
  "kernelspec": {
   "display_name": "Python 3",
   "language": "python",
   "name": "python3"
  },
  "language_info": {
   "codemirror_mode": {
    "name": "ipython",
    "version": 3
   },
   "file_extension": ".py",
   "mimetype": "text/x-python",
   "name": "python",
   "nbconvert_exporter": "python",
   "pygments_lexer": "ipython3",
   "version": "3.6.0"
  }
 },
 "nbformat": 4,
 "nbformat_minor": 2
}
