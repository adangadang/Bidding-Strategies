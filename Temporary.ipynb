{
 "cells": [
  {
   "cell_type": "code",
   "execution_count": 1,
   "metadata": {
    "collapsed": true
   },
   "outputs": [],
   "source": [
    "import logging\n",
    "import os\n",
    "import numpy as np\n",
    "import pandas as pd\n",
    "import time\n",
    "\n",
    "from data_loader import DataLoader"
   ]
  },
  {
   "cell_type": "code",
   "execution_count": 3,
   "metadata": {},
   "outputs": [
    {
     "name": "stderr",
     "output_type": "stream",
     "text": [
      "2018-03-03 23:25:09,566 : INFO : starting train_via_rf.py\n",
      "2018-03-03 23:25:09,568 : INFO : loading DF validation.csv\n",
      "2018-03-03 23:25:09,568 : INFO : Loading C:/Users/Akis/OneDrive/Masters/Web Economics/Data/validation.csv\n",
      "2018-03-03 23:25:11,289 : INFO : file  loaded\n"
     ]
    }
   ],
   "source": [
    "if __name__ == '__main__':\n",
    "\n",
    "    path = 'C:/Users/Akis/OneDrive/Masters/Web Economics/Data/'\n",
    "\n",
    "    logging.basicConfig(format='%(asctime)s : %(levelname)s : %(message)s', level=logging.INFO)\n",
    "    logging.info('starting train_via_rf.py')\n",
    "\n",
    "    target_col_name = 'click'\n",
    "    data_filename = 'validation.csv'\n",
    "\n",
    "    logging.info('loading DF ' + data_filename)\n",
    "    train_dl = DataLoader()\n",
    "    train_dl.load_file(path, data_filename)\n",
    "    df = train_dl.get_df_copy()"
   ]
  },
  {
   "cell_type": "code",
   "execution_count": 4,
   "metadata": {
    "collapsed": true
   },
   "outputs": [],
   "source": [
    "class Scorer(object):\n",
    "\n",
    "    def second_largest(self,numbers):\n",
    "        count = 0\n",
    "        topBid = secondBid = -1.0\n",
    "        for x in numbers:\n",
    "            count += 1\n",
    "            if x > secondBid:\n",
    "                if x >= topBid:\n",
    "                    topBid, secondBid = x, topBid\n",
    "                else:\n",
    "                    secondBid = x\n",
    "        return secondBid if count >= 2 else None\n",
    "    \n",
    "    def Formula1CombineCTRBaseBid(self,CTR,BaseBid,TotalAuctionCount,CurrentAuctionNumber):\n",
    "        #CTR=(((CTR+0.5)**2)-0.5) #increases CTRs above 0.5, decreases CTRs below 0.5\n",
    "        #bids = (CTR/0.5)*BaseBid #formula given\n",
    "        bids = ((CTR/0.5)*BaseBid)*(1+CurrentAuctionNumber*10/TotalAuctionCount) #bids increase with number of auctions participated in\n",
    "        return bids\n",
    "    def Formula2CombineCTRBaseBid(self,CTR,BaseBid,TotalAuctionCount,CurrentAuctionNumber):\n",
    "        #CTR=(((CTR+0.5)**2)-0.5) #increases CTRs above 0.5, decreases CTRs below 0.5\n",
    "        bids = (CTR/0.5)*BaseBid #formula given\n",
    "        #bids = ((CTR/0.5)*BaseBid)*(1+CurrentAuctionNumber*10/TotalAuctionCount) #bids increase with number of auctions participated in\n",
    "        return bids\n",
    "\n",
    "    def set_df(self,clicksDF,predictionsBaseBid,predictionsCTR,column_names, budget, reserve):\n",
    "        \n",
    "\n",
    "        CTRdf=clicksDF.copy(True)\n",
    "        BaseBiddf=clicksDF.copy(True)\n",
    "        for i in range(0,len(predictionsCTR),1):\n",
    "            name=column_names[i]\n",
    "            CTRdf[name] = predictionsCTR[i]\n",
    "            BaseBiddf[name] = predictionsBaseBid[i]\n",
    "        \n",
    "        #df = df.copy(True)\n",
    "        balances = np.ones(len(column_names)) * budget\n",
    "        df_teams_CTR = CTRdf[column_names]\n",
    "        df_teams_BaseBid = BaseBiddf[column_names]\n",
    "        BidsDF=df_teams_CTR\n",
    "        #print(BidsDF)\n",
    "        CTRdf['winner'] = -1\n",
    "        CTRdf['price'] = 0\n",
    "        logging.info('calculating price paid (second highest). This takes some time...')\n",
    "           \n",
    "        for i in range(len(CTRdf)):\n",
    "            #prices = (df_teams_CTR.loc[i].values/0.5)*df_teams_BaseBid.loc[i].values\n",
    "            prices = self.Formula1CombineCTRBaseBid(df_teams_CTR.loc[i].values,df_teams_BaseBid.loc[i].values,len(CTRdf),i)\n",
    "            #prices2 = self.Formula2CombineCTRBaseBid(df_teams_CTR.loc[i].values,df_teams_BaseBid.loc[i].values,len(CTRdf),i)\n",
    "            #prices = np.append(prices1,prices2)\n",
    "            #print(prices)\n",
    "            #BidsDF[i]=prices\n",
    "            valid1 = balances > prices\n",
    "            valid2 = prices > 0.0\n",
    "            valid3 = valid1 * valid2\n",
    "            new_prices = valid3 * prices\n",
    "            winner = np.argmax(new_prices)\n",
    "            if (new_prices[winner]>0):\n",
    "                price = self.second_largest(new_prices)\n",
    "                price = np.max([reserve,price])\n",
    "                CTRdf.loc[i, 'price'] = price\n",
    "                CTRdf.loc[i, 'winner'] = winner\n",
    "                balances[winner] -= price\n",
    "\n",
    "            if i % int(len(CTRdf)/49) == 0:\n",
    "                logging.info('%.2f complete',(float(i)/len(CTRdf)))\n",
    "\n",
    "            if np.sum(balances > 0.0) == 0: # if no balances are positive, we don't need to process the rest of the data frame\n",
    "                break\n",
    "\n",
    "        logging.info('calculating wins by team')\n",
    "        wins_by_team = CTRdf.winner.value_counts()\n",
    "        teams = CTRdf.winner.unique()\n",
    "        print(BidsDF)\n",
    "        team_names = []\n",
    "        team_wins = []\n",
    "        team_clicks = []\n",
    "        for team_index in teams:\n",
    "            if team_index >= 0:\n",
    "                temp_df = CTRdf.loc[CTRdf['winner'] == team_index]\n",
    "                clicks = np.sum(temp_df['click'].values)\n",
    "                team_name = df_teams_CTR.columns[team_index]\n",
    "                team_names.append(team_name)\n",
    "                team_wins.append(wins_by_team[team_index])\n",
    "                team_clicks.append(clicks)\n",
    "\n",
    "                logging.info(\n",
    "                    'team ' + team_name + ' ' + str(team_index) + ' wins:' + str(wins_by_team[team_index]) + ' clicks:' + str(clicks))\n",
    "        df_summary = pd.DataFrame({\"team_name\": team_names, \"win\": team_wins, \"click\": team_clicks})\n",
    "        return(df_summary,CTRdf)"
   ]
  },
  {
   "cell_type": "code",
   "execution_count": 5,
   "metadata": {},
   "outputs": [
    {
     "name": "stdout",
     "output_type": "stream",
     "text": [
      "[278. 278. 278. ... 278. 278. 278.]\n",
      "[0.24 0.27 0.48 ... 0.52 0.56 0.3 ]\n"
     ]
    }
   ],
   "source": [
    "clicksFile = df[['click']].copy(True)\n",
    "Random1BaseBid = np.random.randint(227, 230, clicksFile.shape[0])\n",
    "Constant1BaseBid = np.ones(clicksFile.shape[0]) * 278\n",
    "Random2BaseBid = np.random.randint(297, 301, clicksFile.shape[0])\n",
    "Random1CTR = np.random.randint(0, 100, clicksFile.shape[0])/100\n",
    "Constant1CTR = np.random.randint(0, 100, clicksFile.shape[0])/100\n",
    "Random2CTR = np.random.randint(0, 100, clicksFile.shape[0])/100\n",
    "print(Constant1BaseBid)\n",
    "print(Constant1CTR)\n",
    "#print(clicksFile.head())\n"
   ]
  },
  {
   "cell_type": "code",
   "execution_count": 6,
   "metadata": {
    "collapsed": true
   },
   "outputs": [],
   "source": [
    "#for i in range(1,300,10):\n",
    "#    print((Random2CTR[i]/0.5)*Random2BaseBid[i])"
   ]
  },
  {
   "cell_type": "code",
   "execution_count": 7,
   "metadata": {},
   "outputs": [
    {
     "name": "stderr",
     "output_type": "stream",
     "text": [
      "2018-03-03 23:25:21,761 : INFO : calculating price paid (second highest). This takes some time...\n",
      "2018-03-03 23:25:21,812 : INFO : 0.00 complete\n",
      "2018-03-03 23:25:22,186 : INFO : calculating wins by team\n",
      "2018-03-03 23:25:22,199 : INFO : team Random2CTR 1 wins:22 clicks:0\n",
      "2018-03-03 23:25:22,201 : INFO : team Random1CTR 0 wins:25 clicks:0\n",
      "2018-03-03 23:25:22,203 : INFO : team Constant1CTR 2 wins:20 clicks:0\n"
     ]
    },
    {
     "name": "stdout",
     "output_type": "stream",
     "text": [
      "        Random1CTR  Random2CTR  Constant1CTR\n",
      "0             0.93        0.88          0.24\n",
      "1             0.70        0.48          0.27\n",
      "2             0.86        0.40          0.48\n",
      "3             0.75        0.92          0.79\n",
      "4             0.50        0.20          0.70\n",
      "5             0.31        0.14          0.22\n",
      "6             0.13        0.64          0.71\n",
      "7             0.08        0.22          0.26\n",
      "8             0.61        0.12          0.85\n",
      "9             0.21        0.03          0.79\n",
      "10            0.86        0.09          0.84\n",
      "11            0.51        0.94          0.76\n",
      "12            0.45        0.76          0.97\n",
      "13            0.87        0.78          0.29\n",
      "14            0.96        0.94          0.51\n",
      "15            0.05        0.39          0.13\n",
      "16            0.88        0.48          0.81\n",
      "17            0.95        0.90          0.33\n",
      "18            0.78        0.45          0.46\n",
      "19            0.31        0.97          0.09\n",
      "20            0.80        0.65          0.96\n",
      "21            0.39        0.36          0.13\n",
      "22            0.37        0.00          0.71\n",
      "23            0.20        0.16          0.27\n",
      "24            0.81        0.38          0.91\n",
      "25            0.30        0.87          0.00\n",
      "26            0.92        0.52          0.62\n",
      "27            0.96        0.04          0.56\n",
      "28            0.92        0.03          0.22\n",
      "29            0.98        0.25          0.71\n",
      "...            ...         ...           ...\n",
      "303895        0.07        0.30          0.81\n",
      "303896        0.85        0.36          0.29\n",
      "303897        0.30        0.38          0.37\n",
      "303898        0.46        0.80          0.82\n",
      "303899        0.44        0.20          0.87\n",
      "303900        0.31        0.55          0.66\n",
      "303901        0.23        0.85          0.84\n",
      "303902        0.59        0.12          0.11\n",
      "303903        0.52        0.94          0.40\n",
      "303904        0.45        0.44          0.11\n",
      "303905        0.86        0.69          0.23\n",
      "303906        0.13        0.66          0.71\n",
      "303907        0.58        0.40          0.13\n",
      "303908        0.51        0.89          0.31\n",
      "303909        0.10        0.69          0.36\n",
      "303910        0.95        0.08          0.98\n",
      "303911        0.81        0.95          0.00\n",
      "303912        0.53        0.64          0.99\n",
      "303913        0.64        0.92          0.20\n",
      "303914        0.88        0.55          0.27\n",
      "303915        0.27        0.14          0.56\n",
      "303916        0.11        0.39          0.93\n",
      "303917        0.57        0.89          0.01\n",
      "303918        0.67        0.73          0.92\n",
      "303919        0.40        0.61          0.96\n",
      "303920        0.66        0.65          0.15\n",
      "303921        0.46        0.01          0.23\n",
      "303922        0.47        0.21          0.52\n",
      "303923        0.02        0.37          0.56\n",
      "303924        0.73        0.29          0.30\n",
      "\n",
      "[303925 rows x 3 columns]\n",
      "Time: 0.47432637214660645 s\n",
      "   click     team_name  win\n",
      "0      0    Random2CTR   22\n",
      "1      0    Random1CTR   25\n",
      "2      0  Constant1CTR   20\n"
     ]
    }
   ],
   "source": [
    "start = time.time()\n",
    "s = Scorer()\n",
    "df_summary, df_full = s.set_df(clicksFile,[Random1BaseBid,Random2BaseBid,Constant1BaseBid],[Random1CTR,Random2CTR,Constant1CTR],['Random1CTR','Random2CTR','Constant1CTR'],6250, 227)\n",
    "\n",
    "end = time.time()\n",
    "print(\"Time:\",end - start,\"s\")\n",
    "\n",
    "print(df_summary.head())"
   ]
  },
  {
   "cell_type": "code",
   "execution_count": null,
   "metadata": {
    "collapsed": true
   },
   "outputs": [],
   "source": [
    "#print(df_full)"
   ]
  },
  {
   "cell_type": "code",
   "execution_count": null,
   "metadata": {
    "collapsed": true
   },
   "outputs": [],
   "source": []
  }
 ],
 "metadata": {
  "kernelspec": {
   "display_name": "Python 3",
   "language": "python",
   "name": "python3"
  },
  "language_info": {
   "codemirror_mode": {
    "name": "ipython",
    "version": 3
   },
   "file_extension": ".py",
   "mimetype": "text/x-python",
   "name": "python",
   "nbconvert_exporter": "python",
   "pygments_lexer": "ipython3",
   "version": "3.6.4"
  }
 },
 "nbformat": 4,
 "nbformat_minor": 2
}
