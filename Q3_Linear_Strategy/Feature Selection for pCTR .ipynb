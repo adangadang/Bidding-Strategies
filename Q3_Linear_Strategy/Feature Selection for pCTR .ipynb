{
 "cells": [
  {
   "cell_type": "markdown",
   "metadata": {},
   "source": [
    "# Abstract"
   ]
  },
  {
   "cell_type": "markdown",
   "metadata": {},
   "source": [
    "This notebook performs feature selection using Recursive Feature Elimination (RFE). We used sklearn's RFECV package which implements RFE with CV for more robust results. RFE in particular works as follows: Given an estimator that assigns weights to features (i.e. coeffcients of a linear model), RFE selects features by recursively considering smaller and smaller sets of features. Initially, the estimator is trained using the whole set and the importance of each feature is calculated. Then, the\n",
    "least important features are pruned and the procedure is recursively repeated.\n",
    "\n",
    "We performed feature selection for the two out of the total three models used for the Linear Bidding Strategy, namely Logistic Regression and Random Forest. Feature Selection for XGBoost didn't take place since it was extremely computationally expensive. "
   ]
  },
  {
   "cell_type": "markdown",
   "metadata": {},
   "source": [
    "# Import and Basic Info"
   ]
  },
  {
   "cell_type": "code",
   "execution_count": 1,
   "metadata": {},
   "outputs": [],
   "source": [
    "import pandas as pd\n",
    "import numpy as np\n",
    "import matplotlib.pyplot as plt\n",
    "import seaborn as sns\n",
    "import itertools\n",
    "import math\n",
    "import random\n",
    "\n",
    "%matplotlib inline\n",
    "pd.set_option('display.max_columns', None)\n",
    "pd.options.mode.chained_assignment = None  # To ignore SettingWithCopyWarning warning\n",
    "\n",
    "# Set a random seed for repeatability\n",
    "rand_seed = 123\n",
    "random.seed(rand_seed)\n",
    "np.random.seed(rand_seed)"
   ]
  },
  {
   "cell_type": "code",
   "execution_count": 2,
   "metadata": {},
   "outputs": [],
   "source": [
    "train = pd.read_csv(\"train.csv\")\n",
    "validation = pd.read_csv(\"validation.csv\")"
   ]
  },
  {
   "cell_type": "code",
   "execution_count": 3,
   "metadata": {},
   "outputs": [
    {
     "data": {
      "text/plain": [
       "((2430981, 25), (303925, 25))"
      ]
     },
     "execution_count": 3,
     "metadata": {},
     "output_type": "execute_result"
    }
   ],
   "source": [
    "train.shape, validation.shape"
   ]
  },
  {
   "cell_type": "markdown",
   "metadata": {},
   "source": [
    "## Import dummy datasets"
   ]
  },
  {
   "cell_type": "code",
   "execution_count": 4,
   "metadata": {},
   "outputs": [],
   "source": [
    "from sklearn.externals import joblib\n",
    "\n",
    "X_resampled = joblib.load(\"X_train_resampled_pCTR.pkl\")\n",
    "y_resampled = joblib.load(\"y_train_resampled_pCTR.pkl\")\n",
    "X_validation = joblib.load(\"X_validation_pCTR.pkl\")\n",
    "y_validation = joblib.load(\"y_validation_pCTR.pkl\")"
   ]
  },
  {
   "cell_type": "code",
   "execution_count": 5,
   "metadata": {},
   "outputs": [
    {
     "data": {
      "text/plain": [
       "((40000, 698), (40000,), (303925, 698), (303925,))"
      ]
     },
     "execution_count": 5,
     "metadata": {},
     "output_type": "execute_result"
    }
   ],
   "source": [
    "X_resampled.shape, y_resampled.shape, X_validation.shape, y_validation.shape"
   ]
  },
  {
   "cell_type": "code",
   "execution_count": 6,
   "metadata": {},
   "outputs": [],
   "source": [
    "features_total_names = joblib.load(\"total_features_basebid.pkl\")"
   ]
  },
  {
   "cell_type": "code",
   "execution_count": 7,
   "metadata": {},
   "outputs": [
    {
     "data": {
      "text/plain": [
       "698"
      ]
     },
     "execution_count": 7,
     "metadata": {},
     "output_type": "execute_result"
    }
   ],
   "source": [
    "len(features_total_names)"
   ]
  },
  {
   "cell_type": "markdown",
   "metadata": {},
   "source": [
    "## Feature Selection "
   ]
  },
  {
   "cell_type": "code",
   "execution_count": 8,
   "metadata": {},
   "outputs": [],
   "source": [
    "from sklearn.linear_model import LogisticRegression, SGDClassifier\n",
    "from sklearn.svm import SVC, OneClassSVM\n",
    "from xgboost import XGBClassifier\n",
    "from sklearn.ensemble import RandomForestClassifier, AdaBoostClassifier, GradientBoostingClassifier\n",
    "from sklearn.model_selection import StratifiedKFold, GridSearchCV\n",
    "from sklearn.preprocessing import StandardScaler\n",
    "from sklearn.feature_selection import RFECV\n",
    "from sklearn.metrics import f1_score, classification_report, confusion_matrix, roc_auc_score, \\\n",
    "                            precision_score, make_scorer\n",
    "from sklearn.externals import joblib"
   ]
  },
  {
   "cell_type": "markdown",
   "metadata": {},
   "source": [
    "### Recursive Feature Elimination"
   ]
  },
  {
   "cell_type": "code",
   "execution_count": 9,
   "metadata": {},
   "outputs": [],
   "source": [
    "clf_name = [\"Logistic Regression\", \"Random Forest\"]\n",
    "clf = [LogisticRegression(C = 0.1, random_state = rand_seed), RandomForestClassifier(n_estimators = 150, random_state = rand_seed)]"
   ]
  },
  {
   "cell_type": "code",
   "execution_count": 10,
   "metadata": {},
   "outputs": [
    {
     "name": "stdout",
     "output_type": "stream",
     "text": [
      "CPU times: user 3min 37s, sys: 22.1 s, total: 3min 59s\n",
      "Wall time: 1min 3s\n",
      "Optimal number of features for Logistic Regression is 638\n",
      "CPU times: user 17min 6s, sys: 11.2 s, total: 17min 17s\n",
      "Wall time: 17min 18s\n",
      "Optimal number of features for Random Forest is 668\n"
     ]
    },
    {
     "data": {
      "image/png": "[encoded data removed]",
      "text/plain": [
       "<matplotlib.figure.Figure at 0x7fb08a89a828>"
      ]
     },
     "metadata": {},
     "output_type": "display_data"
    }
   ],
   "source": [
    "features_selected =  dict.fromkeys(clf_name)\n",
    "\n",
    "plt.figure(figsize = (15,6))\n",
    "\n",
    "for i in range(len(clf)):\n",
    "    \n",
    "    model = clf[i]\n",
    "    \n",
    "    # Initialize Recursive Feature Elimination object\n",
    "    stepsize = 10\n",
    "    rfecv = RFECV(estimator = model, step = stepsize, cv = StratifiedKFold(n_splits = 2), scoring = \"f1_weighted\")\n",
    "    \n",
    "    # Fit \n",
    "    % time rfecv.fit(X_resampled, y_resampled)\n",
    "    \n",
    "    # Number of important features\n",
    "    print(\"Optimal number of features for {} is {}\".format(clf_name[i], rfecv.n_features_))\n",
    "    \n",
    "    # Plot number of features VS. cross-validation scores\n",
    "    plt.subplot(1,2,i+1)\n",
    "    plt.xlabel(\"Number of features selected (x{})\".format(stepsize))\n",
    "    plt.ylabel(\"Cross validation score\")\n",
    "    plt.title(clf_name[i])\n",
    "    plt.plot(range(1, len(rfecv.grid_scores_) + 1), rfecv.grid_scores_)\n",
    "    \n",
    "    # Store feature importance to dict\n",
    "    #feature_importance[i] = sorted(zip(map(lambda x: round(x, 4), rfecv.ranking_), train_dummy_2.columns))\n",
    "    features_selected[clf_name[i]] = [f for f, s in zip(features_total_names, rfecv.support_) if s]\n",
    "    \n",
    "    # Export to pickle\n",
    "    names = [\"LR-Features.pkl\", \"RF-Features.pkl\"]\n",
    "    joblib.dump(features_selected[clf_name[i]], names[i])    "
   ]
  },
  {
   "cell_type": "code",
   "execution_count": null,
   "metadata": {},
   "outputs": [],
   "source": []
  }
 ],
 "metadata": {
  "kernelspec": {
   "display_name": "Python [default]",
   "language": "python",
   "name": "python3"
  },
  "language_info": {
   "codemirror_mode": {
    "name": "ipython",
    "version": 3
   },
   "file_extension": ".py",
   "mimetype": "text/x-python",
   "name": "python",
   "nbconvert_exporter": "python",
   "pygments_lexer": "ipython3",
   "version": "3.6.4"
  }
 },
 "nbformat": 4,
 "nbformat_minor": 2
}
