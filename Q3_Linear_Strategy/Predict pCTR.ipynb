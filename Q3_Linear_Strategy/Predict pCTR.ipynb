{
 "cells": [
  {
   "cell_type": "markdown",
   "metadata": {},
   "source": [
    "# Abstract"
   ]
  },
  {
   "cell_type": "markdown",
   "metadata": {},
   "source": [
    "This notebooks experiments with different models for predicting clicks for the Linear Bidding Strategy. More specifically we used three models: __Logistic Regression__, __Random Forest__ and __XGBoost__. Initially we try some base models to get a baseline of how these models eoughly perform on the validation set, and then we perform __hyperparameter tuning__ using GridSearchCV to retrieve the best ones using as metric the __precision__. The choice of precision intead of some other metric (i.e. recall, AUC etc) was due to the fact that precision actually reflects the CTR performnace. A model with very high precision is a model that can accuratelly predict where the clicks are and produce an accurate pCTR. __An accurate pCTR then enables us to bid truthfully and not over-spend on erroneous predictions__."
   ]
  },
  {
   "cell_type": "markdown",
   "metadata": {},
   "source": [
    "# Import and Basic Info"
   ]
  },
  {
   "cell_type": "code",
   "execution_count": 21,
   "metadata": {},
   "outputs": [],
   "source": [
    "import pandas as pd\n",
    "import numpy as np\n",
    "import matplotlib.pyplot as plt\n",
    "import seaborn as sns\n",
    "import itertools\n",
    "import math\n",
    "import random\n",
    "\n",
    "%matplotlib inline\n",
    "pd.set_option('display.max_columns', None)\n",
    "pd.options.mode.chained_assignment = None  # To ignore SettingWithCopyWarning warning\n",
    "\n",
    "# Set a random seed for repeatability\n",
    "rand_seed = 123\n",
    "random.seed(rand_seed)\n",
    "np.random.seed(rand_seed)"
   ]
  },
  {
   "cell_type": "code",
   "execution_count": 22,
   "metadata": {},
   "outputs": [],
   "source": [
    "train = pd.read_csv(\"train.csv\")\n",
    "validation = pd.read_csv(\"validation.csv\")"
   ]
  },
  {
   "cell_type": "code",
   "execution_count": 23,
   "metadata": {},
   "outputs": [
    {
     "data": {
      "text/plain": [
       "((2430981, 25), (303925, 25))"
      ]
     },
     "execution_count": 23,
     "metadata": {},
     "output_type": "execute_result"
    }
   ],
   "source": [
    "train.shape, validation.shape"
   ]
  },
  {
   "cell_type": "markdown",
   "metadata": {},
   "source": [
    "# Load dummy and resampled data"
   ]
  },
  {
   "cell_type": "code",
   "execution_count": 24,
   "metadata": {},
   "outputs": [],
   "source": [
    "from sklearn.externals import joblib\n",
    "\n",
    "X_resampled = joblib.load(\"X_train_resampled_pCTR.pkl\")\n",
    "y_resampled = joblib.load(\"y_train_resampled_pCTR.pkl\")\n",
    "X_validation = joblib.load(\"X_validation_pCTR.pkl\")\n",
    "y_validation = joblib.load(\"y_validation_pCTR.pkl\")"
   ]
  },
  {
   "cell_type": "code",
   "execution_count": 25,
   "metadata": {},
   "outputs": [
    {
     "data": {
      "text/plain": [
       "((40000, 698), (40000,), (303925, 698), (303925,))"
      ]
     },
     "execution_count": 25,
     "metadata": {},
     "output_type": "execute_result"
    }
   ],
   "source": [
    "X_resampled.shape, y_resampled.shape, X_validation.shape, y_validation.shape"
   ]
  },
  {
   "cell_type": "code",
   "execution_count": 26,
   "metadata": {},
   "outputs": [
    {
     "data": {
      "text/plain": [
       "698"
      ]
     },
     "execution_count": 26,
     "metadata": {},
     "output_type": "execute_result"
    }
   ],
   "source": [
    "features_total_names = joblib.load(\"total_features_basebid.pkl\")\n",
    "len(features_total_names)"
   ]
  },
  {
   "cell_type": "markdown",
   "metadata": {},
   "source": [
    "# Modeling"
   ]
  },
  {
   "cell_type": "code",
   "execution_count": 27,
   "metadata": {},
   "outputs": [],
   "source": [
    "from sklearn.linear_model import LogisticRegression, SGDClassifier\n",
    "from sklearn.svm import SVC, OneClassSVM\n",
    "from xgboost import XGBClassifier\n",
    "from sklearn.ensemble import RandomForestClassifier, AdaBoostClassifier, GradientBoostingClassifier\n",
    "from sklearn.model_selection import StratifiedKFold, GridSearchCV\n",
    "from sklearn.preprocessing import StandardScaler\n",
    "from sklearn.feature_selection import RFECV\n",
    "from sklearn.metrics import f1_score, classification_report, confusion_matrix, roc_auc_score, \\\n",
    "                            precision_score, make_scorer\n",
    "from sklearn.externals import joblib"
   ]
  },
  {
   "cell_type": "code",
   "execution_count": 28,
   "metadata": {},
   "outputs": [],
   "source": [
    "def FitAndEvaluateClassifier(estimator, features):\n",
    "    \n",
    "    # Data preparation\n",
    "    X_train = pd.DataFrame(columns = features_total_names, data = X_resampled)[features]\n",
    "    y_train = y_resampled\n",
    "    \n",
    "    X_val = pd.DataFrame(columns = features_total_names, data = X_validation)[features]\n",
    "    y_val = y_validation\n",
    "    \n",
    "    # Fit classifier to training data\n",
    "    % time estimator.fit(X_train, y_train)\n",
    "    \n",
    "    # Predict on validation set\n",
    "    preds = estimator.predict(X_val)\n",
    "    \n",
    "    # Predicted probabilities\n",
    "    pred_proba = estimator.predict_proba(X_val)\n",
    "    pred_proba_click = [p[1] for p in pred_proba]\n",
    "    \n",
    "    # Evaluate performance\n",
    "    print(\"\\n\")\n",
    "    print(\"Confusion Matrix:\")\n",
    "    print(confusion_matrix(y_val, preds))\n",
    "    print(\"\\n\")\n",
    "    \n",
    "    # The most important measure is TP/FP rate for the clicked class\n",
    "    kpi = precision_score(y_val, preds)*100\n",
    "    print(\"Click Precision: {}\".format(kpi))\n",
    "    \n",
    "    # Store probabilities\n",
    "    submission = pd.DataFrame(data = list(zip(validation[\"bidid\"], pred_proba_click)),\n",
    "                               columns = [\"bidid\", \"click_proba\"])\n",
    "    \n",
    "    #submission.to_csv(lr.__doc__.split(\"(\")[0][:-1] + \".csv\")\n",
    "    \n",
    "    return kpi, submission"
   ]
  },
  {
   "cell_type": "markdown",
   "metadata": {},
   "source": [
    "## Load features"
   ]
  },
  {
   "cell_type": "code",
   "execution_count": 29,
   "metadata": {},
   "outputs": [],
   "source": [
    "features_lr = joblib.load(\"LR-Features.pkl\")\n",
    "features_rf = joblib.load(\"RF-Features.pkl\")"
   ]
  },
  {
   "cell_type": "code",
   "execution_count": 30,
   "metadata": {},
   "outputs": [
    {
     "data": {
      "text/plain": [
       "(638, 668)"
      ]
     },
     "execution_count": 30,
     "metadata": {},
     "output_type": "execute_result"
    }
   ],
   "source": [
    "len(features_lr), len(features_rf)"
   ]
  },
  {
   "cell_type": "markdown",
   "metadata": {},
   "source": [
    "### Logistic Regression"
   ]
  },
  {
   "cell_type": "code",
   "execution_count": 31,
   "metadata": {},
   "outputs": [
    {
     "name": "stdout",
     "output_type": "stream",
     "text": [
      "CPU times: user 376 ms, sys: 0 ns, total: 376 ms\n",
      "Wall time: 378 ms\n",
      "\n",
      "\n",
      "Confusion Matrix:\n",
      "[[247523  56200]\n",
      " [    61    141]]\n",
      "\n",
      "\n",
      "Click Precision: 0.2502617986901191\n"
     ]
    }
   ],
   "source": [
    "lr_res, lr_sub = FitAndEvaluateClassifier(LogisticRegression(C = 0.1, random_state = rand_seed), features_lr)"
   ]
  },
  {
   "cell_type": "markdown",
   "metadata": {},
   "source": [
    "### Random Forest"
   ]
  },
  {
   "cell_type": "code",
   "execution_count": 32,
   "metadata": {},
   "outputs": [
    {
     "name": "stdout",
     "output_type": "stream",
     "text": [
      "CPU times: user 2min 56s, sys: 256 ms, total: 2min 57s\n",
      "Wall time: 2min 57s\n",
      "\n",
      "\n",
      "Confusion Matrix:\n",
      "[[301492   2231]\n",
      " [   140     62]]\n",
      "\n",
      "\n",
      "Click Precision: 2.703881378107283\n"
     ]
    }
   ],
   "source": [
    "rf_res, rf_sub = FitAndEvaluateClassifier(RandomForestClassifier(n_estimators = 1000, random_state = rand_seed), \\\n",
    "                                          features_rf)"
   ]
  },
  {
   "cell_type": "markdown",
   "metadata": {},
   "source": [
    "### XGBoost"
   ]
  },
  {
   "cell_type": "code",
   "execution_count": 15,
   "metadata": {},
   "outputs": [
    {
     "name": "stdout",
     "output_type": "stream",
     "text": [
      "CPU times: user 9min 13s, sys: 388 ms, total: 9min 14s\n",
      "Wall time: 9min 14s\n"
     ]
    },
    {
     "name": "stderr",
     "output_type": "stream",
     "text": [
      "/opt/anaconda/envs/Python3/lib/python3.6/site-packages/sklearn/preprocessing/label.py:151: DeprecationWarning: The truth value of an empty array is ambiguous. Returning False, but in future this will result in an error. Use `array.size > 0` to check that an array is not empty.\n",
      "  if diff:\n"
     ]
    },
    {
     "name": "stdout",
     "output_type": "stream",
     "text": [
      "\n",
      "\n",
      "Confusion Matrix:\n",
      "[[301109   2614]\n",
      " [   116     86]]\n",
      "\n",
      "\n",
      "Click Precision: 3.185185185185185\n"
     ]
    }
   ],
   "source": [
    "xgb_res, xgb_sub = FitAndEvaluateClassifier(XGBClassifier(n_estimators = 500, max_depth = 8, learning_rate = 0.1, random_state = rand_seed), \n",
    "                                            features_rf)"
   ]
  },
  {
   "cell_type": "markdown",
   "metadata": {},
   "source": [
    "### Visualize pCTR distributions"
   ]
  },
  {
   "cell_type": "code",
   "execution_count": 35,
   "metadata": {},
   "outputs": [
    {
     "data": {
      "text/plain": [
       "Text(0.5,1,'XGBoost pCTR districution')"
      ]
     },
     "execution_count": 35,
     "metadata": {},
     "output_type": "execute_result"
    },
    {
     "data": {
      "image/png": "[encoded data removed]",
      "text/plain": [
       "<matplotlib.figure.Figure at 0x7f0073dc2898>"
      ]
     },
     "metadata": {},
     "output_type": "display_data"
    }
   ],
   "source": [
    "plt.figure(figsize = (15,4))\n",
    "\n",
    "plt.subplot(1,3,1)\n",
    "sns.distplot(lr_sub[\"click_proba\"], kde = False)\n",
    "plt.xlabel(\"pCTR\")\n",
    "plt.title(\"Logistic Regression pCTR districution\")\n",
    "\n",
    "plt.subplot(1,3,2)\n",
    "sns.distplot(rf_sub[\"click_proba\"], kde = False)\n",
    "plt.xlabel(\"pCTR\")\n",
    "plt.title(\"Random Forest pCTR districution\")\n",
    "\n",
    "plt.subplot(1,3,3)\n",
    "sns.distplot(xgb_sub[\"click_proba\"], kde = False)\n",
    "plt.xlabel(\"pCTR\")\n",
    "plt.title(\"XGBoost pCTR districution\")"
   ]
  },
  {
   "cell_type": "markdown",
   "metadata": {},
   "source": [
    "### Hyperparameter Tuning"
   ]
  },
  {
   "cell_type": "code",
   "execution_count": 14,
   "metadata": {},
   "outputs": [],
   "source": [
    "lr_grid = {\n",
    "           \"penalty\": [\"l1\", \"l2\"],\n",
    "           \"C\": [0.001, 0.01, 0.05, 0.1, 0.5, 1, 5, 10, 100]\n",
    "          }\n",
    "\n",
    "\n",
    "rf_grid = {\n",
    "           \"n_estimators\": [120, 300, 500, 800, 1000, 1200],\n",
    "           \"max_depth\": [5,8,15,25,30]\n",
    "          }\n",
    "\n",
    "# xgb_grid = {\"n_estimators\": [500, 1000],\n",
    "#             \"max_depth\": [8,15],\n",
    "#             \"learning_rate\": [0.01, 0.1]}"
   ]
  },
  {
   "cell_type": "code",
   "execution_count": 15,
   "metadata": {},
   "outputs": [],
   "source": [
    "def TuneHyperparameters(estimator, grid, features, name_store):\n",
    "    \n",
    "    # Data preparation\n",
    "    X_train = pd.DataFrame(columns = features_total_names, data = X_resampled)[features]\n",
    "    y_train = y_resampled\n",
    "    \n",
    "    X_val = pd.DataFrame(columns = features_total_names, data = X_validation)[features]\n",
    "    y_val = y_validation\n",
    "\n",
    "\n",
    "    # Define grid\n",
    "    grid = GridSearchCV(estimator, \n",
    "                        param_grid = grid, \n",
    "                        scoring = \"precision\", \n",
    "                        cv = StratifiedKFold(n_splits = 3, shuffle = True, random_state = rand_seed)\n",
    "                        )\n",
    "\n",
    "    # Fit grid on train data\n",
    "    % time grid.fit(X_train, y_train)\n",
    "\n",
    "    # Store best model\n",
    "    best_model = grid.best_estimator_\n",
    "    joblib.dump(best_model, name_store) \n",
    "    print(\"Best parameters: {}\".format(grid.best_params_))\n",
    "\n",
    "    # Predict on validation set\n",
    "    preds = grid.predict(X_val)\n",
    "    \n",
    "    # Predicted probabilities\n",
    "    pred_proba = grid.predict_proba(X_val)\n",
    "    pred_proba_click = [p[1] for p in pred_proba]\n",
    "    \n",
    "    # Evaluate performance\n",
    "    print(\"\\n\")\n",
    "    print(\"Confusion Matrix:\")\n",
    "    print(confusion_matrix(y_val, preds))\n",
    "    print(\"\\n\")\n",
    "    \n",
    "    # The most important measure is TP/FP rate for the clicked class\n",
    "    kpi = precision_score(y_val, preds)*100\n",
    "    print(\"Click Precision: {}\".format(kpi))\n",
    "    \n",
    "    # Store probabilities\n",
    "    submission = pd.DataFrame(data = list(zip(validation[\"bidid\"], pred_proba_click)),\n",
    "                               columns = [\"bidid\", \"click_proba\"])\n",
    "    \n",
    "    return kpi, submission"
   ]
  },
  {
   "cell_type": "markdown",
   "metadata": {},
   "source": [
    "### Logistic Regression Tuned"
   ]
  },
  {
   "cell_type": "code",
   "execution_count": 16,
   "metadata": {},
   "outputs": [
    {
     "name": "stdout",
     "output_type": "stream",
     "text": [
      "CPU times: user 1min 47s, sys: 42.9 s, total: 2min 30s\n",
      "Wall time: 1min 39s\n",
      "Best parameters: {'C': 0.001, 'penalty': 'l1'}\n",
      "\n",
      "\n",
      "Confusion Matrix:\n",
      "[[281986  21737]\n",
      " [    95    107]]\n",
      "\n",
      "\n",
      "Click Precision: 0.48983702618568026\n"
     ]
    }
   ],
   "source": [
    "lr_res_tuned, lr_sub_tuned = TuneHyperparameters(LogisticRegression(random_state = rand_seed),\n",
    "                                                 lr_grid,\n",
    "                                                 features_lr,\n",
    "                                                 \"LR-BestModel.pkl\")"
   ]
  },
  {
   "cell_type": "markdown",
   "metadata": {},
   "source": [
    "### Random Forest Tuned"
   ]
  },
  {
   "cell_type": "code",
   "execution_count": null,
   "metadata": {},
   "outputs": [
    {
     "name": "stdout",
     "output_type": "stream",
     "text": [
      "CPU times: user 1h 22min 18s, sys: 2.04 s, total: 1h 22min 20s\n",
      "Wall time: 1h 22min 21s\n",
      "Best parameters: {'max_depth': 30, 'n_estimators': 300}\n",
      "\n",
      "\n",
      "Confusion Matrix:\n",
      "[[298628   5095]\n",
      " [   133     69]]\n",
      "\n",
      "\n",
      "Click Precision: 1.3361735089078235\n"
     ]
    }
   ],
   "source": [
    "rf_res_tuned, rf_sub_tuned = TuneHyperparameters(RandomForestClassifier(random_state = rand_seed),\n",
    "                                                 rf_grid,\n",
    "                                                features_rf,\n",
    "                                                 \"RF-BestModel.pkl\")"
   ]
  },
  {
   "cell_type": "markdown",
   "metadata": {},
   "source": [
    "### XGBoost Tuned"
   ]
  },
  {
   "cell_type": "code",
   "execution_count": 1,
   "metadata": {},
   "outputs": [],
   "source": [
    "# xgb_res_tuned, xgb_sub_tuned = TuneHyperparameters(XGBClassifier(random_state = rand_seed),\n",
    "#                                                    xgb_grid,\n",
    "#                                                    features_rf,\n",
    "#                                                    \"XGBoost-BestModel.pkl\")"
   ]
  },
  {
   "cell_type": "code",
   "execution_count": 39,
   "metadata": {},
   "outputs": [],
   "source": [
    "def StoreXGBModel(features):\n",
    "    \n",
    "    # Data preparation\n",
    "    X_train = pd.DataFrame(columns = features_total_names, data = X_resampled)[features]\n",
    "    y_train = y_resampled\n",
    "    \n",
    "    # Model\n",
    "    xgb_model = XGBClassifier(n_estimators = 500, max_depth = 8, learning_rate = 0.1, random_state = rand_seed)\n",
    "\n",
    "    # Fit grid on train data\n",
    "    % time xgb_model.fit(X_train, y_train)\n",
    "\n",
    "    # Store model\n",
    "    joblib.dump(xgb_model, \"XGBoost-BestModel.pkl\")\n",
    "    \n",
    "    return xgb_model"
   ]
  },
  {
   "cell_type": "code",
   "execution_count": 40,
   "metadata": {},
   "outputs": [
    {
     "name": "stdout",
     "output_type": "stream",
     "text": [
      "CPU times: user 9min 17s, sys: 360 ms, total: 9min 18s\n",
      "Wall time: 9min 18s\n"
     ]
    }
   ],
   "source": [
    "xgb_model_stored = StoreXGBModel(features_rf)"
   ]
  },
  {
   "cell_type": "markdown",
   "metadata": {},
   "source": [
    "## Store predictions for validation set"
   ]
  },
  {
   "cell_type": "code",
   "execution_count": null,
   "metadata": {},
   "outputs": [],
   "source": [
    "lr_sub_tuned.to_csv(\"lr_pCTR.csv\")\n",
    "rf_sub_tuned.to_csv(\"rf_pCTR.csv\")\n",
    "xgb_sub.to_csv(\"xgb_pCTR.csv\")"
   ]
  },
  {
   "cell_type": "code",
   "execution_count": null,
   "metadata": {},
   "outputs": [],
   "source": []
  }
 ],
 "metadata": {
  "kernelspec": {
   "display_name": "Python [default]",
   "language": "python",
   "name": "python3"
  },
  "language_info": {
   "codemirror_mode": {
    "name": "ipython",
    "version": 3
   },
   "file_extension": ".py",
   "mimetype": "text/x-python",
   "name": "python",
   "nbconvert_exporter": "python",
   "pygments_lexer": "ipython3",
   "version": "3.6.4"
  }
 },
 "nbformat": 4,
 "nbformat_minor": 2
}
