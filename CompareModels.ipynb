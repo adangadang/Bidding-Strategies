{
 "cells": [
  {
   "cell_type": "markdown",
   "metadata": {},
   "source": [
    "# Main Notebook"
   ]
  },
  {
   "cell_type": "markdown",
   "metadata": {},
   "source": [
    "## Summary"
   ]
  },
  {
   "cell_type": "markdown",
   "metadata": {},
   "source": [
    "This notebook will do following steps:\n",
    " -  Pull validation data\n",
    " -  Load CTR predictions from pickles for X different models\n",
    " -  Load BaseBid Predictions from pickels for X different models\n",
    " -  For X models combine the above two steps to build X BidPrices for each impression\n",
    " -  Hold auction for each impression one by one\n",
    " -  Summary Scores for each of X models "
   ]
  },
  {
   "cell_type": "markdown",
   "metadata": {},
   "source": [
    "# Preparation"
   ]
  },
  {
   "cell_type": "code",
   "execution_count": 74,
   "metadata": {},
   "outputs": [],
   "source": [
    "import pandas as pd\n",
    "import numpy as np\n",
    "import matplotlib.pyplot as plt\n",
    "from random import randint    \n",
    "import seaborn as sns\n",
    "from score_models import Scorer\n",
    "\n",
    "%matplotlib inline"
   ]
  },
  {
   "cell_type": "markdown",
   "metadata": {},
   "source": [
    "# Pull Validation Data"
   ]
  },
  {
   "cell_type": "code",
   "execution_count": 75,
   "metadata": {},
   "outputs": [],
   "source": [
    "path = \"C:/Users/Akis-/OneDrive/Masters/Web Economics/Data/\"\n",
    "#test_df = pd.read_csv(path+'test.csv')\n",
    "#train_df = pd.read_csv(path+'train.csv')\n",
    "validation_df = pd.read_csv(path+'validation.csv')"
   ]
  },
  {
   "cell_type": "code",
   "execution_count": 76,
   "metadata": {},
   "outputs": [
    {
     "name": "stdout",
     "output_type": "stream",
     "text": [
      "303925\n",
      "202\n",
      "0.0006646376573167722\n"
     ]
    }
   ],
   "source": [
    "\n",
    "#print(validation_df.head())\n",
    "print(validation_df.shape[0])\n",
    "print(validation_df.loc[validation_df[\"click\"] == 1].shape[0])\n",
    "avgCTR =validation_df.loc[validation_df[\"click\"] == 1].shape[0]/(validation_df.shape[0])\n",
    "print(avgCTR)"
   ]
  },
  {
   "cell_type": "markdown",
   "metadata": {},
   "source": [
    "# Load CTR Predictions"
   ]
  },
  {
   "cell_type": "markdown",
   "metadata": {},
   "source": [
    "Need a function that will combine multiple dataframes into one"
   ]
  },
  {
   "cell_type": "code",
   "execution_count": 77,
   "metadata": {},
   "outputs": [
    {
     "name": "stdout",
     "output_type": "stream",
     "text": [
      "   teamA_CTR\n",
      "0        0.2\n",
      "1        0.9\n",
      "2        0.3\n",
      "3        0.1\n",
      "4        0.5\n",
      "5        0.4\n",
      "6        0.4\n",
      "7        0.4\n",
      "8        0.6\n",
      "9        0.7\n",
      "   CTR\n",
      "0  0.9\n",
      "1  0.5\n",
      "2  0.1\n",
      "3  0.4\n",
      "4  0.2\n",
      "5  0.1\n",
      "6  0.3\n",
      "7  0.7\n",
      "8  0.1\n",
      "9  0.8\n",
      "   teamA_CTR  teamB_CTR\n",
      "0        0.2        0.9\n",
      "1        0.9        0.5\n",
      "2        0.3        0.1\n",
      "3        0.1        0.4\n",
      "4        0.5        0.2\n",
      "5        0.4        0.1\n",
      "6        0.4        0.3\n",
      "7        0.4        0.7\n",
      "8        0.6        0.1\n",
      "9        0.7        0.8\n"
     ]
    }
   ],
   "source": [
    "teamAdf = pd.DataFrame(columns=[],index=range(0,10,1))\n",
    "teamAdf[\"teamA_CTR\"]=np.random.randint(0, 10, teamAdf.shape[0])/10\n",
    "teamBdf = pd.DataFrame(columns=[],index=range(0,10,1))\n",
    "teamBdf[\"CTR\"]=np.random.randint(0, 10, teamAdf.shape[0])/10\n",
    "print(teamAdf)\n",
    "print(teamBdf)\n",
    "\n",
    "\n",
    "\n",
    "\n",
    "resultCTR=teamAdf\n",
    "resultCTR[\"teamB_CTR\"]=teamBdf[\"CTR\"]\n",
    "#result = pd.merge(teamAdf, teamBdf, how='inner', on=None, left_on=None, right_on=None, left_index=False, right_index=False, sort=False, suffixes=('_x', '_y'), copy=True, indicator=False, validate=None)\n",
    "print(resultCTR)"
   ]
  },
  {
   "cell_type": "markdown",
   "metadata": {},
   "source": [
    "# Load Basebid Predictions"
   ]
  },
  {
   "cell_type": "markdown",
   "metadata": {},
   "source": [
    "Need a function that will combine multiple dataframes into one"
   ]
  },
  {
   "cell_type": "code",
   "execution_count": 78,
   "metadata": {},
   "outputs": [
    {
     "name": "stdout",
     "output_type": "stream",
     "text": [
      "   teamA_BaseBid\n",
      "0            268\n",
      "1            300\n",
      "2            288\n",
      "3            264\n",
      "4            250\n",
      "5            229\n",
      "6            266\n",
      "7            287\n",
      "8            257\n",
      "9            292\n",
      "   teamB_BaseBid\n",
      "0            268\n",
      "1            229\n",
      "2            253\n",
      "3            263\n",
      "4            245\n",
      "5            300\n",
      "6            227\n",
      "7            290\n",
      "8            289\n",
      "9            258\n",
      "   teamA_BaseBid  teamB_BaseBid\n",
      "0            268            268\n",
      "1            300            229\n",
      "2            288            253\n",
      "3            264            263\n",
      "4            250            245\n",
      "5            229            300\n",
      "6            266            227\n",
      "7            287            290\n",
      "8            257            289\n",
      "9            292            258\n"
     ]
    }
   ],
   "source": [
    "teamABaseBid = pd.DataFrame(columns=[],index=range(0,10,1))\n",
    "teamABaseBid[\"teamA_BaseBid\"]=np.random.randint(227, 301, teamABaseBid.shape[0])\n",
    "teamBBaseBid = pd.DataFrame(columns=[],index=range(0,10,1))\n",
    "teamBBaseBid[\"teamB_BaseBid\"]=np.random.randint(227, 301, teamBBaseBid.shape[0])\n",
    "print(teamABaseBid)\n",
    "print(teamBBaseBid)\n",
    "\n",
    "\n",
    "resultBaseBid=teamABaseBid\n",
    "resultBaseBid[\"teamB_BaseBid\"]=teamBBaseBid[\"teamB_BaseBid\"]\n",
    "#result = pd.merge(teamAdf, teamBdf, how='inner', on=None, left_on=None, right_on=None, left_index=False, right_index=False, sort=False, suffixes=('_x', '_y'), copy=True, indicator=False, validate=None)\n",
    "print(resultBaseBid)"
   ]
  },
  {
   "cell_type": "markdown",
   "metadata": {},
   "source": [
    "# Build Bid Prices for all models"
   ]
  },
  {
   "cell_type": "markdown",
   "metadata": {},
   "source": [
    "Need a function that will build a new dataframe conatining bids of all teams by combining the previous two dataframes."
   ]
  },
  {
   "cell_type": "code",
   "execution_count": 79,
   "metadata": {},
   "outputs": [
    {
     "name": "stdout",
     "output_type": "stream",
     "text": [
      "   teamA_CTR  teamB_CTR\n",
      "0      107.2      482.4\n",
      "1      540.0      229.0\n",
      "2      172.8       50.6\n",
      "3       52.8      210.4\n",
      "4      250.0       98.0\n",
      "5      183.2       60.0\n",
      "6      212.8      136.2\n",
      "7      229.6      406.0\n",
      "8      308.4       57.8\n",
      "9      408.8      412.8\n"
     ]
    }
   ],
   "source": [
    "resultBids = resultBaseBid.values * ((resultCTR*(138/35000))/avgCTR)\n",
    "resultBids2 = resultBaseBid.values * (resultCTR/0.5)\n",
    "#print(resultBids)\n",
    "print(resultBids2)"
   ]
  },
  {
   "cell_type": "markdown",
   "metadata": {},
   "source": [
    "# Hold Auction for each impression one-by-one"
   ]
  },
  {
   "cell_type": "markdown",
   "metadata": {},
   "source": [
    "Need a function that will step through the impressions one by one checking who won the impression, whilst keeping track of each player's budget."
   ]
  },
  {
   "cell_type": "code",
   "execution_count": 80,
   "metadata": {},
   "outputs": [
    {
     "data": {
      "text/html": [
       "<div>\n",
       "<style scoped>\n",
       "    .dataframe tbody tr th:only-of-type {\n",
       "        vertical-align: middle;\n",
       "    }\n",
       "\n",
       "    .dataframe tbody tr th {\n",
       "        vertical-align: top;\n",
       "    }\n",
       "\n",
       "    .dataframe thead th {\n",
       "        text-align: right;\n",
       "    }\n",
       "</style>\n",
       "<table border=\"1\" class=\"dataframe\">\n",
       "  <thead>\n",
       "    <tr style=\"text-align: right;\">\n",
       "      <th></th>\n",
       "      <th>teamA_CTR</th>\n",
       "      <th>teamB_CTR</th>\n",
       "    </tr>\n",
       "  </thead>\n",
       "  <tbody>\n",
       "    <tr>\n",
       "      <th>0</th>\n",
       "      <td>107.2</td>\n",
       "      <td>482.4</td>\n",
       "    </tr>\n",
       "    <tr>\n",
       "      <th>1</th>\n",
       "      <td>540.0</td>\n",
       "      <td>229.0</td>\n",
       "    </tr>\n",
       "    <tr>\n",
       "      <th>2</th>\n",
       "      <td>172.8</td>\n",
       "      <td>50.6</td>\n",
       "    </tr>\n",
       "    <tr>\n",
       "      <th>3</th>\n",
       "      <td>52.8</td>\n",
       "      <td>210.4</td>\n",
       "    </tr>\n",
       "    <tr>\n",
       "      <th>4</th>\n",
       "      <td>250.0</td>\n",
       "      <td>98.0</td>\n",
       "    </tr>\n",
       "    <tr>\n",
       "      <th>5</th>\n",
       "      <td>183.2</td>\n",
       "      <td>60.0</td>\n",
       "    </tr>\n",
       "    <tr>\n",
       "      <th>6</th>\n",
       "      <td>212.8</td>\n",
       "      <td>136.2</td>\n",
       "    </tr>\n",
       "    <tr>\n",
       "      <th>7</th>\n",
       "      <td>229.6</td>\n",
       "      <td>406.0</td>\n",
       "    </tr>\n",
       "    <tr>\n",
       "      <th>8</th>\n",
       "      <td>308.4</td>\n",
       "      <td>57.8</td>\n",
       "    </tr>\n",
       "    <tr>\n",
       "      <th>9</th>\n",
       "      <td>408.8</td>\n",
       "      <td>412.8</td>\n",
       "    </tr>\n",
       "  </tbody>\n",
       "</table>\n",
       "</div>"
      ],
      "text/plain": [
       "   teamA_CTR  teamB_CTR\n",
       "0      107.2      482.4\n",
       "1      540.0      229.0\n",
       "2      172.8       50.6\n",
       "3       52.8      210.4\n",
       "4      250.0       98.0\n",
       "5      183.2       60.0\n",
       "6      212.8      136.2\n",
       "7      229.6      406.0\n",
       "8      308.4       57.8\n",
       "9      408.8      412.8"
      ]
     },
     "execution_count": 80,
     "metadata": {},
     "output_type": "execute_result"
    }
   ],
   "source": [
    "\n",
    "resultBids2['click']=np.random.randint(0, 1, resultBids2.shape[0])\n",
    "resultBids2[['teamA_CTR','teamB_CTR']]\n",
    "#Scorer()"
   ]
  },
  {
   "cell_type": "code",
   "execution_count": 81,
   "metadata": {},
   "outputs": [
    {
     "name": "stdout",
     "output_type": "stream",
     "text": [
      "   teamA_CTR  teamB_CTR  click  winner  price\n",
      "0      107.2      482.4      0       1  200.0\n",
      "1      540.0      229.0      0       0  229.0\n",
      "2      172.8       50.6      0       0  200.0\n",
      "3       52.8      210.4      0       1  200.0\n",
      "4      250.0       98.0      0       0  200.0\n"
     ]
    }
   ],
   "source": [
    "s = Scorer()\n",
    "s.set_df(resultBids2, ['teamA_CTR', 'teamB_CTR'],1500,200)"
   ]
  },
  {
   "cell_type": "markdown",
   "metadata": {},
   "source": [
    "# Scores"
   ]
  },
  {
   "cell_type": "markdown",
   "metadata": {},
   "source": [
    "Summarise the main metrics for each team."
   ]
  }
 ],
 "metadata": {
  "kernelspec": {
   "display_name": "Python 3",
   "language": "python",
   "name": "python3"
  },
  "language_info": {
   "codemirror_mode": {
    "name": "ipython",
    "version": 3
   },
   "file_extension": ".py",
   "mimetype": "text/x-python",
   "name": "python",
   "nbconvert_exporter": "python",
   "pygments_lexer": "ipython3",
   "version": "3.6.4"
  }
 },
 "nbformat": 4,
 "nbformat_minor": 2
}
