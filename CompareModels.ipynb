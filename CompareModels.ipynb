{
 "cells": [
  {
   "cell_type": "markdown",
   "metadata": {},
   "source": [
    "# Main Notebook"
   ]
  },
  {
   "cell_type": "markdown",
   "metadata": {},
   "source": [
    "## Summary"
   ]
  },
  {
   "cell_type": "markdown",
   "metadata": {},
   "source": [
    "This notebook will do following steps:\n",
    " -  Pull validation data\n",
    " -  Load CTR predictions from pickles for X different models\n",
    " -  Load BaseBid Predictions from pickels for X different models\n",
    " -  For X models combine the above two steps to build X BidPrices for each impression\n",
    " -  Hold auction for each impression one by one\n",
    " -  Summary Scores for each of X models "
   ]
  },
  {
   "cell_type": "markdown",
   "metadata": {},
   "source": [
    "# Preparation"
   ]
  },
  {
   "cell_type": "code",
   "execution_count": 1,
   "metadata": {},
   "outputs": [],
   "source": [
    "import pandas as pd\n",
    "import numpy as np\n",
    "import matplotlib.pyplot as plt\n",
    "from random import randint    \n",
    "import seaborn as sns\n",
    "from score_models import Scorer\n",
    "\n",
    "%matplotlib inline"
   ]
  },
  {
   "cell_type": "markdown",
   "metadata": {},
   "source": [
    "# Pull Validation Data"
   ]
  },
  {
   "cell_type": "code",
   "execution_count": 2,
   "metadata": {},
   "outputs": [],
   "source": [
    "path = \"C:/Users/Akis-/OneDrive/Masters/Web Economics/Data/\"\n",
    "#test_df = pd.read_csv(path+'test.csv')\n",
    "#train_df = pd.read_csv(path+'train.csv')\n",
    "validation_df = pd.read_csv(path+'validation.csv')"
   ]
  },
  {
   "cell_type": "code",
   "execution_count": 3,
   "metadata": {},
   "outputs": [
    {
     "name": "stdout",
     "output_type": "stream",
     "text": [
      "303925\n",
      "202\n",
      "0.0006646376573167722\n"
     ]
    }
   ],
   "source": [
    "\n",
    "#print(validation_df.head())\n",
    "print(validation_df.shape[0])\n",
    "print(validation_df.loc[validation_df[\"click\"] == 1].shape[0])\n",
    "avgCTR =validation_df.loc[validation_df[\"click\"] == 1].shape[0]/(validation_df.shape[0])\n",
    "print(avgCTR)"
   ]
  },
  {
   "cell_type": "markdown",
   "metadata": {},
   "source": [
    "# Load CTR Predictions"
   ]
  },
  {
   "cell_type": "markdown",
   "metadata": {},
   "source": [
    "Need a function that will combine multiple dataframes into one"
   ]
  },
  {
   "cell_type": "code",
   "execution_count": 4,
   "metadata": {},
   "outputs": [
    {
     "name": "stdout",
     "output_type": "stream",
     "text": [
      "   teamA_CTR  teamB_CTR\n",
      "0        0.4        0.9\n",
      "1        0.8        0.4\n",
      "2        0.6        0.9\n",
      "3        0.8        0.6\n",
      "4        0.4        0.3\n"
     ]
    }
   ],
   "source": [
    "teamAdf = pd.DataFrame(columns=[],index=range(0,validation_df.shape[0],1))\n",
    "teamAdf[\"teamA_CTR\"]=np.random.randint(0, 10, teamAdf.shape[0])/10\n",
    "teamBdf = pd.DataFrame(columns=[],index=range(0,validation_df.shape[0],1))\n",
    "teamBdf[\"CTR\"]=np.random.randint(0, 10, teamAdf.shape[0])/10\n",
    "#print(teamAdf)\n",
    "#print(teamBdf)\n",
    "\n",
    "\n",
    "\n",
    "\n",
    "resultCTR=teamAdf\n",
    "resultCTR[\"teamB_CTR\"]=teamBdf[\"CTR\"]\n",
    "#result = pd.merge(teamAdf, teamBdf, how='inner', on=None, left_on=None, right_on=None, left_index=False, right_index=False, sort=False, suffixes=('_x', '_y'), copy=True, indicator=False, validate=None)\n",
    "print(resultCTR.head())"
   ]
  },
  {
   "cell_type": "markdown",
   "metadata": {},
   "source": [
    "# Load Basebid Predictions"
   ]
  },
  {
   "cell_type": "markdown",
   "metadata": {},
   "source": [
    "Need a function that will combine multiple dataframes into one"
   ]
  },
  {
   "cell_type": "code",
   "execution_count": 5,
   "metadata": {},
   "outputs": [
    {
     "name": "stdout",
     "output_type": "stream",
     "text": [
      "   teamA_BaseBid  teamB_BaseBid\n",
      "0            250            252\n",
      "1            250            268\n",
      "2            250            260\n",
      "3            250            293\n",
      "4            250            236\n"
     ]
    }
   ],
   "source": [
    "teamABaseBid = pd.DataFrame(columns=[],index=range(0,validation_df.shape[0],1))\n",
    "teamABaseBid[\"teamA_BaseBid\"]=250\n",
    "teamBBaseBid = pd.DataFrame(columns=[],index=range(0,validation_df.shape[0],1))\n",
    "teamBBaseBid[\"teamB_BaseBid\"]=np.random.randint(227, 301, teamBBaseBid.shape[0])\n",
    "#print(teamABaseBid)\n",
    "#print(teamBBaseBid)\n",
    "\n",
    "\n",
    "resultBaseBid=teamABaseBid\n",
    "resultBaseBid[\"teamB_BaseBid\"]=teamBBaseBid[\"teamB_BaseBid\"]\n",
    "#result = pd.merge(teamAdf, teamBdf, how='inner', on=None, left_on=None, right_on=None, left_index=False, right_index=False, sort=False, suffixes=('_x', '_y'), copy=True, indicator=False, validate=None)\n",
    "print(resultBaseBid.head())"
   ]
  },
  {
   "cell_type": "markdown",
   "metadata": {},
   "source": [
    "# Build Bid Prices for all models"
   ]
  },
  {
   "cell_type": "markdown",
   "metadata": {},
   "source": [
    "Need a function that will build a new dataframe conatining bids of all teams by combining the previous two dataframes."
   ]
  },
  {
   "cell_type": "code",
   "execution_count": 6,
   "metadata": {},
   "outputs": [],
   "source": [
    "def Function1(resBaseBid,resCTR):\n",
    "    avCTR = 0.5\n",
    "    Bids=resBaseBid.values * (resCTR/avCTR)\n",
    "    return Bids"
   ]
  },
  {
   "cell_type": "code",
   "execution_count": 7,
   "metadata": {},
   "outputs": [
    {
     "name": "stdout",
     "output_type": "stream",
     "text": [
      "   teamA_CTR  teamB_CTR\n",
      "0      200.0      453.6\n",
      "1      400.0      214.4\n",
      "2      300.0      468.0\n",
      "3      400.0      351.6\n",
      "4      200.0      141.6\n"
     ]
    }
   ],
   "source": [
    "#resultBids = resultBaseBid.values * ((resultCTR*(138/35000))/avgCTR)\n",
    "resultBids = Function1(resultBaseBid,resultCTR)\n",
    "#print(resultBids)\n",
    "print(resultBids.head())"
   ]
  },
  {
   "cell_type": "markdown",
   "metadata": {},
   "source": [
    "# Hold Auction for each"
   ]
  },
  {
   "cell_type": "markdown",
   "metadata": {},
   "source": [
    "Need a function that will step through the impressions one by one checking who won the impression, whilst keeping track of each player's budget."
   ]
  },
  {
   "cell_type": "code",
   "execution_count": 8,
   "metadata": {},
   "outputs": [
    {
     "name": "stdout",
     "output_type": "stream",
     "text": [
      "   teamA_CTR  teamB_CTR  click\n",
      "0      200.0      453.6      0\n",
      "1      400.0      214.4      0\n",
      "2      300.0      468.0      0\n",
      "3      400.0      351.6      0\n",
      "4      200.0      141.6      0\n"
     ]
    }
   ],
   "source": [
    "resultBids['click']=np.random.randint(0, 1, resultBids.shape[0])\n",
    "resultBids[['teamA_CTR','teamB_CTR']]\n",
    "print(resultBids.head())\n",
    "#Scorer()"
   ]
  },
  {
   "cell_type": "code",
   "execution_count": 9,
   "metadata": {},
   "outputs": [],
   "source": [
    "s = Scorer()\n",
    "df_summary,df = s.set_df(resultBids, ['teamA_CTR', 'teamB_CTR'],625,200)"
   ]
  },
  {
   "cell_type": "markdown",
   "metadata": {},
   "source": [
    "# Scores"
   ]
  },
  {
   "cell_type": "markdown",
   "metadata": {},
   "source": [
    "Summarise the main metrics for each team."
   ]
  },
  {
   "cell_type": "code",
   "execution_count": 10,
   "metadata": {},
   "outputs": [
    {
     "name": "stdout",
     "output_type": "stream",
     "text": [
      "   click  team_name  win\n",
      "0      0  teamB_CTR    3\n",
      "1      0  teamA_CTR    3\n"
     ]
    }
   ],
   "source": [
    "print(df_summary)"
   ]
  },
  {
   "cell_type": "code",
   "execution_count": null,
   "metadata": {},
   "outputs": [],
   "source": []
  }
 ],
 "metadata": {
  "kernelspec": {
   "display_name": "Python 3",
   "language": "python",
   "name": "python3"
  },
  "language_info": {
   "codemirror_mode": {
    "name": "ipython",
    "version": 3
   },
   "file_extension": ".py",
   "mimetype": "text/x-python",
   "name": "python",
   "nbconvert_exporter": "python",
   "pygments_lexer": "ipython3",
   "version": "3.6.4"
  }
 },
 "nbformat": 4,
 "nbformat_minor": 2
}
